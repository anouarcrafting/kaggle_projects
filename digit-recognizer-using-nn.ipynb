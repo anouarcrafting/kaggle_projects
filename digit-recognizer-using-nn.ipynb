{
 "cells": [
  {
   "cell_type": "code",
   "execution_count": 1,
   "id": "bd82253d",
   "metadata": {
    "_cell_guid": "b1076dfc-b9ad-4769-8c92-a6c4dae69d19",
    "_uuid": "8f2839f25d086af736a60e9eeb907d3b93b6e0e5",
    "execution": {
     "iopub.execute_input": "2023-11-28T11:47:50.467737Z",
     "iopub.status.busy": "2023-11-28T11:47:50.467096Z",
     "iopub.status.idle": "2023-11-28T11:47:54.394780Z",
     "shell.execute_reply": "2023-11-28T11:47:54.392990Z"
    },
    "papermill": {
     "duration": 3.940859,
     "end_time": "2023-11-28T11:47:54.397456",
     "exception": false,
     "start_time": "2023-11-28T11:47:50.456597",
     "status": "completed"
    },
    "tags": []
   },
   "outputs": [],
   "source": [
    "import numpy as np # linear algebra\n",
    "import pandas as pd # data processing, CSV file I/O (e.g. pd.read_csv)\n",
    "import torch.nn as nn\n",
    "import torch\n",
    "import matplotlib.pyplot as plt"
   ]
  },
  {
   "cell_type": "code",
   "execution_count": 2,
   "id": "85ea8ef7",
   "metadata": {
    "execution": {
     "iopub.execute_input": "2023-11-28T11:47:54.415884Z",
     "iopub.status.busy": "2023-11-28T11:47:54.415409Z",
     "iopub.status.idle": "2023-11-28T11:47:57.114956Z",
     "shell.execute_reply": "2023-11-28T11:47:57.113832Z"
    },
    "papermill": {
     "duration": 2.711768,
     "end_time": "2023-11-28T11:47:57.117745",
     "exception": false,
     "start_time": "2023-11-28T11:47:54.405977",
     "status": "completed"
    },
    "tags": []
   },
   "outputs": [
    {
     "data": {
      "text/html": [
       "<div>\n",
       "<style scoped>\n",
       "    .dataframe tbody tr th:only-of-type {\n",
       "        vertical-align: middle;\n",
       "    }\n",
       "\n",
       "    .dataframe tbody tr th {\n",
       "        vertical-align: top;\n",
       "    }\n",
       "\n",
       "    .dataframe thead th {\n",
       "        text-align: right;\n",
       "    }\n",
       "</style>\n",
       "<table border=\"1\" class=\"dataframe\">\n",
       "  <thead>\n",
       "    <tr style=\"text-align: right;\">\n",
       "      <th></th>\n",
       "      <th>label</th>\n",
       "      <th>pixel0</th>\n",
       "      <th>pixel1</th>\n",
       "      <th>pixel2</th>\n",
       "      <th>pixel3</th>\n",
       "      <th>pixel4</th>\n",
       "      <th>pixel5</th>\n",
       "      <th>pixel6</th>\n",
       "      <th>pixel7</th>\n",
       "      <th>pixel8</th>\n",
       "      <th>...</th>\n",
       "      <th>pixel774</th>\n",
       "      <th>pixel775</th>\n",
       "      <th>pixel776</th>\n",
       "      <th>pixel777</th>\n",
       "      <th>pixel778</th>\n",
       "      <th>pixel779</th>\n",
       "      <th>pixel780</th>\n",
       "      <th>pixel781</th>\n",
       "      <th>pixel782</th>\n",
       "      <th>pixel783</th>\n",
       "    </tr>\n",
       "  </thead>\n",
       "  <tbody>\n",
       "    <tr>\n",
       "      <th>0</th>\n",
       "      <td>1</td>\n",
       "      <td>0</td>\n",
       "      <td>0</td>\n",
       "      <td>0</td>\n",
       "      <td>0</td>\n",
       "      <td>0</td>\n",
       "      <td>0</td>\n",
       "      <td>0</td>\n",
       "      <td>0</td>\n",
       "      <td>0</td>\n",
       "      <td>...</td>\n",
       "      <td>0</td>\n",
       "      <td>0</td>\n",
       "      <td>0</td>\n",
       "      <td>0</td>\n",
       "      <td>0</td>\n",
       "      <td>0</td>\n",
       "      <td>0</td>\n",
       "      <td>0</td>\n",
       "      <td>0</td>\n",
       "      <td>0</td>\n",
       "    </tr>\n",
       "    <tr>\n",
       "      <th>1</th>\n",
       "      <td>0</td>\n",
       "      <td>0</td>\n",
       "      <td>0</td>\n",
       "      <td>0</td>\n",
       "      <td>0</td>\n",
       "      <td>0</td>\n",
       "      <td>0</td>\n",
       "      <td>0</td>\n",
       "      <td>0</td>\n",
       "      <td>0</td>\n",
       "      <td>...</td>\n",
       "      <td>0</td>\n",
       "      <td>0</td>\n",
       "      <td>0</td>\n",
       "      <td>0</td>\n",
       "      <td>0</td>\n",
       "      <td>0</td>\n",
       "      <td>0</td>\n",
       "      <td>0</td>\n",
       "      <td>0</td>\n",
       "      <td>0</td>\n",
       "    </tr>\n",
       "    <tr>\n",
       "      <th>2</th>\n",
       "      <td>1</td>\n",
       "      <td>0</td>\n",
       "      <td>0</td>\n",
       "      <td>0</td>\n",
       "      <td>0</td>\n",
       "      <td>0</td>\n",
       "      <td>0</td>\n",
       "      <td>0</td>\n",
       "      <td>0</td>\n",
       "      <td>0</td>\n",
       "      <td>...</td>\n",
       "      <td>0</td>\n",
       "      <td>0</td>\n",
       "      <td>0</td>\n",
       "      <td>0</td>\n",
       "      <td>0</td>\n",
       "      <td>0</td>\n",
       "      <td>0</td>\n",
       "      <td>0</td>\n",
       "      <td>0</td>\n",
       "      <td>0</td>\n",
       "    </tr>\n",
       "    <tr>\n",
       "      <th>3</th>\n",
       "      <td>4</td>\n",
       "      <td>0</td>\n",
       "      <td>0</td>\n",
       "      <td>0</td>\n",
       "      <td>0</td>\n",
       "      <td>0</td>\n",
       "      <td>0</td>\n",
       "      <td>0</td>\n",
       "      <td>0</td>\n",
       "      <td>0</td>\n",
       "      <td>...</td>\n",
       "      <td>0</td>\n",
       "      <td>0</td>\n",
       "      <td>0</td>\n",
       "      <td>0</td>\n",
       "      <td>0</td>\n",
       "      <td>0</td>\n",
       "      <td>0</td>\n",
       "      <td>0</td>\n",
       "      <td>0</td>\n",
       "      <td>0</td>\n",
       "    </tr>\n",
       "    <tr>\n",
       "      <th>4</th>\n",
       "      <td>0</td>\n",
       "      <td>0</td>\n",
       "      <td>0</td>\n",
       "      <td>0</td>\n",
       "      <td>0</td>\n",
       "      <td>0</td>\n",
       "      <td>0</td>\n",
       "      <td>0</td>\n",
       "      <td>0</td>\n",
       "      <td>0</td>\n",
       "      <td>...</td>\n",
       "      <td>0</td>\n",
       "      <td>0</td>\n",
       "      <td>0</td>\n",
       "      <td>0</td>\n",
       "      <td>0</td>\n",
       "      <td>0</td>\n",
       "      <td>0</td>\n",
       "      <td>0</td>\n",
       "      <td>0</td>\n",
       "      <td>0</td>\n",
       "    </tr>\n",
       "    <tr>\n",
       "      <th>...</th>\n",
       "      <td>...</td>\n",
       "      <td>...</td>\n",
       "      <td>...</td>\n",
       "      <td>...</td>\n",
       "      <td>...</td>\n",
       "      <td>...</td>\n",
       "      <td>...</td>\n",
       "      <td>...</td>\n",
       "      <td>...</td>\n",
       "      <td>...</td>\n",
       "      <td>...</td>\n",
       "      <td>...</td>\n",
       "      <td>...</td>\n",
       "      <td>...</td>\n",
       "      <td>...</td>\n",
       "      <td>...</td>\n",
       "      <td>...</td>\n",
       "      <td>...</td>\n",
       "      <td>...</td>\n",
       "      <td>...</td>\n",
       "      <td>...</td>\n",
       "    </tr>\n",
       "    <tr>\n",
       "      <th>41995</th>\n",
       "      <td>0</td>\n",
       "      <td>0</td>\n",
       "      <td>0</td>\n",
       "      <td>0</td>\n",
       "      <td>0</td>\n",
       "      <td>0</td>\n",
       "      <td>0</td>\n",
       "      <td>0</td>\n",
       "      <td>0</td>\n",
       "      <td>0</td>\n",
       "      <td>...</td>\n",
       "      <td>0</td>\n",
       "      <td>0</td>\n",
       "      <td>0</td>\n",
       "      <td>0</td>\n",
       "      <td>0</td>\n",
       "      <td>0</td>\n",
       "      <td>0</td>\n",
       "      <td>0</td>\n",
       "      <td>0</td>\n",
       "      <td>0</td>\n",
       "    </tr>\n",
       "    <tr>\n",
       "      <th>41996</th>\n",
       "      <td>1</td>\n",
       "      <td>0</td>\n",
       "      <td>0</td>\n",
       "      <td>0</td>\n",
       "      <td>0</td>\n",
       "      <td>0</td>\n",
       "      <td>0</td>\n",
       "      <td>0</td>\n",
       "      <td>0</td>\n",
       "      <td>0</td>\n",
       "      <td>...</td>\n",
       "      <td>0</td>\n",
       "      <td>0</td>\n",
       "      <td>0</td>\n",
       "      <td>0</td>\n",
       "      <td>0</td>\n",
       "      <td>0</td>\n",
       "      <td>0</td>\n",
       "      <td>0</td>\n",
       "      <td>0</td>\n",
       "      <td>0</td>\n",
       "    </tr>\n",
       "    <tr>\n",
       "      <th>41997</th>\n",
       "      <td>7</td>\n",
       "      <td>0</td>\n",
       "      <td>0</td>\n",
       "      <td>0</td>\n",
       "      <td>0</td>\n",
       "      <td>0</td>\n",
       "      <td>0</td>\n",
       "      <td>0</td>\n",
       "      <td>0</td>\n",
       "      <td>0</td>\n",
       "      <td>...</td>\n",
       "      <td>0</td>\n",
       "      <td>0</td>\n",
       "      <td>0</td>\n",
       "      <td>0</td>\n",
       "      <td>0</td>\n",
       "      <td>0</td>\n",
       "      <td>0</td>\n",
       "      <td>0</td>\n",
       "      <td>0</td>\n",
       "      <td>0</td>\n",
       "    </tr>\n",
       "    <tr>\n",
       "      <th>41998</th>\n",
       "      <td>6</td>\n",
       "      <td>0</td>\n",
       "      <td>0</td>\n",
       "      <td>0</td>\n",
       "      <td>0</td>\n",
       "      <td>0</td>\n",
       "      <td>0</td>\n",
       "      <td>0</td>\n",
       "      <td>0</td>\n",
       "      <td>0</td>\n",
       "      <td>...</td>\n",
       "      <td>0</td>\n",
       "      <td>0</td>\n",
       "      <td>0</td>\n",
       "      <td>0</td>\n",
       "      <td>0</td>\n",
       "      <td>0</td>\n",
       "      <td>0</td>\n",
       "      <td>0</td>\n",
       "      <td>0</td>\n",
       "      <td>0</td>\n",
       "    </tr>\n",
       "    <tr>\n",
       "      <th>41999</th>\n",
       "      <td>9</td>\n",
       "      <td>0</td>\n",
       "      <td>0</td>\n",
       "      <td>0</td>\n",
       "      <td>0</td>\n",
       "      <td>0</td>\n",
       "      <td>0</td>\n",
       "      <td>0</td>\n",
       "      <td>0</td>\n",
       "      <td>0</td>\n",
       "      <td>...</td>\n",
       "      <td>0</td>\n",
       "      <td>0</td>\n",
       "      <td>0</td>\n",
       "      <td>0</td>\n",
       "      <td>0</td>\n",
       "      <td>0</td>\n",
       "      <td>0</td>\n",
       "      <td>0</td>\n",
       "      <td>0</td>\n",
       "      <td>0</td>\n",
       "    </tr>\n",
       "  </tbody>\n",
       "</table>\n",
       "<p>42000 rows × 785 columns</p>\n",
       "</div>"
      ],
      "text/plain": [
       "       label  pixel0  pixel1  pixel2  pixel3  pixel4  pixel5  pixel6  pixel7  \\\n",
       "0          1       0       0       0       0       0       0       0       0   \n",
       "1          0       0       0       0       0       0       0       0       0   \n",
       "2          1       0       0       0       0       0       0       0       0   \n",
       "3          4       0       0       0       0       0       0       0       0   \n",
       "4          0       0       0       0       0       0       0       0       0   \n",
       "...      ...     ...     ...     ...     ...     ...     ...     ...     ...   \n",
       "41995      0       0       0       0       0       0       0       0       0   \n",
       "41996      1       0       0       0       0       0       0       0       0   \n",
       "41997      7       0       0       0       0       0       0       0       0   \n",
       "41998      6       0       0       0       0       0       0       0       0   \n",
       "41999      9       0       0       0       0       0       0       0       0   \n",
       "\n",
       "       pixel8  ...  pixel774  pixel775  pixel776  pixel777  pixel778  \\\n",
       "0           0  ...         0         0         0         0         0   \n",
       "1           0  ...         0         0         0         0         0   \n",
       "2           0  ...         0         0         0         0         0   \n",
       "3           0  ...         0         0         0         0         0   \n",
       "4           0  ...         0         0         0         0         0   \n",
       "...       ...  ...       ...       ...       ...       ...       ...   \n",
       "41995       0  ...         0         0         0         0         0   \n",
       "41996       0  ...         0         0         0         0         0   \n",
       "41997       0  ...         0         0         0         0         0   \n",
       "41998       0  ...         0         0         0         0         0   \n",
       "41999       0  ...         0         0         0         0         0   \n",
       "\n",
       "       pixel779  pixel780  pixel781  pixel782  pixel783  \n",
       "0             0         0         0         0         0  \n",
       "1             0         0         0         0         0  \n",
       "2             0         0         0         0         0  \n",
       "3             0         0         0         0         0  \n",
       "4             0         0         0         0         0  \n",
       "...         ...       ...       ...       ...       ...  \n",
       "41995         0         0         0         0         0  \n",
       "41996         0         0         0         0         0  \n",
       "41997         0         0         0         0         0  \n",
       "41998         0         0         0         0         0  \n",
       "41999         0         0         0         0         0  \n",
       "\n",
       "[42000 rows x 785 columns]"
      ]
     },
     "execution_count": 2,
     "metadata": {},
     "output_type": "execute_result"
    }
   ],
   "source": [
    "path='/kaggle/input/digit-recognizer/train.csv'\n",
    "trainset=pd.read_csv(path)\n",
    "trainset"
   ]
  },
  {
   "cell_type": "code",
   "execution_count": 3,
   "id": "70aada9b",
   "metadata": {
    "execution": {
     "iopub.execute_input": "2023-11-28T11:47:57.138914Z",
     "iopub.status.busy": "2023-11-28T11:47:57.138500Z",
     "iopub.status.idle": "2023-11-28T11:47:57.143549Z",
     "shell.execute_reply": "2023-11-28T11:47:57.141858Z"
    },
    "papermill": {
     "duration": 0.019372,
     "end_time": "2023-11-28T11:47:57.146226",
     "exception": false,
     "start_time": "2023-11-28T11:47:57.126854",
     "status": "completed"
    },
    "tags": []
   },
   "outputs": [],
   "source": [
    "from torch.utils.data import DataLoader"
   ]
  },
  {
   "cell_type": "code",
   "execution_count": 4,
   "id": "7534e487",
   "metadata": {
    "execution": {
     "iopub.execute_input": "2023-11-28T11:47:57.168135Z",
     "iopub.status.busy": "2023-11-28T11:47:57.167739Z",
     "iopub.status.idle": "2023-11-28T11:47:57.249082Z",
     "shell.execute_reply": "2023-11-28T11:47:57.247836Z"
    },
    "papermill": {
     "duration": 0.094745,
     "end_time": "2023-11-28T11:47:57.251506",
     "exception": false,
     "start_time": "2023-11-28T11:47:57.156761",
     "status": "completed"
    },
    "tags": []
   },
   "outputs": [
    {
     "data": {
      "text/html": [
       "<div>\n",
       "<style scoped>\n",
       "    .dataframe tbody tr th:only-of-type {\n",
       "        vertical-align: middle;\n",
       "    }\n",
       "\n",
       "    .dataframe tbody tr th {\n",
       "        vertical-align: top;\n",
       "    }\n",
       "\n",
       "    .dataframe thead th {\n",
       "        text-align: right;\n",
       "    }\n",
       "</style>\n",
       "<table border=\"1\" class=\"dataframe\">\n",
       "  <thead>\n",
       "    <tr style=\"text-align: right;\">\n",
       "      <th></th>\n",
       "      <th>pixel0</th>\n",
       "      <th>pixel1</th>\n",
       "      <th>pixel2</th>\n",
       "      <th>pixel3</th>\n",
       "      <th>pixel4</th>\n",
       "      <th>pixel5</th>\n",
       "      <th>pixel6</th>\n",
       "      <th>pixel7</th>\n",
       "      <th>pixel8</th>\n",
       "      <th>pixel9</th>\n",
       "      <th>...</th>\n",
       "      <th>pixel774</th>\n",
       "      <th>pixel775</th>\n",
       "      <th>pixel776</th>\n",
       "      <th>pixel777</th>\n",
       "      <th>pixel778</th>\n",
       "      <th>pixel779</th>\n",
       "      <th>pixel780</th>\n",
       "      <th>pixel781</th>\n",
       "      <th>pixel782</th>\n",
       "      <th>pixel783</th>\n",
       "    </tr>\n",
       "  </thead>\n",
       "  <tbody>\n",
       "    <tr>\n",
       "      <th>0</th>\n",
       "      <td>0</td>\n",
       "      <td>0</td>\n",
       "      <td>0</td>\n",
       "      <td>0</td>\n",
       "      <td>0</td>\n",
       "      <td>0</td>\n",
       "      <td>0</td>\n",
       "      <td>0</td>\n",
       "      <td>0</td>\n",
       "      <td>0</td>\n",
       "      <td>...</td>\n",
       "      <td>0</td>\n",
       "      <td>0</td>\n",
       "      <td>0</td>\n",
       "      <td>0</td>\n",
       "      <td>0</td>\n",
       "      <td>0</td>\n",
       "      <td>0</td>\n",
       "      <td>0</td>\n",
       "      <td>0</td>\n",
       "      <td>0</td>\n",
       "    </tr>\n",
       "    <tr>\n",
       "      <th>1</th>\n",
       "      <td>0</td>\n",
       "      <td>0</td>\n",
       "      <td>0</td>\n",
       "      <td>0</td>\n",
       "      <td>0</td>\n",
       "      <td>0</td>\n",
       "      <td>0</td>\n",
       "      <td>0</td>\n",
       "      <td>0</td>\n",
       "      <td>0</td>\n",
       "      <td>...</td>\n",
       "      <td>0</td>\n",
       "      <td>0</td>\n",
       "      <td>0</td>\n",
       "      <td>0</td>\n",
       "      <td>0</td>\n",
       "      <td>0</td>\n",
       "      <td>0</td>\n",
       "      <td>0</td>\n",
       "      <td>0</td>\n",
       "      <td>0</td>\n",
       "    </tr>\n",
       "    <tr>\n",
       "      <th>2</th>\n",
       "      <td>0</td>\n",
       "      <td>0</td>\n",
       "      <td>0</td>\n",
       "      <td>0</td>\n",
       "      <td>0</td>\n",
       "      <td>0</td>\n",
       "      <td>0</td>\n",
       "      <td>0</td>\n",
       "      <td>0</td>\n",
       "      <td>0</td>\n",
       "      <td>...</td>\n",
       "      <td>0</td>\n",
       "      <td>0</td>\n",
       "      <td>0</td>\n",
       "      <td>0</td>\n",
       "      <td>0</td>\n",
       "      <td>0</td>\n",
       "      <td>0</td>\n",
       "      <td>0</td>\n",
       "      <td>0</td>\n",
       "      <td>0</td>\n",
       "    </tr>\n",
       "    <tr>\n",
       "      <th>3</th>\n",
       "      <td>0</td>\n",
       "      <td>0</td>\n",
       "      <td>0</td>\n",
       "      <td>0</td>\n",
       "      <td>0</td>\n",
       "      <td>0</td>\n",
       "      <td>0</td>\n",
       "      <td>0</td>\n",
       "      <td>0</td>\n",
       "      <td>0</td>\n",
       "      <td>...</td>\n",
       "      <td>0</td>\n",
       "      <td>0</td>\n",
       "      <td>0</td>\n",
       "      <td>0</td>\n",
       "      <td>0</td>\n",
       "      <td>0</td>\n",
       "      <td>0</td>\n",
       "      <td>0</td>\n",
       "      <td>0</td>\n",
       "      <td>0</td>\n",
       "    </tr>\n",
       "    <tr>\n",
       "      <th>4</th>\n",
       "      <td>0</td>\n",
       "      <td>0</td>\n",
       "      <td>0</td>\n",
       "      <td>0</td>\n",
       "      <td>0</td>\n",
       "      <td>0</td>\n",
       "      <td>0</td>\n",
       "      <td>0</td>\n",
       "      <td>0</td>\n",
       "      <td>0</td>\n",
       "      <td>...</td>\n",
       "      <td>0</td>\n",
       "      <td>0</td>\n",
       "      <td>0</td>\n",
       "      <td>0</td>\n",
       "      <td>0</td>\n",
       "      <td>0</td>\n",
       "      <td>0</td>\n",
       "      <td>0</td>\n",
       "      <td>0</td>\n",
       "      <td>0</td>\n",
       "    </tr>\n",
       "    <tr>\n",
       "      <th>...</th>\n",
       "      <td>...</td>\n",
       "      <td>...</td>\n",
       "      <td>...</td>\n",
       "      <td>...</td>\n",
       "      <td>...</td>\n",
       "      <td>...</td>\n",
       "      <td>...</td>\n",
       "      <td>...</td>\n",
       "      <td>...</td>\n",
       "      <td>...</td>\n",
       "      <td>...</td>\n",
       "      <td>...</td>\n",
       "      <td>...</td>\n",
       "      <td>...</td>\n",
       "      <td>...</td>\n",
       "      <td>...</td>\n",
       "      <td>...</td>\n",
       "      <td>...</td>\n",
       "      <td>...</td>\n",
       "      <td>...</td>\n",
       "      <td>...</td>\n",
       "    </tr>\n",
       "    <tr>\n",
       "      <th>41995</th>\n",
       "      <td>0</td>\n",
       "      <td>0</td>\n",
       "      <td>0</td>\n",
       "      <td>0</td>\n",
       "      <td>0</td>\n",
       "      <td>0</td>\n",
       "      <td>0</td>\n",
       "      <td>0</td>\n",
       "      <td>0</td>\n",
       "      <td>0</td>\n",
       "      <td>...</td>\n",
       "      <td>0</td>\n",
       "      <td>0</td>\n",
       "      <td>0</td>\n",
       "      <td>0</td>\n",
       "      <td>0</td>\n",
       "      <td>0</td>\n",
       "      <td>0</td>\n",
       "      <td>0</td>\n",
       "      <td>0</td>\n",
       "      <td>0</td>\n",
       "    </tr>\n",
       "    <tr>\n",
       "      <th>41996</th>\n",
       "      <td>0</td>\n",
       "      <td>0</td>\n",
       "      <td>0</td>\n",
       "      <td>0</td>\n",
       "      <td>0</td>\n",
       "      <td>0</td>\n",
       "      <td>0</td>\n",
       "      <td>0</td>\n",
       "      <td>0</td>\n",
       "      <td>0</td>\n",
       "      <td>...</td>\n",
       "      <td>0</td>\n",
       "      <td>0</td>\n",
       "      <td>0</td>\n",
       "      <td>0</td>\n",
       "      <td>0</td>\n",
       "      <td>0</td>\n",
       "      <td>0</td>\n",
       "      <td>0</td>\n",
       "      <td>0</td>\n",
       "      <td>0</td>\n",
       "    </tr>\n",
       "    <tr>\n",
       "      <th>41997</th>\n",
       "      <td>0</td>\n",
       "      <td>0</td>\n",
       "      <td>0</td>\n",
       "      <td>0</td>\n",
       "      <td>0</td>\n",
       "      <td>0</td>\n",
       "      <td>0</td>\n",
       "      <td>0</td>\n",
       "      <td>0</td>\n",
       "      <td>0</td>\n",
       "      <td>...</td>\n",
       "      <td>0</td>\n",
       "      <td>0</td>\n",
       "      <td>0</td>\n",
       "      <td>0</td>\n",
       "      <td>0</td>\n",
       "      <td>0</td>\n",
       "      <td>0</td>\n",
       "      <td>0</td>\n",
       "      <td>0</td>\n",
       "      <td>0</td>\n",
       "    </tr>\n",
       "    <tr>\n",
       "      <th>41998</th>\n",
       "      <td>0</td>\n",
       "      <td>0</td>\n",
       "      <td>0</td>\n",
       "      <td>0</td>\n",
       "      <td>0</td>\n",
       "      <td>0</td>\n",
       "      <td>0</td>\n",
       "      <td>0</td>\n",
       "      <td>0</td>\n",
       "      <td>0</td>\n",
       "      <td>...</td>\n",
       "      <td>0</td>\n",
       "      <td>0</td>\n",
       "      <td>0</td>\n",
       "      <td>0</td>\n",
       "      <td>0</td>\n",
       "      <td>0</td>\n",
       "      <td>0</td>\n",
       "      <td>0</td>\n",
       "      <td>0</td>\n",
       "      <td>0</td>\n",
       "    </tr>\n",
       "    <tr>\n",
       "      <th>41999</th>\n",
       "      <td>0</td>\n",
       "      <td>0</td>\n",
       "      <td>0</td>\n",
       "      <td>0</td>\n",
       "      <td>0</td>\n",
       "      <td>0</td>\n",
       "      <td>0</td>\n",
       "      <td>0</td>\n",
       "      <td>0</td>\n",
       "      <td>0</td>\n",
       "      <td>...</td>\n",
       "      <td>0</td>\n",
       "      <td>0</td>\n",
       "      <td>0</td>\n",
       "      <td>0</td>\n",
       "      <td>0</td>\n",
       "      <td>0</td>\n",
       "      <td>0</td>\n",
       "      <td>0</td>\n",
       "      <td>0</td>\n",
       "      <td>0</td>\n",
       "    </tr>\n",
       "  </tbody>\n",
       "</table>\n",
       "<p>42000 rows × 784 columns</p>\n",
       "</div>"
      ],
      "text/plain": [
       "       pixel0  pixel1  pixel2  pixel3  pixel4  pixel5  pixel6  pixel7  pixel8  \\\n",
       "0           0       0       0       0       0       0       0       0       0   \n",
       "1           0       0       0       0       0       0       0       0       0   \n",
       "2           0       0       0       0       0       0       0       0       0   \n",
       "3           0       0       0       0       0       0       0       0       0   \n",
       "4           0       0       0       0       0       0       0       0       0   \n",
       "...       ...     ...     ...     ...     ...     ...     ...     ...     ...   \n",
       "41995       0       0       0       0       0       0       0       0       0   \n",
       "41996       0       0       0       0       0       0       0       0       0   \n",
       "41997       0       0       0       0       0       0       0       0       0   \n",
       "41998       0       0       0       0       0       0       0       0       0   \n",
       "41999       0       0       0       0       0       0       0       0       0   \n",
       "\n",
       "       pixel9  ...  pixel774  pixel775  pixel776  pixel777  pixel778  \\\n",
       "0           0  ...         0         0         0         0         0   \n",
       "1           0  ...         0         0         0         0         0   \n",
       "2           0  ...         0         0         0         0         0   \n",
       "3           0  ...         0         0         0         0         0   \n",
       "4           0  ...         0         0         0         0         0   \n",
       "...       ...  ...       ...       ...       ...       ...       ...   \n",
       "41995       0  ...         0         0         0         0         0   \n",
       "41996       0  ...         0         0         0         0         0   \n",
       "41997       0  ...         0         0         0         0         0   \n",
       "41998       0  ...         0         0         0         0         0   \n",
       "41999       0  ...         0         0         0         0         0   \n",
       "\n",
       "       pixel779  pixel780  pixel781  pixel782  pixel783  \n",
       "0             0         0         0         0         0  \n",
       "1             0         0         0         0         0  \n",
       "2             0         0         0         0         0  \n",
       "3             0         0         0         0         0  \n",
       "4             0         0         0         0         0  \n",
       "...         ...       ...       ...       ...       ...  \n",
       "41995         0         0         0         0         0  \n",
       "41996         0         0         0         0         0  \n",
       "41997         0         0         0         0         0  \n",
       "41998         0         0         0         0         0  \n",
       "41999         0         0         0         0         0  \n",
       "\n",
       "[42000 rows x 784 columns]"
      ]
     },
     "execution_count": 4,
     "metadata": {},
     "output_type": "execute_result"
    }
   ],
   "source": [
    "trainset.drop('label',axis=1)"
   ]
  },
  {
   "cell_type": "markdown",
   "id": "24d34f27",
   "metadata": {
    "execution": {
     "iopub.execute_input": "2023-11-25T00:42:55.915189Z",
     "iopub.status.busy": "2023-11-25T00:42:55.914797Z",
     "iopub.status.idle": "2023-11-25T00:42:55.919273Z",
     "shell.execute_reply": "2023-11-25T00:42:55.918322Z",
     "shell.execute_reply.started": "2023-11-25T00:42:55.915165Z"
    },
    "papermill": {
     "duration": 0.0093,
     "end_time": "2023-11-28T11:47:57.270088",
     "exception": false,
     "start_time": "2023-11-28T11:47:57.260788",
     "status": "completed"
    },
    "tags": []
   },
   "source": [
    "__*sample data*__"
   ]
  },
  {
   "cell_type": "code",
   "execution_count": 5,
   "id": "f0b904bd",
   "metadata": {
    "execution": {
     "iopub.execute_input": "2023-11-28T11:47:57.290772Z",
     "iopub.status.busy": "2023-11-28T11:47:57.290434Z",
     "iopub.status.idle": "2023-11-28T11:47:57.350474Z",
     "shell.execute_reply": "2023-11-28T11:47:57.349007Z"
    },
    "papermill": {
     "duration": 0.072593,
     "end_time": "2023-11-28T11:47:57.352467",
     "exception": false,
     "start_time": "2023-11-28T11:47:57.279874",
     "status": "completed"
    },
    "tags": []
   },
   "outputs": [],
   "source": [
    "sample=np.array(trainset.drop('label',axis=1).iloc[6])\n",
    "sample=sample.reshape((28,-1))"
   ]
  },
  {
   "cell_type": "code",
   "execution_count": 6,
   "id": "da66a322",
   "metadata": {
    "execution": {
     "iopub.execute_input": "2023-11-28T11:47:57.372524Z",
     "iopub.status.busy": "2023-11-28T11:47:57.372105Z",
     "iopub.status.idle": "2023-11-28T11:47:57.571974Z",
     "shell.execute_reply": "2023-11-28T11:47:57.570015Z"
    },
    "papermill": {
     "duration": 0.214346,
     "end_time": "2023-11-28T11:47:57.575876",
     "exception": false,
     "start_time": "2023-11-28T11:47:57.361530",
     "status": "completed"
    },
    "tags": []
   },
   "outputs": [
    {
     "data": {
      "image/png": "[encoded data removed]",
      "text/plain": [
       "<Figure size 640x480 with 1 Axes>"
      ]
     },
     "metadata": {},
     "output_type": "display_data"
    }
   ],
   "source": [
    "plt.imshow(sample)\n",
    "plt.show()"
   ]
  },
  {
   "cell_type": "markdown",
   "id": "1fedd0e4",
   "metadata": {
    "papermill": {
     "duration": 0.009177,
     "end_time": "2023-11-28T11:47:57.595303",
     "exception": false,
     "start_time": "2023-11-28T11:47:57.586126",
     "status": "completed"
    },
    "tags": []
   },
   "source": [
    "## 1-Data"
   ]
  },
  {
   "cell_type": "code",
   "execution_count": 7,
   "id": "e250f04f",
   "metadata": {
    "execution": {
     "iopub.execute_input": "2023-11-28T11:47:57.615378Z",
     "iopub.status.busy": "2023-11-28T11:47:57.614983Z",
     "iopub.status.idle": "2023-11-28T11:47:57.674936Z",
     "shell.execute_reply": "2023-11-28T11:47:57.673458Z"
    },
    "papermill": {
     "duration": 0.073247,
     "end_time": "2023-11-28T11:47:57.677619",
     "exception": false,
     "start_time": "2023-11-28T11:47:57.604372",
     "status": "completed"
    },
    "tags": []
   },
   "outputs": [],
   "source": [
    "train_tensor=torch.from_numpy(np.array(trainset))"
   ]
  },
  {
   "cell_type": "code",
   "execution_count": 8,
   "id": "c7faf83f",
   "metadata": {
    "execution": {
     "iopub.execute_input": "2023-11-28T11:47:57.698837Z",
     "iopub.status.busy": "2023-11-28T11:47:57.698470Z",
     "iopub.status.idle": "2023-11-28T11:47:57.773865Z",
     "shell.execute_reply": "2023-11-28T11:47:57.772050Z"
    },
    "papermill": {
     "duration": 0.089141,
     "end_time": "2023-11-28T11:47:57.776779",
     "exception": false,
     "start_time": "2023-11-28T11:47:57.687638",
     "status": "completed"
    },
    "tags": []
   },
   "outputs": [
    {
     "data": {
      "text/plain": [
       "tensor([[1, 0, 0,  ..., 0, 0, 0],\n",
       "        [0, 0, 0,  ..., 0, 0, 0],\n",
       "        [1, 0, 0,  ..., 0, 0, 0],\n",
       "        ...,\n",
       "        [7, 0, 0,  ..., 0, 0, 0],\n",
       "        [6, 0, 0,  ..., 0, 0, 0],\n",
       "        [9, 0, 0,  ..., 0, 0, 0]])"
      ]
     },
     "execution_count": 8,
     "metadata": {},
     "output_type": "execute_result"
    }
   ],
   "source": [
    "train_tensor"
   ]
  },
  {
   "cell_type": "code",
   "execution_count": 9,
   "id": "77c47f8c",
   "metadata": {
    "execution": {
     "iopub.execute_input": "2023-11-28T11:47:57.797800Z",
     "iopub.status.busy": "2023-11-28T11:47:57.797454Z",
     "iopub.status.idle": "2023-11-28T11:47:57.802583Z",
     "shell.execute_reply": "2023-11-28T11:47:57.801309Z"
    },
    "papermill": {
     "duration": 0.019228,
     "end_time": "2023-11-28T11:47:57.805659",
     "exception": false,
     "start_time": "2023-11-28T11:47:57.786431",
     "status": "completed"
    },
    "tags": []
   },
   "outputs": [],
   "source": [
    "from torch.utils.data import Dataset"
   ]
  },
  {
   "cell_type": "code",
   "execution_count": null,
   "id": "cc1b02f3",
   "metadata": {
    "papermill": {
     "duration": 0.009141,
     "end_time": "2023-11-28T11:47:57.824689",
     "exception": false,
     "start_time": "2023-11-28T11:47:57.815548",
     "status": "completed"
    },
    "tags": []
   },
   "outputs": [],
   "source": []
  },
  {
   "cell_type": "code",
   "execution_count": 10,
   "id": "f0456257",
   "metadata": {
    "execution": {
     "iopub.execute_input": "2023-11-28T11:47:57.846137Z",
     "iopub.status.busy": "2023-11-28T11:47:57.844883Z",
     "iopub.status.idle": "2023-11-28T11:47:57.853072Z",
     "shell.execute_reply": "2023-11-28T11:47:57.851364Z"
    },
    "papermill": {
     "duration": 0.02171,
     "end_time": "2023-11-28T11:47:57.855760",
     "exception": false,
     "start_time": "2023-11-28T11:47:57.834050",
     "status": "completed"
    },
    "tags": []
   },
   "outputs": [],
   "source": [
    "class digits_dataset(Dataset):\n",
    "    def __init__(self):\n",
    "        data = pd.read_csv('/kaggle/input/digit-recognizer/train.csv')\n",
    "        self.y=torch.from_numpy(np.array(data['label']))\n",
    "        self.x=torch.from_numpy(np.array(data.drop('label',axis=1))/255)\n",
    "    def __len__(self):\n",
    "        return len(self.y)\n",
    "\n",
    "    def __getitem__(self, idx):\n",
    "        return self.x[idx], self.y[idx]"
   ]
  },
  {
   "cell_type": "code",
   "execution_count": 11,
   "id": "bb3e1d42",
   "metadata": {
    "execution": {
     "iopub.execute_input": "2023-11-28T11:47:57.878900Z",
     "iopub.status.busy": "2023-11-28T11:47:57.878501Z",
     "iopub.status.idle": "2023-11-28T11:47:59.749527Z",
     "shell.execute_reply": "2023-11-28T11:47:59.748586Z"
    },
    "papermill": {
     "duration": 1.886125,
     "end_time": "2023-11-28T11:47:59.752178",
     "exception": false,
     "start_time": "2023-11-28T11:47:57.866053",
     "status": "completed"
    },
    "tags": []
   },
   "outputs": [],
   "source": [
    "data=digits_dataset()"
   ]
  },
  {
   "cell_type": "code",
   "execution_count": 12,
   "id": "fea556ac",
   "metadata": {
    "execution": {
     "iopub.execute_input": "2023-11-28T11:47:59.773006Z",
     "iopub.status.busy": "2023-11-28T11:47:59.772628Z",
     "iopub.status.idle": "2023-11-28T11:47:59.788882Z",
     "shell.execute_reply": "2023-11-28T11:47:59.788126Z"
    },
    "papermill": {
     "duration": 0.029253,
     "end_time": "2023-11-28T11:47:59.791032",
     "exception": false,
     "start_time": "2023-11-28T11:47:59.761779",
     "status": "completed"
    },
    "tags": []
   },
   "outputs": [],
   "source": [
    "train ,test = torch.utils.data.random_split(data,[0.8,0.2])"
   ]
  },
  {
   "cell_type": "code",
   "execution_count": 13,
   "id": "eb946640",
   "metadata": {
    "execution": {
     "iopub.execute_input": "2023-11-28T11:47:59.812584Z",
     "iopub.status.busy": "2023-11-28T11:47:59.812199Z",
     "iopub.status.idle": "2023-11-28T11:47:59.817658Z",
     "shell.execute_reply": "2023-11-28T11:47:59.816138Z"
    },
    "papermill": {
     "duration": 0.019753,
     "end_time": "2023-11-28T11:47:59.820130",
     "exception": false,
     "start_time": "2023-11-28T11:47:59.800377",
     "status": "completed"
    },
    "tags": []
   },
   "outputs": [],
   "source": [
    "x,y=train[0]"
   ]
  },
  {
   "cell_type": "code",
   "execution_count": 14,
   "id": "390419da",
   "metadata": {
    "execution": {
     "iopub.execute_input": "2023-11-28T11:47:59.840133Z",
     "iopub.status.busy": "2023-11-28T11:47:59.839732Z",
     "iopub.status.idle": "2023-11-28T11:47:59.846051Z",
     "shell.execute_reply": "2023-11-28T11:47:59.845338Z"
    },
    "papermill": {
     "duration": 0.018678,
     "end_time": "2023-11-28T11:47:59.847903",
     "exception": false,
     "start_time": "2023-11-28T11:47:59.829225",
     "status": "completed"
    },
    "tags": []
   },
   "outputs": [
    {
     "data": {
      "text/plain": [
       "33600"
      ]
     },
     "execution_count": 14,
     "metadata": {},
     "output_type": "execute_result"
    }
   ],
   "source": [
    "train.__len__()"
   ]
  },
  {
   "cell_type": "code",
   "execution_count": 15,
   "id": "6ecd73de",
   "metadata": {
    "execution": {
     "iopub.execute_input": "2023-11-28T11:47:59.868789Z",
     "iopub.status.busy": "2023-11-28T11:47:59.868392Z",
     "iopub.status.idle": "2023-11-28T11:47:59.873266Z",
     "shell.execute_reply": "2023-11-28T11:47:59.872386Z"
    },
    "papermill": {
     "duration": 0.01806,
     "end_time": "2023-11-28T11:47:59.875566",
     "exception": false,
     "start_time": "2023-11-28T11:47:59.857506",
     "status": "completed"
    },
    "tags": []
   },
   "outputs": [
    {
     "name": "stdout",
     "output_type": "stream",
     "text": [
      "torch.Size([784])\n"
     ]
    }
   ],
   "source": [
    "print(x.shape)"
   ]
  },
  {
   "cell_type": "markdown",
   "id": "35576833",
   "metadata": {
    "papermill": {
     "duration": 0.009272,
     "end_time": "2023-11-28T11:47:59.894291",
     "exception": false,
     "start_time": "2023-11-28T11:47:59.885019",
     "status": "completed"
    },
    "tags": []
   },
   "source": [
    "## 2-Neural Network and Model"
   ]
  },
  {
   "cell_type": "code",
   "execution_count": 16,
   "id": "b9f01a25",
   "metadata": {
    "execution": {
     "iopub.execute_input": "2023-11-28T11:47:59.973480Z",
     "iopub.status.busy": "2023-11-28T11:47:59.973101Z",
     "iopub.status.idle": "2023-11-28T11:47:59.977839Z",
     "shell.execute_reply": "2023-11-28T11:47:59.976736Z"
    },
    "papermill": {
     "duration": 0.076496,
     "end_time": "2023-11-28T11:47:59.980160",
     "exception": false,
     "start_time": "2023-11-28T11:47:59.903664",
     "status": "completed"
    },
    "tags": []
   },
   "outputs": [],
   "source": [
    "train_loader=DataLoader(dataset=train,batch_size=200,shuffle=True)"
   ]
  },
  {
   "cell_type": "code",
   "execution_count": 17,
   "id": "6d7e0a09",
   "metadata": {
    "execution": {
     "iopub.execute_input": "2023-11-28T11:48:00.002750Z",
     "iopub.status.busy": "2023-11-28T11:48:00.001521Z",
     "iopub.status.idle": "2023-11-28T11:48:00.020702Z",
     "shell.execute_reply": "2023-11-28T11:48:00.019426Z"
    },
    "papermill": {
     "duration": 0.033047,
     "end_time": "2023-11-28T11:48:00.023036",
     "exception": false,
     "start_time": "2023-11-28T11:47:59.989989",
     "status": "completed"
    },
    "tags": []
   },
   "outputs": [],
   "source": [
    "model=nn.Sequential(nn.Linear(28*28,512),\n",
    "                    nn.ReLU(),\n",
    "                    nn.Linear(512,512),\n",
    "                    nn.ReLU(),\n",
    "                    #nn.Dropout(p=0.2),\n",
    "                    nn.Linear(512,256),\n",
    "                    nn.Linear(256,10)\n",
    "                    )"
   ]
  },
  {
   "cell_type": "markdown",
   "id": "a19d0bbc",
   "metadata": {
    "papermill": {
     "duration": 0.009351,
     "end_time": "2023-11-28T11:48:00.041959",
     "exception": false,
     "start_time": "2023-11-28T11:48:00.032608",
     "status": "completed"
    },
    "tags": []
   },
   "source": [
    "## 3-Training "
   ]
  },
  {
   "cell_type": "code",
   "execution_count": 18,
   "id": "01709daf",
   "metadata": {
    "execution": {
     "iopub.execute_input": "2023-11-28T11:48:00.064998Z",
     "iopub.status.busy": "2023-11-28T11:48:00.063588Z",
     "iopub.status.idle": "2023-11-28T11:48:00.068805Z",
     "shell.execute_reply": "2023-11-28T11:48:00.068114Z"
    },
    "papermill": {
     "duration": 0.019048,
     "end_time": "2023-11-28T11:48:00.070684",
     "exception": false,
     "start_time": "2023-11-28T11:48:00.051636",
     "status": "completed"
    },
    "tags": []
   },
   "outputs": [],
   "source": [
    "criterion=nn.CrossEntropyLoss()"
   ]
  },
  {
   "cell_type": "code",
   "execution_count": 19,
   "id": "5f90e7d7",
   "metadata": {
    "execution": {
     "iopub.execute_input": "2023-11-28T11:48:00.092457Z",
     "iopub.status.busy": "2023-11-28T11:48:00.091020Z",
     "iopub.status.idle": "2023-11-28T11:48:00.096794Z",
     "shell.execute_reply": "2023-11-28T11:48:00.095566Z"
    },
    "papermill": {
     "duration": 0.018889,
     "end_time": "2023-11-28T11:48:00.099270",
     "exception": false,
     "start_time": "2023-11-28T11:48:00.080381",
     "status": "completed"
    },
    "tags": []
   },
   "outputs": [],
   "source": [
    "import torch.optim as optim"
   ]
  },
  {
   "cell_type": "code",
   "execution_count": 20,
   "id": "371bf71f",
   "metadata": {
    "execution": {
     "iopub.execute_input": "2023-11-28T11:48:00.120071Z",
     "iopub.status.busy": "2023-11-28T11:48:00.119728Z",
     "iopub.status.idle": "2023-11-28T11:48:00.125455Z",
     "shell.execute_reply": "2023-11-28T11:48:00.124278Z"
    },
    "papermill": {
     "duration": 0.019159,
     "end_time": "2023-11-28T11:48:00.128133",
     "exception": false,
     "start_time": "2023-11-28T11:48:00.108974",
     "status": "completed"
    },
    "tags": []
   },
   "outputs": [],
   "source": [
    "optimizer=optim.Adam(params=model.parameters(),lr=0.001)"
   ]
  },
  {
   "cell_type": "markdown",
   "id": "df352514",
   "metadata": {
    "papermill": {
     "duration": 0.009229,
     "end_time": "2023-11-28T11:48:00.147227",
     "exception": false,
     "start_time": "2023-11-28T11:48:00.137998",
     "status": "completed"
    },
    "tags": []
   },
   "source": [
    "### a-Train loop "
   ]
  },
  {
   "cell_type": "code",
   "execution_count": 21,
   "id": "43cc97e6",
   "metadata": {
    "execution": {
     "iopub.execute_input": "2023-11-28T11:48:00.168612Z",
     "iopub.status.busy": "2023-11-28T11:48:00.167864Z",
     "iopub.status.idle": "2023-11-28T11:51:24.689241Z",
     "shell.execute_reply": "2023-11-28T11:51:24.687620Z"
    },
    "papermill": {
     "duration": 204.534355,
     "end_time": "2023-11-28T11:51:24.691361",
     "exception": false,
     "start_time": "2023-11-28T11:48:00.157006",
     "status": "completed"
    },
    "tags": []
   },
   "outputs": [
    {
     "name": "stdout",
     "output_type": "stream",
     "text": [
      "loss 0.40559868620974676 for 1/100\n",
      "loss 0.1344969846929113 for 2/100\n",
      "loss 0.08000762790574559 for 3/100\n",
      "loss 0.05801952491137421 for 4/100\n",
      "loss 0.039657250262929926 for 5/100\n",
      "loss 0.02772413013735786 for 6/100\n",
      "loss 0.02642987475943907 for 7/100\n",
      "loss 0.023795593598541536 for 8/100\n",
      "loss 0.018503021324986116 for 9/100\n",
      "loss 0.017134491971990514 for 10/100\n",
      "loss 0.013126461928117178 for 11/100\n",
      "loss 0.00862362426007513 for 12/100\n",
      "loss 0.009474221232916793 for 13/100\n",
      "loss 0.014304335494844486 for 14/100\n",
      "loss 0.024439112430194483 for 15/100\n",
      "loss 0.012516658792308243 for 16/100\n",
      "loss 0.009716292152612974 for 17/100\n",
      "loss 0.012626072945966457 for 18/100\n",
      "loss 0.005019915878360085 for 19/100\n",
      "loss 0.003546004106889692 for 20/100\n",
      "loss 0.005979723981021206 for 21/100\n",
      "loss 0.0015861212386988925 for 22/100\n",
      "loss 0.01539190679410413 for 23/100\n",
      "loss 0.016183006790881683 for 24/100\n",
      "loss 0.009406719895044565 for 25/100\n",
      "loss 0.006522345685577117 for 26/100\n",
      "loss 0.007467410317596139 for 27/100\n",
      "loss 0.006257186074457249 for 28/100\n",
      "loss 0.00910632116926449 for 29/100\n",
      "loss 0.009991554542423165 for 30/100\n",
      "loss 0.0049313274731243185 for 31/100\n",
      "loss 0.0066229289233585105 for 32/100\n",
      "loss 0.0017457272658215775 for 33/100\n",
      "loss 0.005379334797139347 for 34/100\n",
      "loss 0.016669924465315403 for 35/100\n",
      "loss 0.008441681819498453 for 36/100\n",
      "loss 0.004390939098887732 for 37/100\n",
      "loss 0.0016204951762661256 for 38/100\n",
      "loss 0.0011064319400000094 for 39/100\n",
      "loss 0.004922319637560555 for 40/100\n",
      "loss 0.014067858987216044 for 41/100\n",
      "loss 0.00678876827058026 for 42/100\n",
      "loss 0.005220762899495769 for 43/100\n",
      "loss 0.0065505059033734185 for 44/100\n",
      "loss 0.005933129152340587 for 45/100\n",
      "loss 0.0023624392045029537 for 46/100\n",
      "loss 0.008027500150330439 for 47/100\n",
      "loss 0.001936266073424046 for 48/100\n",
      "loss 0.0017133513142023762 for 49/100\n",
      "loss 0.004710604349580329 for 50/100\n",
      "loss 0.00997263191835546 for 51/100\n",
      "loss 0.00744571837101592 for 52/100\n",
      "loss 0.0025830053344334048 for 53/100\n",
      "loss 0.001978108702511842 for 54/100\n",
      "loss 0.0026450559726843687 for 55/100\n",
      "loss 0.0023919815218420466 for 56/100\n",
      "loss 0.0009385557261448899 for 57/100\n",
      "loss 0.008721868805174554 for 58/100\n",
      "loss 0.011073237084657097 for 59/100\n",
      "loss 0.010657231843430011 for 60/100\n",
      "loss 0.004227928557616863 for 61/100\n",
      "loss 0.0035059539879939835 for 62/100\n",
      "loss 0.00024336636821856028 for 63/100\n",
      "loss 0.0006367681873904356 for 64/100\n",
      "loss 0.0003717357251093271 for 65/100\n",
      "loss 4.0476810917699e-05 for 66/100\n",
      "loss 1.2610371155381761e-05 for 67/100\n",
      "loss 9.420104894797277e-06 for 68/100\n",
      "loss 7.750310948108022e-06 for 69/100\n",
      "loss 6.586682217382017e-06 for 70/100\n",
      "loss 5.689976210431795e-06 for 71/100\n",
      "loss 4.985977854672574e-06 for 72/100\n",
      "loss 4.407484474891345e-06 for 73/100\n",
      "loss 3.923272714024235e-06 for 74/100\n",
      "loss 3.5069772748453855e-06 for 75/100\n",
      "loss 3.151124980314636e-06 for 76/100\n",
      "loss 2.8379250680448956e-06 for 77/100\n",
      "loss 2.56368717006728e-06 for 78/100\n",
      "loss 2.3191919498812197e-06 for 79/100\n",
      "loss 2.0999205073278847e-06 for 80/100\n",
      "loss 1.9015985468601435e-06 for 81/100\n",
      "loss 1.7230520046741474e-06 for 82/100\n",
      "loss 1.5640709206095272e-06 for 83/100\n",
      "loss 1.4196930256578828e-06 for 84/100\n",
      "loss 1.2876501888874664e-06 for 85/100\n",
      "loss 1.1704535650744606e-06 for 86/100\n",
      "loss 1.0648055863017262e-06 for 87/100\n",
      "loss 9.686451307933636e-07 for 88/100\n",
      "loss 8.824059164522356e-07 for 89/100\n",
      "loss 8.049244306428975e-07 for 90/100\n",
      "loss 7.33767432312259e-07 for 91/100\n",
      "loss 6.691518512942045e-07 for 92/100\n",
      "loss 6.098286748013578e-07 for 93/100\n",
      "loss 5.545493789885622e-07 for 94/100\n",
      "loss 5.027535208622171e-07 for 95/100\n",
      "loss 4.567471983275509e-07 for 96/100\n",
      "loss 4.151290773331196e-07 for 97/100\n",
      "loss 3.7778576058472306e-07 for 98/100\n",
      "loss 3.440892397795928e-07 for 99/100\n",
      "loss 3.134650394967916e-07 for 100/100\n"
     ]
    }
   ],
   "source": [
    "for epoch in range(100):\n",
    "    training_loss = 0\n",
    "    for data in train_loader:\n",
    "        #setting gradient at zero\n",
    "        optimizer.zero_grad()\n",
    "        #getting data\n",
    "        features,label=data\n",
    "        features=features.float()\n",
    "        #predicting class\n",
    "        pred=model(features)\n",
    "        #loss\n",
    "        loss=criterion(pred,label)\n",
    "        loss.backward()\n",
    "        #updating params\n",
    "        optimizer.step()\n",
    "        training_loss += loss.item()\n",
    "    epoch_loss = training_loss / len(train_loader)\n",
    "    print(f'loss {epoch_loss} for {epoch+1}/100')\n"
   ]
  },
  {
   "cell_type": "markdown",
   "id": "f53b9810",
   "metadata": {
    "papermill": {
     "duration": 0.015236,
     "end_time": "2023-11-28T11:51:24.722300",
     "exception": false,
     "start_time": "2023-11-28T11:51:24.707064",
     "status": "completed"
    },
    "tags": []
   },
   "source": [
    "### b-Validation loop"
   ]
  },
  {
   "cell_type": "code",
   "execution_count": 22,
   "id": "b97af97c",
   "metadata": {
    "execution": {
     "iopub.execute_input": "2023-11-28T11:51:24.758901Z",
     "iopub.status.busy": "2023-11-28T11:51:24.758386Z",
     "iopub.status.idle": "2023-11-28T11:51:24.762011Z",
     "shell.execute_reply": "2023-11-28T11:51:24.761358Z"
    },
    "papermill": {
     "duration": 0.025089,
     "end_time": "2023-11-28T11:51:24.764006",
     "exception": false,
     "start_time": "2023-11-28T11:51:24.738917",
     "status": "completed"
    },
    "tags": []
   },
   "outputs": [],
   "source": [
    "test_loader=DataLoader(dataset=test,batch_size=200,shuffle=False)"
   ]
  },
  {
   "cell_type": "code",
   "execution_count": 23,
   "id": "a83cc308",
   "metadata": {
    "execution": {
     "iopub.execute_input": "2023-11-28T11:51:24.797125Z",
     "iopub.status.busy": "2023-11-28T11:51:24.796637Z",
     "iopub.status.idle": "2023-11-28T11:51:25.054735Z",
     "shell.execute_reply": "2023-11-28T11:51:25.053617Z"
    },
    "papermill": {
     "duration": 0.27714,
     "end_time": "2023-11-28T11:51:25.056753",
     "exception": false,
     "start_time": "2023-11-28T11:51:24.779613",
     "status": "completed"
    },
    "tags": []
   },
   "outputs": [
    {
     "name": "stdout",
     "output_type": "stream",
     "text": [
      "validation loss is 0.17784505129730815\n"
     ]
    },
    {
     "data": {
      "text/plain": [
       "Sequential(\n",
       "  (0): Linear(in_features=784, out_features=512, bias=True)\n",
       "  (1): ReLU()\n",
       "  (2): Linear(in_features=512, out_features=512, bias=True)\n",
       "  (3): ReLU()\n",
       "  (4): Linear(in_features=512, out_features=256, bias=True)\n",
       "  (5): Linear(in_features=256, out_features=10, bias=True)\n",
       ")"
      ]
     },
     "execution_count": 23,
     "metadata": {},
     "output_type": "execute_result"
    }
   ],
   "source": [
    "validation_loss = 0.0\n",
    "model.eval() # Put model in evaluation mode\n",
    "with torch.no_grad(): # Speed up the forward pass\n",
    "    training_loss = 0\n",
    "    for data in test_loader:\n",
    "        #getting data\n",
    "        features,label=data\n",
    "        features=features.float()\n",
    "        #predicting class\n",
    "        pred=model(features)\n",
    "        #loss\n",
    "        loss=criterion(pred,label)\n",
    "        validation_loss += loss.item()\n",
    "    validation_loss = validation_loss / len(test_loader)\n",
    "    print(f'validation loss is {validation_loss}')\n",
    "model.train()\n"
   ]
  },
  {
   "cell_type": "code",
   "execution_count": 24,
   "id": "0fa2b047",
   "metadata": {
    "execution": {
     "iopub.execute_input": "2023-11-28T11:51:25.089848Z",
     "iopub.status.busy": "2023-11-28T11:51:25.089452Z",
     "iopub.status.idle": "2023-11-28T11:51:30.048767Z",
     "shell.execute_reply": "2023-11-28T11:51:30.047408Z"
    },
    "papermill": {
     "duration": 4.978588,
     "end_time": "2023-11-28T11:51:30.051389",
     "exception": false,
     "start_time": "2023-11-28T11:51:25.072801",
     "status": "completed"
    },
    "tags": []
   },
   "outputs": [
    {
     "name": "stdout",
     "output_type": "stream",
     "text": [
      "Accuracy on all data: 0.982619047164917\n"
     ]
    }
   ],
   "source": [
    "import torchmetrics\n",
    "# Create accuracy metric using torch metrics\n",
    "metric = torchmetrics.Accuracy(task=\"multiclass\", num_classes=10)\n",
    "for i, data in enumerate(test_loader, 0):\n",
    "    features, labels = data\n",
    "    features=features.float()\n",
    "    outputs = model(features)\n",
    "    # Calculate accuracy over the batch\n",
    "    acc = metric(outputs, labels)\n",
    "# Calculate accuracy over the whole epoch\n",
    "acc = metric.compute()\n",
    "print(f\"Accuracy on all data: {acc}\")\n",
    "# Reset the metric for the next epoch (training or validation)\n",
    "metric.reset()"
   ]
  },
  {
   "cell_type": "markdown",
   "id": "4fa31b64",
   "metadata": {
    "papermill": {
     "duration": 0.016541,
     "end_time": "2023-11-28T11:51:30.084696",
     "exception": false,
     "start_time": "2023-11-28T11:51:30.068155",
     "status": "completed"
    },
    "tags": []
   },
   "source": [
    "## 4-Test and Submission"
   ]
  },
  {
   "cell_type": "markdown",
   "id": "a09d44ca",
   "metadata": {
    "papermill": {
     "duration": 0.015408,
     "end_time": "2023-11-28T11:51:30.116289",
     "exception": false,
     "start_time": "2023-11-28T11:51:30.100881",
     "status": "completed"
    },
    "tags": []
   },
   "source": [
    "### a-Predicting submission data"
   ]
  },
  {
   "cell_type": "code",
   "execution_count": 25,
   "id": "4f3165a0",
   "metadata": {
    "execution": {
     "iopub.execute_input": "2023-11-28T11:51:30.150004Z",
     "iopub.status.busy": "2023-11-28T11:51:30.149282Z",
     "iopub.status.idle": "2023-11-28T11:51:31.733157Z",
     "shell.execute_reply": "2023-11-28T11:51:31.731505Z"
    },
    "papermill": {
     "duration": 1.603431,
     "end_time": "2023-11-28T11:51:31.735721",
     "exception": false,
     "start_time": "2023-11-28T11:51:30.132290",
     "status": "completed"
    },
    "tags": []
   },
   "outputs": [],
   "source": [
    "submi=pd.read_csv('/kaggle/input/digit-recognizer/test.csv')"
   ]
  },
  {
   "cell_type": "code",
   "execution_count": 26,
   "id": "fbeed4e5",
   "metadata": {
    "execution": {
     "iopub.execute_input": "2023-11-28T11:51:31.770763Z",
     "iopub.status.busy": "2023-11-28T11:51:31.770307Z",
     "iopub.status.idle": "2023-11-28T11:51:31.885341Z",
     "shell.execute_reply": "2023-11-28T11:51:31.884278Z"
    },
    "papermill": {
     "duration": 0.136206,
     "end_time": "2023-11-28T11:51:31.888112",
     "exception": false,
     "start_time": "2023-11-28T11:51:31.751906",
     "status": "completed"
    },
    "tags": []
   },
   "outputs": [],
   "source": [
    "X_submi=torch.from_numpy(np.array(submi)/255)\n",
    "X_submi=X_submi.float()"
   ]
  },
  {
   "cell_type": "code",
   "execution_count": 27,
   "id": "1ff0f6a5",
   "metadata": {
    "execution": {
     "iopub.execute_input": "2023-11-28T11:51:31.921361Z",
     "iopub.status.busy": "2023-11-28T11:51:31.920951Z",
     "iopub.status.idle": "2023-11-28T11:51:32.261684Z",
     "shell.execute_reply": "2023-11-28T11:51:32.260383Z"
    },
    "papermill": {
     "duration": 0.360675,
     "end_time": "2023-11-28T11:51:32.264586",
     "exception": false,
     "start_time": "2023-11-28T11:51:31.903911",
     "status": "completed"
    },
    "tags": []
   },
   "outputs": [],
   "source": [
    "with torch.no_grad():    \n",
    "    output=model(X_submi)\n",
    "    softmax=nn.Softmax(-1)(output)"
   ]
  },
  {
   "cell_type": "code",
   "execution_count": 28,
   "id": "cbc96e0e",
   "metadata": {
    "execution": {
     "iopub.execute_input": "2023-11-28T11:51:32.297722Z",
     "iopub.status.busy": "2023-11-28T11:51:32.297286Z",
     "iopub.status.idle": "2023-11-28T11:51:32.304974Z",
     "shell.execute_reply": "2023-11-28T11:51:32.303936Z"
    },
    "papermill": {
     "duration": 0.026273,
     "end_time": "2023-11-28T11:51:32.307018",
     "exception": false,
     "start_time": "2023-11-28T11:51:32.280745",
     "status": "completed"
    },
    "tags": []
   },
   "outputs": [
    {
     "data": {
      "text/plain": [
       "tensor([2, 0, 9,  ..., 3, 9, 2])"
      ]
     },
     "execution_count": 28,
     "metadata": {},
     "output_type": "execute_result"
    }
   ],
   "source": [
    "predicted=torch.argmax(output,1)\n",
    "predicted"
   ]
  },
  {
   "cell_type": "code",
   "execution_count": 29,
   "id": "e80f0fe2",
   "metadata": {
    "execution": {
     "iopub.execute_input": "2023-11-28T11:51:32.340879Z",
     "iopub.status.busy": "2023-11-28T11:51:32.340513Z",
     "iopub.status.idle": "2023-11-28T11:51:32.345390Z",
     "shell.execute_reply": "2023-11-28T11:51:32.343863Z"
    },
    "papermill": {
     "duration": 0.025319,
     "end_time": "2023-11-28T11:51:32.348389",
     "exception": false,
     "start_time": "2023-11-28T11:51:32.323070",
     "status": "completed"
    },
    "tags": []
   },
   "outputs": [],
   "source": [
    "label=np.array(predicted)"
   ]
  },
  {
   "cell_type": "markdown",
   "id": "828d1510",
   "metadata": {
    "papermill": {
     "duration": 0.015266,
     "end_time": "2023-11-28T11:51:32.379739",
     "exception": false,
     "start_time": "2023-11-28T11:51:32.364473",
     "status": "completed"
    },
    "tags": []
   },
   "source": [
    "### b-Submiting data"
   ]
  },
  {
   "cell_type": "code",
   "execution_count": 30,
   "id": "3801ea51",
   "metadata": {
    "execution": {
     "iopub.execute_input": "2023-11-28T11:51:32.414160Z",
     "iopub.status.busy": "2023-11-28T11:51:32.413821Z",
     "iopub.status.idle": "2023-11-28T11:51:32.421818Z",
     "shell.execute_reply": "2023-11-28T11:51:32.420421Z"
    },
    "papermill": {
     "duration": 0.027299,
     "end_time": "2023-11-28T11:51:32.423939",
     "exception": false,
     "start_time": "2023-11-28T11:51:32.396640",
     "status": "completed"
    },
    "tags": []
   },
   "outputs": [],
   "source": [
    "ImageId=np.array([i for i in range(1,len(label)+1)])"
   ]
  },
  {
   "cell_type": "code",
   "execution_count": 31,
   "id": "53c7a2c0",
   "metadata": {
    "execution": {
     "iopub.execute_input": "2023-11-28T11:51:32.457213Z",
     "iopub.status.busy": "2023-11-28T11:51:32.456854Z",
     "iopub.status.idle": "2023-11-28T11:51:32.461984Z",
     "shell.execute_reply": "2023-11-28T11:51:32.460983Z"
    },
    "papermill": {
     "duration": 0.024048,
     "end_time": "2023-11-28T11:51:32.463945",
     "exception": false,
     "start_time": "2023-11-28T11:51:32.439897",
     "status": "completed"
    },
    "tags": []
   },
   "outputs": [],
   "source": [
    "submission=pd.DataFrame({'ImageId':ImageId,'Label':label})"
   ]
  },
  {
   "cell_type": "code",
   "execution_count": 32,
   "id": "ed993db0",
   "metadata": {
    "execution": {
     "iopub.execute_input": "2023-11-28T11:51:32.497598Z",
     "iopub.status.busy": "2023-11-28T11:51:32.497206Z",
     "iopub.status.idle": "2023-11-28T11:51:32.530848Z",
     "shell.execute_reply": "2023-11-28T11:51:32.528947Z"
    },
    "papermill": {
     "duration": 0.053364,
     "end_time": "2023-11-28T11:51:32.533294",
     "exception": false,
     "start_time": "2023-11-28T11:51:32.479930",
     "status": "completed"
    },
    "tags": []
   },
   "outputs": [],
   "source": [
    "submission.to_csv('/kaggle/working/submission.csv',index=False)"
   ]
  },
  {
   "cell_type": "code",
   "execution_count": 33,
   "id": "9548f2d1",
   "metadata": {
    "execution": {
     "iopub.execute_input": "2023-11-28T11:51:32.568217Z",
     "iopub.status.busy": "2023-11-28T11:51:32.567828Z",
     "iopub.status.idle": "2023-11-28T11:51:32.585938Z",
     "shell.execute_reply": "2023-11-28T11:51:32.584607Z"
    },
    "papermill": {
     "duration": 0.037577,
     "end_time": "2023-11-28T11:51:32.588162",
     "exception": false,
     "start_time": "2023-11-28T11:51:32.550585",
     "status": "completed"
    },
    "tags": []
   },
   "outputs": [
    {
     "data": {
      "text/html": [
       "<div>\n",
       "<style scoped>\n",
       "    .dataframe tbody tr th:only-of-type {\n",
       "        vertical-align: middle;\n",
       "    }\n",
       "\n",
       "    .dataframe tbody tr th {\n",
       "        vertical-align: top;\n",
       "    }\n",
       "\n",
       "    .dataframe thead th {\n",
       "        text-align: right;\n",
       "    }\n",
       "</style>\n",
       "<table border=\"1\" class=\"dataframe\">\n",
       "  <thead>\n",
       "    <tr style=\"text-align: right;\">\n",
       "      <th></th>\n",
       "      <th>ImageId</th>\n",
       "      <th>Label</th>\n",
       "    </tr>\n",
       "  </thead>\n",
       "  <tbody>\n",
       "    <tr>\n",
       "      <th>0</th>\n",
       "      <td>1</td>\n",
       "      <td>2</td>\n",
       "    </tr>\n",
       "    <tr>\n",
       "      <th>1</th>\n",
       "      <td>2</td>\n",
       "      <td>0</td>\n",
       "    </tr>\n",
       "    <tr>\n",
       "      <th>2</th>\n",
       "      <td>3</td>\n",
       "      <td>9</td>\n",
       "    </tr>\n",
       "    <tr>\n",
       "      <th>3</th>\n",
       "      <td>4</td>\n",
       "      <td>9</td>\n",
       "    </tr>\n",
       "    <tr>\n",
       "      <th>4</th>\n",
       "      <td>5</td>\n",
       "      <td>3</td>\n",
       "    </tr>\n",
       "    <tr>\n",
       "      <th>...</th>\n",
       "      <td>...</td>\n",
       "      <td>...</td>\n",
       "    </tr>\n",
       "    <tr>\n",
       "      <th>27995</th>\n",
       "      <td>27996</td>\n",
       "      <td>9</td>\n",
       "    </tr>\n",
       "    <tr>\n",
       "      <th>27996</th>\n",
       "      <td>27997</td>\n",
       "      <td>7</td>\n",
       "    </tr>\n",
       "    <tr>\n",
       "      <th>27997</th>\n",
       "      <td>27998</td>\n",
       "      <td>3</td>\n",
       "    </tr>\n",
       "    <tr>\n",
       "      <th>27998</th>\n",
       "      <td>27999</td>\n",
       "      <td>9</td>\n",
       "    </tr>\n",
       "    <tr>\n",
       "      <th>27999</th>\n",
       "      <td>28000</td>\n",
       "      <td>2</td>\n",
       "    </tr>\n",
       "  </tbody>\n",
       "</table>\n",
       "<p>28000 rows × 2 columns</p>\n",
       "</div>"
      ],
      "text/plain": [
       "       ImageId  Label\n",
       "0            1      2\n",
       "1            2      0\n",
       "2            3      9\n",
       "3            4      9\n",
       "4            5      3\n",
       "...        ...    ...\n",
       "27995    27996      9\n",
       "27996    27997      7\n",
       "27997    27998      3\n",
       "27998    27999      9\n",
       "27999    28000      2\n",
       "\n",
       "[28000 rows x 2 columns]"
      ]
     },
     "execution_count": 33,
     "metadata": {},
     "output_type": "execute_result"
    }
   ],
   "source": [
    "submission_path='/kaggle/working/submission.csv'\n",
    "pd.read_csv(submission_path)"
   ]
  },
  {
   "cell_type": "code",
   "execution_count": null,
   "id": "80a5292f",
   "metadata": {
    "papermill": {
     "duration": 0.016013,
     "end_time": "2023-11-28T11:51:32.620610",
     "exception": false,
     "start_time": "2023-11-28T11:51:32.604597",
     "status": "completed"
    },
    "tags": []
   },
   "outputs": [],
   "source": []
  }
 ],
 "metadata": {
  "kaggle": {
   "accelerator": "none",
   "dataSources": [
    {
     "databundleVersionId": 861823,
     "sourceId": 3004,
     "sourceType": "competition"
    }
   ],
   "dockerImageVersionId": 30587,
   "isGpuEnabled": false,
   "isInternetEnabled": true,
   "language": "python",
   "sourceType": "notebook"
  },
  "kernelspec": {
   "display_name": "Python 3",
   "language": "python",
   "name": "python3"
  },
  "language_info": {
   "codemirror_mode": {
    "name": "ipython",
    "version": 3
   },
   "file_extension": ".py",
   "mimetype": "text/x-python",
   "name": "python",
   "nbconvert_exporter": "python",
   "pygments_lexer": "ipython3",
   "version": "3.10.12"
  },
  "papermill": {
   "default_parameters": {},
   "duration": 226.395316,
   "end_time": "2023-11-28T11:51:34.062649",
   "environment_variables": {},
   "exception": null,
   "input_path": "__notebook__.ipynb",
   "output_path": "__notebook__.ipynb",
   "parameters": {},
   "start_time": "2023-11-28T11:47:47.667333",
   "version": "2.4.0"
  }
 },
 "nbformat": 4,
 "nbformat_minor": 5
}
