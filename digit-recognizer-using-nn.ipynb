{
 "cells": [
  {
   "cell_type": "code",
   "execution_count": 1,
   "id": "ccb8d7b4",
   "metadata": {
    "_cell_guid": "b1076dfc-b9ad-4769-8c92-a6c4dae69d19",
    "_uuid": "8f2839f25d086af736a60e9eeb907d3b93b6e0e5",
    "execution": {
     "iopub.execute_input": "2023-11-22T01:08:52.054890Z",
     "iopub.status.busy": "2023-11-22T01:08:52.054368Z",
     "iopub.status.idle": "2023-11-22T01:08:55.901291Z",
     "shell.execute_reply": "2023-11-22T01:08:55.900171Z"
    },
    "papermill": {
     "duration": 3.862121,
     "end_time": "2023-11-22T01:08:55.904336",
     "exception": false,
     "start_time": "2023-11-22T01:08:52.042215",
     "status": "completed"
    },
    "tags": []
   },
   "outputs": [],
   "source": [
    "import numpy as np # linear algebra\n",
    "import pandas as pd # data processing, CSV file I/O (e.g. pd.read_csv)\n",
    "import torch.nn as nn\n",
    "import torch"
   ]
  },
  {
   "cell_type": "code",
   "execution_count": 2,
   "id": "2c0daffb",
   "metadata": {
    "execution": {
     "iopub.execute_input": "2023-11-22T01:08:55.925461Z",
     "iopub.status.busy": "2023-11-22T01:08:55.924821Z",
     "iopub.status.idle": "2023-11-22T01:09:00.420493Z",
     "shell.execute_reply": "2023-11-22T01:09:00.419352Z"
    },
    "papermill": {
     "duration": 4.509979,
     "end_time": "2023-11-22T01:09:00.423935",
     "exception": false,
     "start_time": "2023-11-22T01:08:55.913956",
     "status": "completed"
    },
    "tags": []
   },
   "outputs": [
    {
     "data": {
      "text/html": [
       "<div>\n",
       "<style scoped>\n",
       "    .dataframe tbody tr th:only-of-type {\n",
       "        vertical-align: middle;\n",
       "    }\n",
       "\n",
       "    .dataframe tbody tr th {\n",
       "        vertical-align: top;\n",
       "    }\n",
       "\n",
       "    .dataframe thead th {\n",
       "        text-align: right;\n",
       "    }\n",
       "</style>\n",
       "<table border=\"1\" class=\"dataframe\">\n",
       "  <thead>\n",
       "    <tr style=\"text-align: right;\">\n",
       "      <th></th>\n",
       "      <th>label</th>\n",
       "      <th>pixel0</th>\n",
       "      <th>pixel1</th>\n",
       "      <th>pixel2</th>\n",
       "      <th>pixel3</th>\n",
       "      <th>pixel4</th>\n",
       "      <th>pixel5</th>\n",
       "      <th>pixel6</th>\n",
       "      <th>pixel7</th>\n",
       "      <th>pixel8</th>\n",
       "      <th>...</th>\n",
       "      <th>pixel774</th>\n",
       "      <th>pixel775</th>\n",
       "      <th>pixel776</th>\n",
       "      <th>pixel777</th>\n",
       "      <th>pixel778</th>\n",
       "      <th>pixel779</th>\n",
       "      <th>pixel780</th>\n",
       "      <th>pixel781</th>\n",
       "      <th>pixel782</th>\n",
       "      <th>pixel783</th>\n",
       "    </tr>\n",
       "  </thead>\n",
       "  <tbody>\n",
       "    <tr>\n",
       "      <th>0</th>\n",
       "      <td>1</td>\n",
       "      <td>0</td>\n",
       "      <td>0</td>\n",
       "      <td>0</td>\n",
       "      <td>0</td>\n",
       "      <td>0</td>\n",
       "      <td>0</td>\n",
       "      <td>0</td>\n",
       "      <td>0</td>\n",
       "      <td>0</td>\n",
       "      <td>...</td>\n",
       "      <td>0</td>\n",
       "      <td>0</td>\n",
       "      <td>0</td>\n",
       "      <td>0</td>\n",
       "      <td>0</td>\n",
       "      <td>0</td>\n",
       "      <td>0</td>\n",
       "      <td>0</td>\n",
       "      <td>0</td>\n",
       "      <td>0</td>\n",
       "    </tr>\n",
       "    <tr>\n",
       "      <th>1</th>\n",
       "      <td>0</td>\n",
       "      <td>0</td>\n",
       "      <td>0</td>\n",
       "      <td>0</td>\n",
       "      <td>0</td>\n",
       "      <td>0</td>\n",
       "      <td>0</td>\n",
       "      <td>0</td>\n",
       "      <td>0</td>\n",
       "      <td>0</td>\n",
       "      <td>...</td>\n",
       "      <td>0</td>\n",
       "      <td>0</td>\n",
       "      <td>0</td>\n",
       "      <td>0</td>\n",
       "      <td>0</td>\n",
       "      <td>0</td>\n",
       "      <td>0</td>\n",
       "      <td>0</td>\n",
       "      <td>0</td>\n",
       "      <td>0</td>\n",
       "    </tr>\n",
       "    <tr>\n",
       "      <th>2</th>\n",
       "      <td>1</td>\n",
       "      <td>0</td>\n",
       "      <td>0</td>\n",
       "      <td>0</td>\n",
       "      <td>0</td>\n",
       "      <td>0</td>\n",
       "      <td>0</td>\n",
       "      <td>0</td>\n",
       "      <td>0</td>\n",
       "      <td>0</td>\n",
       "      <td>...</td>\n",
       "      <td>0</td>\n",
       "      <td>0</td>\n",
       "      <td>0</td>\n",
       "      <td>0</td>\n",
       "      <td>0</td>\n",
       "      <td>0</td>\n",
       "      <td>0</td>\n",
       "      <td>0</td>\n",
       "      <td>0</td>\n",
       "      <td>0</td>\n",
       "    </tr>\n",
       "    <tr>\n",
       "      <th>3</th>\n",
       "      <td>4</td>\n",
       "      <td>0</td>\n",
       "      <td>0</td>\n",
       "      <td>0</td>\n",
       "      <td>0</td>\n",
       "      <td>0</td>\n",
       "      <td>0</td>\n",
       "      <td>0</td>\n",
       "      <td>0</td>\n",
       "      <td>0</td>\n",
       "      <td>...</td>\n",
       "      <td>0</td>\n",
       "      <td>0</td>\n",
       "      <td>0</td>\n",
       "      <td>0</td>\n",
       "      <td>0</td>\n",
       "      <td>0</td>\n",
       "      <td>0</td>\n",
       "      <td>0</td>\n",
       "      <td>0</td>\n",
       "      <td>0</td>\n",
       "    </tr>\n",
       "    <tr>\n",
       "      <th>4</th>\n",
       "      <td>0</td>\n",
       "      <td>0</td>\n",
       "      <td>0</td>\n",
       "      <td>0</td>\n",
       "      <td>0</td>\n",
       "      <td>0</td>\n",
       "      <td>0</td>\n",
       "      <td>0</td>\n",
       "      <td>0</td>\n",
       "      <td>0</td>\n",
       "      <td>...</td>\n",
       "      <td>0</td>\n",
       "      <td>0</td>\n",
       "      <td>0</td>\n",
       "      <td>0</td>\n",
       "      <td>0</td>\n",
       "      <td>0</td>\n",
       "      <td>0</td>\n",
       "      <td>0</td>\n",
       "      <td>0</td>\n",
       "      <td>0</td>\n",
       "    </tr>\n",
       "    <tr>\n",
       "      <th>...</th>\n",
       "      <td>...</td>\n",
       "      <td>...</td>\n",
       "      <td>...</td>\n",
       "      <td>...</td>\n",
       "      <td>...</td>\n",
       "      <td>...</td>\n",
       "      <td>...</td>\n",
       "      <td>...</td>\n",
       "      <td>...</td>\n",
       "      <td>...</td>\n",
       "      <td>...</td>\n",
       "      <td>...</td>\n",
       "      <td>...</td>\n",
       "      <td>...</td>\n",
       "      <td>...</td>\n",
       "      <td>...</td>\n",
       "      <td>...</td>\n",
       "      <td>...</td>\n",
       "      <td>...</td>\n",
       "      <td>...</td>\n",
       "      <td>...</td>\n",
       "    </tr>\n",
       "    <tr>\n",
       "      <th>41995</th>\n",
       "      <td>0</td>\n",
       "      <td>0</td>\n",
       "      <td>0</td>\n",
       "      <td>0</td>\n",
       "      <td>0</td>\n",
       "      <td>0</td>\n",
       "      <td>0</td>\n",
       "      <td>0</td>\n",
       "      <td>0</td>\n",
       "      <td>0</td>\n",
       "      <td>...</td>\n",
       "      <td>0</td>\n",
       "      <td>0</td>\n",
       "      <td>0</td>\n",
       "      <td>0</td>\n",
       "      <td>0</td>\n",
       "      <td>0</td>\n",
       "      <td>0</td>\n",
       "      <td>0</td>\n",
       "      <td>0</td>\n",
       "      <td>0</td>\n",
       "    </tr>\n",
       "    <tr>\n",
       "      <th>41996</th>\n",
       "      <td>1</td>\n",
       "      <td>0</td>\n",
       "      <td>0</td>\n",
       "      <td>0</td>\n",
       "      <td>0</td>\n",
       "      <td>0</td>\n",
       "      <td>0</td>\n",
       "      <td>0</td>\n",
       "      <td>0</td>\n",
       "      <td>0</td>\n",
       "      <td>...</td>\n",
       "      <td>0</td>\n",
       "      <td>0</td>\n",
       "      <td>0</td>\n",
       "      <td>0</td>\n",
       "      <td>0</td>\n",
       "      <td>0</td>\n",
       "      <td>0</td>\n",
       "      <td>0</td>\n",
       "      <td>0</td>\n",
       "      <td>0</td>\n",
       "    </tr>\n",
       "    <tr>\n",
       "      <th>41997</th>\n",
       "      <td>7</td>\n",
       "      <td>0</td>\n",
       "      <td>0</td>\n",
       "      <td>0</td>\n",
       "      <td>0</td>\n",
       "      <td>0</td>\n",
       "      <td>0</td>\n",
       "      <td>0</td>\n",
       "      <td>0</td>\n",
       "      <td>0</td>\n",
       "      <td>...</td>\n",
       "      <td>0</td>\n",
       "      <td>0</td>\n",
       "      <td>0</td>\n",
       "      <td>0</td>\n",
       "      <td>0</td>\n",
       "      <td>0</td>\n",
       "      <td>0</td>\n",
       "      <td>0</td>\n",
       "      <td>0</td>\n",
       "      <td>0</td>\n",
       "    </tr>\n",
       "    <tr>\n",
       "      <th>41998</th>\n",
       "      <td>6</td>\n",
       "      <td>0</td>\n",
       "      <td>0</td>\n",
       "      <td>0</td>\n",
       "      <td>0</td>\n",
       "      <td>0</td>\n",
       "      <td>0</td>\n",
       "      <td>0</td>\n",
       "      <td>0</td>\n",
       "      <td>0</td>\n",
       "      <td>...</td>\n",
       "      <td>0</td>\n",
       "      <td>0</td>\n",
       "      <td>0</td>\n",
       "      <td>0</td>\n",
       "      <td>0</td>\n",
       "      <td>0</td>\n",
       "      <td>0</td>\n",
       "      <td>0</td>\n",
       "      <td>0</td>\n",
       "      <td>0</td>\n",
       "    </tr>\n",
       "    <tr>\n",
       "      <th>41999</th>\n",
       "      <td>9</td>\n",
       "      <td>0</td>\n",
       "      <td>0</td>\n",
       "      <td>0</td>\n",
       "      <td>0</td>\n",
       "      <td>0</td>\n",
       "      <td>0</td>\n",
       "      <td>0</td>\n",
       "      <td>0</td>\n",
       "      <td>0</td>\n",
       "      <td>...</td>\n",
       "      <td>0</td>\n",
       "      <td>0</td>\n",
       "      <td>0</td>\n",
       "      <td>0</td>\n",
       "      <td>0</td>\n",
       "      <td>0</td>\n",
       "      <td>0</td>\n",
       "      <td>0</td>\n",
       "      <td>0</td>\n",
       "      <td>0</td>\n",
       "    </tr>\n",
       "  </tbody>\n",
       "</table>\n",
       "<p>42000 rows × 785 columns</p>\n",
       "</div>"
      ],
      "text/plain": [
       "       label  pixel0  pixel1  pixel2  pixel3  pixel4  pixel5  pixel6  pixel7  \\\n",
       "0          1       0       0       0       0       0       0       0       0   \n",
       "1          0       0       0       0       0       0       0       0       0   \n",
       "2          1       0       0       0       0       0       0       0       0   \n",
       "3          4       0       0       0       0       0       0       0       0   \n",
       "4          0       0       0       0       0       0       0       0       0   \n",
       "...      ...     ...     ...     ...     ...     ...     ...     ...     ...   \n",
       "41995      0       0       0       0       0       0       0       0       0   \n",
       "41996      1       0       0       0       0       0       0       0       0   \n",
       "41997      7       0       0       0       0       0       0       0       0   \n",
       "41998      6       0       0       0       0       0       0       0       0   \n",
       "41999      9       0       0       0       0       0       0       0       0   \n",
       "\n",
       "       pixel8  ...  pixel774  pixel775  pixel776  pixel777  pixel778  \\\n",
       "0           0  ...         0         0         0         0         0   \n",
       "1           0  ...         0         0         0         0         0   \n",
       "2           0  ...         0         0         0         0         0   \n",
       "3           0  ...         0         0         0         0         0   \n",
       "4           0  ...         0         0         0         0         0   \n",
       "...       ...  ...       ...       ...       ...       ...       ...   \n",
       "41995       0  ...         0         0         0         0         0   \n",
       "41996       0  ...         0         0         0         0         0   \n",
       "41997       0  ...         0         0         0         0         0   \n",
       "41998       0  ...         0         0         0         0         0   \n",
       "41999       0  ...         0         0         0         0         0   \n",
       "\n",
       "       pixel779  pixel780  pixel781  pixel782  pixel783  \n",
       "0             0         0         0         0         0  \n",
       "1             0         0         0         0         0  \n",
       "2             0         0         0         0         0  \n",
       "3             0         0         0         0         0  \n",
       "4             0         0         0         0         0  \n",
       "...         ...       ...       ...       ...       ...  \n",
       "41995         0         0         0         0         0  \n",
       "41996         0         0         0         0         0  \n",
       "41997         0         0         0         0         0  \n",
       "41998         0         0         0         0         0  \n",
       "41999         0         0         0         0         0  \n",
       "\n",
       "[42000 rows x 785 columns]"
      ]
     },
     "execution_count": 2,
     "metadata": {},
     "output_type": "execute_result"
    }
   ],
   "source": [
    "path='/kaggle/input/digit-recognizer/train.csv'\n",
    "trainset=pd.read_csv(path)\n",
    "trainset"
   ]
  },
  {
   "cell_type": "code",
   "execution_count": 3,
   "id": "158cae94",
   "metadata": {
    "execution": {
     "iopub.execute_input": "2023-11-22T01:09:00.446235Z",
     "iopub.status.busy": "2023-11-22T01:09:00.445701Z",
     "iopub.status.idle": "2023-11-22T01:09:00.451190Z",
     "shell.execute_reply": "2023-11-22T01:09:00.450012Z"
    },
    "papermill": {
     "duration": 0.019432,
     "end_time": "2023-11-22T01:09:00.453548",
     "exception": false,
     "start_time": "2023-11-22T01:09:00.434116",
     "status": "completed"
    },
    "tags": []
   },
   "outputs": [],
   "source": [
    "from torch.utils.data import DataLoader"
   ]
  },
  {
   "cell_type": "code",
   "execution_count": 4,
   "id": "42ea6c4b",
   "metadata": {
    "execution": {
     "iopub.execute_input": "2023-11-22T01:09:00.476570Z",
     "iopub.status.busy": "2023-11-22T01:09:00.476101Z",
     "iopub.status.idle": "2023-11-22T01:09:00.612433Z",
     "shell.execute_reply": "2023-11-22T01:09:00.611128Z"
    },
    "papermill": {
     "duration": 0.15122,
     "end_time": "2023-11-22T01:09:00.615207",
     "exception": false,
     "start_time": "2023-11-22T01:09:00.463987",
     "status": "completed"
    },
    "tags": []
   },
   "outputs": [
    {
     "data": {
      "text/html": [
       "<div>\n",
       "<style scoped>\n",
       "    .dataframe tbody tr th:only-of-type {\n",
       "        vertical-align: middle;\n",
       "    }\n",
       "\n",
       "    .dataframe tbody tr th {\n",
       "        vertical-align: top;\n",
       "    }\n",
       "\n",
       "    .dataframe thead th {\n",
       "        text-align: right;\n",
       "    }\n",
       "</style>\n",
       "<table border=\"1\" class=\"dataframe\">\n",
       "  <thead>\n",
       "    <tr style=\"text-align: right;\">\n",
       "      <th></th>\n",
       "      <th>pixel0</th>\n",
       "      <th>pixel1</th>\n",
       "      <th>pixel2</th>\n",
       "      <th>pixel3</th>\n",
       "      <th>pixel4</th>\n",
       "      <th>pixel5</th>\n",
       "      <th>pixel6</th>\n",
       "      <th>pixel7</th>\n",
       "      <th>pixel8</th>\n",
       "      <th>pixel9</th>\n",
       "      <th>...</th>\n",
       "      <th>pixel774</th>\n",
       "      <th>pixel775</th>\n",
       "      <th>pixel776</th>\n",
       "      <th>pixel777</th>\n",
       "      <th>pixel778</th>\n",
       "      <th>pixel779</th>\n",
       "      <th>pixel780</th>\n",
       "      <th>pixel781</th>\n",
       "      <th>pixel782</th>\n",
       "      <th>pixel783</th>\n",
       "    </tr>\n",
       "  </thead>\n",
       "  <tbody>\n",
       "    <tr>\n",
       "      <th>0</th>\n",
       "      <td>0</td>\n",
       "      <td>0</td>\n",
       "      <td>0</td>\n",
       "      <td>0</td>\n",
       "      <td>0</td>\n",
       "      <td>0</td>\n",
       "      <td>0</td>\n",
       "      <td>0</td>\n",
       "      <td>0</td>\n",
       "      <td>0</td>\n",
       "      <td>...</td>\n",
       "      <td>0</td>\n",
       "      <td>0</td>\n",
       "      <td>0</td>\n",
       "      <td>0</td>\n",
       "      <td>0</td>\n",
       "      <td>0</td>\n",
       "      <td>0</td>\n",
       "      <td>0</td>\n",
       "      <td>0</td>\n",
       "      <td>0</td>\n",
       "    </tr>\n",
       "    <tr>\n",
       "      <th>1</th>\n",
       "      <td>0</td>\n",
       "      <td>0</td>\n",
       "      <td>0</td>\n",
       "      <td>0</td>\n",
       "      <td>0</td>\n",
       "      <td>0</td>\n",
       "      <td>0</td>\n",
       "      <td>0</td>\n",
       "      <td>0</td>\n",
       "      <td>0</td>\n",
       "      <td>...</td>\n",
       "      <td>0</td>\n",
       "      <td>0</td>\n",
       "      <td>0</td>\n",
       "      <td>0</td>\n",
       "      <td>0</td>\n",
       "      <td>0</td>\n",
       "      <td>0</td>\n",
       "      <td>0</td>\n",
       "      <td>0</td>\n",
       "      <td>0</td>\n",
       "    </tr>\n",
       "    <tr>\n",
       "      <th>2</th>\n",
       "      <td>0</td>\n",
       "      <td>0</td>\n",
       "      <td>0</td>\n",
       "      <td>0</td>\n",
       "      <td>0</td>\n",
       "      <td>0</td>\n",
       "      <td>0</td>\n",
       "      <td>0</td>\n",
       "      <td>0</td>\n",
       "      <td>0</td>\n",
       "      <td>...</td>\n",
       "      <td>0</td>\n",
       "      <td>0</td>\n",
       "      <td>0</td>\n",
       "      <td>0</td>\n",
       "      <td>0</td>\n",
       "      <td>0</td>\n",
       "      <td>0</td>\n",
       "      <td>0</td>\n",
       "      <td>0</td>\n",
       "      <td>0</td>\n",
       "    </tr>\n",
       "    <tr>\n",
       "      <th>3</th>\n",
       "      <td>0</td>\n",
       "      <td>0</td>\n",
       "      <td>0</td>\n",
       "      <td>0</td>\n",
       "      <td>0</td>\n",
       "      <td>0</td>\n",
       "      <td>0</td>\n",
       "      <td>0</td>\n",
       "      <td>0</td>\n",
       "      <td>0</td>\n",
       "      <td>...</td>\n",
       "      <td>0</td>\n",
       "      <td>0</td>\n",
       "      <td>0</td>\n",
       "      <td>0</td>\n",
       "      <td>0</td>\n",
       "      <td>0</td>\n",
       "      <td>0</td>\n",
       "      <td>0</td>\n",
       "      <td>0</td>\n",
       "      <td>0</td>\n",
       "    </tr>\n",
       "    <tr>\n",
       "      <th>4</th>\n",
       "      <td>0</td>\n",
       "      <td>0</td>\n",
       "      <td>0</td>\n",
       "      <td>0</td>\n",
       "      <td>0</td>\n",
       "      <td>0</td>\n",
       "      <td>0</td>\n",
       "      <td>0</td>\n",
       "      <td>0</td>\n",
       "      <td>0</td>\n",
       "      <td>...</td>\n",
       "      <td>0</td>\n",
       "      <td>0</td>\n",
       "      <td>0</td>\n",
       "      <td>0</td>\n",
       "      <td>0</td>\n",
       "      <td>0</td>\n",
       "      <td>0</td>\n",
       "      <td>0</td>\n",
       "      <td>0</td>\n",
       "      <td>0</td>\n",
       "    </tr>\n",
       "    <tr>\n",
       "      <th>...</th>\n",
       "      <td>...</td>\n",
       "      <td>...</td>\n",
       "      <td>...</td>\n",
       "      <td>...</td>\n",
       "      <td>...</td>\n",
       "      <td>...</td>\n",
       "      <td>...</td>\n",
       "      <td>...</td>\n",
       "      <td>...</td>\n",
       "      <td>...</td>\n",
       "      <td>...</td>\n",
       "      <td>...</td>\n",
       "      <td>...</td>\n",
       "      <td>...</td>\n",
       "      <td>...</td>\n",
       "      <td>...</td>\n",
       "      <td>...</td>\n",
       "      <td>...</td>\n",
       "      <td>...</td>\n",
       "      <td>...</td>\n",
       "      <td>...</td>\n",
       "    </tr>\n",
       "    <tr>\n",
       "      <th>41995</th>\n",
       "      <td>0</td>\n",
       "      <td>0</td>\n",
       "      <td>0</td>\n",
       "      <td>0</td>\n",
       "      <td>0</td>\n",
       "      <td>0</td>\n",
       "      <td>0</td>\n",
       "      <td>0</td>\n",
       "      <td>0</td>\n",
       "      <td>0</td>\n",
       "      <td>...</td>\n",
       "      <td>0</td>\n",
       "      <td>0</td>\n",
       "      <td>0</td>\n",
       "      <td>0</td>\n",
       "      <td>0</td>\n",
       "      <td>0</td>\n",
       "      <td>0</td>\n",
       "      <td>0</td>\n",
       "      <td>0</td>\n",
       "      <td>0</td>\n",
       "    </tr>\n",
       "    <tr>\n",
       "      <th>41996</th>\n",
       "      <td>0</td>\n",
       "      <td>0</td>\n",
       "      <td>0</td>\n",
       "      <td>0</td>\n",
       "      <td>0</td>\n",
       "      <td>0</td>\n",
       "      <td>0</td>\n",
       "      <td>0</td>\n",
       "      <td>0</td>\n",
       "      <td>0</td>\n",
       "      <td>...</td>\n",
       "      <td>0</td>\n",
       "      <td>0</td>\n",
       "      <td>0</td>\n",
       "      <td>0</td>\n",
       "      <td>0</td>\n",
       "      <td>0</td>\n",
       "      <td>0</td>\n",
       "      <td>0</td>\n",
       "      <td>0</td>\n",
       "      <td>0</td>\n",
       "    </tr>\n",
       "    <tr>\n",
       "      <th>41997</th>\n",
       "      <td>0</td>\n",
       "      <td>0</td>\n",
       "      <td>0</td>\n",
       "      <td>0</td>\n",
       "      <td>0</td>\n",
       "      <td>0</td>\n",
       "      <td>0</td>\n",
       "      <td>0</td>\n",
       "      <td>0</td>\n",
       "      <td>0</td>\n",
       "      <td>...</td>\n",
       "      <td>0</td>\n",
       "      <td>0</td>\n",
       "      <td>0</td>\n",
       "      <td>0</td>\n",
       "      <td>0</td>\n",
       "      <td>0</td>\n",
       "      <td>0</td>\n",
       "      <td>0</td>\n",
       "      <td>0</td>\n",
       "      <td>0</td>\n",
       "    </tr>\n",
       "    <tr>\n",
       "      <th>41998</th>\n",
       "      <td>0</td>\n",
       "      <td>0</td>\n",
       "      <td>0</td>\n",
       "      <td>0</td>\n",
       "      <td>0</td>\n",
       "      <td>0</td>\n",
       "      <td>0</td>\n",
       "      <td>0</td>\n",
       "      <td>0</td>\n",
       "      <td>0</td>\n",
       "      <td>...</td>\n",
       "      <td>0</td>\n",
       "      <td>0</td>\n",
       "      <td>0</td>\n",
       "      <td>0</td>\n",
       "      <td>0</td>\n",
       "      <td>0</td>\n",
       "      <td>0</td>\n",
       "      <td>0</td>\n",
       "      <td>0</td>\n",
       "      <td>0</td>\n",
       "    </tr>\n",
       "    <tr>\n",
       "      <th>41999</th>\n",
       "      <td>0</td>\n",
       "      <td>0</td>\n",
       "      <td>0</td>\n",
       "      <td>0</td>\n",
       "      <td>0</td>\n",
       "      <td>0</td>\n",
       "      <td>0</td>\n",
       "      <td>0</td>\n",
       "      <td>0</td>\n",
       "      <td>0</td>\n",
       "      <td>...</td>\n",
       "      <td>0</td>\n",
       "      <td>0</td>\n",
       "      <td>0</td>\n",
       "      <td>0</td>\n",
       "      <td>0</td>\n",
       "      <td>0</td>\n",
       "      <td>0</td>\n",
       "      <td>0</td>\n",
       "      <td>0</td>\n",
       "      <td>0</td>\n",
       "    </tr>\n",
       "  </tbody>\n",
       "</table>\n",
       "<p>42000 rows × 784 columns</p>\n",
       "</div>"
      ],
      "text/plain": [
       "       pixel0  pixel1  pixel2  pixel3  pixel4  pixel5  pixel6  pixel7  pixel8  \\\n",
       "0           0       0       0       0       0       0       0       0       0   \n",
       "1           0       0       0       0       0       0       0       0       0   \n",
       "2           0       0       0       0       0       0       0       0       0   \n",
       "3           0       0       0       0       0       0       0       0       0   \n",
       "4           0       0       0       0       0       0       0       0       0   \n",
       "...       ...     ...     ...     ...     ...     ...     ...     ...     ...   \n",
       "41995       0       0       0       0       0       0       0       0       0   \n",
       "41996       0       0       0       0       0       0       0       0       0   \n",
       "41997       0       0       0       0       0       0       0       0       0   \n",
       "41998       0       0       0       0       0       0       0       0       0   \n",
       "41999       0       0       0       0       0       0       0       0       0   \n",
       "\n",
       "       pixel9  ...  pixel774  pixel775  pixel776  pixel777  pixel778  \\\n",
       "0           0  ...         0         0         0         0         0   \n",
       "1           0  ...         0         0         0         0         0   \n",
       "2           0  ...         0         0         0         0         0   \n",
       "3           0  ...         0         0         0         0         0   \n",
       "4           0  ...         0         0         0         0         0   \n",
       "...       ...  ...       ...       ...       ...       ...       ...   \n",
       "41995       0  ...         0         0         0         0         0   \n",
       "41996       0  ...         0         0         0         0         0   \n",
       "41997       0  ...         0         0         0         0         0   \n",
       "41998       0  ...         0         0         0         0         0   \n",
       "41999       0  ...         0         0         0         0         0   \n",
       "\n",
       "       pixel779  pixel780  pixel781  pixel782  pixel783  \n",
       "0             0         0         0         0         0  \n",
       "1             0         0         0         0         0  \n",
       "2             0         0         0         0         0  \n",
       "3             0         0         0         0         0  \n",
       "4             0         0         0         0         0  \n",
       "...         ...       ...       ...       ...       ...  \n",
       "41995         0         0         0         0         0  \n",
       "41996         0         0         0         0         0  \n",
       "41997         0         0         0         0         0  \n",
       "41998         0         0         0         0         0  \n",
       "41999         0         0         0         0         0  \n",
       "\n",
       "[42000 rows x 784 columns]"
      ]
     },
     "execution_count": 4,
     "metadata": {},
     "output_type": "execute_result"
    }
   ],
   "source": [
    "trainset.drop('label',axis=1)"
   ]
  },
  {
   "cell_type": "code",
   "execution_count": 5,
   "id": "74f0818b",
   "metadata": {
    "execution": {
     "iopub.execute_input": "2023-11-22T01:09:00.640108Z",
     "iopub.status.busy": "2023-11-22T01:09:00.639578Z",
     "iopub.status.idle": "2023-11-22T01:09:00.644731Z",
     "shell.execute_reply": "2023-11-22T01:09:00.643583Z"
    },
    "papermill": {
     "duration": 0.020763,
     "end_time": "2023-11-22T01:09:00.647495",
     "exception": false,
     "start_time": "2023-11-22T01:09:00.626732",
     "status": "completed"
    },
    "tags": []
   },
   "outputs": [],
   "source": [
    "#DataLoader.dataset()"
   ]
  },
  {
   "cell_type": "markdown",
   "id": "3d760066",
   "metadata": {
    "papermill": {
     "duration": 0.010834,
     "end_time": "2023-11-22T01:09:00.669107",
     "exception": false,
     "start_time": "2023-11-22T01:09:00.658273",
     "status": "completed"
    },
    "tags": []
   },
   "source": [
    "## 1-Data"
   ]
  },
  {
   "cell_type": "code",
   "execution_count": 6,
   "id": "b333f93c",
   "metadata": {
    "execution": {
     "iopub.execute_input": "2023-11-22T01:09:00.692677Z",
     "iopub.status.busy": "2023-11-22T01:09:00.692179Z",
     "iopub.status.idle": "2023-11-22T01:09:00.832218Z",
     "shell.execute_reply": "2023-11-22T01:09:00.830844Z"
    },
    "papermill": {
     "duration": 0.15571,
     "end_time": "2023-11-22T01:09:00.835319",
     "exception": false,
     "start_time": "2023-11-22T01:09:00.679609",
     "status": "completed"
    },
    "tags": []
   },
   "outputs": [],
   "source": [
    "train_tensor=torch.from_numpy(np.array(trainset))"
   ]
  },
  {
   "cell_type": "code",
   "execution_count": 7,
   "id": "a2355551",
   "metadata": {
    "execution": {
     "iopub.execute_input": "2023-11-22T01:09:00.860602Z",
     "iopub.status.busy": "2023-11-22T01:09:00.859528Z",
     "iopub.status.idle": "2023-11-22T01:09:00.919157Z",
     "shell.execute_reply": "2023-11-22T01:09:00.917958Z"
    },
    "papermill": {
     "duration": 0.076196,
     "end_time": "2023-11-22T01:09:00.922453",
     "exception": false,
     "start_time": "2023-11-22T01:09:00.846257",
     "status": "completed"
    },
    "tags": []
   },
   "outputs": [
    {
     "data": {
      "text/plain": [
       "tensor([[1, 0, 0,  ..., 0, 0, 0],\n",
       "        [0, 0, 0,  ..., 0, 0, 0],\n",
       "        [1, 0, 0,  ..., 0, 0, 0],\n",
       "        ...,\n",
       "        [7, 0, 0,  ..., 0, 0, 0],\n",
       "        [6, 0, 0,  ..., 0, 0, 0],\n",
       "        [9, 0, 0,  ..., 0, 0, 0]])"
      ]
     },
     "execution_count": 7,
     "metadata": {},
     "output_type": "execute_result"
    }
   ],
   "source": [
    "train_tensor"
   ]
  },
  {
   "cell_type": "code",
   "execution_count": 8,
   "id": "d1575dcb",
   "metadata": {
    "execution": {
     "iopub.execute_input": "2023-11-22T01:09:00.946629Z",
     "iopub.status.busy": "2023-11-22T01:09:00.946172Z",
     "iopub.status.idle": "2023-11-22T01:09:00.951346Z",
     "shell.execute_reply": "2023-11-22T01:09:00.950234Z"
    },
    "papermill": {
     "duration": 0.019642,
     "end_time": "2023-11-22T01:09:00.953594",
     "exception": false,
     "start_time": "2023-11-22T01:09:00.933952",
     "status": "completed"
    },
    "tags": []
   },
   "outputs": [],
   "source": [
    "from torch.utils.data import Dataset"
   ]
  },
  {
   "cell_type": "code",
   "execution_count": null,
   "id": "f1dd09be",
   "metadata": {
    "papermill": {
     "duration": 0.01075,
     "end_time": "2023-11-22T01:09:00.975564",
     "exception": false,
     "start_time": "2023-11-22T01:09:00.964814",
     "status": "completed"
    },
    "tags": []
   },
   "outputs": [],
   "source": []
  },
  {
   "cell_type": "code",
   "execution_count": 9,
   "id": "e300e9ae",
   "metadata": {
    "execution": {
     "iopub.execute_input": "2023-11-22T01:09:00.999356Z",
     "iopub.status.busy": "2023-11-22T01:09:00.998866Z",
     "iopub.status.idle": "2023-11-22T01:09:01.006522Z",
     "shell.execute_reply": "2023-11-22T01:09:01.005514Z"
    },
    "papermill": {
     "duration": 0.02248,
     "end_time": "2023-11-22T01:09:01.008766",
     "exception": false,
     "start_time": "2023-11-22T01:09:00.986286",
     "status": "completed"
    },
    "tags": []
   },
   "outputs": [],
   "source": [
    "class digits_dataset(Dataset):\n",
    "    def __init__(self):\n",
    "        data = pd.read_csv('/kaggle/input/digit-recognizer/train.csv')\n",
    "        self.y=torch.from_numpy(np.array(data['label']))\n",
    "        self.x=torch.from_numpy(np.array(data.drop('label',axis=1))/255)\n",
    "    def __len__(self):\n",
    "        return len(self.y)\n",
    "\n",
    "    def __getitem__(self, idx):\n",
    "        return self.x[idx], self.y[idx]"
   ]
  },
  {
   "cell_type": "code",
   "execution_count": 10,
   "id": "f29d2abe",
   "metadata": {
    "execution": {
     "iopub.execute_input": "2023-11-22T01:09:01.034152Z",
     "iopub.status.busy": "2023-11-22T01:09:01.033641Z",
     "iopub.status.idle": "2023-11-22T01:09:04.799698Z",
     "shell.execute_reply": "2023-11-22T01:09:04.798566Z"
    },
    "papermill": {
     "duration": 3.781544,
     "end_time": "2023-11-22T01:09:04.802919",
     "exception": false,
     "start_time": "2023-11-22T01:09:01.021375",
     "status": "completed"
    },
    "tags": []
   },
   "outputs": [],
   "source": [
    "data=digits_dataset()"
   ]
  },
  {
   "cell_type": "code",
   "execution_count": 11,
   "id": "c39f7fdd",
   "metadata": {
    "execution": {
     "iopub.execute_input": "2023-11-22T01:09:04.828011Z",
     "iopub.status.busy": "2023-11-22T01:09:04.827143Z",
     "iopub.status.idle": "2023-11-22T01:09:04.843271Z",
     "shell.execute_reply": "2023-11-22T01:09:04.842057Z"
    },
    "papermill": {
     "duration": 0.031663,
     "end_time": "2023-11-22T01:09:04.845969",
     "exception": false,
     "start_time": "2023-11-22T01:09:04.814306",
     "status": "completed"
    },
    "tags": []
   },
   "outputs": [],
   "source": [
    "train ,test = torch.utils.data.random_split(data,[0.8,0.2])"
   ]
  },
  {
   "cell_type": "code",
   "execution_count": 12,
   "id": "ee07ba87",
   "metadata": {
    "execution": {
     "iopub.execute_input": "2023-11-22T01:09:04.870617Z",
     "iopub.status.busy": "2023-11-22T01:09:04.869649Z",
     "iopub.status.idle": "2023-11-22T01:09:04.875162Z",
     "shell.execute_reply": "2023-11-22T01:09:04.874000Z"
    },
    "papermill": {
     "duration": 0.020834,
     "end_time": "2023-11-22T01:09:04.877975",
     "exception": false,
     "start_time": "2023-11-22T01:09:04.857141",
     "status": "completed"
    },
    "tags": []
   },
   "outputs": [],
   "source": [
    "x,y=train[0]"
   ]
  },
  {
   "cell_type": "code",
   "execution_count": 13,
   "id": "dd00435e",
   "metadata": {
    "execution": {
     "iopub.execute_input": "2023-11-22T01:09:04.901725Z",
     "iopub.status.busy": "2023-11-22T01:09:04.901258Z",
     "iopub.status.idle": "2023-11-22T01:09:04.908902Z",
     "shell.execute_reply": "2023-11-22T01:09:04.907800Z"
    },
    "papermill": {
     "duration": 0.022508,
     "end_time": "2023-11-22T01:09:04.911215",
     "exception": false,
     "start_time": "2023-11-22T01:09:04.888707",
     "status": "completed"
    },
    "tags": []
   },
   "outputs": [
    {
     "data": {
      "text/plain": [
       "33600"
      ]
     },
     "execution_count": 13,
     "metadata": {},
     "output_type": "execute_result"
    }
   ],
   "source": [
    "train.__len__()"
   ]
  },
  {
   "cell_type": "code",
   "execution_count": 14,
   "id": "3f741d69",
   "metadata": {
    "execution": {
     "iopub.execute_input": "2023-11-22T01:09:04.935566Z",
     "iopub.status.busy": "2023-11-22T01:09:04.935091Z",
     "iopub.status.idle": "2023-11-22T01:09:04.941042Z",
     "shell.execute_reply": "2023-11-22T01:09:04.939944Z"
    },
    "papermill": {
     "duration": 0.021308,
     "end_time": "2023-11-22T01:09:04.943491",
     "exception": false,
     "start_time": "2023-11-22T01:09:04.922183",
     "status": "completed"
    },
    "tags": []
   },
   "outputs": [
    {
     "name": "stdout",
     "output_type": "stream",
     "text": [
      "torch.Size([784])\n"
     ]
    }
   ],
   "source": [
    "print(x.shape)"
   ]
  },
  {
   "cell_type": "markdown",
   "id": "8c8c4619",
   "metadata": {
    "papermill": {
     "duration": 0.010568,
     "end_time": "2023-11-22T01:09:04.964857",
     "exception": false,
     "start_time": "2023-11-22T01:09:04.954289",
     "status": "completed"
    },
    "tags": []
   },
   "source": [
    "## 2-Neural Network and Model"
   ]
  },
  {
   "cell_type": "code",
   "execution_count": 15,
   "id": "6c6eba1a",
   "metadata": {
    "execution": {
     "iopub.execute_input": "2023-11-22T01:09:04.988826Z",
     "iopub.status.busy": "2023-11-22T01:09:04.988323Z",
     "iopub.status.idle": "2023-11-22T01:09:04.994214Z",
     "shell.execute_reply": "2023-11-22T01:09:04.993102Z"
    },
    "papermill": {
     "duration": 0.020716,
     "end_time": "2023-11-22T01:09:04.996500",
     "exception": false,
     "start_time": "2023-11-22T01:09:04.975784",
     "status": "completed"
    },
    "tags": []
   },
   "outputs": [],
   "source": [
    "train_loader=DataLoader(dataset=train,batch_size=200,shuffle=True)"
   ]
  },
  {
   "cell_type": "code",
   "execution_count": 16,
   "id": "de8dcb89",
   "metadata": {
    "execution": {
     "iopub.execute_input": "2023-11-22T01:09:05.022415Z",
     "iopub.status.busy": "2023-11-22T01:09:05.021898Z",
     "iopub.status.idle": "2023-11-22T01:09:05.039733Z",
     "shell.execute_reply": "2023-11-22T01:09:05.038631Z"
    },
    "papermill": {
     "duration": 0.034817,
     "end_time": "2023-11-22T01:09:05.043044",
     "exception": false,
     "start_time": "2023-11-22T01:09:05.008227",
     "status": "completed"
    },
    "tags": []
   },
   "outputs": [],
   "source": [
    "model=nn.Sequential(nn.Linear(28*28,512),\n",
    "                    nn.ReLU(),\n",
    "                    nn.Linear(512,512),\n",
    "                    nn.ReLU(),\n",
    "                    nn.Linear(512,10)\n",
    "                    )"
   ]
  },
  {
   "cell_type": "markdown",
   "id": "d9700515",
   "metadata": {
    "papermill": {
     "duration": 0.010842,
     "end_time": "2023-11-22T01:09:05.065263",
     "exception": false,
     "start_time": "2023-11-22T01:09:05.054421",
     "status": "completed"
    },
    "tags": []
   },
   "source": [
    "## 3-Training "
   ]
  },
  {
   "cell_type": "code",
   "execution_count": 17,
   "id": "13c9dacf",
   "metadata": {
    "execution": {
     "iopub.execute_input": "2023-11-22T01:09:05.089929Z",
     "iopub.status.busy": "2023-11-22T01:09:05.088812Z",
     "iopub.status.idle": "2023-11-22T01:09:05.094405Z",
     "shell.execute_reply": "2023-11-22T01:09:05.093454Z"
    },
    "papermill": {
     "duration": 0.020592,
     "end_time": "2023-11-22T01:09:05.096777",
     "exception": false,
     "start_time": "2023-11-22T01:09:05.076185",
     "status": "completed"
    },
    "tags": []
   },
   "outputs": [],
   "source": [
    "criterion=nn.CrossEntropyLoss()"
   ]
  },
  {
   "cell_type": "code",
   "execution_count": 18,
   "id": "09f32fbb",
   "metadata": {
    "execution": {
     "iopub.execute_input": "2023-11-22T01:09:05.121042Z",
     "iopub.status.busy": "2023-11-22T01:09:05.120453Z",
     "iopub.status.idle": "2023-11-22T01:09:05.125767Z",
     "shell.execute_reply": "2023-11-22T01:09:05.124683Z"
    },
    "papermill": {
     "duration": 0.020075,
     "end_time": "2023-11-22T01:09:05.128032",
     "exception": false,
     "start_time": "2023-11-22T01:09:05.107957",
     "status": "completed"
    },
    "tags": []
   },
   "outputs": [],
   "source": [
    "import torch.optim as optim"
   ]
  },
  {
   "cell_type": "code",
   "execution_count": 19,
   "id": "82beaba8",
   "metadata": {
    "execution": {
     "iopub.execute_input": "2023-11-22T01:09:05.152700Z",
     "iopub.status.busy": "2023-11-22T01:09:05.152255Z",
     "iopub.status.idle": "2023-11-22T01:09:05.157890Z",
     "shell.execute_reply": "2023-11-22T01:09:05.156628Z"
    },
    "papermill": {
     "duration": 0.021025,
     "end_time": "2023-11-22T01:09:05.160251",
     "exception": false,
     "start_time": "2023-11-22T01:09:05.139226",
     "status": "completed"
    },
    "tags": []
   },
   "outputs": [],
   "source": [
    "optimizer=optim.Adam(params=model.parameters(),lr=0.001)"
   ]
  },
  {
   "cell_type": "markdown",
   "id": "2005173a",
   "metadata": {
    "papermill": {
     "duration": 0.010371,
     "end_time": "2023-11-22T01:09:05.181568",
     "exception": false,
     "start_time": "2023-11-22T01:09:05.171197",
     "status": "completed"
    },
    "tags": []
   },
   "source": [
    "### a-Train loop "
   ]
  },
  {
   "cell_type": "code",
   "execution_count": 20,
   "id": "5796bd9c",
   "metadata": {
    "execution": {
     "iopub.execute_input": "2023-11-22T01:09:05.206467Z",
     "iopub.status.busy": "2023-11-22T01:09:05.206006Z",
     "iopub.status.idle": "2023-11-22T01:09:29.221981Z",
     "shell.execute_reply": "2023-11-22T01:09:29.220424Z"
    },
    "papermill": {
     "duration": 24.032593,
     "end_time": "2023-11-22T01:09:29.224944",
     "exception": false,
     "start_time": "2023-11-22T01:09:05.192351",
     "status": "completed"
    },
    "tags": []
   },
   "outputs": [
    {
     "name": "stdout",
     "output_type": "stream",
     "text": [
      "loss 0.41771468342769713 for 1/10\n",
      "loss 0.15333103224457728 for 2/10\n",
      "loss 0.09554369550287015 for 3/10\n",
      "loss 0.06444449596927457 for 4/10\n",
      "loss 0.044438212599960114 for 5/10\n",
      "loss 0.033202021795746293 for 6/10\n",
      "loss 0.023626616912051326 for 7/10\n",
      "loss 0.01704664444938923 for 8/10\n",
      "loss 0.012239720851842625 for 9/10\n",
      "loss 0.007142530762523945 for 10/10\n"
     ]
    }
   ],
   "source": [
    "for epoch in range(10):\n",
    "    training_loss = 0\n",
    "    for data in train_loader:\n",
    "        #setting gradient at zero\n",
    "        optimizer.zero_grad()\n",
    "        #getting data\n",
    "        features,label=data\n",
    "        features=features.float()\n",
    "        #predicting class\n",
    "        pred=model(features)\n",
    "        #loss\n",
    "        loss=criterion(pred,label)\n",
    "        loss.backward()\n",
    "        #updating params\n",
    "        optimizer.step()\n",
    "        training_loss += loss.item()\n",
    "    epoch_loss = training_loss / len(train_loader)\n",
    "    print(f'loss {epoch_loss} for {epoch+1}/10')\n"
   ]
  },
  {
   "cell_type": "markdown",
   "id": "2d4519a0",
   "metadata": {
    "papermill": {
     "duration": 0.011915,
     "end_time": "2023-11-22T01:09:29.249238",
     "exception": false,
     "start_time": "2023-11-22T01:09:29.237323",
     "status": "completed"
    },
    "tags": []
   },
   "source": [
    "### b-Validation loop"
   ]
  },
  {
   "cell_type": "code",
   "execution_count": 21,
   "id": "ef5a4099",
   "metadata": {
    "execution": {
     "iopub.execute_input": "2023-11-22T01:09:29.276230Z",
     "iopub.status.busy": "2023-11-22T01:09:29.275253Z",
     "iopub.status.idle": "2023-11-22T01:09:29.281515Z",
     "shell.execute_reply": "2023-11-22T01:09:29.280691Z"
    },
    "papermill": {
     "duration": 0.022606,
     "end_time": "2023-11-22T01:09:29.283945",
     "exception": false,
     "start_time": "2023-11-22T01:09:29.261339",
     "status": "completed"
    },
    "tags": []
   },
   "outputs": [],
   "source": [
    "test_loader=DataLoader(dataset=test,batch_size=200,shuffle=False)"
   ]
  },
  {
   "cell_type": "code",
   "execution_count": 22,
   "id": "f25d3f0a",
   "metadata": {
    "execution": {
     "iopub.execute_input": "2023-11-22T01:09:29.310958Z",
     "iopub.status.busy": "2023-11-22T01:09:29.309573Z",
     "iopub.status.idle": "2023-11-22T01:09:29.610479Z",
     "shell.execute_reply": "2023-11-22T01:09:29.609336Z"
    },
    "papermill": {
     "duration": 0.317255,
     "end_time": "2023-11-22T01:09:29.613370",
     "exception": false,
     "start_time": "2023-11-22T01:09:29.296115",
     "status": "completed"
    },
    "tags": []
   },
   "outputs": [
    {
     "name": "stdout",
     "output_type": "stream",
     "text": [
      "validation loss is 0.10282895731784049\n"
     ]
    },
    {
     "data": {
      "text/plain": [
       "Sequential(\n",
       "  (0): Linear(in_features=784, out_features=512, bias=True)\n",
       "  (1): ReLU()\n",
       "  (2): Linear(in_features=512, out_features=512, bias=True)\n",
       "  (3): ReLU()\n",
       "  (4): Linear(in_features=512, out_features=10, bias=True)\n",
       ")"
      ]
     },
     "execution_count": 22,
     "metadata": {},
     "output_type": "execute_result"
    }
   ],
   "source": [
    "validation_loss = 0.0\n",
    "model.eval() # Put model in evaluation mode\n",
    "with torch.no_grad(): # Speed up the forward pass\n",
    "    training_loss = 0\n",
    "    for data in test_loader:\n",
    "        #getting data\n",
    "        features,label=data\n",
    "        features=features.float()\n",
    "        #predicting class\n",
    "        pred=model(features)\n",
    "        #loss\n",
    "        loss=criterion(pred,label)\n",
    "        validation_loss += loss.item()\n",
    "    validation_loss = validation_loss / len(test_loader)\n",
    "    print(f'validation loss is {validation_loss}')\n",
    "model.train()\n"
   ]
  },
  {
   "cell_type": "code",
   "execution_count": 23,
   "id": "7ef7bd1f",
   "metadata": {
    "execution": {
     "iopub.execute_input": "2023-11-22T01:09:29.640868Z",
     "iopub.status.busy": "2023-11-22T01:09:29.639734Z",
     "iopub.status.idle": "2023-11-22T01:09:33.799120Z",
     "shell.execute_reply": "2023-11-22T01:09:33.797850Z"
    },
    "papermill": {
     "duration": 4.176802,
     "end_time": "2023-11-22T01:09:33.802411",
     "exception": false,
     "start_time": "2023-11-22T01:09:29.625609",
     "status": "completed"
    },
    "tags": []
   },
   "outputs": [
    {
     "name": "stdout",
     "output_type": "stream",
     "text": [
      "Accuracy on all data: 0.9776190519332886\n"
     ]
    }
   ],
   "source": [
    "import torchmetrics\n",
    "# Create accuracy metric using torch metrics\n",
    "metric = torchmetrics.Accuracy(task=\"multiclass\", num_classes=10)\n",
    "for i, data in enumerate(test_loader, 0):\n",
    "    features, labels = data\n",
    "    features=features.float()\n",
    "    outputs = model(features)\n",
    "    # Calculate accuracy over the batch\n",
    "    acc = metric(outputs, labels)\n",
    "# Calculate accuracy over the whole epoch\n",
    "acc = metric.compute()\n",
    "print(f\"Accuracy on all data: {acc}\")\n",
    "# Reset the metric for the next epoch (training or validation)\n",
    "metric.reset()"
   ]
  },
  {
   "cell_type": "code",
   "execution_count": null,
   "id": "33903466",
   "metadata": {
    "papermill": {
     "duration": 0.011737,
     "end_time": "2023-11-22T01:09:33.826867",
     "exception": false,
     "start_time": "2023-11-22T01:09:33.815130",
     "status": "completed"
    },
    "tags": []
   },
   "outputs": [],
   "source": []
  }
 ],
 "metadata": {
  "kaggle": {
   "accelerator": "none",
   "dataSources": [
    {
     "databundleVersionId": 861823,
     "sourceId": 3004,
     "sourceType": "competition"
    }
   ],
   "dockerImageVersionId": 30587,
   "isGpuEnabled": false,
   "isInternetEnabled": true,
   "language": "python",
   "sourceType": "notebook"
  },
  "kernelspec": {
   "display_name": "Python 3",
   "language": "python",
   "name": "python3"
  },
  "language_info": {
   "codemirror_mode": {
    "name": "ipython",
    "version": 3
   },
   "file_extension": ".py",
   "mimetype": "text/x-python",
   "name": "python",
   "nbconvert_exporter": "python",
   "pygments_lexer": "ipython3",
   "version": "3.10.12"
  },
  "papermill": {
   "default_parameters": {},
   "duration": 47.088433,
   "end_time": "2023-11-22T01:09:35.466868",
   "environment_variables": {},
   "exception": null,
   "input_path": "__notebook__.ipynb",
   "output_path": "__notebook__.ipynb",
   "parameters": {},
   "start_time": "2023-11-22T01:08:48.378435",
   "version": "2.4.0"
  }
 },
 "nbformat": 4,
 "nbformat_minor": 5
}
