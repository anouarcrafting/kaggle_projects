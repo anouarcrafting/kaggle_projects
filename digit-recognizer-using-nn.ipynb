{
 "cells": [
  {
   "cell_type": "code",
   "execution_count": 1,
   "id": "a96afec3",
   "metadata": {
    "_cell_guid": "b1076dfc-b9ad-4769-8c92-a6c4dae69d19",
    "_uuid": "8f2839f25d086af736a60e9eeb907d3b93b6e0e5",
    "execution": {
     "iopub.execute_input": "2024-01-18T21:57:46.820093Z",
     "iopub.status.busy": "2024-01-18T21:57:46.819474Z",
     "iopub.status.idle": "2024-01-18T21:57:50.499674Z",
     "shell.execute_reply": "2024-01-18T21:57:50.498676Z"
    },
    "papermill": {
     "duration": 3.695572,
     "end_time": "2024-01-18T21:57:50.502108",
     "exception": false,
     "start_time": "2024-01-18T21:57:46.806536",
     "status": "completed"
    },
    "tags": []
   },
   "outputs": [],
   "source": [
    "import numpy as np # linear algebra\n",
    "import pandas as pd # data processing, CSV file I/O (e.g. pd.read_csv)\n",
    "import torch.nn as nn\n",
    "import torch\n",
    "import matplotlib.pyplot as plt"
   ]
  },
  {
   "cell_type": "code",
   "execution_count": 2,
   "id": "76f4c4f6",
   "metadata": {
    "execution": {
     "iopub.execute_input": "2024-01-18T21:57:50.521719Z",
     "iopub.status.busy": "2024-01-18T21:57:50.521075Z",
     "iopub.status.idle": "2024-01-18T21:57:52.947823Z",
     "shell.execute_reply": "2024-01-18T21:57:52.946627Z"
    },
    "papermill": {
     "duration": 2.438917,
     "end_time": "2024-01-18T21:57:52.950157",
     "exception": false,
     "start_time": "2024-01-18T21:57:50.511240",
     "status": "completed"
    },
    "tags": []
   },
   "outputs": [
    {
     "data": {
      "text/html": [
       "<div>\n",
       "<style scoped>\n",
       "    .dataframe tbody tr th:only-of-type {\n",
       "        vertical-align: middle;\n",
       "    }\n",
       "\n",
       "    .dataframe tbody tr th {\n",
       "        vertical-align: top;\n",
       "    }\n",
       "\n",
       "    .dataframe thead th {\n",
       "        text-align: right;\n",
       "    }\n",
       "</style>\n",
       "<table border=\"1\" class=\"dataframe\">\n",
       "  <thead>\n",
       "    <tr style=\"text-align: right;\">\n",
       "      <th></th>\n",
       "      <th>label</th>\n",
       "      <th>pixel0</th>\n",
       "      <th>pixel1</th>\n",
       "      <th>pixel2</th>\n",
       "      <th>pixel3</th>\n",
       "      <th>pixel4</th>\n",
       "      <th>pixel5</th>\n",
       "      <th>pixel6</th>\n",
       "      <th>pixel7</th>\n",
       "      <th>pixel8</th>\n",
       "      <th>...</th>\n",
       "      <th>pixel774</th>\n",
       "      <th>pixel775</th>\n",
       "      <th>pixel776</th>\n",
       "      <th>pixel777</th>\n",
       "      <th>pixel778</th>\n",
       "      <th>pixel779</th>\n",
       "      <th>pixel780</th>\n",
       "      <th>pixel781</th>\n",
       "      <th>pixel782</th>\n",
       "      <th>pixel783</th>\n",
       "    </tr>\n",
       "  </thead>\n",
       "  <tbody>\n",
       "    <tr>\n",
       "      <th>0</th>\n",
       "      <td>1</td>\n",
       "      <td>0</td>\n",
       "      <td>0</td>\n",
       "      <td>0</td>\n",
       "      <td>0</td>\n",
       "      <td>0</td>\n",
       "      <td>0</td>\n",
       "      <td>0</td>\n",
       "      <td>0</td>\n",
       "      <td>0</td>\n",
       "      <td>...</td>\n",
       "      <td>0</td>\n",
       "      <td>0</td>\n",
       "      <td>0</td>\n",
       "      <td>0</td>\n",
       "      <td>0</td>\n",
       "      <td>0</td>\n",
       "      <td>0</td>\n",
       "      <td>0</td>\n",
       "      <td>0</td>\n",
       "      <td>0</td>\n",
       "    </tr>\n",
       "    <tr>\n",
       "      <th>1</th>\n",
       "      <td>0</td>\n",
       "      <td>0</td>\n",
       "      <td>0</td>\n",
       "      <td>0</td>\n",
       "      <td>0</td>\n",
       "      <td>0</td>\n",
       "      <td>0</td>\n",
       "      <td>0</td>\n",
       "      <td>0</td>\n",
       "      <td>0</td>\n",
       "      <td>...</td>\n",
       "      <td>0</td>\n",
       "      <td>0</td>\n",
       "      <td>0</td>\n",
       "      <td>0</td>\n",
       "      <td>0</td>\n",
       "      <td>0</td>\n",
       "      <td>0</td>\n",
       "      <td>0</td>\n",
       "      <td>0</td>\n",
       "      <td>0</td>\n",
       "    </tr>\n",
       "    <tr>\n",
       "      <th>2</th>\n",
       "      <td>1</td>\n",
       "      <td>0</td>\n",
       "      <td>0</td>\n",
       "      <td>0</td>\n",
       "      <td>0</td>\n",
       "      <td>0</td>\n",
       "      <td>0</td>\n",
       "      <td>0</td>\n",
       "      <td>0</td>\n",
       "      <td>0</td>\n",
       "      <td>...</td>\n",
       "      <td>0</td>\n",
       "      <td>0</td>\n",
       "      <td>0</td>\n",
       "      <td>0</td>\n",
       "      <td>0</td>\n",
       "      <td>0</td>\n",
       "      <td>0</td>\n",
       "      <td>0</td>\n",
       "      <td>0</td>\n",
       "      <td>0</td>\n",
       "    </tr>\n",
       "    <tr>\n",
       "      <th>3</th>\n",
       "      <td>4</td>\n",
       "      <td>0</td>\n",
       "      <td>0</td>\n",
       "      <td>0</td>\n",
       "      <td>0</td>\n",
       "      <td>0</td>\n",
       "      <td>0</td>\n",
       "      <td>0</td>\n",
       "      <td>0</td>\n",
       "      <td>0</td>\n",
       "      <td>...</td>\n",
       "      <td>0</td>\n",
       "      <td>0</td>\n",
       "      <td>0</td>\n",
       "      <td>0</td>\n",
       "      <td>0</td>\n",
       "      <td>0</td>\n",
       "      <td>0</td>\n",
       "      <td>0</td>\n",
       "      <td>0</td>\n",
       "      <td>0</td>\n",
       "    </tr>\n",
       "    <tr>\n",
       "      <th>4</th>\n",
       "      <td>0</td>\n",
       "      <td>0</td>\n",
       "      <td>0</td>\n",
       "      <td>0</td>\n",
       "      <td>0</td>\n",
       "      <td>0</td>\n",
       "      <td>0</td>\n",
       "      <td>0</td>\n",
       "      <td>0</td>\n",
       "      <td>0</td>\n",
       "      <td>...</td>\n",
       "      <td>0</td>\n",
       "      <td>0</td>\n",
       "      <td>0</td>\n",
       "      <td>0</td>\n",
       "      <td>0</td>\n",
       "      <td>0</td>\n",
       "      <td>0</td>\n",
       "      <td>0</td>\n",
       "      <td>0</td>\n",
       "      <td>0</td>\n",
       "    </tr>\n",
       "    <tr>\n",
       "      <th>...</th>\n",
       "      <td>...</td>\n",
       "      <td>...</td>\n",
       "      <td>...</td>\n",
       "      <td>...</td>\n",
       "      <td>...</td>\n",
       "      <td>...</td>\n",
       "      <td>...</td>\n",
       "      <td>...</td>\n",
       "      <td>...</td>\n",
       "      <td>...</td>\n",
       "      <td>...</td>\n",
       "      <td>...</td>\n",
       "      <td>...</td>\n",
       "      <td>...</td>\n",
       "      <td>...</td>\n",
       "      <td>...</td>\n",
       "      <td>...</td>\n",
       "      <td>...</td>\n",
       "      <td>...</td>\n",
       "      <td>...</td>\n",
       "      <td>...</td>\n",
       "    </tr>\n",
       "    <tr>\n",
       "      <th>41995</th>\n",
       "      <td>0</td>\n",
       "      <td>0</td>\n",
       "      <td>0</td>\n",
       "      <td>0</td>\n",
       "      <td>0</td>\n",
       "      <td>0</td>\n",
       "      <td>0</td>\n",
       "      <td>0</td>\n",
       "      <td>0</td>\n",
       "      <td>0</td>\n",
       "      <td>...</td>\n",
       "      <td>0</td>\n",
       "      <td>0</td>\n",
       "      <td>0</td>\n",
       "      <td>0</td>\n",
       "      <td>0</td>\n",
       "      <td>0</td>\n",
       "      <td>0</td>\n",
       "      <td>0</td>\n",
       "      <td>0</td>\n",
       "      <td>0</td>\n",
       "    </tr>\n",
       "    <tr>\n",
       "      <th>41996</th>\n",
       "      <td>1</td>\n",
       "      <td>0</td>\n",
       "      <td>0</td>\n",
       "      <td>0</td>\n",
       "      <td>0</td>\n",
       "      <td>0</td>\n",
       "      <td>0</td>\n",
       "      <td>0</td>\n",
       "      <td>0</td>\n",
       "      <td>0</td>\n",
       "      <td>...</td>\n",
       "      <td>0</td>\n",
       "      <td>0</td>\n",
       "      <td>0</td>\n",
       "      <td>0</td>\n",
       "      <td>0</td>\n",
       "      <td>0</td>\n",
       "      <td>0</td>\n",
       "      <td>0</td>\n",
       "      <td>0</td>\n",
       "      <td>0</td>\n",
       "    </tr>\n",
       "    <tr>\n",
       "      <th>41997</th>\n",
       "      <td>7</td>\n",
       "      <td>0</td>\n",
       "      <td>0</td>\n",
       "      <td>0</td>\n",
       "      <td>0</td>\n",
       "      <td>0</td>\n",
       "      <td>0</td>\n",
       "      <td>0</td>\n",
       "      <td>0</td>\n",
       "      <td>0</td>\n",
       "      <td>...</td>\n",
       "      <td>0</td>\n",
       "      <td>0</td>\n",
       "      <td>0</td>\n",
       "      <td>0</td>\n",
       "      <td>0</td>\n",
       "      <td>0</td>\n",
       "      <td>0</td>\n",
       "      <td>0</td>\n",
       "      <td>0</td>\n",
       "      <td>0</td>\n",
       "    </tr>\n",
       "    <tr>\n",
       "      <th>41998</th>\n",
       "      <td>6</td>\n",
       "      <td>0</td>\n",
       "      <td>0</td>\n",
       "      <td>0</td>\n",
       "      <td>0</td>\n",
       "      <td>0</td>\n",
       "      <td>0</td>\n",
       "      <td>0</td>\n",
       "      <td>0</td>\n",
       "      <td>0</td>\n",
       "      <td>...</td>\n",
       "      <td>0</td>\n",
       "      <td>0</td>\n",
       "      <td>0</td>\n",
       "      <td>0</td>\n",
       "      <td>0</td>\n",
       "      <td>0</td>\n",
       "      <td>0</td>\n",
       "      <td>0</td>\n",
       "      <td>0</td>\n",
       "      <td>0</td>\n",
       "    </tr>\n",
       "    <tr>\n",
       "      <th>41999</th>\n",
       "      <td>9</td>\n",
       "      <td>0</td>\n",
       "      <td>0</td>\n",
       "      <td>0</td>\n",
       "      <td>0</td>\n",
       "      <td>0</td>\n",
       "      <td>0</td>\n",
       "      <td>0</td>\n",
       "      <td>0</td>\n",
       "      <td>0</td>\n",
       "      <td>...</td>\n",
       "      <td>0</td>\n",
       "      <td>0</td>\n",
       "      <td>0</td>\n",
       "      <td>0</td>\n",
       "      <td>0</td>\n",
       "      <td>0</td>\n",
       "      <td>0</td>\n",
       "      <td>0</td>\n",
       "      <td>0</td>\n",
       "      <td>0</td>\n",
       "    </tr>\n",
       "  </tbody>\n",
       "</table>\n",
       "<p>42000 rows × 785 columns</p>\n",
       "</div>"
      ],
      "text/plain": [
       "       label  pixel0  pixel1  pixel2  pixel3  pixel4  pixel5  pixel6  pixel7  \\\n",
       "0          1       0       0       0       0       0       0       0       0   \n",
       "1          0       0       0       0       0       0       0       0       0   \n",
       "2          1       0       0       0       0       0       0       0       0   \n",
       "3          4       0       0       0       0       0       0       0       0   \n",
       "4          0       0       0       0       0       0       0       0       0   \n",
       "...      ...     ...     ...     ...     ...     ...     ...     ...     ...   \n",
       "41995      0       0       0       0       0       0       0       0       0   \n",
       "41996      1       0       0       0       0       0       0       0       0   \n",
       "41997      7       0       0       0       0       0       0       0       0   \n",
       "41998      6       0       0       0       0       0       0       0       0   \n",
       "41999      9       0       0       0       0       0       0       0       0   \n",
       "\n",
       "       pixel8  ...  pixel774  pixel775  pixel776  pixel777  pixel778  \\\n",
       "0           0  ...         0         0         0         0         0   \n",
       "1           0  ...         0         0         0         0         0   \n",
       "2           0  ...         0         0         0         0         0   \n",
       "3           0  ...         0         0         0         0         0   \n",
       "4           0  ...         0         0         0         0         0   \n",
       "...       ...  ...       ...       ...       ...       ...       ...   \n",
       "41995       0  ...         0         0         0         0         0   \n",
       "41996       0  ...         0         0         0         0         0   \n",
       "41997       0  ...         0         0         0         0         0   \n",
       "41998       0  ...         0         0         0         0         0   \n",
       "41999       0  ...         0         0         0         0         0   \n",
       "\n",
       "       pixel779  pixel780  pixel781  pixel782  pixel783  \n",
       "0             0         0         0         0         0  \n",
       "1             0         0         0         0         0  \n",
       "2             0         0         0         0         0  \n",
       "3             0         0         0         0         0  \n",
       "4             0         0         0         0         0  \n",
       "...         ...       ...       ...       ...       ...  \n",
       "41995         0         0         0         0         0  \n",
       "41996         0         0         0         0         0  \n",
       "41997         0         0         0         0         0  \n",
       "41998         0         0         0         0         0  \n",
       "41999         0         0         0         0         0  \n",
       "\n",
       "[42000 rows x 785 columns]"
      ]
     },
     "execution_count": 2,
     "metadata": {},
     "output_type": "execute_result"
    }
   ],
   "source": [
    "path='/kaggle/input/digit-recognizer/train.csv'\n",
    "trainset=pd.read_csv(path)\n",
    "trainset"
   ]
  },
  {
   "cell_type": "code",
   "execution_count": 3,
   "id": "a0465a0b",
   "metadata": {
    "execution": {
     "iopub.execute_input": "2024-01-18T21:57:52.971421Z",
     "iopub.status.busy": "2024-01-18T21:57:52.971053Z",
     "iopub.status.idle": "2024-01-18T21:57:52.975456Z",
     "shell.execute_reply": "2024-01-18T21:57:52.974771Z"
    },
    "papermill": {
     "duration": 0.017382,
     "end_time": "2024-01-18T21:57:52.977174",
     "exception": false,
     "start_time": "2024-01-18T21:57:52.959792",
     "status": "completed"
    },
    "tags": []
   },
   "outputs": [],
   "source": [
    "from torch.utils.data import DataLoader"
   ]
  },
  {
   "cell_type": "code",
   "execution_count": 4,
   "id": "b53c6b42",
   "metadata": {
    "execution": {
     "iopub.execute_input": "2024-01-18T21:57:52.997858Z",
     "iopub.status.busy": "2024-01-18T21:57:52.997205Z",
     "iopub.status.idle": "2024-01-18T21:57:53.057679Z",
     "shell.execute_reply": "2024-01-18T21:57:53.056589Z"
    },
    "papermill": {
     "duration": 0.073541,
     "end_time": "2024-01-18T21:57:53.060183",
     "exception": false,
     "start_time": "2024-01-18T21:57:52.986642",
     "status": "completed"
    },
    "tags": []
   },
   "outputs": [
    {
     "data": {
      "text/html": [
       "<div>\n",
       "<style scoped>\n",
       "    .dataframe tbody tr th:only-of-type {\n",
       "        vertical-align: middle;\n",
       "    }\n",
       "\n",
       "    .dataframe tbody tr th {\n",
       "        vertical-align: top;\n",
       "    }\n",
       "\n",
       "    .dataframe thead th {\n",
       "        text-align: right;\n",
       "    }\n",
       "</style>\n",
       "<table border=\"1\" class=\"dataframe\">\n",
       "  <thead>\n",
       "    <tr style=\"text-align: right;\">\n",
       "      <th></th>\n",
       "      <th>pixel0</th>\n",
       "      <th>pixel1</th>\n",
       "      <th>pixel2</th>\n",
       "      <th>pixel3</th>\n",
       "      <th>pixel4</th>\n",
       "      <th>pixel5</th>\n",
       "      <th>pixel6</th>\n",
       "      <th>pixel7</th>\n",
       "      <th>pixel8</th>\n",
       "      <th>pixel9</th>\n",
       "      <th>...</th>\n",
       "      <th>pixel774</th>\n",
       "      <th>pixel775</th>\n",
       "      <th>pixel776</th>\n",
       "      <th>pixel777</th>\n",
       "      <th>pixel778</th>\n",
       "      <th>pixel779</th>\n",
       "      <th>pixel780</th>\n",
       "      <th>pixel781</th>\n",
       "      <th>pixel782</th>\n",
       "      <th>pixel783</th>\n",
       "    </tr>\n",
       "  </thead>\n",
       "  <tbody>\n",
       "    <tr>\n",
       "      <th>0</th>\n",
       "      <td>0</td>\n",
       "      <td>0</td>\n",
       "      <td>0</td>\n",
       "      <td>0</td>\n",
       "      <td>0</td>\n",
       "      <td>0</td>\n",
       "      <td>0</td>\n",
       "      <td>0</td>\n",
       "      <td>0</td>\n",
       "      <td>0</td>\n",
       "      <td>...</td>\n",
       "      <td>0</td>\n",
       "      <td>0</td>\n",
       "      <td>0</td>\n",
       "      <td>0</td>\n",
       "      <td>0</td>\n",
       "      <td>0</td>\n",
       "      <td>0</td>\n",
       "      <td>0</td>\n",
       "      <td>0</td>\n",
       "      <td>0</td>\n",
       "    </tr>\n",
       "    <tr>\n",
       "      <th>1</th>\n",
       "      <td>0</td>\n",
       "      <td>0</td>\n",
       "      <td>0</td>\n",
       "      <td>0</td>\n",
       "      <td>0</td>\n",
       "      <td>0</td>\n",
       "      <td>0</td>\n",
       "      <td>0</td>\n",
       "      <td>0</td>\n",
       "      <td>0</td>\n",
       "      <td>...</td>\n",
       "      <td>0</td>\n",
       "      <td>0</td>\n",
       "      <td>0</td>\n",
       "      <td>0</td>\n",
       "      <td>0</td>\n",
       "      <td>0</td>\n",
       "      <td>0</td>\n",
       "      <td>0</td>\n",
       "      <td>0</td>\n",
       "      <td>0</td>\n",
       "    </tr>\n",
       "    <tr>\n",
       "      <th>2</th>\n",
       "      <td>0</td>\n",
       "      <td>0</td>\n",
       "      <td>0</td>\n",
       "      <td>0</td>\n",
       "      <td>0</td>\n",
       "      <td>0</td>\n",
       "      <td>0</td>\n",
       "      <td>0</td>\n",
       "      <td>0</td>\n",
       "      <td>0</td>\n",
       "      <td>...</td>\n",
       "      <td>0</td>\n",
       "      <td>0</td>\n",
       "      <td>0</td>\n",
       "      <td>0</td>\n",
       "      <td>0</td>\n",
       "      <td>0</td>\n",
       "      <td>0</td>\n",
       "      <td>0</td>\n",
       "      <td>0</td>\n",
       "      <td>0</td>\n",
       "    </tr>\n",
       "    <tr>\n",
       "      <th>3</th>\n",
       "      <td>0</td>\n",
       "      <td>0</td>\n",
       "      <td>0</td>\n",
       "      <td>0</td>\n",
       "      <td>0</td>\n",
       "      <td>0</td>\n",
       "      <td>0</td>\n",
       "      <td>0</td>\n",
       "      <td>0</td>\n",
       "      <td>0</td>\n",
       "      <td>...</td>\n",
       "      <td>0</td>\n",
       "      <td>0</td>\n",
       "      <td>0</td>\n",
       "      <td>0</td>\n",
       "      <td>0</td>\n",
       "      <td>0</td>\n",
       "      <td>0</td>\n",
       "      <td>0</td>\n",
       "      <td>0</td>\n",
       "      <td>0</td>\n",
       "    </tr>\n",
       "    <tr>\n",
       "      <th>4</th>\n",
       "      <td>0</td>\n",
       "      <td>0</td>\n",
       "      <td>0</td>\n",
       "      <td>0</td>\n",
       "      <td>0</td>\n",
       "      <td>0</td>\n",
       "      <td>0</td>\n",
       "      <td>0</td>\n",
       "      <td>0</td>\n",
       "      <td>0</td>\n",
       "      <td>...</td>\n",
       "      <td>0</td>\n",
       "      <td>0</td>\n",
       "      <td>0</td>\n",
       "      <td>0</td>\n",
       "      <td>0</td>\n",
       "      <td>0</td>\n",
       "      <td>0</td>\n",
       "      <td>0</td>\n",
       "      <td>0</td>\n",
       "      <td>0</td>\n",
       "    </tr>\n",
       "    <tr>\n",
       "      <th>...</th>\n",
       "      <td>...</td>\n",
       "      <td>...</td>\n",
       "      <td>...</td>\n",
       "      <td>...</td>\n",
       "      <td>...</td>\n",
       "      <td>...</td>\n",
       "      <td>...</td>\n",
       "      <td>...</td>\n",
       "      <td>...</td>\n",
       "      <td>...</td>\n",
       "      <td>...</td>\n",
       "      <td>...</td>\n",
       "      <td>...</td>\n",
       "      <td>...</td>\n",
       "      <td>...</td>\n",
       "      <td>...</td>\n",
       "      <td>...</td>\n",
       "      <td>...</td>\n",
       "      <td>...</td>\n",
       "      <td>...</td>\n",
       "      <td>...</td>\n",
       "    </tr>\n",
       "    <tr>\n",
       "      <th>41995</th>\n",
       "      <td>0</td>\n",
       "      <td>0</td>\n",
       "      <td>0</td>\n",
       "      <td>0</td>\n",
       "      <td>0</td>\n",
       "      <td>0</td>\n",
       "      <td>0</td>\n",
       "      <td>0</td>\n",
       "      <td>0</td>\n",
       "      <td>0</td>\n",
       "      <td>...</td>\n",
       "      <td>0</td>\n",
       "      <td>0</td>\n",
       "      <td>0</td>\n",
       "      <td>0</td>\n",
       "      <td>0</td>\n",
       "      <td>0</td>\n",
       "      <td>0</td>\n",
       "      <td>0</td>\n",
       "      <td>0</td>\n",
       "      <td>0</td>\n",
       "    </tr>\n",
       "    <tr>\n",
       "      <th>41996</th>\n",
       "      <td>0</td>\n",
       "      <td>0</td>\n",
       "      <td>0</td>\n",
       "      <td>0</td>\n",
       "      <td>0</td>\n",
       "      <td>0</td>\n",
       "      <td>0</td>\n",
       "      <td>0</td>\n",
       "      <td>0</td>\n",
       "      <td>0</td>\n",
       "      <td>...</td>\n",
       "      <td>0</td>\n",
       "      <td>0</td>\n",
       "      <td>0</td>\n",
       "      <td>0</td>\n",
       "      <td>0</td>\n",
       "      <td>0</td>\n",
       "      <td>0</td>\n",
       "      <td>0</td>\n",
       "      <td>0</td>\n",
       "      <td>0</td>\n",
       "    </tr>\n",
       "    <tr>\n",
       "      <th>41997</th>\n",
       "      <td>0</td>\n",
       "      <td>0</td>\n",
       "      <td>0</td>\n",
       "      <td>0</td>\n",
       "      <td>0</td>\n",
       "      <td>0</td>\n",
       "      <td>0</td>\n",
       "      <td>0</td>\n",
       "      <td>0</td>\n",
       "      <td>0</td>\n",
       "      <td>...</td>\n",
       "      <td>0</td>\n",
       "      <td>0</td>\n",
       "      <td>0</td>\n",
       "      <td>0</td>\n",
       "      <td>0</td>\n",
       "      <td>0</td>\n",
       "      <td>0</td>\n",
       "      <td>0</td>\n",
       "      <td>0</td>\n",
       "      <td>0</td>\n",
       "    </tr>\n",
       "    <tr>\n",
       "      <th>41998</th>\n",
       "      <td>0</td>\n",
       "      <td>0</td>\n",
       "      <td>0</td>\n",
       "      <td>0</td>\n",
       "      <td>0</td>\n",
       "      <td>0</td>\n",
       "      <td>0</td>\n",
       "      <td>0</td>\n",
       "      <td>0</td>\n",
       "      <td>0</td>\n",
       "      <td>...</td>\n",
       "      <td>0</td>\n",
       "      <td>0</td>\n",
       "      <td>0</td>\n",
       "      <td>0</td>\n",
       "      <td>0</td>\n",
       "      <td>0</td>\n",
       "      <td>0</td>\n",
       "      <td>0</td>\n",
       "      <td>0</td>\n",
       "      <td>0</td>\n",
       "    </tr>\n",
       "    <tr>\n",
       "      <th>41999</th>\n",
       "      <td>0</td>\n",
       "      <td>0</td>\n",
       "      <td>0</td>\n",
       "      <td>0</td>\n",
       "      <td>0</td>\n",
       "      <td>0</td>\n",
       "      <td>0</td>\n",
       "      <td>0</td>\n",
       "      <td>0</td>\n",
       "      <td>0</td>\n",
       "      <td>...</td>\n",
       "      <td>0</td>\n",
       "      <td>0</td>\n",
       "      <td>0</td>\n",
       "      <td>0</td>\n",
       "      <td>0</td>\n",
       "      <td>0</td>\n",
       "      <td>0</td>\n",
       "      <td>0</td>\n",
       "      <td>0</td>\n",
       "      <td>0</td>\n",
       "    </tr>\n",
       "  </tbody>\n",
       "</table>\n",
       "<p>42000 rows × 784 columns</p>\n",
       "</div>"
      ],
      "text/plain": [
       "       pixel0  pixel1  pixel2  pixel3  pixel4  pixel5  pixel6  pixel7  pixel8  \\\n",
       "0           0       0       0       0       0       0       0       0       0   \n",
       "1           0       0       0       0       0       0       0       0       0   \n",
       "2           0       0       0       0       0       0       0       0       0   \n",
       "3           0       0       0       0       0       0       0       0       0   \n",
       "4           0       0       0       0       0       0       0       0       0   \n",
       "...       ...     ...     ...     ...     ...     ...     ...     ...     ...   \n",
       "41995       0       0       0       0       0       0       0       0       0   \n",
       "41996       0       0       0       0       0       0       0       0       0   \n",
       "41997       0       0       0       0       0       0       0       0       0   \n",
       "41998       0       0       0       0       0       0       0       0       0   \n",
       "41999       0       0       0       0       0       0       0       0       0   \n",
       "\n",
       "       pixel9  ...  pixel774  pixel775  pixel776  pixel777  pixel778  \\\n",
       "0           0  ...         0         0         0         0         0   \n",
       "1           0  ...         0         0         0         0         0   \n",
       "2           0  ...         0         0         0         0         0   \n",
       "3           0  ...         0         0         0         0         0   \n",
       "4           0  ...         0         0         0         0         0   \n",
       "...       ...  ...       ...       ...       ...       ...       ...   \n",
       "41995       0  ...         0         0         0         0         0   \n",
       "41996       0  ...         0         0         0         0         0   \n",
       "41997       0  ...         0         0         0         0         0   \n",
       "41998       0  ...         0         0         0         0         0   \n",
       "41999       0  ...         0         0         0         0         0   \n",
       "\n",
       "       pixel779  pixel780  pixel781  pixel782  pixel783  \n",
       "0             0         0         0         0         0  \n",
       "1             0         0         0         0         0  \n",
       "2             0         0         0         0         0  \n",
       "3             0         0         0         0         0  \n",
       "4             0         0         0         0         0  \n",
       "...         ...       ...       ...       ...       ...  \n",
       "41995         0         0         0         0         0  \n",
       "41996         0         0         0         0         0  \n",
       "41997         0         0         0         0         0  \n",
       "41998         0         0         0         0         0  \n",
       "41999         0         0         0         0         0  \n",
       "\n",
       "[42000 rows x 784 columns]"
      ]
     },
     "execution_count": 4,
     "metadata": {},
     "output_type": "execute_result"
    }
   ],
   "source": [
    "trainset.drop('label',axis=1)"
   ]
  },
  {
   "cell_type": "markdown",
   "id": "619bbba8",
   "metadata": {
    "execution": {
     "iopub.execute_input": "2023-11-25T00:42:55.915189Z",
     "iopub.status.busy": "2023-11-25T00:42:55.914797Z",
     "iopub.status.idle": "2023-11-25T00:42:55.919273Z",
     "shell.execute_reply": "2023-11-25T00:42:55.918322Z",
     "shell.execute_reply.started": "2023-11-25T00:42:55.915165Z"
    },
    "papermill": {
     "duration": 0.009091,
     "end_time": "2024-01-18T21:57:53.079138",
     "exception": false,
     "start_time": "2024-01-18T21:57:53.070047",
     "status": "completed"
    },
    "tags": []
   },
   "source": [
    "__*sample data*__"
   ]
  },
  {
   "cell_type": "code",
   "execution_count": 5,
   "id": "2fa2856f",
   "metadata": {
    "execution": {
     "iopub.execute_input": "2024-01-18T21:57:53.103568Z",
     "iopub.status.busy": "2024-01-18T21:57:53.102255Z",
     "iopub.status.idle": "2024-01-18T21:57:53.148477Z",
     "shell.execute_reply": "2024-01-18T21:57:53.147509Z"
    },
    "papermill": {
     "duration": 0.061173,
     "end_time": "2024-01-18T21:57:53.151221",
     "exception": false,
     "start_time": "2024-01-18T21:57:53.090048",
     "status": "completed"
    },
    "tags": []
   },
   "outputs": [],
   "source": [
    "sample=np.array(trainset.drop('label',axis=1).iloc[6])\n",
    "sample=sample.reshape((28,-1))"
   ]
  },
  {
   "cell_type": "code",
   "execution_count": 6,
   "id": "203bb8cd",
   "metadata": {
    "execution": {
     "iopub.execute_input": "2024-01-18T21:57:53.175246Z",
     "iopub.status.busy": "2024-01-18T21:57:53.174952Z",
     "iopub.status.idle": "2024-01-18T21:57:53.360357Z",
     "shell.execute_reply": "2024-01-18T21:57:53.359226Z"
    },
    "papermill": {
     "duration": 0.197772,
     "end_time": "2024-01-18T21:57:53.362254",
     "exception": false,
     "start_time": "2024-01-18T21:57:53.164482",
     "status": "completed"
    },
    "tags": []
   },
   "outputs": [
    {
     "data": {
      "image/png": "[encoded data removed]",
      "text/plain": [
       "<Figure size 640x480 with 1 Axes>"
      ]
     },
     "metadata": {},
     "output_type": "display_data"
    }
   ],
   "source": [
    "plt.imshow(sample)\n",
    "plt.show()"
   ]
  },
  {
   "cell_type": "markdown",
   "id": "ab3c95e9",
   "metadata": {
    "papermill": {
     "duration": 0.00941,
     "end_time": "2024-01-18T21:57:53.381506",
     "exception": false,
     "start_time": "2024-01-18T21:57:53.372096",
     "status": "completed"
    },
    "tags": []
   },
   "source": [
    "## 1-Data"
   ]
  },
  {
   "cell_type": "code",
   "execution_count": 7,
   "id": "c4d6b505",
   "metadata": {
    "execution": {
     "iopub.execute_input": "2024-01-18T21:57:53.405052Z",
     "iopub.status.busy": "2024-01-18T21:57:53.404681Z",
     "iopub.status.idle": "2024-01-18T21:57:53.449141Z",
     "shell.execute_reply": "2024-01-18T21:57:53.447812Z"
    },
    "papermill": {
     "duration": 0.060712,
     "end_time": "2024-01-18T21:57:53.451678",
     "exception": false,
     "start_time": "2024-01-18T21:57:53.390966",
     "status": "completed"
    },
    "tags": []
   },
   "outputs": [],
   "source": [
    "dt=trainset.copy()"
   ]
  },
  {
   "cell_type": "markdown",
   "id": "475421c4",
   "metadata": {
    "papermill": {
     "duration": 0.009467,
     "end_time": "2024-01-18T21:57:53.471101",
     "exception": false,
     "start_time": "2024-01-18T21:57:53.461634",
     "status": "completed"
    },
    "tags": []
   },
   "source": [
    "__*removing outliers*__"
   ]
  },
  {
   "cell_type": "code",
   "execution_count": 8,
   "id": "bf08895e",
   "metadata": {
    "execution": {
     "iopub.execute_input": "2024-01-18T21:57:53.491733Z",
     "iopub.status.busy": "2024-01-18T21:57:53.490674Z",
     "iopub.status.idle": "2024-01-18T21:58:50.310067Z",
     "shell.execute_reply": "2024-01-18T21:58:50.308996Z"
    },
    "papermill": {
     "duration": 56.832016,
     "end_time": "2024-01-18T21:58:50.312291",
     "exception": false,
     "start_time": "2024-01-18T21:57:53.480275",
     "status": "completed"
    },
    "tags": []
   },
   "outputs": [],
   "source": [
    "from sklearn.neighbors import LocalOutlierFactor\n",
    "\n",
    "lof = LocalOutlierFactor(contamination=0.05)\n",
    "outliers = (lof.fit_predict(dt) == -1)"
   ]
  },
  {
   "cell_type": "code",
   "execution_count": 9,
   "id": "97772902",
   "metadata": {
    "execution": {
     "iopub.execute_input": "2024-01-18T21:58:50.332354Z",
     "iopub.status.busy": "2024-01-18T21:58:50.332040Z",
     "iopub.status.idle": "2024-01-18T21:58:50.379484Z",
     "shell.execute_reply": "2024-01-18T21:58:50.378424Z"
    },
    "papermill": {
     "duration": 0.059797,
     "end_time": "2024-01-18T21:58:50.381619",
     "exception": false,
     "start_time": "2024-01-18T21:58:50.321822",
     "status": "completed"
    },
    "tags": []
   },
   "outputs": [],
   "source": [
    "indices=[]\n",
    "for i in range(len(outliers)):\n",
    "    if outliers[i]==True:\n",
    "        indices.append(i)"
   ]
  },
  {
   "cell_type": "code",
   "execution_count": 10,
   "id": "be3107a7",
   "metadata": {
    "execution": {
     "iopub.execute_input": "2024-01-18T21:58:50.445990Z",
     "iopub.status.busy": "2024-01-18T21:58:50.445565Z",
     "iopub.status.idle": "2024-01-18T21:58:50.495508Z",
     "shell.execute_reply": "2024-01-18T21:58:50.494621Z"
    },
    "papermill": {
     "duration": 0.062828,
     "end_time": "2024-01-18T21:58:50.497520",
     "exception": false,
     "start_time": "2024-01-18T21:58:50.434692",
     "status": "completed"
    },
    "tags": []
   },
   "outputs": [],
   "source": [
    "dt=dt.drop(indices)"
   ]
  },
  {
   "cell_type": "code",
   "execution_count": 11,
   "id": "704413b7",
   "metadata": {
    "execution": {
     "iopub.execute_input": "2024-01-18T21:58:50.518455Z",
     "iopub.status.busy": "2024-01-18T21:58:50.518122Z",
     "iopub.status.idle": "2024-01-18T21:58:50.536432Z",
     "shell.execute_reply": "2024-01-18T21:58:50.535309Z"
    },
    "papermill": {
     "duration": 0.031108,
     "end_time": "2024-01-18T21:58:50.538348",
     "exception": false,
     "start_time": "2024-01-18T21:58:50.507240",
     "status": "completed"
    },
    "tags": []
   },
   "outputs": [
    {
     "data": {
      "text/html": [
       "<div>\n",
       "<style scoped>\n",
       "    .dataframe tbody tr th:only-of-type {\n",
       "        vertical-align: middle;\n",
       "    }\n",
       "\n",
       "    .dataframe tbody tr th {\n",
       "        vertical-align: top;\n",
       "    }\n",
       "\n",
       "    .dataframe thead th {\n",
       "        text-align: right;\n",
       "    }\n",
       "</style>\n",
       "<table border=\"1\" class=\"dataframe\">\n",
       "  <thead>\n",
       "    <tr style=\"text-align: right;\">\n",
       "      <th></th>\n",
       "      <th>label</th>\n",
       "      <th>pixel0</th>\n",
       "      <th>pixel1</th>\n",
       "      <th>pixel2</th>\n",
       "      <th>pixel3</th>\n",
       "      <th>pixel4</th>\n",
       "      <th>pixel5</th>\n",
       "      <th>pixel6</th>\n",
       "      <th>pixel7</th>\n",
       "      <th>pixel8</th>\n",
       "      <th>...</th>\n",
       "      <th>pixel774</th>\n",
       "      <th>pixel775</th>\n",
       "      <th>pixel776</th>\n",
       "      <th>pixel777</th>\n",
       "      <th>pixel778</th>\n",
       "      <th>pixel779</th>\n",
       "      <th>pixel780</th>\n",
       "      <th>pixel781</th>\n",
       "      <th>pixel782</th>\n",
       "      <th>pixel783</th>\n",
       "    </tr>\n",
       "  </thead>\n",
       "  <tbody>\n",
       "    <tr>\n",
       "      <th>0</th>\n",
       "      <td>1</td>\n",
       "      <td>0</td>\n",
       "      <td>0</td>\n",
       "      <td>0</td>\n",
       "      <td>0</td>\n",
       "      <td>0</td>\n",
       "      <td>0</td>\n",
       "      <td>0</td>\n",
       "      <td>0</td>\n",
       "      <td>0</td>\n",
       "      <td>...</td>\n",
       "      <td>0</td>\n",
       "      <td>0</td>\n",
       "      <td>0</td>\n",
       "      <td>0</td>\n",
       "      <td>0</td>\n",
       "      <td>0</td>\n",
       "      <td>0</td>\n",
       "      <td>0</td>\n",
       "      <td>0</td>\n",
       "      <td>0</td>\n",
       "    </tr>\n",
       "    <tr>\n",
       "      <th>1</th>\n",
       "      <td>0</td>\n",
       "      <td>0</td>\n",
       "      <td>0</td>\n",
       "      <td>0</td>\n",
       "      <td>0</td>\n",
       "      <td>0</td>\n",
       "      <td>0</td>\n",
       "      <td>0</td>\n",
       "      <td>0</td>\n",
       "      <td>0</td>\n",
       "      <td>...</td>\n",
       "      <td>0</td>\n",
       "      <td>0</td>\n",
       "      <td>0</td>\n",
       "      <td>0</td>\n",
       "      <td>0</td>\n",
       "      <td>0</td>\n",
       "      <td>0</td>\n",
       "      <td>0</td>\n",
       "      <td>0</td>\n",
       "      <td>0</td>\n",
       "    </tr>\n",
       "    <tr>\n",
       "      <th>2</th>\n",
       "      <td>1</td>\n",
       "      <td>0</td>\n",
       "      <td>0</td>\n",
       "      <td>0</td>\n",
       "      <td>0</td>\n",
       "      <td>0</td>\n",
       "      <td>0</td>\n",
       "      <td>0</td>\n",
       "      <td>0</td>\n",
       "      <td>0</td>\n",
       "      <td>...</td>\n",
       "      <td>0</td>\n",
       "      <td>0</td>\n",
       "      <td>0</td>\n",
       "      <td>0</td>\n",
       "      <td>0</td>\n",
       "      <td>0</td>\n",
       "      <td>0</td>\n",
       "      <td>0</td>\n",
       "      <td>0</td>\n",
       "      <td>0</td>\n",
       "    </tr>\n",
       "    <tr>\n",
       "      <th>3</th>\n",
       "      <td>4</td>\n",
       "      <td>0</td>\n",
       "      <td>0</td>\n",
       "      <td>0</td>\n",
       "      <td>0</td>\n",
       "      <td>0</td>\n",
       "      <td>0</td>\n",
       "      <td>0</td>\n",
       "      <td>0</td>\n",
       "      <td>0</td>\n",
       "      <td>...</td>\n",
       "      <td>0</td>\n",
       "      <td>0</td>\n",
       "      <td>0</td>\n",
       "      <td>0</td>\n",
       "      <td>0</td>\n",
       "      <td>0</td>\n",
       "      <td>0</td>\n",
       "      <td>0</td>\n",
       "      <td>0</td>\n",
       "      <td>0</td>\n",
       "    </tr>\n",
       "    <tr>\n",
       "      <th>4</th>\n",
       "      <td>0</td>\n",
       "      <td>0</td>\n",
       "      <td>0</td>\n",
       "      <td>0</td>\n",
       "      <td>0</td>\n",
       "      <td>0</td>\n",
       "      <td>0</td>\n",
       "      <td>0</td>\n",
       "      <td>0</td>\n",
       "      <td>0</td>\n",
       "      <td>...</td>\n",
       "      <td>0</td>\n",
       "      <td>0</td>\n",
       "      <td>0</td>\n",
       "      <td>0</td>\n",
       "      <td>0</td>\n",
       "      <td>0</td>\n",
       "      <td>0</td>\n",
       "      <td>0</td>\n",
       "      <td>0</td>\n",
       "      <td>0</td>\n",
       "    </tr>\n",
       "    <tr>\n",
       "      <th>...</th>\n",
       "      <td>...</td>\n",
       "      <td>...</td>\n",
       "      <td>...</td>\n",
       "      <td>...</td>\n",
       "      <td>...</td>\n",
       "      <td>...</td>\n",
       "      <td>...</td>\n",
       "      <td>...</td>\n",
       "      <td>...</td>\n",
       "      <td>...</td>\n",
       "      <td>...</td>\n",
       "      <td>...</td>\n",
       "      <td>...</td>\n",
       "      <td>...</td>\n",
       "      <td>...</td>\n",
       "      <td>...</td>\n",
       "      <td>...</td>\n",
       "      <td>...</td>\n",
       "      <td>...</td>\n",
       "      <td>...</td>\n",
       "      <td>...</td>\n",
       "    </tr>\n",
       "    <tr>\n",
       "      <th>41995</th>\n",
       "      <td>0</td>\n",
       "      <td>0</td>\n",
       "      <td>0</td>\n",
       "      <td>0</td>\n",
       "      <td>0</td>\n",
       "      <td>0</td>\n",
       "      <td>0</td>\n",
       "      <td>0</td>\n",
       "      <td>0</td>\n",
       "      <td>0</td>\n",
       "      <td>...</td>\n",
       "      <td>0</td>\n",
       "      <td>0</td>\n",
       "      <td>0</td>\n",
       "      <td>0</td>\n",
       "      <td>0</td>\n",
       "      <td>0</td>\n",
       "      <td>0</td>\n",
       "      <td>0</td>\n",
       "      <td>0</td>\n",
       "      <td>0</td>\n",
       "    </tr>\n",
       "    <tr>\n",
       "      <th>41996</th>\n",
       "      <td>1</td>\n",
       "      <td>0</td>\n",
       "      <td>0</td>\n",
       "      <td>0</td>\n",
       "      <td>0</td>\n",
       "      <td>0</td>\n",
       "      <td>0</td>\n",
       "      <td>0</td>\n",
       "      <td>0</td>\n",
       "      <td>0</td>\n",
       "      <td>...</td>\n",
       "      <td>0</td>\n",
       "      <td>0</td>\n",
       "      <td>0</td>\n",
       "      <td>0</td>\n",
       "      <td>0</td>\n",
       "      <td>0</td>\n",
       "      <td>0</td>\n",
       "      <td>0</td>\n",
       "      <td>0</td>\n",
       "      <td>0</td>\n",
       "    </tr>\n",
       "    <tr>\n",
       "      <th>41997</th>\n",
       "      <td>7</td>\n",
       "      <td>0</td>\n",
       "      <td>0</td>\n",
       "      <td>0</td>\n",
       "      <td>0</td>\n",
       "      <td>0</td>\n",
       "      <td>0</td>\n",
       "      <td>0</td>\n",
       "      <td>0</td>\n",
       "      <td>0</td>\n",
       "      <td>...</td>\n",
       "      <td>0</td>\n",
       "      <td>0</td>\n",
       "      <td>0</td>\n",
       "      <td>0</td>\n",
       "      <td>0</td>\n",
       "      <td>0</td>\n",
       "      <td>0</td>\n",
       "      <td>0</td>\n",
       "      <td>0</td>\n",
       "      <td>0</td>\n",
       "    </tr>\n",
       "    <tr>\n",
       "      <th>41998</th>\n",
       "      <td>6</td>\n",
       "      <td>0</td>\n",
       "      <td>0</td>\n",
       "      <td>0</td>\n",
       "      <td>0</td>\n",
       "      <td>0</td>\n",
       "      <td>0</td>\n",
       "      <td>0</td>\n",
       "      <td>0</td>\n",
       "      <td>0</td>\n",
       "      <td>...</td>\n",
       "      <td>0</td>\n",
       "      <td>0</td>\n",
       "      <td>0</td>\n",
       "      <td>0</td>\n",
       "      <td>0</td>\n",
       "      <td>0</td>\n",
       "      <td>0</td>\n",
       "      <td>0</td>\n",
       "      <td>0</td>\n",
       "      <td>0</td>\n",
       "    </tr>\n",
       "    <tr>\n",
       "      <th>41999</th>\n",
       "      <td>9</td>\n",
       "      <td>0</td>\n",
       "      <td>0</td>\n",
       "      <td>0</td>\n",
       "      <td>0</td>\n",
       "      <td>0</td>\n",
       "      <td>0</td>\n",
       "      <td>0</td>\n",
       "      <td>0</td>\n",
       "      <td>0</td>\n",
       "      <td>...</td>\n",
       "      <td>0</td>\n",
       "      <td>0</td>\n",
       "      <td>0</td>\n",
       "      <td>0</td>\n",
       "      <td>0</td>\n",
       "      <td>0</td>\n",
       "      <td>0</td>\n",
       "      <td>0</td>\n",
       "      <td>0</td>\n",
       "      <td>0</td>\n",
       "    </tr>\n",
       "  </tbody>\n",
       "</table>\n",
       "<p>39900 rows × 785 columns</p>\n",
       "</div>"
      ],
      "text/plain": [
       "       label  pixel0  pixel1  pixel2  pixel3  pixel4  pixel5  pixel6  pixel7  \\\n",
       "0          1       0       0       0       0       0       0       0       0   \n",
       "1          0       0       0       0       0       0       0       0       0   \n",
       "2          1       0       0       0       0       0       0       0       0   \n",
       "3          4       0       0       0       0       0       0       0       0   \n",
       "4          0       0       0       0       0       0       0       0       0   \n",
       "...      ...     ...     ...     ...     ...     ...     ...     ...     ...   \n",
       "41995      0       0       0       0       0       0       0       0       0   \n",
       "41996      1       0       0       0       0       0       0       0       0   \n",
       "41997      7       0       0       0       0       0       0       0       0   \n",
       "41998      6       0       0       0       0       0       0       0       0   \n",
       "41999      9       0       0       0       0       0       0       0       0   \n",
       "\n",
       "       pixel8  ...  pixel774  pixel775  pixel776  pixel777  pixel778  \\\n",
       "0           0  ...         0         0         0         0         0   \n",
       "1           0  ...         0         0         0         0         0   \n",
       "2           0  ...         0         0         0         0         0   \n",
       "3           0  ...         0         0         0         0         0   \n",
       "4           0  ...         0         0         0         0         0   \n",
       "...       ...  ...       ...       ...       ...       ...       ...   \n",
       "41995       0  ...         0         0         0         0         0   \n",
       "41996       0  ...         0         0         0         0         0   \n",
       "41997       0  ...         0         0         0         0         0   \n",
       "41998       0  ...         0         0         0         0         0   \n",
       "41999       0  ...         0         0         0         0         0   \n",
       "\n",
       "       pixel779  pixel780  pixel781  pixel782  pixel783  \n",
       "0             0         0         0         0         0  \n",
       "1             0         0         0         0         0  \n",
       "2             0         0         0         0         0  \n",
       "3             0         0         0         0         0  \n",
       "4             0         0         0         0         0  \n",
       "...         ...       ...       ...       ...       ...  \n",
       "41995         0         0         0         0         0  \n",
       "41996         0         0         0         0         0  \n",
       "41997         0         0         0         0         0  \n",
       "41998         0         0         0         0         0  \n",
       "41999         0         0         0         0         0  \n",
       "\n",
       "[39900 rows x 785 columns]"
      ]
     },
     "execution_count": 11,
     "metadata": {},
     "output_type": "execute_result"
    }
   ],
   "source": [
    "dt"
   ]
  },
  {
   "cell_type": "code",
   "execution_count": 12,
   "id": "76231da1",
   "metadata": {
    "execution": {
     "iopub.execute_input": "2024-01-18T21:58:50.559712Z",
     "iopub.status.busy": "2024-01-18T21:58:50.559409Z",
     "iopub.status.idle": "2024-01-18T21:58:50.603336Z",
     "shell.execute_reply": "2024-01-18T21:58:50.602267Z"
    },
    "papermill": {
     "duration": 0.057115,
     "end_time": "2024-01-18T21:58:50.605433",
     "exception": false,
     "start_time": "2024-01-18T21:58:50.548318",
     "status": "completed"
    },
    "tags": []
   },
   "outputs": [],
   "source": [
    "train_tensor=torch.from_numpy(np.array(dt))"
   ]
  },
  {
   "cell_type": "code",
   "execution_count": 13,
   "id": "a7ff8f04",
   "metadata": {
    "execution": {
     "iopub.execute_input": "2024-01-18T21:58:50.627992Z",
     "iopub.status.busy": "2024-01-18T21:58:50.626952Z",
     "iopub.status.idle": "2024-01-18T21:58:50.689846Z",
     "shell.execute_reply": "2024-01-18T21:58:50.689164Z"
    },
    "papermill": {
     "duration": 0.075597,
     "end_time": "2024-01-18T21:58:50.691356",
     "exception": false,
     "start_time": "2024-01-18T21:58:50.615759",
     "status": "completed"
    },
    "tags": []
   },
   "outputs": [
    {
     "data": {
      "text/plain": [
       "tensor([[1, 0, 0,  ..., 0, 0, 0],\n",
       "        [0, 0, 0,  ..., 0, 0, 0],\n",
       "        [1, 0, 0,  ..., 0, 0, 0],\n",
       "        ...,\n",
       "        [7, 0, 0,  ..., 0, 0, 0],\n",
       "        [6, 0, 0,  ..., 0, 0, 0],\n",
       "        [9, 0, 0,  ..., 0, 0, 0]])"
      ]
     },
     "execution_count": 13,
     "metadata": {},
     "output_type": "execute_result"
    }
   ],
   "source": [
    "train_tensor"
   ]
  },
  {
   "cell_type": "code",
   "execution_count": 14,
   "id": "8272da90",
   "metadata": {
    "execution": {
     "iopub.execute_input": "2024-01-18T21:58:50.713276Z",
     "iopub.status.busy": "2024-01-18T21:58:50.712418Z",
     "iopub.status.idle": "2024-01-18T21:58:50.716978Z",
     "shell.execute_reply": "2024-01-18T21:58:50.715967Z"
    },
    "papermill": {
     "duration": 0.01711,
     "end_time": "2024-01-18T21:58:50.718526",
     "exception": false,
     "start_time": "2024-01-18T21:58:50.701416",
     "status": "completed"
    },
    "tags": []
   },
   "outputs": [],
   "source": [
    "from torch.utils.data import Dataset"
   ]
  },
  {
   "cell_type": "code",
   "execution_count": null,
   "id": "915816ae",
   "metadata": {
    "papermill": {
     "duration": 0.009594,
     "end_time": "2024-01-18T21:58:50.738089",
     "exception": false,
     "start_time": "2024-01-18T21:58:50.728495",
     "status": "completed"
    },
    "tags": []
   },
   "outputs": [],
   "source": []
  },
  {
   "cell_type": "code",
   "execution_count": 15,
   "id": "0ded701d",
   "metadata": {
    "execution": {
     "iopub.execute_input": "2024-01-18T21:58:50.759986Z",
     "iopub.status.busy": "2024-01-18T21:58:50.759374Z",
     "iopub.status.idle": "2024-01-18T21:58:50.764374Z",
     "shell.execute_reply": "2024-01-18T21:58:50.763752Z"
    },
    "papermill": {
     "duration": 0.0179,
     "end_time": "2024-01-18T21:58:50.766099",
     "exception": false,
     "start_time": "2024-01-18T21:58:50.748199",
     "status": "completed"
    },
    "tags": []
   },
   "outputs": [],
   "source": [
    "class digits_dataset(Dataset):\n",
    "    def __init__(self):\n",
    "        data = pd.read_csv('/kaggle/input/digit-recognizer/train.csv')\n",
    "        self.y=torch.from_numpy(np.array(data['label']))\n",
    "        self.x=torch.from_numpy(np.array(data.drop('label',axis=1))/255)\n",
    "    def __len__(self):\n",
    "        return len(self.y)\n",
    "\n",
    "    def __getitem__(self, idx):\n",
    "        return self.x[idx], self.y[idx]"
   ]
  },
  {
   "cell_type": "code",
   "execution_count": 16,
   "id": "95b5b3e0",
   "metadata": {
    "execution": {
     "iopub.execute_input": "2024-01-18T21:58:50.787518Z",
     "iopub.status.busy": "2024-01-18T21:58:50.786925Z",
     "iopub.status.idle": "2024-01-18T21:58:52.525488Z",
     "shell.execute_reply": "2024-01-18T21:58:52.524259Z"
    },
    "papermill": {
     "duration": 1.751689,
     "end_time": "2024-01-18T21:58:52.527658",
     "exception": false,
     "start_time": "2024-01-18T21:58:50.775969",
     "status": "completed"
    },
    "tags": []
   },
   "outputs": [],
   "source": [
    "data=digits_dataset()"
   ]
  },
  {
   "cell_type": "code",
   "execution_count": 17,
   "id": "5ac8e082",
   "metadata": {
    "execution": {
     "iopub.execute_input": "2024-01-18T21:58:52.548721Z",
     "iopub.status.busy": "2024-01-18T21:58:52.548409Z",
     "iopub.status.idle": "2024-01-18T21:58:52.563369Z",
     "shell.execute_reply": "2024-01-18T21:58:52.562685Z"
    },
    "papermill": {
     "duration": 0.027262,
     "end_time": "2024-01-18T21:58:52.564989",
     "exception": false,
     "start_time": "2024-01-18T21:58:52.537727",
     "status": "completed"
    },
    "tags": []
   },
   "outputs": [],
   "source": [
    "train ,test = torch.utils.data.random_split(data,[0.8,0.2])"
   ]
  },
  {
   "cell_type": "code",
   "execution_count": 18,
   "id": "48e44e33",
   "metadata": {
    "execution": {
     "iopub.execute_input": "2024-01-18T21:58:52.586596Z",
     "iopub.status.busy": "2024-01-18T21:58:52.585777Z",
     "iopub.status.idle": "2024-01-18T21:58:52.589820Z",
     "shell.execute_reply": "2024-01-18T21:58:52.589131Z"
    },
    "papermill": {
     "duration": 0.016526,
     "end_time": "2024-01-18T21:58:52.591297",
     "exception": false,
     "start_time": "2024-01-18T21:58:52.574771",
     "status": "completed"
    },
    "tags": []
   },
   "outputs": [],
   "source": [
    "x,y=train[0]"
   ]
  },
  {
   "cell_type": "code",
   "execution_count": 19,
   "id": "85b0797b",
   "metadata": {
    "execution": {
     "iopub.execute_input": "2024-01-18T21:58:52.612346Z",
     "iopub.status.busy": "2024-01-18T21:58:52.611766Z",
     "iopub.status.idle": "2024-01-18T21:58:52.617038Z",
     "shell.execute_reply": "2024-01-18T21:58:52.616138Z"
    },
    "papermill": {
     "duration": 0.017647,
     "end_time": "2024-01-18T21:58:52.618678",
     "exception": false,
     "start_time": "2024-01-18T21:58:52.601031",
     "status": "completed"
    },
    "tags": []
   },
   "outputs": [
    {
     "data": {
      "text/plain": [
       "33600"
      ]
     },
     "execution_count": 19,
     "metadata": {},
     "output_type": "execute_result"
    }
   ],
   "source": [
    "train.__len__()"
   ]
  },
  {
   "cell_type": "code",
   "execution_count": 20,
   "id": "89e5e149",
   "metadata": {
    "execution": {
     "iopub.execute_input": "2024-01-18T21:58:52.639922Z",
     "iopub.status.busy": "2024-01-18T21:58:52.639547Z",
     "iopub.status.idle": "2024-01-18T21:58:52.644359Z",
     "shell.execute_reply": "2024-01-18T21:58:52.643483Z"
    },
    "papermill": {
     "duration": 0.018229,
     "end_time": "2024-01-18T21:58:52.646737",
     "exception": false,
     "start_time": "2024-01-18T21:58:52.628508",
     "status": "completed"
    },
    "tags": []
   },
   "outputs": [
    {
     "name": "stdout",
     "output_type": "stream",
     "text": [
      "torch.Size([784])\n"
     ]
    }
   ],
   "source": [
    "print(x.shape)"
   ]
  },
  {
   "cell_type": "markdown",
   "id": "57c9c9a5",
   "metadata": {
    "papermill": {
     "duration": 0.009956,
     "end_time": "2024-01-18T21:58:52.667579",
     "exception": false,
     "start_time": "2024-01-18T21:58:52.657623",
     "status": "completed"
    },
    "tags": []
   },
   "source": [
    "## 2-Neural Network and Model"
   ]
  },
  {
   "cell_type": "code",
   "execution_count": 21,
   "id": "1a624fee",
   "metadata": {
    "execution": {
     "iopub.execute_input": "2024-01-18T21:58:52.690310Z",
     "iopub.status.busy": "2024-01-18T21:58:52.689730Z",
     "iopub.status.idle": "2024-01-18T21:58:52.694024Z",
     "shell.execute_reply": "2024-01-18T21:58:52.693405Z"
    },
    "papermill": {
     "duration": 0.017669,
     "end_time": "2024-01-18T21:58:52.695637",
     "exception": false,
     "start_time": "2024-01-18T21:58:52.677968",
     "status": "completed"
    },
    "tags": []
   },
   "outputs": [],
   "source": [
    "train_loader=DataLoader(dataset=train,batch_size=200,shuffle=True)"
   ]
  },
  {
   "cell_type": "code",
   "execution_count": 22,
   "id": "b7908b63",
   "metadata": {
    "execution": {
     "iopub.execute_input": "2024-01-18T21:58:52.718203Z",
     "iopub.status.busy": "2024-01-18T21:58:52.717655Z",
     "iopub.status.idle": "2024-01-18T21:58:52.732573Z",
     "shell.execute_reply": "2024-01-18T21:58:52.731935Z"
    },
    "papermill": {
     "duration": 0.028542,
     "end_time": "2024-01-18T21:58:52.734705",
     "exception": false,
     "start_time": "2024-01-18T21:58:52.706163",
     "status": "completed"
    },
    "tags": []
   },
   "outputs": [],
   "source": [
    "model=nn.Sequential(nn.Linear(28*28,512),\n",
    "                    nn.ReLU(),\n",
    "                    nn.Linear(512,512),\n",
    "                    nn.ReLU(),\n",
    "                    #nn.Dropout(p=0.2),\n",
    "                    nn.Linear(512,256),\n",
    "                    nn.Linear(256,10)\n",
    "                    )"
   ]
  },
  {
   "cell_type": "markdown",
   "id": "3af27dbb",
   "metadata": {
    "papermill": {
     "duration": 0.009893,
     "end_time": "2024-01-18T21:58:52.755238",
     "exception": false,
     "start_time": "2024-01-18T21:58:52.745345",
     "status": "completed"
    },
    "tags": []
   },
   "source": [
    "## 3-Training "
   ]
  },
  {
   "cell_type": "code",
   "execution_count": 23,
   "id": "0269f2b3",
   "metadata": {
    "execution": {
     "iopub.execute_input": "2024-01-18T21:58:52.777544Z",
     "iopub.status.busy": "2024-01-18T21:58:52.777038Z",
     "iopub.status.idle": "2024-01-18T21:58:52.780481Z",
     "shell.execute_reply": "2024-01-18T21:58:52.779848Z"
    },
    "papermill": {
     "duration": 0.016437,
     "end_time": "2024-01-18T21:58:52.782014",
     "exception": false,
     "start_time": "2024-01-18T21:58:52.765577",
     "status": "completed"
    },
    "tags": []
   },
   "outputs": [],
   "source": [
    "criterion=nn.CrossEntropyLoss()"
   ]
  },
  {
   "cell_type": "code",
   "execution_count": 24,
   "id": "1e14f802",
   "metadata": {
    "execution": {
     "iopub.execute_input": "2024-01-18T21:58:52.804281Z",
     "iopub.status.busy": "2024-01-18T21:58:52.803820Z",
     "iopub.status.idle": "2024-01-18T21:58:52.808197Z",
     "shell.execute_reply": "2024-01-18T21:58:52.807422Z"
    },
    "papermill": {
     "duration": 0.017761,
     "end_time": "2024-01-18T21:58:52.809718",
     "exception": false,
     "start_time": "2024-01-18T21:58:52.791957",
     "status": "completed"
    },
    "tags": []
   },
   "outputs": [],
   "source": [
    "import torch.optim as optim"
   ]
  },
  {
   "cell_type": "code",
   "execution_count": 25,
   "id": "eb9c814d",
   "metadata": {
    "execution": {
     "iopub.execute_input": "2024-01-18T21:58:52.831431Z",
     "iopub.status.busy": "2024-01-18T21:58:52.830825Z",
     "iopub.status.idle": "2024-01-18T21:58:52.835469Z",
     "shell.execute_reply": "2024-01-18T21:58:52.834653Z"
    },
    "papermill": {
     "duration": 0.017186,
     "end_time": "2024-01-18T21:58:52.836992",
     "exception": false,
     "start_time": "2024-01-18T21:58:52.819806",
     "status": "completed"
    },
    "tags": []
   },
   "outputs": [],
   "source": [
    "optimizer=optim.Adam(params=model.parameters(),lr=0.001)"
   ]
  },
  {
   "cell_type": "markdown",
   "id": "d7f2fb69",
   "metadata": {
    "papermill": {
     "duration": 0.012367,
     "end_time": "2024-01-18T21:58:52.860123",
     "exception": false,
     "start_time": "2024-01-18T21:58:52.847756",
     "status": "completed"
    },
    "tags": []
   },
   "source": [
    "### a-Train loop "
   ]
  },
  {
   "cell_type": "code",
   "execution_count": 26,
   "id": "f1c0eb07",
   "metadata": {
    "execution": {
     "iopub.execute_input": "2024-01-18T21:58:52.886715Z",
     "iopub.status.busy": "2024-01-18T21:58:52.886379Z",
     "iopub.status.idle": "2024-01-18T22:01:56.865543Z",
     "shell.execute_reply": "2024-01-18T22:01:56.864299Z"
    },
    "papermill": {
     "duration": 183.994577,
     "end_time": "2024-01-18T22:01:56.867200",
     "exception": false,
     "start_time": "2024-01-18T21:58:52.872623",
     "status": "completed"
    },
    "tags": []
   },
   "outputs": [
    {
     "name": "stdout",
     "output_type": "stream",
     "text": [
      "loss 0.3945282185450196 for 1/100\n",
      "loss 0.13038964376651815 for 2/100\n",
      "loss 0.08153932381953512 for 3/100\n",
      "loss 0.054409524403689874 for 4/100\n",
      "loss 0.03898695943089912 for 5/100\n",
      "loss 0.030697441851121506 for 6/100\n",
      "loss 0.022565944893618246 for 7/100\n",
      "loss 0.0180487445613835 for 8/100\n",
      "loss 0.018792299350025132 for 9/100\n",
      "loss 0.013396340290498864 for 10/100\n",
      "loss 0.01847231463831295 for 11/100\n",
      "loss 0.02197605133066342 for 12/100\n",
      "loss 0.010129142469113936 for 13/100\n",
      "loss 0.012808148013781257 for 14/100\n",
      "loss 0.012887999123319917 for 15/100\n",
      "loss 0.010130532358743949 for 16/100\n",
      "loss 0.00944905407444215 for 17/100\n",
      "loss 0.018254668729977788 for 18/100\n",
      "loss 0.004344547897614705 for 19/100\n",
      "loss 0.004979433184806632 for 20/100\n",
      "loss 0.008923451913038402 for 21/100\n",
      "loss 0.009577398801151762 for 22/100\n",
      "loss 0.008847618734405063 for 23/100\n",
      "loss 0.015421643431615112 for 24/100\n",
      "loss 0.0036223572290921204 for 25/100\n",
      "loss 0.000875838408985276 for 26/100\n",
      "loss 0.006693108464511559 for 27/100\n",
      "loss 0.012419161206058302 for 28/100\n",
      "loss 0.009617488463672566 for 29/100\n",
      "loss 0.005458582432939217 for 30/100\n",
      "loss 0.0014612177774487073 for 31/100\n",
      "loss 0.002066823749666063 for 32/100\n",
      "loss 0.006981736498839079 for 33/100\n",
      "loss 0.019002848734609352 for 34/100\n",
      "loss 0.005285671861515982 for 35/100\n",
      "loss 0.007214775036757038 for 36/100\n",
      "loss 0.006675056179235959 for 37/100\n",
      "loss 0.0018185108065343532 for 38/100\n",
      "loss 0.0050468363747462434 for 39/100\n",
      "loss 0.004369945381722032 for 40/100\n",
      "loss 0.004806705638335036 for 41/100\n",
      "loss 0.009591644166286122 for 42/100\n",
      "loss 0.007625768195685808 for 43/100\n",
      "loss 0.005604005465991284 for 44/100\n",
      "loss 0.006028977418915409 for 45/100\n",
      "loss 0.009411404121032146 for 46/100\n",
      "loss 0.003157332621648428 for 47/100\n",
      "loss 0.0012033360270661 for 48/100\n",
      "loss 6.283210578249596e-05 for 49/100\n",
      "loss 2.0482307300472346e-05 for 50/100\n",
      "loss 1.5281925585039096e-05 for 51/100\n",
      "loss 1.2490606608530524e-05 for 52/100\n",
      "loss 1.0531357814850631e-05 for 53/100\n",
      "loss 9.013594934902444e-06 for 54/100\n",
      "loss 7.822388465818958e-06 for 55/100\n",
      "loss 6.85583000655957e-06 for 56/100\n",
      "loss 6.044424465030607e-06 for 57/100\n",
      "loss 5.364410042269745e-06 for 58/100\n",
      "loss 4.783843914102888e-06 for 59/100\n",
      "loss 4.277178590565238e-06 for 60/100\n",
      "loss 3.833863265375233e-06 for 61/100\n",
      "loss 3.453089348893186e-06 for 62/100\n",
      "loss 3.1138862438815467e-06 for 63/100\n",
      "loss 2.8072601441325992e-06 for 64/100\n",
      "loss 2.539508981726951e-06 for 65/100\n",
      "loss 2.299699350230423e-06 for 66/100\n",
      "loss 2.085539466075862e-06 for 67/100\n",
      "loss 1.8948702144292556e-06 for 68/100\n",
      "loss 1.7206014157148768e-06 for 69/100\n",
      "loss 1.5638079228589656e-06 for 70/100\n",
      "loss 1.423190786447883e-06 for 71/100\n",
      "loss 1.2958236139353524e-06 for 72/100\n",
      "loss 1.1791507823065758e-06 for 73/100\n",
      "loss 1.0745520793165042e-06 for 74/100\n",
      "loss 9.800432389860974e-07 for 75/100\n",
      "loss 8.920617575207467e-07 for 76/100\n",
      "loss 8.140828292538128e-07 for 77/100\n",
      "loss 7.422581840488803e-07 for 78/100\n",
      "loss 6.772019143019307e-07 for 79/100\n",
      "loss 6.174806933281101e-07 for 80/100\n",
      "loss 5.633787821019658e-07 for 81/100\n",
      "loss 5.140729141156222e-07 for 82/100\n",
      "loss 4.6948873634269786e-07 for 83/100\n",
      "loss 4.2876798933026773e-07 for 84/100\n",
      "loss 3.914954708142272e-07 for 85/100\n",
      "loss 3.5765341281436746e-07 for 86/100\n",
      "loss 3.2657496057144526e-07 for 87/100\n",
      "loss 2.983771407304489e-07 for 88/100\n",
      "loss 2.7237183501737676e-07 for 89/100\n",
      "loss 2.4885700294643327e-07 for 90/100\n",
      "loss 2.27453063473773e-07 for 91/100\n",
      "loss 2.0767398400955983e-07 for 92/100\n",
      "loss 1.8971134553238824e-07 for 93/100\n",
      "loss 1.7316779785379149e-07 for 94/100\n",
      "loss 1.5804691779647009e-07 for 95/100\n",
      "loss 1.445509142925622e-07 for 96/100\n",
      "loss 1.3191703208628594e-07 for 97/100\n",
      "loss 1.2037231994235127e-07 for 98/100\n",
      "loss 1.1012965719991467e-07 for 99/100\n",
      "loss 1.0054689166181876e-07 for 100/100\n"
     ]
    }
   ],
   "source": [
    "for epoch in range(100):\n",
    "    training_loss = 0\n",
    "    for data in train_loader:\n",
    "        #setting gradient at zero\n",
    "        optimizer.zero_grad()\n",
    "        #getting data\n",
    "        features,label=data\n",
    "        features=features.float()\n",
    "        #predicting class\n",
    "        pred=model(features)\n",
    "        #loss\n",
    "        loss=criterion(pred,label)\n",
    "        loss.backward()\n",
    "        #updating params\n",
    "        optimizer.step()\n",
    "        training_loss += loss.item()\n",
    "    epoch_loss = training_loss / len(train_loader)\n",
    "    print(f'loss {epoch_loss} for {epoch+1}/100')\n"
   ]
  },
  {
   "cell_type": "markdown",
   "id": "fe3ec621",
   "metadata": {
    "papermill": {
     "duration": 0.015704,
     "end_time": "2024-01-18T22:01:56.898942",
     "exception": false,
     "start_time": "2024-01-18T22:01:56.883238",
     "status": "completed"
    },
    "tags": []
   },
   "source": [
    "### b-Validation loop"
   ]
  },
  {
   "cell_type": "code",
   "execution_count": 27,
   "id": "0fa2bf5c",
   "metadata": {
    "execution": {
     "iopub.execute_input": "2024-01-18T22:01:56.931330Z",
     "iopub.status.busy": "2024-01-18T22:01:56.931003Z",
     "iopub.status.idle": "2024-01-18T22:01:56.935114Z",
     "shell.execute_reply": "2024-01-18T22:01:56.934360Z"
    },
    "papermill": {
     "duration": 0.023079,
     "end_time": "2024-01-18T22:01:56.937283",
     "exception": false,
     "start_time": "2024-01-18T22:01:56.914204",
     "status": "completed"
    },
    "tags": []
   },
   "outputs": [],
   "source": [
    "test_loader=DataLoader(dataset=test,batch_size=200,shuffle=False)"
   ]
  },
  {
   "cell_type": "code",
   "execution_count": 28,
   "id": "088e056d",
   "metadata": {
    "execution": {
     "iopub.execute_input": "2024-01-18T22:01:56.970225Z",
     "iopub.status.busy": "2024-01-18T22:01:56.969825Z",
     "iopub.status.idle": "2024-01-18T22:01:57.176004Z",
     "shell.execute_reply": "2024-01-18T22:01:57.174929Z"
    },
    "papermill": {
     "duration": 0.22448,
     "end_time": "2024-01-18T22:01:57.177908",
     "exception": false,
     "start_time": "2024-01-18T22:01:56.953428",
     "status": "completed"
    },
    "tags": []
   },
   "outputs": [
    {
     "name": "stdout",
     "output_type": "stream",
     "text": [
      "validation loss is 0.1986173568979471\n"
     ]
    },
    {
     "data": {
      "text/plain": [
       "Sequential(\n",
       "  (0): Linear(in_features=784, out_features=512, bias=True)\n",
       "  (1): ReLU()\n",
       "  (2): Linear(in_features=512, out_features=512, bias=True)\n",
       "  (3): ReLU()\n",
       "  (4): Linear(in_features=512, out_features=256, bias=True)\n",
       "  (5): Linear(in_features=256, out_features=10, bias=True)\n",
       ")"
      ]
     },
     "execution_count": 28,
     "metadata": {},
     "output_type": "execute_result"
    }
   ],
   "source": [
    "validation_loss = 0.0\n",
    "model.eval() # Put model in evaluation mode\n",
    "with torch.no_grad(): # Speed up the forward pass\n",
    "    training_loss = 0\n",
    "    for data in test_loader:\n",
    "        #getting data\n",
    "        features,label=data\n",
    "        features=features.float()\n",
    "        #predicting class\n",
    "        pred=model(features)\n",
    "        #loss\n",
    "        loss=criterion(pred,label)\n",
    "        validation_loss += loss.item()\n",
    "    validation_loss = validation_loss / len(test_loader)\n",
    "    print(f'validation loss is {validation_loss}')\n",
    "model.train()\n"
   ]
  },
  {
   "cell_type": "code",
   "execution_count": 29,
   "id": "4d61cb15",
   "metadata": {
    "execution": {
     "iopub.execute_input": "2024-01-18T22:01:57.212167Z",
     "iopub.status.busy": "2024-01-18T22:01:57.211779Z",
     "iopub.status.idle": "2024-01-18T22:02:01.274159Z",
     "shell.execute_reply": "2024-01-18T22:02:01.272757Z"
    },
    "papermill": {
     "duration": 4.082289,
     "end_time": "2024-01-18T22:02:01.276574",
     "exception": false,
     "start_time": "2024-01-18T22:01:57.194285",
     "status": "completed"
    },
    "tags": []
   },
   "outputs": [
    {
     "name": "stdout",
     "output_type": "stream",
     "text": [
      "Accuracy on all data: 0.9801190495491028\n"
     ]
    }
   ],
   "source": [
    "import torchmetrics\n",
    "# Create accuracy metric using torch metrics\n",
    "metric = torchmetrics.Accuracy(task=\"multiclass\", num_classes=10)\n",
    "for i, data in enumerate(test_loader, 0):\n",
    "    features, labels = data\n",
    "    features=features.float()\n",
    "    outputs = model(features)\n",
    "    # Calculate accuracy over the batch\n",
    "    acc = metric(outputs, labels)\n",
    "# Calculate accuracy over the whole epoch\n",
    "acc = metric.compute()\n",
    "print(f\"Accuracy on all data: {acc}\")\n",
    "# Reset the metric for the next epoch (training or validation)\n",
    "metric.reset()"
   ]
  },
  {
   "cell_type": "markdown",
   "id": "66fcc9b3",
   "metadata": {
    "papermill": {
     "duration": 0.015629,
     "end_time": "2024-01-18T22:02:01.308798",
     "exception": false,
     "start_time": "2024-01-18T22:02:01.293169",
     "status": "completed"
    },
    "tags": []
   },
   "source": [
    "## 4-Test and Submission"
   ]
  },
  {
   "cell_type": "markdown",
   "id": "4de935a9",
   "metadata": {
    "papermill": {
     "duration": 0.01536,
     "end_time": "2024-01-18T22:02:01.339618",
     "exception": false,
     "start_time": "2024-01-18T22:02:01.324258",
     "status": "completed"
    },
    "tags": []
   },
   "source": [
    "### a-Predicting submission data"
   ]
  },
  {
   "cell_type": "code",
   "execution_count": 30,
   "id": "71906cd6",
   "metadata": {
    "execution": {
     "iopub.execute_input": "2024-01-18T22:02:01.372936Z",
     "iopub.status.busy": "2024-01-18T22:02:01.372429Z",
     "iopub.status.idle": "2024-01-18T22:02:02.923805Z",
     "shell.execute_reply": "2024-01-18T22:02:02.922426Z"
    },
    "papermill": {
     "duration": 1.570558,
     "end_time": "2024-01-18T22:02:02.926057",
     "exception": false,
     "start_time": "2024-01-18T22:02:01.355499",
     "status": "completed"
    },
    "tags": []
   },
   "outputs": [],
   "source": [
    "submi=pd.read_csv('/kaggle/input/digit-recognizer/test.csv')"
   ]
  },
  {
   "cell_type": "code",
   "execution_count": 31,
   "id": "7bb6c1c6",
   "metadata": {
    "execution": {
     "iopub.execute_input": "2024-01-18T22:02:02.959735Z",
     "iopub.status.busy": "2024-01-18T22:02:02.959402Z",
     "iopub.status.idle": "2024-01-18T22:02:03.046354Z",
     "shell.execute_reply": "2024-01-18T22:02:03.045060Z"
    },
    "papermill": {
     "duration": 0.106735,
     "end_time": "2024-01-18T22:02:03.049029",
     "exception": false,
     "start_time": "2024-01-18T22:02:02.942294",
     "status": "completed"
    },
    "tags": []
   },
   "outputs": [],
   "source": [
    "X_submi=torch.from_numpy(np.array(submi)/255)\n",
    "X_submi=X_submi.float()"
   ]
  },
  {
   "cell_type": "code",
   "execution_count": 32,
   "id": "830a0e05",
   "metadata": {
    "execution": {
     "iopub.execute_input": "2024-01-18T22:02:03.083478Z",
     "iopub.status.busy": "2024-01-18T22:02:03.082702Z",
     "iopub.status.idle": "2024-01-18T22:02:03.404477Z",
     "shell.execute_reply": "2024-01-18T22:02:03.403538Z"
    },
    "papermill": {
     "duration": 0.34117,
     "end_time": "2024-01-18T22:02:03.406759",
     "exception": false,
     "start_time": "2024-01-18T22:02:03.065589",
     "status": "completed"
    },
    "tags": []
   },
   "outputs": [],
   "source": [
    "with torch.no_grad():    \n",
    "    output=model(X_submi)\n",
    "    softmax=nn.Softmax(-1)(output)"
   ]
  },
  {
   "cell_type": "code",
   "execution_count": 33,
   "id": "61b2ad99",
   "metadata": {
    "execution": {
     "iopub.execute_input": "2024-01-18T22:02:03.440537Z",
     "iopub.status.busy": "2024-01-18T22:02:03.440198Z",
     "iopub.status.idle": "2024-01-18T22:02:03.447209Z",
     "shell.execute_reply": "2024-01-18T22:02:03.446143Z"
    },
    "papermill": {
     "duration": 0.026499,
     "end_time": "2024-01-18T22:02:03.449577",
     "exception": false,
     "start_time": "2024-01-18T22:02:03.423078",
     "status": "completed"
    },
    "tags": []
   },
   "outputs": [
    {
     "data": {
      "text/plain": [
       "tensor([2, 0, 9,  ..., 3, 9, 2])"
      ]
     },
     "execution_count": 33,
     "metadata": {},
     "output_type": "execute_result"
    }
   ],
   "source": [
    "predicted=torch.argmax(output,1)\n",
    "predicted"
   ]
  },
  {
   "cell_type": "code",
   "execution_count": 34,
   "id": "76b4509c",
   "metadata": {
    "execution": {
     "iopub.execute_input": "2024-01-18T22:02:03.484637Z",
     "iopub.status.busy": "2024-01-18T22:02:03.484226Z",
     "iopub.status.idle": "2024-01-18T22:02:03.488552Z",
     "shell.execute_reply": "2024-01-18T22:02:03.487826Z"
    },
    "papermill": {
     "duration": 0.023894,
     "end_time": "2024-01-18T22:02:03.490261",
     "exception": false,
     "start_time": "2024-01-18T22:02:03.466367",
     "status": "completed"
    },
    "tags": []
   },
   "outputs": [],
   "source": [
    "label=np.array(predicted)"
   ]
  },
  {
   "cell_type": "markdown",
   "id": "2342313a",
   "metadata": {
    "papermill": {
     "duration": 0.016093,
     "end_time": "2024-01-18T22:02:03.522817",
     "exception": false,
     "start_time": "2024-01-18T22:02:03.506724",
     "status": "completed"
    },
    "tags": []
   },
   "source": [
    "### b-Submiting data"
   ]
  },
  {
   "cell_type": "code",
   "execution_count": 35,
   "id": "bc5f183d",
   "metadata": {
    "execution": {
     "iopub.execute_input": "2024-01-18T22:02:03.557928Z",
     "iopub.status.busy": "2024-01-18T22:02:03.557235Z",
     "iopub.status.idle": "2024-01-18T22:02:03.566550Z",
     "shell.execute_reply": "2024-01-18T22:02:03.565575Z"
    },
    "papermill": {
     "duration": 0.029488,
     "end_time": "2024-01-18T22:02:03.568706",
     "exception": false,
     "start_time": "2024-01-18T22:02:03.539218",
     "status": "completed"
    },
    "tags": []
   },
   "outputs": [],
   "source": [
    "ImageId=np.array([i for i in range(1,len(label)+1)])"
   ]
  },
  {
   "cell_type": "code",
   "execution_count": 36,
   "id": "86c324e8",
   "metadata": {
    "execution": {
     "iopub.execute_input": "2024-01-18T22:02:03.603212Z",
     "iopub.status.busy": "2024-01-18T22:02:03.602828Z",
     "iopub.status.idle": "2024-01-18T22:02:03.607733Z",
     "shell.execute_reply": "2024-01-18T22:02:03.606738Z"
    },
    "papermill": {
     "duration": 0.024396,
     "end_time": "2024-01-18T22:02:03.609575",
     "exception": false,
     "start_time": "2024-01-18T22:02:03.585179",
     "status": "completed"
    },
    "tags": []
   },
   "outputs": [],
   "source": [
    "submission=pd.DataFrame({'ImageId':ImageId,'Label':label})"
   ]
  },
  {
   "cell_type": "code",
   "execution_count": 37,
   "id": "1da43b41",
   "metadata": {
    "execution": {
     "iopub.execute_input": "2024-01-18T22:02:03.643400Z",
     "iopub.status.busy": "2024-01-18T22:02:03.643013Z",
     "iopub.status.idle": "2024-01-18T22:02:03.676030Z",
     "shell.execute_reply": "2024-01-18T22:02:03.674963Z"
    },
    "papermill": {
     "duration": 0.052566,
     "end_time": "2024-01-18T22:02:03.678111",
     "exception": false,
     "start_time": "2024-01-18T22:02:03.625545",
     "status": "completed"
    },
    "tags": []
   },
   "outputs": [],
   "source": [
    "submission.to_csv('/kaggle/working/submission.csv',index=False)"
   ]
  },
  {
   "cell_type": "code",
   "execution_count": 38,
   "id": "ab4cb38c",
   "metadata": {
    "execution": {
     "iopub.execute_input": "2024-01-18T22:02:03.715793Z",
     "iopub.status.busy": "2024-01-18T22:02:03.715426Z",
     "iopub.status.idle": "2024-01-18T22:02:03.730144Z",
     "shell.execute_reply": "2024-01-18T22:02:03.728677Z"
    },
    "papermill": {
     "duration": 0.037026,
     "end_time": "2024-01-18T22:02:03.732327",
     "exception": false,
     "start_time": "2024-01-18T22:02:03.695301",
     "status": "completed"
    },
    "tags": []
   },
   "outputs": [
    {
     "data": {
      "text/html": [
       "<div>\n",
       "<style scoped>\n",
       "    .dataframe tbody tr th:only-of-type {\n",
       "        vertical-align: middle;\n",
       "    }\n",
       "\n",
       "    .dataframe tbody tr th {\n",
       "        vertical-align: top;\n",
       "    }\n",
       "\n",
       "    .dataframe thead th {\n",
       "        text-align: right;\n",
       "    }\n",
       "</style>\n",
       "<table border=\"1\" class=\"dataframe\">\n",
       "  <thead>\n",
       "    <tr style=\"text-align: right;\">\n",
       "      <th></th>\n",
       "      <th>ImageId</th>\n",
       "      <th>Label</th>\n",
       "    </tr>\n",
       "  </thead>\n",
       "  <tbody>\n",
       "    <tr>\n",
       "      <th>0</th>\n",
       "      <td>1</td>\n",
       "      <td>2</td>\n",
       "    </tr>\n",
       "    <tr>\n",
       "      <th>1</th>\n",
       "      <td>2</td>\n",
       "      <td>0</td>\n",
       "    </tr>\n",
       "    <tr>\n",
       "      <th>2</th>\n",
       "      <td>3</td>\n",
       "      <td>9</td>\n",
       "    </tr>\n",
       "    <tr>\n",
       "      <th>3</th>\n",
       "      <td>4</td>\n",
       "      <td>9</td>\n",
       "    </tr>\n",
       "    <tr>\n",
       "      <th>4</th>\n",
       "      <td>5</td>\n",
       "      <td>3</td>\n",
       "    </tr>\n",
       "    <tr>\n",
       "      <th>...</th>\n",
       "      <td>...</td>\n",
       "      <td>...</td>\n",
       "    </tr>\n",
       "    <tr>\n",
       "      <th>27995</th>\n",
       "      <td>27996</td>\n",
       "      <td>9</td>\n",
       "    </tr>\n",
       "    <tr>\n",
       "      <th>27996</th>\n",
       "      <td>27997</td>\n",
       "      <td>7</td>\n",
       "    </tr>\n",
       "    <tr>\n",
       "      <th>27997</th>\n",
       "      <td>27998</td>\n",
       "      <td>3</td>\n",
       "    </tr>\n",
       "    <tr>\n",
       "      <th>27998</th>\n",
       "      <td>27999</td>\n",
       "      <td>9</td>\n",
       "    </tr>\n",
       "    <tr>\n",
       "      <th>27999</th>\n",
       "      <td>28000</td>\n",
       "      <td>2</td>\n",
       "    </tr>\n",
       "  </tbody>\n",
       "</table>\n",
       "<p>28000 rows × 2 columns</p>\n",
       "</div>"
      ],
      "text/plain": [
       "       ImageId  Label\n",
       "0            1      2\n",
       "1            2      0\n",
       "2            3      9\n",
       "3            4      9\n",
       "4            5      3\n",
       "...        ...    ...\n",
       "27995    27996      9\n",
       "27996    27997      7\n",
       "27997    27998      3\n",
       "27998    27999      9\n",
       "27999    28000      2\n",
       "\n",
       "[28000 rows x 2 columns]"
      ]
     },
     "execution_count": 38,
     "metadata": {},
     "output_type": "execute_result"
    }
   ],
   "source": [
    "submission_path='/kaggle/working/submission.csv'\n",
    "pd.read_csv(submission_path)"
   ]
  },
  {
   "cell_type": "code",
   "execution_count": null,
   "id": "3ca8e7ca",
   "metadata": {
    "papermill": {
     "duration": 0.015623,
     "end_time": "2024-01-18T22:02:03.764958",
     "exception": false,
     "start_time": "2024-01-18T22:02:03.749335",
     "status": "completed"
    },
    "tags": []
   },
   "outputs": [],
   "source": []
  }
 ],
 "metadata": {
  "kaggle": {
   "accelerator": "none",
   "dataSources": [
    {
     "databundleVersionId": 861823,
     "sourceId": 3004,
     "sourceType": "competition"
    }
   ],
   "dockerImageVersionId": 30587,
   "isGpuEnabled": false,
   "isInternetEnabled": true,
   "language": "python",
   "sourceType": "notebook"
  },
  "kernelspec": {
   "display_name": "Python 3",
   "language": "python",
   "name": "python3"
  },
  "language_info": {
   "codemirror_mode": {
    "name": "ipython",
    "version": 3
   },
   "file_extension": ".py",
   "mimetype": "text/x-python",
   "name": "python",
   "nbconvert_exporter": "python",
   "pygments_lexer": "ipython3",
   "version": "3.10.12"
  },
  "papermill": {
   "default_parameters": {},
   "duration": 261.069214,
   "end_time": "2024-01-18T22:02:05.101975",
   "environment_variables": {},
   "exception": null,
   "input_path": "__notebook__.ipynb",
   "output_path": "__notebook__.ipynb",
   "parameters": {},
   "start_time": "2024-01-18T21:57:44.032761",
   "version": "2.4.0"
  }
 },
 "nbformat": 4,
 "nbformat_minor": 5
}
