{
 "cells": [
  {
   "cell_type": "code",
   "execution_count": 1,
   "id": "07c443e9",
   "metadata": {
    "_cell_guid": "b1076dfc-b9ad-4769-8c92-a6c4dae69d19",
    "_uuid": "8f2839f25d086af736a60e9eeb907d3b93b6e0e5",
    "execution": {
     "iopub.execute_input": "2024-01-19T23:14:55.318810Z",
     "iopub.status.busy": "2024-01-19T23:14:55.318062Z",
     "iopub.status.idle": "2024-01-19T23:15:00.144419Z",
     "shell.execute_reply": "2024-01-19T23:15:00.143410Z"
    },
    "papermill": {
     "duration": 4.841615,
     "end_time": "2024-01-19T23:15:00.147036",
     "exception": false,
     "start_time": "2024-01-19T23:14:55.305421",
     "status": "completed"
    },
    "tags": []
   },
   "outputs": [],
   "source": [
    "import numpy as np # linear algebra\n",
    "import pandas as pd # data processing, CSV file I/O (e.g. pd.read_csv)\n",
    "import torch.nn as nn\n",
    "import torch\n",
    "import matplotlib.pyplot as plt"
   ]
  },
  {
   "cell_type": "code",
   "execution_count": 2,
   "id": "c3a49533",
   "metadata": {
    "execution": {
     "iopub.execute_input": "2024-01-19T23:15:00.169327Z",
     "iopub.status.busy": "2024-01-19T23:15:00.168819Z",
     "iopub.status.idle": "2024-01-19T23:15:02.738009Z",
     "shell.execute_reply": "2024-01-19T23:15:02.737031Z"
    },
    "papermill": {
     "duration": 2.58283,
     "end_time": "2024-01-19T23:15:02.740342",
     "exception": false,
     "start_time": "2024-01-19T23:15:00.157512",
     "status": "completed"
    },
    "tags": []
   },
   "outputs": [
    {
     "data": {
      "text/html": [
       "<div>\n",
       "<style scoped>\n",
       "    .dataframe tbody tr th:only-of-type {\n",
       "        vertical-align: middle;\n",
       "    }\n",
       "\n",
       "    .dataframe tbody tr th {\n",
       "        vertical-align: top;\n",
       "    }\n",
       "\n",
       "    .dataframe thead th {\n",
       "        text-align: right;\n",
       "    }\n",
       "</style>\n",
       "<table border=\"1\" class=\"dataframe\">\n",
       "  <thead>\n",
       "    <tr style=\"text-align: right;\">\n",
       "      <th></th>\n",
       "      <th>label</th>\n",
       "      <th>pixel0</th>\n",
       "      <th>pixel1</th>\n",
       "      <th>pixel2</th>\n",
       "      <th>pixel3</th>\n",
       "      <th>pixel4</th>\n",
       "      <th>pixel5</th>\n",
       "      <th>pixel6</th>\n",
       "      <th>pixel7</th>\n",
       "      <th>pixel8</th>\n",
       "      <th>...</th>\n",
       "      <th>pixel774</th>\n",
       "      <th>pixel775</th>\n",
       "      <th>pixel776</th>\n",
       "      <th>pixel777</th>\n",
       "      <th>pixel778</th>\n",
       "      <th>pixel779</th>\n",
       "      <th>pixel780</th>\n",
       "      <th>pixel781</th>\n",
       "      <th>pixel782</th>\n",
       "      <th>pixel783</th>\n",
       "    </tr>\n",
       "  </thead>\n",
       "  <tbody>\n",
       "    <tr>\n",
       "      <th>0</th>\n",
       "      <td>1</td>\n",
       "      <td>0</td>\n",
       "      <td>0</td>\n",
       "      <td>0</td>\n",
       "      <td>0</td>\n",
       "      <td>0</td>\n",
       "      <td>0</td>\n",
       "      <td>0</td>\n",
       "      <td>0</td>\n",
       "      <td>0</td>\n",
       "      <td>...</td>\n",
       "      <td>0</td>\n",
       "      <td>0</td>\n",
       "      <td>0</td>\n",
       "      <td>0</td>\n",
       "      <td>0</td>\n",
       "      <td>0</td>\n",
       "      <td>0</td>\n",
       "      <td>0</td>\n",
       "      <td>0</td>\n",
       "      <td>0</td>\n",
       "    </tr>\n",
       "    <tr>\n",
       "      <th>1</th>\n",
       "      <td>0</td>\n",
       "      <td>0</td>\n",
       "      <td>0</td>\n",
       "      <td>0</td>\n",
       "      <td>0</td>\n",
       "      <td>0</td>\n",
       "      <td>0</td>\n",
       "      <td>0</td>\n",
       "      <td>0</td>\n",
       "      <td>0</td>\n",
       "      <td>...</td>\n",
       "      <td>0</td>\n",
       "      <td>0</td>\n",
       "      <td>0</td>\n",
       "      <td>0</td>\n",
       "      <td>0</td>\n",
       "      <td>0</td>\n",
       "      <td>0</td>\n",
       "      <td>0</td>\n",
       "      <td>0</td>\n",
       "      <td>0</td>\n",
       "    </tr>\n",
       "    <tr>\n",
       "      <th>2</th>\n",
       "      <td>1</td>\n",
       "      <td>0</td>\n",
       "      <td>0</td>\n",
       "      <td>0</td>\n",
       "      <td>0</td>\n",
       "      <td>0</td>\n",
       "      <td>0</td>\n",
       "      <td>0</td>\n",
       "      <td>0</td>\n",
       "      <td>0</td>\n",
       "      <td>...</td>\n",
       "      <td>0</td>\n",
       "      <td>0</td>\n",
       "      <td>0</td>\n",
       "      <td>0</td>\n",
       "      <td>0</td>\n",
       "      <td>0</td>\n",
       "      <td>0</td>\n",
       "      <td>0</td>\n",
       "      <td>0</td>\n",
       "      <td>0</td>\n",
       "    </tr>\n",
       "    <tr>\n",
       "      <th>3</th>\n",
       "      <td>4</td>\n",
       "      <td>0</td>\n",
       "      <td>0</td>\n",
       "      <td>0</td>\n",
       "      <td>0</td>\n",
       "      <td>0</td>\n",
       "      <td>0</td>\n",
       "      <td>0</td>\n",
       "      <td>0</td>\n",
       "      <td>0</td>\n",
       "      <td>...</td>\n",
       "      <td>0</td>\n",
       "      <td>0</td>\n",
       "      <td>0</td>\n",
       "      <td>0</td>\n",
       "      <td>0</td>\n",
       "      <td>0</td>\n",
       "      <td>0</td>\n",
       "      <td>0</td>\n",
       "      <td>0</td>\n",
       "      <td>0</td>\n",
       "    </tr>\n",
       "    <tr>\n",
       "      <th>4</th>\n",
       "      <td>0</td>\n",
       "      <td>0</td>\n",
       "      <td>0</td>\n",
       "      <td>0</td>\n",
       "      <td>0</td>\n",
       "      <td>0</td>\n",
       "      <td>0</td>\n",
       "      <td>0</td>\n",
       "      <td>0</td>\n",
       "      <td>0</td>\n",
       "      <td>...</td>\n",
       "      <td>0</td>\n",
       "      <td>0</td>\n",
       "      <td>0</td>\n",
       "      <td>0</td>\n",
       "      <td>0</td>\n",
       "      <td>0</td>\n",
       "      <td>0</td>\n",
       "      <td>0</td>\n",
       "      <td>0</td>\n",
       "      <td>0</td>\n",
       "    </tr>\n",
       "    <tr>\n",
       "      <th>...</th>\n",
       "      <td>...</td>\n",
       "      <td>...</td>\n",
       "      <td>...</td>\n",
       "      <td>...</td>\n",
       "      <td>...</td>\n",
       "      <td>...</td>\n",
       "      <td>...</td>\n",
       "      <td>...</td>\n",
       "      <td>...</td>\n",
       "      <td>...</td>\n",
       "      <td>...</td>\n",
       "      <td>...</td>\n",
       "      <td>...</td>\n",
       "      <td>...</td>\n",
       "      <td>...</td>\n",
       "      <td>...</td>\n",
       "      <td>...</td>\n",
       "      <td>...</td>\n",
       "      <td>...</td>\n",
       "      <td>...</td>\n",
       "      <td>...</td>\n",
       "    </tr>\n",
       "    <tr>\n",
       "      <th>41995</th>\n",
       "      <td>0</td>\n",
       "      <td>0</td>\n",
       "      <td>0</td>\n",
       "      <td>0</td>\n",
       "      <td>0</td>\n",
       "      <td>0</td>\n",
       "      <td>0</td>\n",
       "      <td>0</td>\n",
       "      <td>0</td>\n",
       "      <td>0</td>\n",
       "      <td>...</td>\n",
       "      <td>0</td>\n",
       "      <td>0</td>\n",
       "      <td>0</td>\n",
       "      <td>0</td>\n",
       "      <td>0</td>\n",
       "      <td>0</td>\n",
       "      <td>0</td>\n",
       "      <td>0</td>\n",
       "      <td>0</td>\n",
       "      <td>0</td>\n",
       "    </tr>\n",
       "    <tr>\n",
       "      <th>41996</th>\n",
       "      <td>1</td>\n",
       "      <td>0</td>\n",
       "      <td>0</td>\n",
       "      <td>0</td>\n",
       "      <td>0</td>\n",
       "      <td>0</td>\n",
       "      <td>0</td>\n",
       "      <td>0</td>\n",
       "      <td>0</td>\n",
       "      <td>0</td>\n",
       "      <td>...</td>\n",
       "      <td>0</td>\n",
       "      <td>0</td>\n",
       "      <td>0</td>\n",
       "      <td>0</td>\n",
       "      <td>0</td>\n",
       "      <td>0</td>\n",
       "      <td>0</td>\n",
       "      <td>0</td>\n",
       "      <td>0</td>\n",
       "      <td>0</td>\n",
       "    </tr>\n",
       "    <tr>\n",
       "      <th>41997</th>\n",
       "      <td>7</td>\n",
       "      <td>0</td>\n",
       "      <td>0</td>\n",
       "      <td>0</td>\n",
       "      <td>0</td>\n",
       "      <td>0</td>\n",
       "      <td>0</td>\n",
       "      <td>0</td>\n",
       "      <td>0</td>\n",
       "      <td>0</td>\n",
       "      <td>...</td>\n",
       "      <td>0</td>\n",
       "      <td>0</td>\n",
       "      <td>0</td>\n",
       "      <td>0</td>\n",
       "      <td>0</td>\n",
       "      <td>0</td>\n",
       "      <td>0</td>\n",
       "      <td>0</td>\n",
       "      <td>0</td>\n",
       "      <td>0</td>\n",
       "    </tr>\n",
       "    <tr>\n",
       "      <th>41998</th>\n",
       "      <td>6</td>\n",
       "      <td>0</td>\n",
       "      <td>0</td>\n",
       "      <td>0</td>\n",
       "      <td>0</td>\n",
       "      <td>0</td>\n",
       "      <td>0</td>\n",
       "      <td>0</td>\n",
       "      <td>0</td>\n",
       "      <td>0</td>\n",
       "      <td>...</td>\n",
       "      <td>0</td>\n",
       "      <td>0</td>\n",
       "      <td>0</td>\n",
       "      <td>0</td>\n",
       "      <td>0</td>\n",
       "      <td>0</td>\n",
       "      <td>0</td>\n",
       "      <td>0</td>\n",
       "      <td>0</td>\n",
       "      <td>0</td>\n",
       "    </tr>\n",
       "    <tr>\n",
       "      <th>41999</th>\n",
       "      <td>9</td>\n",
       "      <td>0</td>\n",
       "      <td>0</td>\n",
       "      <td>0</td>\n",
       "      <td>0</td>\n",
       "      <td>0</td>\n",
       "      <td>0</td>\n",
       "      <td>0</td>\n",
       "      <td>0</td>\n",
       "      <td>0</td>\n",
       "      <td>...</td>\n",
       "      <td>0</td>\n",
       "      <td>0</td>\n",
       "      <td>0</td>\n",
       "      <td>0</td>\n",
       "      <td>0</td>\n",
       "      <td>0</td>\n",
       "      <td>0</td>\n",
       "      <td>0</td>\n",
       "      <td>0</td>\n",
       "      <td>0</td>\n",
       "    </tr>\n",
       "  </tbody>\n",
       "</table>\n",
       "<p>42000 rows × 785 columns</p>\n",
       "</div>"
      ],
      "text/plain": [
       "       label  pixel0  pixel1  pixel2  pixel3  pixel4  pixel5  pixel6  pixel7  \\\n",
       "0          1       0       0       0       0       0       0       0       0   \n",
       "1          0       0       0       0       0       0       0       0       0   \n",
       "2          1       0       0       0       0       0       0       0       0   \n",
       "3          4       0       0       0       0       0       0       0       0   \n",
       "4          0       0       0       0       0       0       0       0       0   \n",
       "...      ...     ...     ...     ...     ...     ...     ...     ...     ...   \n",
       "41995      0       0       0       0       0       0       0       0       0   \n",
       "41996      1       0       0       0       0       0       0       0       0   \n",
       "41997      7       0       0       0       0       0       0       0       0   \n",
       "41998      6       0       0       0       0       0       0       0       0   \n",
       "41999      9       0       0       0       0       0       0       0       0   \n",
       "\n",
       "       pixel8  ...  pixel774  pixel775  pixel776  pixel777  pixel778  \\\n",
       "0           0  ...         0         0         0         0         0   \n",
       "1           0  ...         0         0         0         0         0   \n",
       "2           0  ...         0         0         0         0         0   \n",
       "3           0  ...         0         0         0         0         0   \n",
       "4           0  ...         0         0         0         0         0   \n",
       "...       ...  ...       ...       ...       ...       ...       ...   \n",
       "41995       0  ...         0         0         0         0         0   \n",
       "41996       0  ...         0         0         0         0         0   \n",
       "41997       0  ...         0         0         0         0         0   \n",
       "41998       0  ...         0         0         0         0         0   \n",
       "41999       0  ...         0         0         0         0         0   \n",
       "\n",
       "       pixel779  pixel780  pixel781  pixel782  pixel783  \n",
       "0             0         0         0         0         0  \n",
       "1             0         0         0         0         0  \n",
       "2             0         0         0         0         0  \n",
       "3             0         0         0         0         0  \n",
       "4             0         0         0         0         0  \n",
       "...         ...       ...       ...       ...       ...  \n",
       "41995         0         0         0         0         0  \n",
       "41996         0         0         0         0         0  \n",
       "41997         0         0         0         0         0  \n",
       "41998         0         0         0         0         0  \n",
       "41999         0         0         0         0         0  \n",
       "\n",
       "[42000 rows x 785 columns]"
      ]
     },
     "execution_count": 2,
     "metadata": {},
     "output_type": "execute_result"
    }
   ],
   "source": [
    "path='/kaggle/input/digit-recognizer/train.csv'\n",
    "trainset=pd.read_csv(path)\n",
    "trainset"
   ]
  },
  {
   "cell_type": "code",
   "execution_count": 3,
   "id": "ea8a565c",
   "metadata": {
    "execution": {
     "iopub.execute_input": "2024-01-19T23:15:02.763355Z",
     "iopub.status.busy": "2024-01-19T23:15:02.762970Z",
     "iopub.status.idle": "2024-01-19T23:15:02.767970Z",
     "shell.execute_reply": "2024-01-19T23:15:02.766712Z"
    },
    "papermill": {
     "duration": 0.019243,
     "end_time": "2024-01-19T23:15:02.770202",
     "exception": false,
     "start_time": "2024-01-19T23:15:02.750959",
     "status": "completed"
    },
    "tags": []
   },
   "outputs": [],
   "source": [
    "from torch.utils.data import DataLoader"
   ]
  },
  {
   "cell_type": "code",
   "execution_count": 4,
   "id": "bd7b8113",
   "metadata": {
    "execution": {
     "iopub.execute_input": "2024-01-19T23:15:02.793132Z",
     "iopub.status.busy": "2024-01-19T23:15:02.792514Z",
     "iopub.status.idle": "2024-01-19T23:15:02.863262Z",
     "shell.execute_reply": "2024-01-19T23:15:02.861788Z"
    },
    "papermill": {
     "duration": 0.084959,
     "end_time": "2024-01-19T23:15:02.865716",
     "exception": false,
     "start_time": "2024-01-19T23:15:02.780757",
     "status": "completed"
    },
    "tags": []
   },
   "outputs": [
    {
     "data": {
      "text/html": [
       "<div>\n",
       "<style scoped>\n",
       "    .dataframe tbody tr th:only-of-type {\n",
       "        vertical-align: middle;\n",
       "    }\n",
       "\n",
       "    .dataframe tbody tr th {\n",
       "        vertical-align: top;\n",
       "    }\n",
       "\n",
       "    .dataframe thead th {\n",
       "        text-align: right;\n",
       "    }\n",
       "</style>\n",
       "<table border=\"1\" class=\"dataframe\">\n",
       "  <thead>\n",
       "    <tr style=\"text-align: right;\">\n",
       "      <th></th>\n",
       "      <th>pixel0</th>\n",
       "      <th>pixel1</th>\n",
       "      <th>pixel2</th>\n",
       "      <th>pixel3</th>\n",
       "      <th>pixel4</th>\n",
       "      <th>pixel5</th>\n",
       "      <th>pixel6</th>\n",
       "      <th>pixel7</th>\n",
       "      <th>pixel8</th>\n",
       "      <th>pixel9</th>\n",
       "      <th>...</th>\n",
       "      <th>pixel774</th>\n",
       "      <th>pixel775</th>\n",
       "      <th>pixel776</th>\n",
       "      <th>pixel777</th>\n",
       "      <th>pixel778</th>\n",
       "      <th>pixel779</th>\n",
       "      <th>pixel780</th>\n",
       "      <th>pixel781</th>\n",
       "      <th>pixel782</th>\n",
       "      <th>pixel783</th>\n",
       "    </tr>\n",
       "  </thead>\n",
       "  <tbody>\n",
       "    <tr>\n",
       "      <th>0</th>\n",
       "      <td>0</td>\n",
       "      <td>0</td>\n",
       "      <td>0</td>\n",
       "      <td>0</td>\n",
       "      <td>0</td>\n",
       "      <td>0</td>\n",
       "      <td>0</td>\n",
       "      <td>0</td>\n",
       "      <td>0</td>\n",
       "      <td>0</td>\n",
       "      <td>...</td>\n",
       "      <td>0</td>\n",
       "      <td>0</td>\n",
       "      <td>0</td>\n",
       "      <td>0</td>\n",
       "      <td>0</td>\n",
       "      <td>0</td>\n",
       "      <td>0</td>\n",
       "      <td>0</td>\n",
       "      <td>0</td>\n",
       "      <td>0</td>\n",
       "    </tr>\n",
       "    <tr>\n",
       "      <th>1</th>\n",
       "      <td>0</td>\n",
       "      <td>0</td>\n",
       "      <td>0</td>\n",
       "      <td>0</td>\n",
       "      <td>0</td>\n",
       "      <td>0</td>\n",
       "      <td>0</td>\n",
       "      <td>0</td>\n",
       "      <td>0</td>\n",
       "      <td>0</td>\n",
       "      <td>...</td>\n",
       "      <td>0</td>\n",
       "      <td>0</td>\n",
       "      <td>0</td>\n",
       "      <td>0</td>\n",
       "      <td>0</td>\n",
       "      <td>0</td>\n",
       "      <td>0</td>\n",
       "      <td>0</td>\n",
       "      <td>0</td>\n",
       "      <td>0</td>\n",
       "    </tr>\n",
       "    <tr>\n",
       "      <th>2</th>\n",
       "      <td>0</td>\n",
       "      <td>0</td>\n",
       "      <td>0</td>\n",
       "      <td>0</td>\n",
       "      <td>0</td>\n",
       "      <td>0</td>\n",
       "      <td>0</td>\n",
       "      <td>0</td>\n",
       "      <td>0</td>\n",
       "      <td>0</td>\n",
       "      <td>...</td>\n",
       "      <td>0</td>\n",
       "      <td>0</td>\n",
       "      <td>0</td>\n",
       "      <td>0</td>\n",
       "      <td>0</td>\n",
       "      <td>0</td>\n",
       "      <td>0</td>\n",
       "      <td>0</td>\n",
       "      <td>0</td>\n",
       "      <td>0</td>\n",
       "    </tr>\n",
       "    <tr>\n",
       "      <th>3</th>\n",
       "      <td>0</td>\n",
       "      <td>0</td>\n",
       "      <td>0</td>\n",
       "      <td>0</td>\n",
       "      <td>0</td>\n",
       "      <td>0</td>\n",
       "      <td>0</td>\n",
       "      <td>0</td>\n",
       "      <td>0</td>\n",
       "      <td>0</td>\n",
       "      <td>...</td>\n",
       "      <td>0</td>\n",
       "      <td>0</td>\n",
       "      <td>0</td>\n",
       "      <td>0</td>\n",
       "      <td>0</td>\n",
       "      <td>0</td>\n",
       "      <td>0</td>\n",
       "      <td>0</td>\n",
       "      <td>0</td>\n",
       "      <td>0</td>\n",
       "    </tr>\n",
       "    <tr>\n",
       "      <th>4</th>\n",
       "      <td>0</td>\n",
       "      <td>0</td>\n",
       "      <td>0</td>\n",
       "      <td>0</td>\n",
       "      <td>0</td>\n",
       "      <td>0</td>\n",
       "      <td>0</td>\n",
       "      <td>0</td>\n",
       "      <td>0</td>\n",
       "      <td>0</td>\n",
       "      <td>...</td>\n",
       "      <td>0</td>\n",
       "      <td>0</td>\n",
       "      <td>0</td>\n",
       "      <td>0</td>\n",
       "      <td>0</td>\n",
       "      <td>0</td>\n",
       "      <td>0</td>\n",
       "      <td>0</td>\n",
       "      <td>0</td>\n",
       "      <td>0</td>\n",
       "    </tr>\n",
       "    <tr>\n",
       "      <th>...</th>\n",
       "      <td>...</td>\n",
       "      <td>...</td>\n",
       "      <td>...</td>\n",
       "      <td>...</td>\n",
       "      <td>...</td>\n",
       "      <td>...</td>\n",
       "      <td>...</td>\n",
       "      <td>...</td>\n",
       "      <td>...</td>\n",
       "      <td>...</td>\n",
       "      <td>...</td>\n",
       "      <td>...</td>\n",
       "      <td>...</td>\n",
       "      <td>...</td>\n",
       "      <td>...</td>\n",
       "      <td>...</td>\n",
       "      <td>...</td>\n",
       "      <td>...</td>\n",
       "      <td>...</td>\n",
       "      <td>...</td>\n",
       "      <td>...</td>\n",
       "    </tr>\n",
       "    <tr>\n",
       "      <th>41995</th>\n",
       "      <td>0</td>\n",
       "      <td>0</td>\n",
       "      <td>0</td>\n",
       "      <td>0</td>\n",
       "      <td>0</td>\n",
       "      <td>0</td>\n",
       "      <td>0</td>\n",
       "      <td>0</td>\n",
       "      <td>0</td>\n",
       "      <td>0</td>\n",
       "      <td>...</td>\n",
       "      <td>0</td>\n",
       "      <td>0</td>\n",
       "      <td>0</td>\n",
       "      <td>0</td>\n",
       "      <td>0</td>\n",
       "      <td>0</td>\n",
       "      <td>0</td>\n",
       "      <td>0</td>\n",
       "      <td>0</td>\n",
       "      <td>0</td>\n",
       "    </tr>\n",
       "    <tr>\n",
       "      <th>41996</th>\n",
       "      <td>0</td>\n",
       "      <td>0</td>\n",
       "      <td>0</td>\n",
       "      <td>0</td>\n",
       "      <td>0</td>\n",
       "      <td>0</td>\n",
       "      <td>0</td>\n",
       "      <td>0</td>\n",
       "      <td>0</td>\n",
       "      <td>0</td>\n",
       "      <td>...</td>\n",
       "      <td>0</td>\n",
       "      <td>0</td>\n",
       "      <td>0</td>\n",
       "      <td>0</td>\n",
       "      <td>0</td>\n",
       "      <td>0</td>\n",
       "      <td>0</td>\n",
       "      <td>0</td>\n",
       "      <td>0</td>\n",
       "      <td>0</td>\n",
       "    </tr>\n",
       "    <tr>\n",
       "      <th>41997</th>\n",
       "      <td>0</td>\n",
       "      <td>0</td>\n",
       "      <td>0</td>\n",
       "      <td>0</td>\n",
       "      <td>0</td>\n",
       "      <td>0</td>\n",
       "      <td>0</td>\n",
       "      <td>0</td>\n",
       "      <td>0</td>\n",
       "      <td>0</td>\n",
       "      <td>...</td>\n",
       "      <td>0</td>\n",
       "      <td>0</td>\n",
       "      <td>0</td>\n",
       "      <td>0</td>\n",
       "      <td>0</td>\n",
       "      <td>0</td>\n",
       "      <td>0</td>\n",
       "      <td>0</td>\n",
       "      <td>0</td>\n",
       "      <td>0</td>\n",
       "    </tr>\n",
       "    <tr>\n",
       "      <th>41998</th>\n",
       "      <td>0</td>\n",
       "      <td>0</td>\n",
       "      <td>0</td>\n",
       "      <td>0</td>\n",
       "      <td>0</td>\n",
       "      <td>0</td>\n",
       "      <td>0</td>\n",
       "      <td>0</td>\n",
       "      <td>0</td>\n",
       "      <td>0</td>\n",
       "      <td>...</td>\n",
       "      <td>0</td>\n",
       "      <td>0</td>\n",
       "      <td>0</td>\n",
       "      <td>0</td>\n",
       "      <td>0</td>\n",
       "      <td>0</td>\n",
       "      <td>0</td>\n",
       "      <td>0</td>\n",
       "      <td>0</td>\n",
       "      <td>0</td>\n",
       "    </tr>\n",
       "    <tr>\n",
       "      <th>41999</th>\n",
       "      <td>0</td>\n",
       "      <td>0</td>\n",
       "      <td>0</td>\n",
       "      <td>0</td>\n",
       "      <td>0</td>\n",
       "      <td>0</td>\n",
       "      <td>0</td>\n",
       "      <td>0</td>\n",
       "      <td>0</td>\n",
       "      <td>0</td>\n",
       "      <td>...</td>\n",
       "      <td>0</td>\n",
       "      <td>0</td>\n",
       "      <td>0</td>\n",
       "      <td>0</td>\n",
       "      <td>0</td>\n",
       "      <td>0</td>\n",
       "      <td>0</td>\n",
       "      <td>0</td>\n",
       "      <td>0</td>\n",
       "      <td>0</td>\n",
       "    </tr>\n",
       "  </tbody>\n",
       "</table>\n",
       "<p>42000 rows × 784 columns</p>\n",
       "</div>"
      ],
      "text/plain": [
       "       pixel0  pixel1  pixel2  pixel3  pixel4  pixel5  pixel6  pixel7  pixel8  \\\n",
       "0           0       0       0       0       0       0       0       0       0   \n",
       "1           0       0       0       0       0       0       0       0       0   \n",
       "2           0       0       0       0       0       0       0       0       0   \n",
       "3           0       0       0       0       0       0       0       0       0   \n",
       "4           0       0       0       0       0       0       0       0       0   \n",
       "...       ...     ...     ...     ...     ...     ...     ...     ...     ...   \n",
       "41995       0       0       0       0       0       0       0       0       0   \n",
       "41996       0       0       0       0       0       0       0       0       0   \n",
       "41997       0       0       0       0       0       0       0       0       0   \n",
       "41998       0       0       0       0       0       0       0       0       0   \n",
       "41999       0       0       0       0       0       0       0       0       0   \n",
       "\n",
       "       pixel9  ...  pixel774  pixel775  pixel776  pixel777  pixel778  \\\n",
       "0           0  ...         0         0         0         0         0   \n",
       "1           0  ...         0         0         0         0         0   \n",
       "2           0  ...         0         0         0         0         0   \n",
       "3           0  ...         0         0         0         0         0   \n",
       "4           0  ...         0         0         0         0         0   \n",
       "...       ...  ...       ...       ...       ...       ...       ...   \n",
       "41995       0  ...         0         0         0         0         0   \n",
       "41996       0  ...         0         0         0         0         0   \n",
       "41997       0  ...         0         0         0         0         0   \n",
       "41998       0  ...         0         0         0         0         0   \n",
       "41999       0  ...         0         0         0         0         0   \n",
       "\n",
       "       pixel779  pixel780  pixel781  pixel782  pixel783  \n",
       "0             0         0         0         0         0  \n",
       "1             0         0         0         0         0  \n",
       "2             0         0         0         0         0  \n",
       "3             0         0         0         0         0  \n",
       "4             0         0         0         0         0  \n",
       "...         ...       ...       ...       ...       ...  \n",
       "41995         0         0         0         0         0  \n",
       "41996         0         0         0         0         0  \n",
       "41997         0         0         0         0         0  \n",
       "41998         0         0         0         0         0  \n",
       "41999         0         0         0         0         0  \n",
       "\n",
       "[42000 rows x 784 columns]"
      ]
     },
     "execution_count": 4,
     "metadata": {},
     "output_type": "execute_result"
    }
   ],
   "source": [
    "trainset.drop('label',axis=1)"
   ]
  },
  {
   "cell_type": "markdown",
   "id": "79ea0294",
   "metadata": {
    "execution": {
     "iopub.execute_input": "2023-11-25T00:42:55.915189Z",
     "iopub.status.busy": "2023-11-25T00:42:55.914797Z",
     "iopub.status.idle": "2023-11-25T00:42:55.919273Z",
     "shell.execute_reply": "2023-11-25T00:42:55.918322Z",
     "shell.execute_reply.started": "2023-11-25T00:42:55.915165Z"
    },
    "papermill": {
     "duration": 0.01028,
     "end_time": "2024-01-19T23:15:02.886611",
     "exception": false,
     "start_time": "2024-01-19T23:15:02.876331",
     "status": "completed"
    },
    "tags": []
   },
   "source": [
    "__*sample data*__"
   ]
  },
  {
   "cell_type": "code",
   "execution_count": 5,
   "id": "3df4cf05",
   "metadata": {
    "execution": {
     "iopub.execute_input": "2024-01-19T23:15:02.911586Z",
     "iopub.status.busy": "2024-01-19T23:15:02.911238Z",
     "iopub.status.idle": "2024-01-19T23:15:02.960279Z",
     "shell.execute_reply": "2024-01-19T23:15:02.958422Z"
    },
    "papermill": {
     "duration": 0.064132,
     "end_time": "2024-01-19T23:15:02.963131",
     "exception": false,
     "start_time": "2024-01-19T23:15:02.898999",
     "status": "completed"
    },
    "tags": []
   },
   "outputs": [],
   "source": [
    "sample=np.array(trainset.drop('label',axis=1).iloc[6])\n",
    "sample=sample.reshape((28,-1))"
   ]
  },
  {
   "cell_type": "code",
   "execution_count": 6,
   "id": "e5f159c7",
   "metadata": {
    "execution": {
     "iopub.execute_input": "2024-01-19T23:15:02.990755Z",
     "iopub.status.busy": "2024-01-19T23:15:02.990312Z",
     "iopub.status.idle": "2024-01-19T23:15:03.185596Z",
     "shell.execute_reply": "2024-01-19T23:15:03.184194Z"
    },
    "papermill": {
     "duration": 0.213333,
     "end_time": "2024-01-19T23:15:03.188304",
     "exception": false,
     "start_time": "2024-01-19T23:15:02.974971",
     "status": "completed"
    },
    "tags": []
   },
   "outputs": [
    {
     "data": {
      "image/png": "[encoded data removed]",
      "text/plain": [
       "<Figure size 640x480 with 1 Axes>"
      ]
     },
     "metadata": {},
     "output_type": "display_data"
    }
   ],
   "source": [
    "plt.imshow(sample)\n",
    "plt.show()"
   ]
  },
  {
   "cell_type": "markdown",
   "id": "32111524",
   "metadata": {
    "papermill": {
     "duration": 0.011122,
     "end_time": "2024-01-19T23:15:03.211168",
     "exception": false,
     "start_time": "2024-01-19T23:15:03.200046",
     "status": "completed"
    },
    "tags": []
   },
   "source": [
    "## 1-Data"
   ]
  },
  {
   "cell_type": "code",
   "execution_count": 7,
   "id": "f7d15b0d",
   "metadata": {
    "execution": {
     "iopub.execute_input": "2024-01-19T23:15:03.235295Z",
     "iopub.status.busy": "2024-01-19T23:15:03.234940Z",
     "iopub.status.idle": "2024-01-19T23:15:03.282434Z",
     "shell.execute_reply": "2024-01-19T23:15:03.280752Z"
    },
    "papermill": {
     "duration": 0.063058,
     "end_time": "2024-01-19T23:15:03.285349",
     "exception": false,
     "start_time": "2024-01-19T23:15:03.222291",
     "status": "completed"
    },
    "tags": []
   },
   "outputs": [],
   "source": [
    "dt=trainset.copy()"
   ]
  },
  {
   "cell_type": "markdown",
   "id": "ca51a15f",
   "metadata": {
    "papermill": {
     "duration": 0.010794,
     "end_time": "2024-01-19T23:15:03.307538",
     "exception": false,
     "start_time": "2024-01-19T23:15:03.296744",
     "status": "completed"
    },
    "tags": []
   },
   "source": [
    "__*removing outliers*__"
   ]
  },
  {
   "cell_type": "code",
   "execution_count": 8,
   "id": "bb652c06",
   "metadata": {
    "execution": {
     "iopub.execute_input": "2024-01-19T23:15:03.334609Z",
     "iopub.status.busy": "2024-01-19T23:15:03.332258Z",
     "iopub.status.idle": "2024-01-19T23:16:04.245285Z",
     "shell.execute_reply": "2024-01-19T23:16:04.243537Z"
    },
    "papermill": {
     "duration": 60.929398,
     "end_time": "2024-01-19T23:16:04.248037",
     "exception": false,
     "start_time": "2024-01-19T23:15:03.318639",
     "status": "completed"
    },
    "tags": []
   },
   "outputs": [],
   "source": [
    "from sklearn.neighbors import LocalOutlierFactor\n",
    "\n",
    "lof = LocalOutlierFactor(contamination=0.1)\n",
    "outliers = (lof.fit_predict(dt) == -1)"
   ]
  },
  {
   "cell_type": "code",
   "execution_count": 9,
   "id": "9297d7e1",
   "metadata": {
    "execution": {
     "iopub.execute_input": "2024-01-19T23:16:04.271031Z",
     "iopub.status.busy": "2024-01-19T23:16:04.270561Z",
     "iopub.status.idle": "2024-01-19T23:16:04.318929Z",
     "shell.execute_reply": "2024-01-19T23:16:04.317923Z"
    },
    "papermill": {
     "duration": 0.062619,
     "end_time": "2024-01-19T23:16:04.321395",
     "exception": false,
     "start_time": "2024-01-19T23:16:04.258776",
     "status": "completed"
    },
    "tags": []
   },
   "outputs": [],
   "source": [
    "indices=[]\n",
    "for i in range(len(outliers)):\n",
    "    if outliers[i]==True:\n",
    "        indices.append(i)"
   ]
  },
  {
   "cell_type": "code",
   "execution_count": 10,
   "id": "cd354dd1",
   "metadata": {
    "execution": {
     "iopub.execute_input": "2024-01-19T23:16:04.400086Z",
     "iopub.status.busy": "2024-01-19T23:16:04.399680Z",
     "iopub.status.idle": "2024-01-19T23:16:04.453296Z",
     "shell.execute_reply": "2024-01-19T23:16:04.452332Z"
    },
    "papermill": {
     "duration": 0.068632,
     "end_time": "2024-01-19T23:16:04.455765",
     "exception": false,
     "start_time": "2024-01-19T23:16:04.387133",
     "status": "completed"
    },
    "tags": []
   },
   "outputs": [],
   "source": [
    "dt=dt.drop(indices)"
   ]
  },
  {
   "cell_type": "code",
   "execution_count": 11,
   "id": "81034122",
   "metadata": {
    "execution": {
     "iopub.execute_input": "2024-01-19T23:16:04.479973Z",
     "iopub.status.busy": "2024-01-19T23:16:04.479410Z",
     "iopub.status.idle": "2024-01-19T23:16:04.499584Z",
     "shell.execute_reply": "2024-01-19T23:16:04.498588Z"
    },
    "papermill": {
     "duration": 0.035185,
     "end_time": "2024-01-19T23:16:04.502225",
     "exception": false,
     "start_time": "2024-01-19T23:16:04.467040",
     "status": "completed"
    },
    "tags": []
   },
   "outputs": [
    {
     "data": {
      "text/html": [
       "<div>\n",
       "<style scoped>\n",
       "    .dataframe tbody tr th:only-of-type {\n",
       "        vertical-align: middle;\n",
       "    }\n",
       "\n",
       "    .dataframe tbody tr th {\n",
       "        vertical-align: top;\n",
       "    }\n",
       "\n",
       "    .dataframe thead th {\n",
       "        text-align: right;\n",
       "    }\n",
       "</style>\n",
       "<table border=\"1\" class=\"dataframe\">\n",
       "  <thead>\n",
       "    <tr style=\"text-align: right;\">\n",
       "      <th></th>\n",
       "      <th>label</th>\n",
       "      <th>pixel0</th>\n",
       "      <th>pixel1</th>\n",
       "      <th>pixel2</th>\n",
       "      <th>pixel3</th>\n",
       "      <th>pixel4</th>\n",
       "      <th>pixel5</th>\n",
       "      <th>pixel6</th>\n",
       "      <th>pixel7</th>\n",
       "      <th>pixel8</th>\n",
       "      <th>...</th>\n",
       "      <th>pixel774</th>\n",
       "      <th>pixel775</th>\n",
       "      <th>pixel776</th>\n",
       "      <th>pixel777</th>\n",
       "      <th>pixel778</th>\n",
       "      <th>pixel779</th>\n",
       "      <th>pixel780</th>\n",
       "      <th>pixel781</th>\n",
       "      <th>pixel782</th>\n",
       "      <th>pixel783</th>\n",
       "    </tr>\n",
       "  </thead>\n",
       "  <tbody>\n",
       "    <tr>\n",
       "      <th>0</th>\n",
       "      <td>1</td>\n",
       "      <td>0</td>\n",
       "      <td>0</td>\n",
       "      <td>0</td>\n",
       "      <td>0</td>\n",
       "      <td>0</td>\n",
       "      <td>0</td>\n",
       "      <td>0</td>\n",
       "      <td>0</td>\n",
       "      <td>0</td>\n",
       "      <td>...</td>\n",
       "      <td>0</td>\n",
       "      <td>0</td>\n",
       "      <td>0</td>\n",
       "      <td>0</td>\n",
       "      <td>0</td>\n",
       "      <td>0</td>\n",
       "      <td>0</td>\n",
       "      <td>0</td>\n",
       "      <td>0</td>\n",
       "      <td>0</td>\n",
       "    </tr>\n",
       "    <tr>\n",
       "      <th>1</th>\n",
       "      <td>0</td>\n",
       "      <td>0</td>\n",
       "      <td>0</td>\n",
       "      <td>0</td>\n",
       "      <td>0</td>\n",
       "      <td>0</td>\n",
       "      <td>0</td>\n",
       "      <td>0</td>\n",
       "      <td>0</td>\n",
       "      <td>0</td>\n",
       "      <td>...</td>\n",
       "      <td>0</td>\n",
       "      <td>0</td>\n",
       "      <td>0</td>\n",
       "      <td>0</td>\n",
       "      <td>0</td>\n",
       "      <td>0</td>\n",
       "      <td>0</td>\n",
       "      <td>0</td>\n",
       "      <td>0</td>\n",
       "      <td>0</td>\n",
       "    </tr>\n",
       "    <tr>\n",
       "      <th>2</th>\n",
       "      <td>1</td>\n",
       "      <td>0</td>\n",
       "      <td>0</td>\n",
       "      <td>0</td>\n",
       "      <td>0</td>\n",
       "      <td>0</td>\n",
       "      <td>0</td>\n",
       "      <td>0</td>\n",
       "      <td>0</td>\n",
       "      <td>0</td>\n",
       "      <td>...</td>\n",
       "      <td>0</td>\n",
       "      <td>0</td>\n",
       "      <td>0</td>\n",
       "      <td>0</td>\n",
       "      <td>0</td>\n",
       "      <td>0</td>\n",
       "      <td>0</td>\n",
       "      <td>0</td>\n",
       "      <td>0</td>\n",
       "      <td>0</td>\n",
       "    </tr>\n",
       "    <tr>\n",
       "      <th>4</th>\n",
       "      <td>0</td>\n",
       "      <td>0</td>\n",
       "      <td>0</td>\n",
       "      <td>0</td>\n",
       "      <td>0</td>\n",
       "      <td>0</td>\n",
       "      <td>0</td>\n",
       "      <td>0</td>\n",
       "      <td>0</td>\n",
       "      <td>0</td>\n",
       "      <td>...</td>\n",
       "      <td>0</td>\n",
       "      <td>0</td>\n",
       "      <td>0</td>\n",
       "      <td>0</td>\n",
       "      <td>0</td>\n",
       "      <td>0</td>\n",
       "      <td>0</td>\n",
       "      <td>0</td>\n",
       "      <td>0</td>\n",
       "      <td>0</td>\n",
       "    </tr>\n",
       "    <tr>\n",
       "      <th>5</th>\n",
       "      <td>0</td>\n",
       "      <td>0</td>\n",
       "      <td>0</td>\n",
       "      <td>0</td>\n",
       "      <td>0</td>\n",
       "      <td>0</td>\n",
       "      <td>0</td>\n",
       "      <td>0</td>\n",
       "      <td>0</td>\n",
       "      <td>0</td>\n",
       "      <td>...</td>\n",
       "      <td>0</td>\n",
       "      <td>0</td>\n",
       "      <td>0</td>\n",
       "      <td>0</td>\n",
       "      <td>0</td>\n",
       "      <td>0</td>\n",
       "      <td>0</td>\n",
       "      <td>0</td>\n",
       "      <td>0</td>\n",
       "      <td>0</td>\n",
       "    </tr>\n",
       "    <tr>\n",
       "      <th>...</th>\n",
       "      <td>...</td>\n",
       "      <td>...</td>\n",
       "      <td>...</td>\n",
       "      <td>...</td>\n",
       "      <td>...</td>\n",
       "      <td>...</td>\n",
       "      <td>...</td>\n",
       "      <td>...</td>\n",
       "      <td>...</td>\n",
       "      <td>...</td>\n",
       "      <td>...</td>\n",
       "      <td>...</td>\n",
       "      <td>...</td>\n",
       "      <td>...</td>\n",
       "      <td>...</td>\n",
       "      <td>...</td>\n",
       "      <td>...</td>\n",
       "      <td>...</td>\n",
       "      <td>...</td>\n",
       "      <td>...</td>\n",
       "      <td>...</td>\n",
       "    </tr>\n",
       "    <tr>\n",
       "      <th>41995</th>\n",
       "      <td>0</td>\n",
       "      <td>0</td>\n",
       "      <td>0</td>\n",
       "      <td>0</td>\n",
       "      <td>0</td>\n",
       "      <td>0</td>\n",
       "      <td>0</td>\n",
       "      <td>0</td>\n",
       "      <td>0</td>\n",
       "      <td>0</td>\n",
       "      <td>...</td>\n",
       "      <td>0</td>\n",
       "      <td>0</td>\n",
       "      <td>0</td>\n",
       "      <td>0</td>\n",
       "      <td>0</td>\n",
       "      <td>0</td>\n",
       "      <td>0</td>\n",
       "      <td>0</td>\n",
       "      <td>0</td>\n",
       "      <td>0</td>\n",
       "    </tr>\n",
       "    <tr>\n",
       "      <th>41996</th>\n",
       "      <td>1</td>\n",
       "      <td>0</td>\n",
       "      <td>0</td>\n",
       "      <td>0</td>\n",
       "      <td>0</td>\n",
       "      <td>0</td>\n",
       "      <td>0</td>\n",
       "      <td>0</td>\n",
       "      <td>0</td>\n",
       "      <td>0</td>\n",
       "      <td>...</td>\n",
       "      <td>0</td>\n",
       "      <td>0</td>\n",
       "      <td>0</td>\n",
       "      <td>0</td>\n",
       "      <td>0</td>\n",
       "      <td>0</td>\n",
       "      <td>0</td>\n",
       "      <td>0</td>\n",
       "      <td>0</td>\n",
       "      <td>0</td>\n",
       "    </tr>\n",
       "    <tr>\n",
       "      <th>41997</th>\n",
       "      <td>7</td>\n",
       "      <td>0</td>\n",
       "      <td>0</td>\n",
       "      <td>0</td>\n",
       "      <td>0</td>\n",
       "      <td>0</td>\n",
       "      <td>0</td>\n",
       "      <td>0</td>\n",
       "      <td>0</td>\n",
       "      <td>0</td>\n",
       "      <td>...</td>\n",
       "      <td>0</td>\n",
       "      <td>0</td>\n",
       "      <td>0</td>\n",
       "      <td>0</td>\n",
       "      <td>0</td>\n",
       "      <td>0</td>\n",
       "      <td>0</td>\n",
       "      <td>0</td>\n",
       "      <td>0</td>\n",
       "      <td>0</td>\n",
       "    </tr>\n",
       "    <tr>\n",
       "      <th>41998</th>\n",
       "      <td>6</td>\n",
       "      <td>0</td>\n",
       "      <td>0</td>\n",
       "      <td>0</td>\n",
       "      <td>0</td>\n",
       "      <td>0</td>\n",
       "      <td>0</td>\n",
       "      <td>0</td>\n",
       "      <td>0</td>\n",
       "      <td>0</td>\n",
       "      <td>...</td>\n",
       "      <td>0</td>\n",
       "      <td>0</td>\n",
       "      <td>0</td>\n",
       "      <td>0</td>\n",
       "      <td>0</td>\n",
       "      <td>0</td>\n",
       "      <td>0</td>\n",
       "      <td>0</td>\n",
       "      <td>0</td>\n",
       "      <td>0</td>\n",
       "    </tr>\n",
       "    <tr>\n",
       "      <th>41999</th>\n",
       "      <td>9</td>\n",
       "      <td>0</td>\n",
       "      <td>0</td>\n",
       "      <td>0</td>\n",
       "      <td>0</td>\n",
       "      <td>0</td>\n",
       "      <td>0</td>\n",
       "      <td>0</td>\n",
       "      <td>0</td>\n",
       "      <td>0</td>\n",
       "      <td>...</td>\n",
       "      <td>0</td>\n",
       "      <td>0</td>\n",
       "      <td>0</td>\n",
       "      <td>0</td>\n",
       "      <td>0</td>\n",
       "      <td>0</td>\n",
       "      <td>0</td>\n",
       "      <td>0</td>\n",
       "      <td>0</td>\n",
       "      <td>0</td>\n",
       "    </tr>\n",
       "  </tbody>\n",
       "</table>\n",
       "<p>37800 rows × 785 columns</p>\n",
       "</div>"
      ],
      "text/plain": [
       "       label  pixel0  pixel1  pixel2  pixel3  pixel4  pixel5  pixel6  pixel7  \\\n",
       "0          1       0       0       0       0       0       0       0       0   \n",
       "1          0       0       0       0       0       0       0       0       0   \n",
       "2          1       0       0       0       0       0       0       0       0   \n",
       "4          0       0       0       0       0       0       0       0       0   \n",
       "5          0       0       0       0       0       0       0       0       0   \n",
       "...      ...     ...     ...     ...     ...     ...     ...     ...     ...   \n",
       "41995      0       0       0       0       0       0       0       0       0   \n",
       "41996      1       0       0       0       0       0       0       0       0   \n",
       "41997      7       0       0       0       0       0       0       0       0   \n",
       "41998      6       0       0       0       0       0       0       0       0   \n",
       "41999      9       0       0       0       0       0       0       0       0   \n",
       "\n",
       "       pixel8  ...  pixel774  pixel775  pixel776  pixel777  pixel778  \\\n",
       "0           0  ...         0         0         0         0         0   \n",
       "1           0  ...         0         0         0         0         0   \n",
       "2           0  ...         0         0         0         0         0   \n",
       "4           0  ...         0         0         0         0         0   \n",
       "5           0  ...         0         0         0         0         0   \n",
       "...       ...  ...       ...       ...       ...       ...       ...   \n",
       "41995       0  ...         0         0         0         0         0   \n",
       "41996       0  ...         0         0         0         0         0   \n",
       "41997       0  ...         0         0         0         0         0   \n",
       "41998       0  ...         0         0         0         0         0   \n",
       "41999       0  ...         0         0         0         0         0   \n",
       "\n",
       "       pixel779  pixel780  pixel781  pixel782  pixel783  \n",
       "0             0         0         0         0         0  \n",
       "1             0         0         0         0         0  \n",
       "2             0         0         0         0         0  \n",
       "4             0         0         0         0         0  \n",
       "5             0         0         0         0         0  \n",
       "...         ...       ...       ...       ...       ...  \n",
       "41995         0         0         0         0         0  \n",
       "41996         0         0         0         0         0  \n",
       "41997         0         0         0         0         0  \n",
       "41998         0         0         0         0         0  \n",
       "41999         0         0         0         0         0  \n",
       "\n",
       "[37800 rows x 785 columns]"
      ]
     },
     "execution_count": 11,
     "metadata": {},
     "output_type": "execute_result"
    }
   ],
   "source": [
    "dt"
   ]
  },
  {
   "cell_type": "code",
   "execution_count": 12,
   "id": "73fcef8c",
   "metadata": {
    "execution": {
     "iopub.execute_input": "2024-01-19T23:16:04.527819Z",
     "iopub.status.busy": "2024-01-19T23:16:04.527441Z",
     "iopub.status.idle": "2024-01-19T23:16:22.679931Z",
     "shell.execute_reply": "2024-01-19T23:16:22.678263Z"
    },
    "papermill": {
     "duration": 18.168399,
     "end_time": "2024-01-19T23:16:22.682400",
     "exception": false,
     "start_time": "2024-01-19T23:16:04.514001",
     "status": "completed"
    },
    "tags": []
   },
   "outputs": [],
   "source": [
    "replaced=(dt.drop('label',axis=1).replace(to_replace=[i for i in range(128)],value=0)).replace(to_replace=[i for i in range(128,256)],value=1)"
   ]
  },
  {
   "cell_type": "code",
   "execution_count": 13,
   "id": "f47f373c",
   "metadata": {
    "execution": {
     "iopub.execute_input": "2024-01-19T23:16:22.708499Z",
     "iopub.status.busy": "2024-01-19T23:16:22.708100Z",
     "iopub.status.idle": "2024-01-19T23:16:22.751765Z",
     "shell.execute_reply": "2024-01-19T23:16:22.750213Z"
    },
    "papermill": {
     "duration": 0.059236,
     "end_time": "2024-01-19T23:16:22.754027",
     "exception": false,
     "start_time": "2024-01-19T23:16:22.694791",
     "status": "completed"
    },
    "tags": []
   },
   "outputs": [],
   "source": [
    "replaced=replaced.assign(label=dt['label'])"
   ]
  },
  {
   "cell_type": "code",
   "execution_count": 14,
   "id": "f160bbc8",
   "metadata": {
    "execution": {
     "iopub.execute_input": "2024-01-19T23:16:22.781415Z",
     "iopub.status.busy": "2024-01-19T23:16:22.781072Z",
     "iopub.status.idle": "2024-01-19T23:16:24.541061Z",
     "shell.execute_reply": "2024-01-19T23:16:24.539783Z"
    },
    "papermill": {
     "duration": 1.775862,
     "end_time": "2024-01-19T23:16:24.543649",
     "exception": false,
     "start_time": "2024-01-19T23:16:22.767787",
     "status": "completed"
    },
    "tags": []
   },
   "outputs": [
    {
     "data": {
      "text/html": [
       "<div>\n",
       "<style scoped>\n",
       "    .dataframe tbody tr th:only-of-type {\n",
       "        vertical-align: middle;\n",
       "    }\n",
       "\n",
       "    .dataframe tbody tr th {\n",
       "        vertical-align: top;\n",
       "    }\n",
       "\n",
       "    .dataframe thead th {\n",
       "        text-align: right;\n",
       "    }\n",
       "</style>\n",
       "<table border=\"1\" class=\"dataframe\">\n",
       "  <thead>\n",
       "    <tr style=\"text-align: right;\">\n",
       "      <th></th>\n",
       "      <th>pixel0</th>\n",
       "      <th>pixel1</th>\n",
       "      <th>pixel2</th>\n",
       "      <th>pixel3</th>\n",
       "      <th>pixel4</th>\n",
       "      <th>pixel5</th>\n",
       "      <th>pixel6</th>\n",
       "      <th>pixel7</th>\n",
       "      <th>pixel8</th>\n",
       "      <th>pixel9</th>\n",
       "      <th>...</th>\n",
       "      <th>pixel775</th>\n",
       "      <th>pixel776</th>\n",
       "      <th>pixel777</th>\n",
       "      <th>pixel778</th>\n",
       "      <th>pixel779</th>\n",
       "      <th>pixel780</th>\n",
       "      <th>pixel781</th>\n",
       "      <th>pixel782</th>\n",
       "      <th>pixel783</th>\n",
       "      <th>label</th>\n",
       "    </tr>\n",
       "  </thead>\n",
       "  <tbody>\n",
       "    <tr>\n",
       "      <th>count</th>\n",
       "      <td>37800.0</td>\n",
       "      <td>37800.0</td>\n",
       "      <td>37800.0</td>\n",
       "      <td>37800.0</td>\n",
       "      <td>37800.0</td>\n",
       "      <td>37800.0</td>\n",
       "      <td>37800.0</td>\n",
       "      <td>37800.0</td>\n",
       "      <td>37800.0</td>\n",
       "      <td>37800.0</td>\n",
       "      <td>...</td>\n",
       "      <td>37800.000000</td>\n",
       "      <td>37800.000000</td>\n",
       "      <td>37800.000000</td>\n",
       "      <td>37800.000000</td>\n",
       "      <td>37800.0</td>\n",
       "      <td>37800.0</td>\n",
       "      <td>37800.0</td>\n",
       "      <td>37800.0</td>\n",
       "      <td>37800.0</td>\n",
       "      <td>37800.000000</td>\n",
       "    </tr>\n",
       "    <tr>\n",
       "      <th>mean</th>\n",
       "      <td>0.0</td>\n",
       "      <td>0.0</td>\n",
       "      <td>0.0</td>\n",
       "      <td>0.0</td>\n",
       "      <td>0.0</td>\n",
       "      <td>0.0</td>\n",
       "      <td>0.0</td>\n",
       "      <td>0.0</td>\n",
       "      <td>0.0</td>\n",
       "      <td>0.0</td>\n",
       "      <td>...</td>\n",
       "      <td>0.000397</td>\n",
       "      <td>0.000291</td>\n",
       "      <td>0.000079</td>\n",
       "      <td>0.000053</td>\n",
       "      <td>0.0</td>\n",
       "      <td>0.0</td>\n",
       "      <td>0.0</td>\n",
       "      <td>0.0</td>\n",
       "      <td>0.0</td>\n",
       "      <td>4.455079</td>\n",
       "    </tr>\n",
       "    <tr>\n",
       "      <th>std</th>\n",
       "      <td>0.0</td>\n",
       "      <td>0.0</td>\n",
       "      <td>0.0</td>\n",
       "      <td>0.0</td>\n",
       "      <td>0.0</td>\n",
       "      <td>0.0</td>\n",
       "      <td>0.0</td>\n",
       "      <td>0.0</td>\n",
       "      <td>0.0</td>\n",
       "      <td>0.0</td>\n",
       "      <td>...</td>\n",
       "      <td>0.019917</td>\n",
       "      <td>0.017057</td>\n",
       "      <td>0.008908</td>\n",
       "      <td>0.007274</td>\n",
       "      <td>0.0</td>\n",
       "      <td>0.0</td>\n",
       "      <td>0.0</td>\n",
       "      <td>0.0</td>\n",
       "      <td>0.0</td>\n",
       "      <td>2.882964</td>\n",
       "    </tr>\n",
       "    <tr>\n",
       "      <th>min</th>\n",
       "      <td>0.0</td>\n",
       "      <td>0.0</td>\n",
       "      <td>0.0</td>\n",
       "      <td>0.0</td>\n",
       "      <td>0.0</td>\n",
       "      <td>0.0</td>\n",
       "      <td>0.0</td>\n",
       "      <td>0.0</td>\n",
       "      <td>0.0</td>\n",
       "      <td>0.0</td>\n",
       "      <td>...</td>\n",
       "      <td>0.000000</td>\n",
       "      <td>0.000000</td>\n",
       "      <td>0.000000</td>\n",
       "      <td>0.000000</td>\n",
       "      <td>0.0</td>\n",
       "      <td>0.0</td>\n",
       "      <td>0.0</td>\n",
       "      <td>0.0</td>\n",
       "      <td>0.0</td>\n",
       "      <td>0.000000</td>\n",
       "    </tr>\n",
       "    <tr>\n",
       "      <th>25%</th>\n",
       "      <td>0.0</td>\n",
       "      <td>0.0</td>\n",
       "      <td>0.0</td>\n",
       "      <td>0.0</td>\n",
       "      <td>0.0</td>\n",
       "      <td>0.0</td>\n",
       "      <td>0.0</td>\n",
       "      <td>0.0</td>\n",
       "      <td>0.0</td>\n",
       "      <td>0.0</td>\n",
       "      <td>...</td>\n",
       "      <td>0.000000</td>\n",
       "      <td>0.000000</td>\n",
       "      <td>0.000000</td>\n",
       "      <td>0.000000</td>\n",
       "      <td>0.0</td>\n",
       "      <td>0.0</td>\n",
       "      <td>0.0</td>\n",
       "      <td>0.0</td>\n",
       "      <td>0.0</td>\n",
       "      <td>2.000000</td>\n",
       "    </tr>\n",
       "    <tr>\n",
       "      <th>50%</th>\n",
       "      <td>0.0</td>\n",
       "      <td>0.0</td>\n",
       "      <td>0.0</td>\n",
       "      <td>0.0</td>\n",
       "      <td>0.0</td>\n",
       "      <td>0.0</td>\n",
       "      <td>0.0</td>\n",
       "      <td>0.0</td>\n",
       "      <td>0.0</td>\n",
       "      <td>0.0</td>\n",
       "      <td>...</td>\n",
       "      <td>0.000000</td>\n",
       "      <td>0.000000</td>\n",
       "      <td>0.000000</td>\n",
       "      <td>0.000000</td>\n",
       "      <td>0.0</td>\n",
       "      <td>0.0</td>\n",
       "      <td>0.0</td>\n",
       "      <td>0.0</td>\n",
       "      <td>0.0</td>\n",
       "      <td>4.000000</td>\n",
       "    </tr>\n",
       "    <tr>\n",
       "      <th>75%</th>\n",
       "      <td>0.0</td>\n",
       "      <td>0.0</td>\n",
       "      <td>0.0</td>\n",
       "      <td>0.0</td>\n",
       "      <td>0.0</td>\n",
       "      <td>0.0</td>\n",
       "      <td>0.0</td>\n",
       "      <td>0.0</td>\n",
       "      <td>0.0</td>\n",
       "      <td>0.0</td>\n",
       "      <td>...</td>\n",
       "      <td>0.000000</td>\n",
       "      <td>0.000000</td>\n",
       "      <td>0.000000</td>\n",
       "      <td>0.000000</td>\n",
       "      <td>0.0</td>\n",
       "      <td>0.0</td>\n",
       "      <td>0.0</td>\n",
       "      <td>0.0</td>\n",
       "      <td>0.0</td>\n",
       "      <td>7.000000</td>\n",
       "    </tr>\n",
       "    <tr>\n",
       "      <th>max</th>\n",
       "      <td>0.0</td>\n",
       "      <td>0.0</td>\n",
       "      <td>0.0</td>\n",
       "      <td>0.0</td>\n",
       "      <td>0.0</td>\n",
       "      <td>0.0</td>\n",
       "      <td>0.0</td>\n",
       "      <td>0.0</td>\n",
       "      <td>0.0</td>\n",
       "      <td>0.0</td>\n",
       "      <td>...</td>\n",
       "      <td>1.000000</td>\n",
       "      <td>1.000000</td>\n",
       "      <td>1.000000</td>\n",
       "      <td>1.000000</td>\n",
       "      <td>0.0</td>\n",
       "      <td>0.0</td>\n",
       "      <td>0.0</td>\n",
       "      <td>0.0</td>\n",
       "      <td>0.0</td>\n",
       "      <td>9.000000</td>\n",
       "    </tr>\n",
       "  </tbody>\n",
       "</table>\n",
       "<p>8 rows × 785 columns</p>\n",
       "</div>"
      ],
      "text/plain": [
       "        pixel0   pixel1   pixel2   pixel3   pixel4   pixel5   pixel6   pixel7  \\\n",
       "count  37800.0  37800.0  37800.0  37800.0  37800.0  37800.0  37800.0  37800.0   \n",
       "mean       0.0      0.0      0.0      0.0      0.0      0.0      0.0      0.0   \n",
       "std        0.0      0.0      0.0      0.0      0.0      0.0      0.0      0.0   \n",
       "min        0.0      0.0      0.0      0.0      0.0      0.0      0.0      0.0   \n",
       "25%        0.0      0.0      0.0      0.0      0.0      0.0      0.0      0.0   \n",
       "50%        0.0      0.0      0.0      0.0      0.0      0.0      0.0      0.0   \n",
       "75%        0.0      0.0      0.0      0.0      0.0      0.0      0.0      0.0   \n",
       "max        0.0      0.0      0.0      0.0      0.0      0.0      0.0      0.0   \n",
       "\n",
       "        pixel8   pixel9  ...      pixel775      pixel776      pixel777  \\\n",
       "count  37800.0  37800.0  ...  37800.000000  37800.000000  37800.000000   \n",
       "mean       0.0      0.0  ...      0.000397      0.000291      0.000079   \n",
       "std        0.0      0.0  ...      0.019917      0.017057      0.008908   \n",
       "min        0.0      0.0  ...      0.000000      0.000000      0.000000   \n",
       "25%        0.0      0.0  ...      0.000000      0.000000      0.000000   \n",
       "50%        0.0      0.0  ...      0.000000      0.000000      0.000000   \n",
       "75%        0.0      0.0  ...      0.000000      0.000000      0.000000   \n",
       "max        0.0      0.0  ...      1.000000      1.000000      1.000000   \n",
       "\n",
       "           pixel778  pixel779  pixel780  pixel781  pixel782  pixel783  \\\n",
       "count  37800.000000   37800.0   37800.0   37800.0   37800.0   37800.0   \n",
       "mean       0.000053       0.0       0.0       0.0       0.0       0.0   \n",
       "std        0.007274       0.0       0.0       0.0       0.0       0.0   \n",
       "min        0.000000       0.0       0.0       0.0       0.0       0.0   \n",
       "25%        0.000000       0.0       0.0       0.0       0.0       0.0   \n",
       "50%        0.000000       0.0       0.0       0.0       0.0       0.0   \n",
       "75%        0.000000       0.0       0.0       0.0       0.0       0.0   \n",
       "max        1.000000       0.0       0.0       0.0       0.0       0.0   \n",
       "\n",
       "              label  \n",
       "count  37800.000000  \n",
       "mean       4.455079  \n",
       "std        2.882964  \n",
       "min        0.000000  \n",
       "25%        2.000000  \n",
       "50%        4.000000  \n",
       "75%        7.000000  \n",
       "max        9.000000  \n",
       "\n",
       "[8 rows x 785 columns]"
      ]
     },
     "execution_count": 14,
     "metadata": {},
     "output_type": "execute_result"
    }
   ],
   "source": [
    "replaced.describe()"
   ]
  },
  {
   "cell_type": "code",
   "execution_count": 15,
   "id": "9268363a",
   "metadata": {
    "execution": {
     "iopub.execute_input": "2024-01-19T23:16:24.569609Z",
     "iopub.status.busy": "2024-01-19T23:16:24.569237Z",
     "iopub.status.idle": "2024-01-19T23:16:24.610280Z",
     "shell.execute_reply": "2024-01-19T23:16:24.608834Z"
    },
    "papermill": {
     "duration": 0.05643,
     "end_time": "2024-01-19T23:16:24.612320",
     "exception": false,
     "start_time": "2024-01-19T23:16:24.555890",
     "status": "completed"
    },
    "tags": []
   },
   "outputs": [],
   "source": [
    "sample=np.array(replaced.drop('label',axis=1).iloc[6])\n",
    "sample=sample.reshape((28,-1))"
   ]
  },
  {
   "cell_type": "code",
   "execution_count": 16,
   "id": "26d1e75d",
   "metadata": {
    "execution": {
     "iopub.execute_input": "2024-01-19T23:16:24.637683Z",
     "iopub.status.busy": "2024-01-19T23:16:24.637300Z",
     "iopub.status.idle": "2024-01-19T23:16:24.803334Z",
     "shell.execute_reply": "2024-01-19T23:16:24.802452Z"
    },
    "papermill": {
     "duration": 0.180929,
     "end_time": "2024-01-19T23:16:24.805051",
     "exception": false,
     "start_time": "2024-01-19T23:16:24.624122",
     "status": "completed"
    },
    "tags": []
   },
   "outputs": [
    {
     "data": {
      "image/png": "[encoded data removed]",
      "text/plain": [
       "<Figure size 640x480 with 1 Axes>"
      ]
     },
     "metadata": {},
     "output_type": "display_data"
    }
   ],
   "source": [
    "plt.imshow(sample)\n",
    "plt.show()"
   ]
  },
  {
   "cell_type": "code",
   "execution_count": 17,
   "id": "f5847e2e",
   "metadata": {
    "execution": {
     "iopub.execute_input": "2024-01-19T23:16:24.830715Z",
     "iopub.status.busy": "2024-01-19T23:16:24.830158Z",
     "iopub.status.idle": "2024-01-19T23:16:24.907324Z",
     "shell.execute_reply": "2024-01-19T23:16:24.906084Z"
    },
    "papermill": {
     "duration": 0.092605,
     "end_time": "2024-01-19T23:16:24.909642",
     "exception": false,
     "start_time": "2024-01-19T23:16:24.817037",
     "status": "completed"
    },
    "tags": []
   },
   "outputs": [],
   "source": [
    "train_tensor=torch.from_numpy(np.array(replaced))"
   ]
  },
  {
   "cell_type": "code",
   "execution_count": 18,
   "id": "d770c7b0",
   "metadata": {
    "execution": {
     "iopub.execute_input": "2024-01-19T23:16:24.935538Z",
     "iopub.status.busy": "2024-01-19T23:16:24.935210Z",
     "iopub.status.idle": "2024-01-19T23:16:25.010733Z",
     "shell.execute_reply": "2024-01-19T23:16:25.009324Z"
    },
    "papermill": {
     "duration": 0.091284,
     "end_time": "2024-01-19T23:16:25.013093",
     "exception": false,
     "start_time": "2024-01-19T23:16:24.921809",
     "status": "completed"
    },
    "tags": []
   },
   "outputs": [
    {
     "data": {
      "text/plain": [
       "tensor([[0, 0, 0,  ..., 0, 0, 1],\n",
       "        [0, 0, 0,  ..., 0, 0, 0],\n",
       "        [0, 0, 0,  ..., 0, 0, 1],\n",
       "        ...,\n",
       "        [0, 0, 0,  ..., 0, 0, 7],\n",
       "        [0, 0, 0,  ..., 0, 0, 6],\n",
       "        [0, 0, 0,  ..., 0, 0, 9]])"
      ]
     },
     "execution_count": 18,
     "metadata": {},
     "output_type": "execute_result"
    }
   ],
   "source": [
    "train_tensor"
   ]
  },
  {
   "cell_type": "code",
   "execution_count": 19,
   "id": "453aaccd",
   "metadata": {
    "execution": {
     "iopub.execute_input": "2024-01-19T23:16:25.040932Z",
     "iopub.status.busy": "2024-01-19T23:16:25.039832Z",
     "iopub.status.idle": "2024-01-19T23:16:25.044811Z",
     "shell.execute_reply": "2024-01-19T23:16:25.043762Z"
    },
    "papermill": {
     "duration": 0.021952,
     "end_time": "2024-01-19T23:16:25.047414",
     "exception": false,
     "start_time": "2024-01-19T23:16:25.025462",
     "status": "completed"
    },
    "tags": []
   },
   "outputs": [],
   "source": [
    "from torch.utils.data import Dataset"
   ]
  },
  {
   "cell_type": "code",
   "execution_count": null,
   "id": "3b75e366",
   "metadata": {
    "papermill": {
     "duration": 0.012238,
     "end_time": "2024-01-19T23:16:25.072114",
     "exception": false,
     "start_time": "2024-01-19T23:16:25.059876",
     "status": "completed"
    },
    "tags": []
   },
   "outputs": [],
   "source": []
  },
  {
   "cell_type": "code",
   "execution_count": 20,
   "id": "0ef83420",
   "metadata": {
    "execution": {
     "iopub.execute_input": "2024-01-19T23:16:25.104970Z",
     "iopub.status.busy": "2024-01-19T23:16:25.103975Z",
     "iopub.status.idle": "2024-01-19T23:16:25.110474Z",
     "shell.execute_reply": "2024-01-19T23:16:25.109286Z"
    },
    "papermill": {
     "duration": 0.025631,
     "end_time": "2024-01-19T23:16:25.112824",
     "exception": false,
     "start_time": "2024-01-19T23:16:25.087193",
     "status": "completed"
    },
    "tags": []
   },
   "outputs": [],
   "source": [
    "class digits_dataset(Dataset):\n",
    "    def __init__(self):\n",
    "        #data = pd.read_csv('/kaggle/input/digit-recognizer/train.csv')\n",
    "        data=replaced\n",
    "        self.y=torch.from_numpy(np.array(data['label']))\n",
    "        self.x=torch.from_numpy(np.array(data.drop('label',axis=1)))#i divide with 255 if i have values of pixels between 0 and 255\n",
    "    def __len__(self):\n",
    "        return len(self.y)\n",
    "\n",
    "    def __getitem__(self, idx):\n",
    "        return self.x[idx], self.y[idx]"
   ]
  },
  {
   "cell_type": "code",
   "execution_count": 21,
   "id": "b53b4867",
   "metadata": {
    "execution": {
     "iopub.execute_input": "2024-01-19T23:16:25.139818Z",
     "iopub.status.busy": "2024-01-19T23:16:25.139392Z",
     "iopub.status.idle": "2024-01-19T23:16:25.218431Z",
     "shell.execute_reply": "2024-01-19T23:16:25.217112Z"
    },
    "papermill": {
     "duration": 0.095345,
     "end_time": "2024-01-19T23:16:25.220651",
     "exception": false,
     "start_time": "2024-01-19T23:16:25.125306",
     "status": "completed"
    },
    "tags": []
   },
   "outputs": [],
   "source": [
    "data=digits_dataset()"
   ]
  },
  {
   "cell_type": "code",
   "execution_count": 22,
   "id": "45ceab15",
   "metadata": {
    "execution": {
     "iopub.execute_input": "2024-01-19T23:16:25.246743Z",
     "iopub.status.busy": "2024-01-19T23:16:25.245717Z",
     "iopub.status.idle": "2024-01-19T23:16:25.261576Z",
     "shell.execute_reply": "2024-01-19T23:16:25.260847Z"
    },
    "papermill": {
     "duration": 0.031386,
     "end_time": "2024-01-19T23:16:25.263978",
     "exception": false,
     "start_time": "2024-01-19T23:16:25.232592",
     "status": "completed"
    },
    "tags": []
   },
   "outputs": [],
   "source": [
    "train ,test = torch.utils.data.random_split(data,[0.8,0.2])"
   ]
  },
  {
   "cell_type": "code",
   "execution_count": 23,
   "id": "6e5f8932",
   "metadata": {
    "execution": {
     "iopub.execute_input": "2024-01-19T23:16:25.290670Z",
     "iopub.status.busy": "2024-01-19T23:16:25.289875Z",
     "iopub.status.idle": "2024-01-19T23:16:25.294433Z",
     "shell.execute_reply": "2024-01-19T23:16:25.293388Z"
    },
    "papermill": {
     "duration": 0.020554,
     "end_time": "2024-01-19T23:16:25.296856",
     "exception": false,
     "start_time": "2024-01-19T23:16:25.276302",
     "status": "completed"
    },
    "tags": []
   },
   "outputs": [],
   "source": [
    "x,y=train[0]"
   ]
  },
  {
   "cell_type": "code",
   "execution_count": 24,
   "id": "0d564edb",
   "metadata": {
    "execution": {
     "iopub.execute_input": "2024-01-19T23:16:25.323189Z",
     "iopub.status.busy": "2024-01-19T23:16:25.322791Z",
     "iopub.status.idle": "2024-01-19T23:16:25.330276Z",
     "shell.execute_reply": "2024-01-19T23:16:25.328846Z"
    },
    "papermill": {
     "duration": 0.023526,
     "end_time": "2024-01-19T23:16:25.332670",
     "exception": false,
     "start_time": "2024-01-19T23:16:25.309144",
     "status": "completed"
    },
    "tags": []
   },
   "outputs": [
    {
     "data": {
      "text/plain": [
       "30240"
      ]
     },
     "execution_count": 24,
     "metadata": {},
     "output_type": "execute_result"
    }
   ],
   "source": [
    "train.__len__()"
   ]
  },
  {
   "cell_type": "code",
   "execution_count": 25,
   "id": "d2a79e71",
   "metadata": {
    "execution": {
     "iopub.execute_input": "2024-01-19T23:16:25.361923Z",
     "iopub.status.busy": "2024-01-19T23:16:25.360919Z",
     "iopub.status.idle": "2024-01-19T23:16:25.368249Z",
     "shell.execute_reply": "2024-01-19T23:16:25.366722Z"
    },
    "papermill": {
     "duration": 0.024298,
     "end_time": "2024-01-19T23:16:25.370847",
     "exception": false,
     "start_time": "2024-01-19T23:16:25.346549",
     "status": "completed"
    },
    "tags": []
   },
   "outputs": [
    {
     "name": "stdout",
     "output_type": "stream",
     "text": [
      "torch.Size([784])\n"
     ]
    }
   ],
   "source": [
    "print(x.shape)"
   ]
  },
  {
   "cell_type": "markdown",
   "id": "b6782787",
   "metadata": {
    "papermill": {
     "duration": 0.012828,
     "end_time": "2024-01-19T23:16:25.396277",
     "exception": false,
     "start_time": "2024-01-19T23:16:25.383449",
     "status": "completed"
    },
    "tags": []
   },
   "source": [
    "## 2-Neural Network and Model"
   ]
  },
  {
   "cell_type": "code",
   "execution_count": 26,
   "id": "641b2e6e",
   "metadata": {
    "execution": {
     "iopub.execute_input": "2024-01-19T23:16:25.423898Z",
     "iopub.status.busy": "2024-01-19T23:16:25.422405Z",
     "iopub.status.idle": "2024-01-19T23:16:25.429245Z",
     "shell.execute_reply": "2024-01-19T23:16:25.427823Z"
    },
    "papermill": {
     "duration": 0.022859,
     "end_time": "2024-01-19T23:16:25.431925",
     "exception": false,
     "start_time": "2024-01-19T23:16:25.409066",
     "status": "completed"
    },
    "tags": []
   },
   "outputs": [],
   "source": [
    "train_loader=DataLoader(dataset=train,batch_size=200,shuffle=True)"
   ]
  },
  {
   "cell_type": "code",
   "execution_count": 27,
   "id": "ef20617b",
   "metadata": {
    "execution": {
     "iopub.execute_input": "2024-01-19T23:16:25.459425Z",
     "iopub.status.busy": "2024-01-19T23:16:25.458852Z",
     "iopub.status.idle": "2024-01-19T23:16:25.476663Z",
     "shell.execute_reply": "2024-01-19T23:16:25.475087Z"
    },
    "papermill": {
     "duration": 0.034442,
     "end_time": "2024-01-19T23:16:25.479187",
     "exception": false,
     "start_time": "2024-01-19T23:16:25.444745",
     "status": "completed"
    },
    "tags": []
   },
   "outputs": [],
   "source": [
    "model=nn.Sequential(nn.Linear(28*28,512),\n",
    "                    nn.ReLU(),\n",
    "                    nn.Linear(512,512),\n",
    "                    nn.ReLU(),\n",
    "                    #nn.Dropout(p=0.2),\n",
    "                    nn.Linear(512,256),\n",
    "                    nn.Linear(256,10)\n",
    "                    )"
   ]
  },
  {
   "cell_type": "markdown",
   "id": "fe006a52",
   "metadata": {
    "papermill": {
     "duration": 0.012458,
     "end_time": "2024-01-19T23:16:25.504226",
     "exception": false,
     "start_time": "2024-01-19T23:16:25.491768",
     "status": "completed"
    },
    "tags": []
   },
   "source": [
    "## 3-Training "
   ]
  },
  {
   "cell_type": "code",
   "execution_count": 28,
   "id": "a3b3cc1b",
   "metadata": {
    "execution": {
     "iopub.execute_input": "2024-01-19T23:16:25.530954Z",
     "iopub.status.busy": "2024-01-19T23:16:25.530573Z",
     "iopub.status.idle": "2024-01-19T23:16:25.534747Z",
     "shell.execute_reply": "2024-01-19T23:16:25.533988Z"
    },
    "papermill": {
     "duration": 0.019969,
     "end_time": "2024-01-19T23:16:25.536589",
     "exception": false,
     "start_time": "2024-01-19T23:16:25.516620",
     "status": "completed"
    },
    "tags": []
   },
   "outputs": [],
   "source": [
    "criterion=nn.CrossEntropyLoss()"
   ]
  },
  {
   "cell_type": "code",
   "execution_count": 29,
   "id": "d2a0beea",
   "metadata": {
    "execution": {
     "iopub.execute_input": "2024-01-19T23:16:25.563661Z",
     "iopub.status.busy": "2024-01-19T23:16:25.563128Z",
     "iopub.status.idle": "2024-01-19T23:16:25.567930Z",
     "shell.execute_reply": "2024-01-19T23:16:25.566584Z"
    },
    "papermill": {
     "duration": 0.021461,
     "end_time": "2024-01-19T23:16:25.570545",
     "exception": false,
     "start_time": "2024-01-19T23:16:25.549084",
     "status": "completed"
    },
    "tags": []
   },
   "outputs": [],
   "source": [
    "import torch.optim as optim"
   ]
  },
  {
   "cell_type": "code",
   "execution_count": 30,
   "id": "3bf3b089",
   "metadata": {
    "execution": {
     "iopub.execute_input": "2024-01-19T23:16:25.597289Z",
     "iopub.status.busy": "2024-01-19T23:16:25.596935Z",
     "iopub.status.idle": "2024-01-19T23:16:25.601389Z",
     "shell.execute_reply": "2024-01-19T23:16:25.600537Z"
    },
    "papermill": {
     "duration": 0.020069,
     "end_time": "2024-01-19T23:16:25.603103",
     "exception": false,
     "start_time": "2024-01-19T23:16:25.583034",
     "status": "completed"
    },
    "tags": []
   },
   "outputs": [],
   "source": [
    "optimizer=optim.Adam(params=model.parameters(),lr=0.001)"
   ]
  },
  {
   "cell_type": "markdown",
   "id": "308dd935",
   "metadata": {
    "papermill": {
     "duration": 0.012069,
     "end_time": "2024-01-19T23:16:25.627471",
     "exception": false,
     "start_time": "2024-01-19T23:16:25.615402",
     "status": "completed"
    },
    "tags": []
   },
   "source": [
    "### a-Train loop "
   ]
  },
  {
   "cell_type": "code",
   "execution_count": 31,
   "id": "f5f6e866",
   "metadata": {
    "execution": {
     "iopub.execute_input": "2024-01-19T23:16:25.655417Z",
     "iopub.status.busy": "2024-01-19T23:16:25.654791Z",
     "iopub.status.idle": "2024-01-19T23:19:24.550323Z",
     "shell.execute_reply": "2024-01-19T23:19:24.548367Z"
    },
    "papermill": {
     "duration": 178.912405,
     "end_time": "2024-01-19T23:19:24.552483",
     "exception": false,
     "start_time": "2024-01-19T23:16:25.640078",
     "status": "completed"
    },
    "tags": []
   },
   "outputs": [
    {
     "name": "stdout",
     "output_type": "stream",
     "text": [
      "loss 0.35098673094456134 for 1/100\n",
      "loss 0.09754314401039951 for 2/100\n",
      "loss 0.057154116435221544 for 3/100\n",
      "loss 0.03359375661545384 for 4/100\n",
      "loss 0.022640243773103544 for 5/100\n",
      "loss 0.02177166050042663 for 6/100\n",
      "loss 0.013170413644442497 for 7/100\n",
      "loss 0.009883268879428598 for 8/100\n",
      "loss 0.008761766910352938 for 9/100\n",
      "loss 0.012135831013438292 for 10/100\n",
      "loss 0.01748348762952159 for 11/100\n",
      "loss 0.013479495321294771 for 12/100\n",
      "loss 0.008578786576531695 for 13/100\n",
      "loss 0.008295195439179798 for 14/100\n",
      "loss 0.008157632700586922 for 15/100\n",
      "loss 0.004814755353520109 for 16/100\n",
      "loss 0.0007483599087250743 for 17/100\n",
      "loss 7.06591985345097e-05 for 18/100\n",
      "loss 3.5258622596912624e-05 for 19/100\n",
      "loss 2.7422387658404546e-05 for 20/100\n",
      "loss 2.2446438711579287e-05 for 21/100\n",
      "loss 1.8897389721635255e-05 for 22/100\n",
      "loss 1.6174765357546723e-05 for 23/100\n",
      "loss 1.3913998205488928e-05 for 24/100\n",
      "loss 1.2137505088479597e-05 for 25/100\n",
      "loss 1.0563141362683238e-05 for 26/100\n",
      "loss 9.381125306468244e-06 for 27/100\n",
      "loss 8.25808819333935e-06 for 28/100\n",
      "loss 7.2819487168149675e-06 for 29/100\n",
      "loss 6.495737777655856e-06 for 30/100\n",
      "loss 5.7752509267504e-06 for 31/100\n",
      "loss 5.154018989185859e-06 for 32/100\n",
      "loss 4.651115693757459e-06 for 33/100\n",
      "loss 4.074708848526769e-06 for 34/100\n",
      "loss 3.6285301214215784e-06 for 35/100\n",
      "loss 3.224757571944275e-06 for 36/100\n",
      "loss 2.8852321873417074e-06 for 37/100\n",
      "loss 2.5415673036097007e-06 for 38/100\n",
      "loss 2.3380245403808133e-06 for 39/100\n",
      "loss 2.040476831476287e-06 for 40/100\n",
      "loss 1.8012391088848439e-06 for 41/100\n",
      "loss 1.6135011899372293e-06 for 42/100\n",
      "loss 1.4759431691327575e-06 for 43/100\n",
      "loss 1.3094840088525104e-06 for 44/100\n",
      "loss 1.1927667426847005e-06 for 45/100\n",
      "loss 1.0907570218271781e-06 for 46/100\n",
      "loss 9.800015475148808e-07 for 47/100\n",
      "loss 8.736529034717035e-07 for 48/100\n",
      "loss 7.969592427396097e-07 for 49/100\n",
      "loss 7.243905911137386e-07 for 50/100\n",
      "loss 6.602322837685236e-07 for 51/100\n",
      "loss 6.076572476543836e-07 for 52/100\n",
      "loss 5.527680671202935e-07 for 53/100\n",
      "loss 5.083759476077813e-07 for 54/100\n",
      "loss 4.5880757870708777e-07 for 55/100\n",
      "loss 4.2959439576422354e-07 for 56/100\n",
      "loss 3.848176030227684e-07 for 57/100\n",
      "loss 3.565531606455458e-07 for 58/100\n",
      "loss 3.2531237963078453e-07 for 59/100\n",
      "loss 3.0223571785632274e-07 for 60/100\n",
      "loss 2.731044391103335e-07 for 61/100\n",
      "loss 2.5008648547363816e-07 for 62/100\n",
      "loss 2.2913109999999013e-07 for 63/100\n",
      "loss 2.1397917730101462e-07 for 64/100\n",
      "loss 1.9641566228438472e-07 for 65/100\n",
      "loss 1.7989126169383838e-07 for 66/100\n",
      "loss 1.6804888348712224e-07 for 67/100\n",
      "loss 1.5181072108469856e-07 for 68/100\n",
      "loss 1.4128197867753563e-07 for 69/100\n",
      "loss 1.2970230725112566e-07 for 70/100\n",
      "loss 1.1906374003097622e-07 for 71/100\n",
      "loss 1.0982117455193257e-07 for 72/100\n",
      "loss 1.033000033874649e-07 for 73/100\n",
      "loss 9.362999157278445e-08 for 74/100\n",
      "loss 8.643042344398154e-08 for 75/100\n",
      "loss 7.922300232206905e-08 for 76/100\n",
      "loss 7.399977857965692e-08 for 77/100\n",
      "loss 6.755309297033993e-08 for 78/100\n",
      "loss 6.239260838098186e-08 for 79/100\n",
      "loss 5.8153636818328446e-08 for 80/100\n",
      "loss 5.321666276945548e-08 for 81/100\n",
      "loss 4.925218340624012e-08 for 82/100\n",
      "loss 4.542494975197448e-08 for 83/100\n",
      "loss 4.205259040113736e-08 for 84/100\n",
      "loss 3.900962409019101e-08 for 85/100\n",
      "loss 3.590783747316268e-08 for 86/100\n",
      "loss 3.3472679600299315e-08 for 87/100\n",
      "loss 3.079439702943045e-08 for 88/100\n",
      "loss 2.8543541540593827e-08 for 89/100\n",
      "loss 2.6453460945155695e-08 for 90/100\n",
      "loss 2.4445729236199335e-08 for 91/100\n",
      "loss 2.2571322404696977e-08 for 92/100\n",
      "loss 2.1724309843730365e-08 for 93/100\n",
      "loss 1.9414633070792917e-08 for 94/100\n",
      "loss 1.788530527116034e-08 for 95/100\n",
      "loss 1.66108651482822e-08 for 96/100\n",
      "loss 1.55481782682683e-08 for 97/100\n",
      "loss 1.4289423143281311e-08 for 98/100\n",
      "loss 1.32032080137433e-08 for 99/100\n",
      "loss 1.2187576916245532e-08 for 100/100\n"
     ]
    }
   ],
   "source": [
    "for epoch in range(100):\n",
    "    training_loss = 0\n",
    "    for data in train_loader:\n",
    "        #setting gradient at zero\n",
    "        optimizer.zero_grad()\n",
    "        #getting data\n",
    "        features,label=data\n",
    "        features=features.float()\n",
    "        #predicting class\n",
    "        pred=model(features)\n",
    "        #loss\n",
    "        loss=criterion(pred,label)\n",
    "        loss.backward()\n",
    "        #updating params\n",
    "        optimizer.step()\n",
    "        training_loss += loss.item()\n",
    "    epoch_loss = training_loss / len(train_loader)\n",
    "    print(f'loss {epoch_loss} for {epoch+1}/100')\n"
   ]
  },
  {
   "cell_type": "markdown",
   "id": "33e50775",
   "metadata": {
    "papermill": {
     "duration": 0.018065,
     "end_time": "2024-01-19T23:19:24.588114",
     "exception": false,
     "start_time": "2024-01-19T23:19:24.570049",
     "status": "completed"
    },
    "tags": []
   },
   "source": [
    "### b-Validation loop"
   ]
  },
  {
   "cell_type": "code",
   "execution_count": 32,
   "id": "0d88cd1f",
   "metadata": {
    "execution": {
     "iopub.execute_input": "2024-01-19T23:19:24.625672Z",
     "iopub.status.busy": "2024-01-19T23:19:24.625097Z",
     "iopub.status.idle": "2024-01-19T23:19:24.630294Z",
     "shell.execute_reply": "2024-01-19T23:19:24.629416Z"
    },
    "papermill": {
     "duration": 0.026179,
     "end_time": "2024-01-19T23:19:24.632148",
     "exception": false,
     "start_time": "2024-01-19T23:19:24.605969",
     "status": "completed"
    },
    "tags": []
   },
   "outputs": [],
   "source": [
    "test_loader=DataLoader(dataset=test,batch_size=200,shuffle=False)"
   ]
  },
  {
   "cell_type": "code",
   "execution_count": 33,
   "id": "32961791",
   "metadata": {
    "execution": {
     "iopub.execute_input": "2024-01-19T23:19:24.670815Z",
     "iopub.status.busy": "2024-01-19T23:19:24.669833Z",
     "iopub.status.idle": "2024-01-19T23:19:24.867630Z",
     "shell.execute_reply": "2024-01-19T23:19:24.866553Z"
    },
    "papermill": {
     "duration": 0.219359,
     "end_time": "2024-01-19T23:19:24.869507",
     "exception": false,
     "start_time": "2024-01-19T23:19:24.650148",
     "status": "completed"
    },
    "tags": []
   },
   "outputs": [
    {
     "name": "stdout",
     "output_type": "stream",
     "text": [
      "validation loss is 0.1495617726866744\n"
     ]
    },
    {
     "data": {
      "text/plain": [
       "Sequential(\n",
       "  (0): Linear(in_features=784, out_features=512, bias=True)\n",
       "  (1): ReLU()\n",
       "  (2): Linear(in_features=512, out_features=512, bias=True)\n",
       "  (3): ReLU()\n",
       "  (4): Linear(in_features=512, out_features=256, bias=True)\n",
       "  (5): Linear(in_features=256, out_features=10, bias=True)\n",
       ")"
      ]
     },
     "execution_count": 33,
     "metadata": {},
     "output_type": "execute_result"
    }
   ],
   "source": [
    "validation_loss = 0.0\n",
    "model.eval() # Put model in evaluation mode\n",
    "with torch.no_grad(): # Speed up the forward pass\n",
    "    training_loss = 0\n",
    "    for data in test_loader:\n",
    "        #getting data\n",
    "        features,label=data\n",
    "        features=features.float()\n",
    "        #predicting class\n",
    "        pred=model(features)\n",
    "        #loss\n",
    "        loss=criterion(pred,label)\n",
    "        validation_loss += loss.item()\n",
    "    validation_loss = validation_loss / len(test_loader)\n",
    "    print(f'validation loss is {validation_loss}')\n",
    "model.train()\n"
   ]
  },
  {
   "cell_type": "code",
   "execution_count": 34,
   "id": "6b249501",
   "metadata": {
    "execution": {
     "iopub.execute_input": "2024-01-19T23:19:24.906829Z",
     "iopub.status.busy": "2024-01-19T23:19:24.906485Z",
     "iopub.status.idle": "2024-01-19T23:19:29.646763Z",
     "shell.execute_reply": "2024-01-19T23:19:29.645897Z"
    },
    "papermill": {
     "duration": 4.761656,
     "end_time": "2024-01-19T23:19:29.648899",
     "exception": false,
     "start_time": "2024-01-19T23:19:24.887243",
     "status": "completed"
    },
    "tags": []
   },
   "outputs": [
    {
     "name": "stdout",
     "output_type": "stream",
     "text": [
      "Accuracy on all data: 0.9850528836250305\n"
     ]
    }
   ],
   "source": [
    "import torchmetrics\n",
    "# Create accuracy metric using torch metrics\n",
    "metric = torchmetrics.Accuracy(task=\"multiclass\", num_classes=10)\n",
    "for i, data in enumerate(test_loader, 0):\n",
    "    features, labels = data\n",
    "    features=features.float()\n",
    "    outputs = model(features)\n",
    "    # Calculate accuracy over the batch\n",
    "    acc = metric(outputs, labels)\n",
    "# Calculate accuracy over the whole epoch\n",
    "acc = metric.compute()\n",
    "print(f\"Accuracy on all data: {acc}\")\n",
    "# Reset the metric for the next epoch (training or validation)\n",
    "metric.reset()"
   ]
  },
  {
   "cell_type": "markdown",
   "id": "26a59fef",
   "metadata": {
    "papermill": {
     "duration": 0.019252,
     "end_time": "2024-01-19T23:19:29.687409",
     "exception": false,
     "start_time": "2024-01-19T23:19:29.668157",
     "status": "completed"
    },
    "tags": []
   },
   "source": [
    "## 4-Test and Submission"
   ]
  },
  {
   "cell_type": "markdown",
   "id": "54976205",
   "metadata": {
    "papermill": {
     "duration": 0.018004,
     "end_time": "2024-01-19T23:19:29.723815",
     "exception": false,
     "start_time": "2024-01-19T23:19:29.705811",
     "status": "completed"
    },
    "tags": []
   },
   "source": [
    "### a-Predicting submission data"
   ]
  },
  {
   "cell_type": "code",
   "execution_count": 35,
   "id": "2868033a",
   "metadata": {
    "execution": {
     "iopub.execute_input": "2024-01-19T23:19:29.761999Z",
     "iopub.status.busy": "2024-01-19T23:19:29.761266Z",
     "iopub.status.idle": "2024-01-19T23:19:31.258299Z",
     "shell.execute_reply": "2024-01-19T23:19:31.257105Z"
    },
    "papermill": {
     "duration": 1.518994,
     "end_time": "2024-01-19T23:19:31.260820",
     "exception": false,
     "start_time": "2024-01-19T23:19:29.741826",
     "status": "completed"
    },
    "tags": []
   },
   "outputs": [],
   "source": [
    "submi=pd.read_csv('/kaggle/input/digit-recognizer/test.csv')"
   ]
  },
  {
   "cell_type": "code",
   "execution_count": 36,
   "id": "81369765",
   "metadata": {
    "execution": {
     "iopub.execute_input": "2024-01-19T23:19:31.299734Z",
     "iopub.status.busy": "2024-01-19T23:19:31.299339Z",
     "iopub.status.idle": "2024-01-19T23:19:43.798542Z",
     "shell.execute_reply": "2024-01-19T23:19:43.797264Z"
    },
    "papermill": {
     "duration": 12.521961,
     "end_time": "2024-01-19T23:19:43.801552",
     "exception": false,
     "start_time": "2024-01-19T23:19:31.279591",
     "status": "completed"
    },
    "tags": []
   },
   "outputs": [],
   "source": [
    "submi_replaced=(submi.replace(to_replace=[i for i in range(128)],value=0)).replace(to_replace=[i for i in range(128,256)],value=1)\n",
    "\n",
    "X_submi=torch.from_numpy(np.array(submi_replaced))\n",
    "X_submi=X_submi.float()"
   ]
  },
  {
   "cell_type": "code",
   "execution_count": 37,
   "id": "04f147b0",
   "metadata": {
    "execution": {
     "iopub.execute_input": "2024-01-19T23:19:43.839546Z",
     "iopub.status.busy": "2024-01-19T23:19:43.839056Z",
     "iopub.status.idle": "2024-01-19T23:19:44.156048Z",
     "shell.execute_reply": "2024-01-19T23:19:44.154987Z"
    },
    "papermill": {
     "duration": 0.338729,
     "end_time": "2024-01-19T23:19:44.158241",
     "exception": false,
     "start_time": "2024-01-19T23:19:43.819512",
     "status": "completed"
    },
    "tags": []
   },
   "outputs": [],
   "source": [
    "with torch.no_grad():    \n",
    "    output=model(X_submi)\n",
    "    softmax=nn.Softmax(-1)(output)"
   ]
  },
  {
   "cell_type": "code",
   "execution_count": 38,
   "id": "e6f87bbb",
   "metadata": {
    "execution": {
     "iopub.execute_input": "2024-01-19T23:19:44.196348Z",
     "iopub.status.busy": "2024-01-19T23:19:44.195929Z",
     "iopub.status.idle": "2024-01-19T23:19:44.203174Z",
     "shell.execute_reply": "2024-01-19T23:19:44.202310Z"
    },
    "papermill": {
     "duration": 0.028667,
     "end_time": "2024-01-19T23:19:44.204918",
     "exception": false,
     "start_time": "2024-01-19T23:19:44.176251",
     "status": "completed"
    },
    "tags": []
   },
   "outputs": [
    {
     "data": {
      "text/plain": [
       "tensor([2, 0, 9,  ..., 3, 9, 2])"
      ]
     },
     "execution_count": 38,
     "metadata": {},
     "output_type": "execute_result"
    }
   ],
   "source": [
    "predicted=torch.argmax(output,1)\n",
    "predicted"
   ]
  },
  {
   "cell_type": "code",
   "execution_count": 39,
   "id": "cce06c54",
   "metadata": {
    "execution": {
     "iopub.execute_input": "2024-01-19T23:19:44.243840Z",
     "iopub.status.busy": "2024-01-19T23:19:44.243215Z",
     "iopub.status.idle": "2024-01-19T23:19:44.248094Z",
     "shell.execute_reply": "2024-01-19T23:19:44.247009Z"
    },
    "papermill": {
     "duration": 0.027071,
     "end_time": "2024-01-19T23:19:44.250210",
     "exception": false,
     "start_time": "2024-01-19T23:19:44.223139",
     "status": "completed"
    },
    "tags": []
   },
   "outputs": [],
   "source": [
    "label=np.array(predicted)"
   ]
  },
  {
   "cell_type": "markdown",
   "id": "4e3cf1af",
   "metadata": {
    "papermill": {
     "duration": 0.01724,
     "end_time": "2024-01-19T23:19:44.285050",
     "exception": false,
     "start_time": "2024-01-19T23:19:44.267810",
     "status": "completed"
    },
    "tags": []
   },
   "source": [
    "### b-Submiting data"
   ]
  },
  {
   "cell_type": "code",
   "execution_count": 40,
   "id": "bd0e1f34",
   "metadata": {
    "execution": {
     "iopub.execute_input": "2024-01-19T23:19:44.324448Z",
     "iopub.status.busy": "2024-01-19T23:19:44.323904Z",
     "iopub.status.idle": "2024-01-19T23:19:44.330920Z",
     "shell.execute_reply": "2024-01-19T23:19:44.329861Z"
    },
    "papermill": {
     "duration": 0.028971,
     "end_time": "2024-01-19T23:19:44.333048",
     "exception": false,
     "start_time": "2024-01-19T23:19:44.304077",
     "status": "completed"
    },
    "tags": []
   },
   "outputs": [],
   "source": [
    "ImageId=np.array([i for i in range(1,len(label)+1)])"
   ]
  },
  {
   "cell_type": "code",
   "execution_count": 41,
   "id": "636d3b09",
   "metadata": {
    "execution": {
     "iopub.execute_input": "2024-01-19T23:19:44.372024Z",
     "iopub.status.busy": "2024-01-19T23:19:44.371535Z",
     "iopub.status.idle": "2024-01-19T23:19:44.375871Z",
     "shell.execute_reply": "2024-01-19T23:19:44.375199Z"
    },
    "papermill": {
     "duration": 0.025661,
     "end_time": "2024-01-19T23:19:44.377616",
     "exception": false,
     "start_time": "2024-01-19T23:19:44.351955",
     "status": "completed"
    },
    "tags": []
   },
   "outputs": [],
   "source": [
    "submission=pd.DataFrame({'ImageId':ImageId,'Label':label})"
   ]
  },
  {
   "cell_type": "code",
   "execution_count": 42,
   "id": "8de3647e",
   "metadata": {
    "execution": {
     "iopub.execute_input": "2024-01-19T23:19:44.417514Z",
     "iopub.status.busy": "2024-01-19T23:19:44.416922Z",
     "iopub.status.idle": "2024-01-19T23:19:44.449627Z",
     "shell.execute_reply": "2024-01-19T23:19:44.448092Z"
    },
    "papermill": {
     "duration": 0.055787,
     "end_time": "2024-01-19T23:19:44.452034",
     "exception": false,
     "start_time": "2024-01-19T23:19:44.396247",
     "status": "completed"
    },
    "tags": []
   },
   "outputs": [],
   "source": [
    "submission.to_csv('/kaggle/working/submission.csv',index=False)"
   ]
  },
  {
   "cell_type": "code",
   "execution_count": 43,
   "id": "b2827b31",
   "metadata": {
    "execution": {
     "iopub.execute_input": "2024-01-19T23:19:44.490153Z",
     "iopub.status.busy": "2024-01-19T23:19:44.489250Z",
     "iopub.status.idle": "2024-01-19T23:19:44.503478Z",
     "shell.execute_reply": "2024-01-19T23:19:44.502471Z"
    },
    "papermill": {
     "duration": 0.035205,
     "end_time": "2024-01-19T23:19:44.505406",
     "exception": false,
     "start_time": "2024-01-19T23:19:44.470201",
     "status": "completed"
    },
    "tags": []
   },
   "outputs": [
    {
     "data": {
      "text/html": [
       "<div>\n",
       "<style scoped>\n",
       "    .dataframe tbody tr th:only-of-type {\n",
       "        vertical-align: middle;\n",
       "    }\n",
       "\n",
       "    .dataframe tbody tr th {\n",
       "        vertical-align: top;\n",
       "    }\n",
       "\n",
       "    .dataframe thead th {\n",
       "        text-align: right;\n",
       "    }\n",
       "</style>\n",
       "<table border=\"1\" class=\"dataframe\">\n",
       "  <thead>\n",
       "    <tr style=\"text-align: right;\">\n",
       "      <th></th>\n",
       "      <th>ImageId</th>\n",
       "      <th>Label</th>\n",
       "    </tr>\n",
       "  </thead>\n",
       "  <tbody>\n",
       "    <tr>\n",
       "      <th>0</th>\n",
       "      <td>1</td>\n",
       "      <td>2</td>\n",
       "    </tr>\n",
       "    <tr>\n",
       "      <th>1</th>\n",
       "      <td>2</td>\n",
       "      <td>0</td>\n",
       "    </tr>\n",
       "    <tr>\n",
       "      <th>2</th>\n",
       "      <td>3</td>\n",
       "      <td>9</td>\n",
       "    </tr>\n",
       "    <tr>\n",
       "      <th>3</th>\n",
       "      <td>4</td>\n",
       "      <td>9</td>\n",
       "    </tr>\n",
       "    <tr>\n",
       "      <th>4</th>\n",
       "      <td>5</td>\n",
       "      <td>3</td>\n",
       "    </tr>\n",
       "    <tr>\n",
       "      <th>...</th>\n",
       "      <td>...</td>\n",
       "      <td>...</td>\n",
       "    </tr>\n",
       "    <tr>\n",
       "      <th>27995</th>\n",
       "      <td>27996</td>\n",
       "      <td>9</td>\n",
       "    </tr>\n",
       "    <tr>\n",
       "      <th>27996</th>\n",
       "      <td>27997</td>\n",
       "      <td>7</td>\n",
       "    </tr>\n",
       "    <tr>\n",
       "      <th>27997</th>\n",
       "      <td>27998</td>\n",
       "      <td>3</td>\n",
       "    </tr>\n",
       "    <tr>\n",
       "      <th>27998</th>\n",
       "      <td>27999</td>\n",
       "      <td>9</td>\n",
       "    </tr>\n",
       "    <tr>\n",
       "      <th>27999</th>\n",
       "      <td>28000</td>\n",
       "      <td>2</td>\n",
       "    </tr>\n",
       "  </tbody>\n",
       "</table>\n",
       "<p>28000 rows × 2 columns</p>\n",
       "</div>"
      ],
      "text/plain": [
       "       ImageId  Label\n",
       "0            1      2\n",
       "1            2      0\n",
       "2            3      9\n",
       "3            4      9\n",
       "4            5      3\n",
       "...        ...    ...\n",
       "27995    27996      9\n",
       "27996    27997      7\n",
       "27997    27998      3\n",
       "27998    27999      9\n",
       "27999    28000      2\n",
       "\n",
       "[28000 rows x 2 columns]"
      ]
     },
     "execution_count": 43,
     "metadata": {},
     "output_type": "execute_result"
    }
   ],
   "source": [
    "submission_path='/kaggle/working/submission.csv'\n",
    "pd.read_csv(submission_path)"
   ]
  },
  {
   "cell_type": "code",
   "execution_count": null,
   "id": "5709f4f3",
   "metadata": {
    "papermill": {
     "duration": 0.018534,
     "end_time": "2024-01-19T23:19:44.542575",
     "exception": false,
     "start_time": "2024-01-19T23:19:44.524041",
     "status": "completed"
    },
    "tags": []
   },
   "outputs": [],
   "source": []
  }
 ],
 "metadata": {
  "kaggle": {
   "accelerator": "none",
   "dataSources": [
    {
     "databundleVersionId": 861823,
     "sourceId": 3004,
     "sourceType": "competition"
    }
   ],
   "dockerImageVersionId": 30587,
   "isGpuEnabled": false,
   "isInternetEnabled": true,
   "language": "python",
   "sourceType": "notebook"
  },
  "kernelspec": {
   "display_name": "Python 3",
   "language": "python",
   "name": "python3"
  },
  "language_info": {
   "codemirror_mode": {
    "name": "ipython",
    "version": 3
   },
   "file_extension": ".py",
   "mimetype": "text/x-python",
   "name": "python",
   "nbconvert_exporter": "python",
   "pygments_lexer": "ipython3",
   "version": "3.10.12"
  },
  "papermill": {
   "default_parameters": {},
   "duration": 293.872197,
   "end_time": "2024-01-19T23:19:45.986540",
   "environment_variables": {},
   "exception": null,
   "input_path": "__notebook__.ipynb",
   "output_path": "__notebook__.ipynb",
   "parameters": {},
   "start_time": "2024-01-19T23:14:52.114343",
   "version": "2.4.0"
  }
 },
 "nbformat": 4,
 "nbformat_minor": 5
}
