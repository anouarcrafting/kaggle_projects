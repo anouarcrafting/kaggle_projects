{
 "cells": [
  {
   "cell_type": "code",
   "execution_count": 1,
   "id": "4fa6f7ff",
   "metadata": {
    "_cell_guid": "b1076dfc-b9ad-4769-8c92-a6c4dae69d19",
    "_uuid": "8f2839f25d086af736a60e9eeb907d3b93b6e0e5",
    "execution": {
     "iopub.execute_input": "2024-01-19T22:54:21.597132Z",
     "iopub.status.busy": "2024-01-19T22:54:21.596752Z",
     "iopub.status.idle": "2024-01-19T22:54:26.288490Z",
     "shell.execute_reply": "2024-01-19T22:54:26.287335Z"
    },
    "papermill": {
     "duration": 4.713017,
     "end_time": "2024-01-19T22:54:26.291401",
     "exception": false,
     "start_time": "2024-01-19T22:54:21.578384",
     "status": "completed"
    },
    "tags": []
   },
   "outputs": [],
   "source": [
    "import numpy as np # linear algebra\n",
    "import pandas as pd # data processing, CSV file I/O (e.g. pd.read_csv)\n",
    "import torch.nn as nn\n",
    "import torch\n",
    "import matplotlib.pyplot as plt"
   ]
  },
  {
   "cell_type": "code",
   "execution_count": 2,
   "id": "aa2831df",
   "metadata": {
    "execution": {
     "iopub.execute_input": "2024-01-19T22:54:26.326309Z",
     "iopub.status.busy": "2024-01-19T22:54:26.325691Z",
     "iopub.status.idle": "2024-01-19T22:54:30.726492Z",
     "shell.execute_reply": "2024-01-19T22:54:30.725406Z"
    },
    "papermill": {
     "duration": 4.42153,
     "end_time": "2024-01-19T22:54:30.729133",
     "exception": false,
     "start_time": "2024-01-19T22:54:26.307603",
     "status": "completed"
    },
    "tags": []
   },
   "outputs": [
    {
     "data": {
      "text/html": [
       "<div>\n",
       "<style scoped>\n",
       "    .dataframe tbody tr th:only-of-type {\n",
       "        vertical-align: middle;\n",
       "    }\n",
       "\n",
       "    .dataframe tbody tr th {\n",
       "        vertical-align: top;\n",
       "    }\n",
       "\n",
       "    .dataframe thead th {\n",
       "        text-align: right;\n",
       "    }\n",
       "</style>\n",
       "<table border=\"1\" class=\"dataframe\">\n",
       "  <thead>\n",
       "    <tr style=\"text-align: right;\">\n",
       "      <th></th>\n",
       "      <th>label</th>\n",
       "      <th>pixel0</th>\n",
       "      <th>pixel1</th>\n",
       "      <th>pixel2</th>\n",
       "      <th>pixel3</th>\n",
       "      <th>pixel4</th>\n",
       "      <th>pixel5</th>\n",
       "      <th>pixel6</th>\n",
       "      <th>pixel7</th>\n",
       "      <th>pixel8</th>\n",
       "      <th>...</th>\n",
       "      <th>pixel774</th>\n",
       "      <th>pixel775</th>\n",
       "      <th>pixel776</th>\n",
       "      <th>pixel777</th>\n",
       "      <th>pixel778</th>\n",
       "      <th>pixel779</th>\n",
       "      <th>pixel780</th>\n",
       "      <th>pixel781</th>\n",
       "      <th>pixel782</th>\n",
       "      <th>pixel783</th>\n",
       "    </tr>\n",
       "  </thead>\n",
       "  <tbody>\n",
       "    <tr>\n",
       "      <th>0</th>\n",
       "      <td>1</td>\n",
       "      <td>0</td>\n",
       "      <td>0</td>\n",
       "      <td>0</td>\n",
       "      <td>0</td>\n",
       "      <td>0</td>\n",
       "      <td>0</td>\n",
       "      <td>0</td>\n",
       "      <td>0</td>\n",
       "      <td>0</td>\n",
       "      <td>...</td>\n",
       "      <td>0</td>\n",
       "      <td>0</td>\n",
       "      <td>0</td>\n",
       "      <td>0</td>\n",
       "      <td>0</td>\n",
       "      <td>0</td>\n",
       "      <td>0</td>\n",
       "      <td>0</td>\n",
       "      <td>0</td>\n",
       "      <td>0</td>\n",
       "    </tr>\n",
       "    <tr>\n",
       "      <th>1</th>\n",
       "      <td>0</td>\n",
       "      <td>0</td>\n",
       "      <td>0</td>\n",
       "      <td>0</td>\n",
       "      <td>0</td>\n",
       "      <td>0</td>\n",
       "      <td>0</td>\n",
       "      <td>0</td>\n",
       "      <td>0</td>\n",
       "      <td>0</td>\n",
       "      <td>...</td>\n",
       "      <td>0</td>\n",
       "      <td>0</td>\n",
       "      <td>0</td>\n",
       "      <td>0</td>\n",
       "      <td>0</td>\n",
       "      <td>0</td>\n",
       "      <td>0</td>\n",
       "      <td>0</td>\n",
       "      <td>0</td>\n",
       "      <td>0</td>\n",
       "    </tr>\n",
       "    <tr>\n",
       "      <th>2</th>\n",
       "      <td>1</td>\n",
       "      <td>0</td>\n",
       "      <td>0</td>\n",
       "      <td>0</td>\n",
       "      <td>0</td>\n",
       "      <td>0</td>\n",
       "      <td>0</td>\n",
       "      <td>0</td>\n",
       "      <td>0</td>\n",
       "      <td>0</td>\n",
       "      <td>...</td>\n",
       "      <td>0</td>\n",
       "      <td>0</td>\n",
       "      <td>0</td>\n",
       "      <td>0</td>\n",
       "      <td>0</td>\n",
       "      <td>0</td>\n",
       "      <td>0</td>\n",
       "      <td>0</td>\n",
       "      <td>0</td>\n",
       "      <td>0</td>\n",
       "    </tr>\n",
       "    <tr>\n",
       "      <th>3</th>\n",
       "      <td>4</td>\n",
       "      <td>0</td>\n",
       "      <td>0</td>\n",
       "      <td>0</td>\n",
       "      <td>0</td>\n",
       "      <td>0</td>\n",
       "      <td>0</td>\n",
       "      <td>0</td>\n",
       "      <td>0</td>\n",
       "      <td>0</td>\n",
       "      <td>...</td>\n",
       "      <td>0</td>\n",
       "      <td>0</td>\n",
       "      <td>0</td>\n",
       "      <td>0</td>\n",
       "      <td>0</td>\n",
       "      <td>0</td>\n",
       "      <td>0</td>\n",
       "      <td>0</td>\n",
       "      <td>0</td>\n",
       "      <td>0</td>\n",
       "    </tr>\n",
       "    <tr>\n",
       "      <th>4</th>\n",
       "      <td>0</td>\n",
       "      <td>0</td>\n",
       "      <td>0</td>\n",
       "      <td>0</td>\n",
       "      <td>0</td>\n",
       "      <td>0</td>\n",
       "      <td>0</td>\n",
       "      <td>0</td>\n",
       "      <td>0</td>\n",
       "      <td>0</td>\n",
       "      <td>...</td>\n",
       "      <td>0</td>\n",
       "      <td>0</td>\n",
       "      <td>0</td>\n",
       "      <td>0</td>\n",
       "      <td>0</td>\n",
       "      <td>0</td>\n",
       "      <td>0</td>\n",
       "      <td>0</td>\n",
       "      <td>0</td>\n",
       "      <td>0</td>\n",
       "    </tr>\n",
       "    <tr>\n",
       "      <th>...</th>\n",
       "      <td>...</td>\n",
       "      <td>...</td>\n",
       "      <td>...</td>\n",
       "      <td>...</td>\n",
       "      <td>...</td>\n",
       "      <td>...</td>\n",
       "      <td>...</td>\n",
       "      <td>...</td>\n",
       "      <td>...</td>\n",
       "      <td>...</td>\n",
       "      <td>...</td>\n",
       "      <td>...</td>\n",
       "      <td>...</td>\n",
       "      <td>...</td>\n",
       "      <td>...</td>\n",
       "      <td>...</td>\n",
       "      <td>...</td>\n",
       "      <td>...</td>\n",
       "      <td>...</td>\n",
       "      <td>...</td>\n",
       "      <td>...</td>\n",
       "    </tr>\n",
       "    <tr>\n",
       "      <th>41995</th>\n",
       "      <td>0</td>\n",
       "      <td>0</td>\n",
       "      <td>0</td>\n",
       "      <td>0</td>\n",
       "      <td>0</td>\n",
       "      <td>0</td>\n",
       "      <td>0</td>\n",
       "      <td>0</td>\n",
       "      <td>0</td>\n",
       "      <td>0</td>\n",
       "      <td>...</td>\n",
       "      <td>0</td>\n",
       "      <td>0</td>\n",
       "      <td>0</td>\n",
       "      <td>0</td>\n",
       "      <td>0</td>\n",
       "      <td>0</td>\n",
       "      <td>0</td>\n",
       "      <td>0</td>\n",
       "      <td>0</td>\n",
       "      <td>0</td>\n",
       "    </tr>\n",
       "    <tr>\n",
       "      <th>41996</th>\n",
       "      <td>1</td>\n",
       "      <td>0</td>\n",
       "      <td>0</td>\n",
       "      <td>0</td>\n",
       "      <td>0</td>\n",
       "      <td>0</td>\n",
       "      <td>0</td>\n",
       "      <td>0</td>\n",
       "      <td>0</td>\n",
       "      <td>0</td>\n",
       "      <td>...</td>\n",
       "      <td>0</td>\n",
       "      <td>0</td>\n",
       "      <td>0</td>\n",
       "      <td>0</td>\n",
       "      <td>0</td>\n",
       "      <td>0</td>\n",
       "      <td>0</td>\n",
       "      <td>0</td>\n",
       "      <td>0</td>\n",
       "      <td>0</td>\n",
       "    </tr>\n",
       "    <tr>\n",
       "      <th>41997</th>\n",
       "      <td>7</td>\n",
       "      <td>0</td>\n",
       "      <td>0</td>\n",
       "      <td>0</td>\n",
       "      <td>0</td>\n",
       "      <td>0</td>\n",
       "      <td>0</td>\n",
       "      <td>0</td>\n",
       "      <td>0</td>\n",
       "      <td>0</td>\n",
       "      <td>...</td>\n",
       "      <td>0</td>\n",
       "      <td>0</td>\n",
       "      <td>0</td>\n",
       "      <td>0</td>\n",
       "      <td>0</td>\n",
       "      <td>0</td>\n",
       "      <td>0</td>\n",
       "      <td>0</td>\n",
       "      <td>0</td>\n",
       "      <td>0</td>\n",
       "    </tr>\n",
       "    <tr>\n",
       "      <th>41998</th>\n",
       "      <td>6</td>\n",
       "      <td>0</td>\n",
       "      <td>0</td>\n",
       "      <td>0</td>\n",
       "      <td>0</td>\n",
       "      <td>0</td>\n",
       "      <td>0</td>\n",
       "      <td>0</td>\n",
       "      <td>0</td>\n",
       "      <td>0</td>\n",
       "      <td>...</td>\n",
       "      <td>0</td>\n",
       "      <td>0</td>\n",
       "      <td>0</td>\n",
       "      <td>0</td>\n",
       "      <td>0</td>\n",
       "      <td>0</td>\n",
       "      <td>0</td>\n",
       "      <td>0</td>\n",
       "      <td>0</td>\n",
       "      <td>0</td>\n",
       "    </tr>\n",
       "    <tr>\n",
       "      <th>41999</th>\n",
       "      <td>9</td>\n",
       "      <td>0</td>\n",
       "      <td>0</td>\n",
       "      <td>0</td>\n",
       "      <td>0</td>\n",
       "      <td>0</td>\n",
       "      <td>0</td>\n",
       "      <td>0</td>\n",
       "      <td>0</td>\n",
       "      <td>0</td>\n",
       "      <td>...</td>\n",
       "      <td>0</td>\n",
       "      <td>0</td>\n",
       "      <td>0</td>\n",
       "      <td>0</td>\n",
       "      <td>0</td>\n",
       "      <td>0</td>\n",
       "      <td>0</td>\n",
       "      <td>0</td>\n",
       "      <td>0</td>\n",
       "      <td>0</td>\n",
       "    </tr>\n",
       "  </tbody>\n",
       "</table>\n",
       "<p>42000 rows × 785 columns</p>\n",
       "</div>"
      ],
      "text/plain": [
       "       label  pixel0  pixel1  pixel2  pixel3  pixel4  pixel5  pixel6  pixel7  \\\n",
       "0          1       0       0       0       0       0       0       0       0   \n",
       "1          0       0       0       0       0       0       0       0       0   \n",
       "2          1       0       0       0       0       0       0       0       0   \n",
       "3          4       0       0       0       0       0       0       0       0   \n",
       "4          0       0       0       0       0       0       0       0       0   \n",
       "...      ...     ...     ...     ...     ...     ...     ...     ...     ...   \n",
       "41995      0       0       0       0       0       0       0       0       0   \n",
       "41996      1       0       0       0       0       0       0       0       0   \n",
       "41997      7       0       0       0       0       0       0       0       0   \n",
       "41998      6       0       0       0       0       0       0       0       0   \n",
       "41999      9       0       0       0       0       0       0       0       0   \n",
       "\n",
       "       pixel8  ...  pixel774  pixel775  pixel776  pixel777  pixel778  \\\n",
       "0           0  ...         0         0         0         0         0   \n",
       "1           0  ...         0         0         0         0         0   \n",
       "2           0  ...         0         0         0         0         0   \n",
       "3           0  ...         0         0         0         0         0   \n",
       "4           0  ...         0         0         0         0         0   \n",
       "...       ...  ...       ...       ...       ...       ...       ...   \n",
       "41995       0  ...         0         0         0         0         0   \n",
       "41996       0  ...         0         0         0         0         0   \n",
       "41997       0  ...         0         0         0         0         0   \n",
       "41998       0  ...         0         0         0         0         0   \n",
       "41999       0  ...         0         0         0         0         0   \n",
       "\n",
       "       pixel779  pixel780  pixel781  pixel782  pixel783  \n",
       "0             0         0         0         0         0  \n",
       "1             0         0         0         0         0  \n",
       "2             0         0         0         0         0  \n",
       "3             0         0         0         0         0  \n",
       "4             0         0         0         0         0  \n",
       "...         ...       ...       ...       ...       ...  \n",
       "41995         0         0         0         0         0  \n",
       "41996         0         0         0         0         0  \n",
       "41997         0         0         0         0         0  \n",
       "41998         0         0         0         0         0  \n",
       "41999         0         0         0         0         0  \n",
       "\n",
       "[42000 rows x 785 columns]"
      ]
     },
     "execution_count": 2,
     "metadata": {},
     "output_type": "execute_result"
    }
   ],
   "source": [
    "path='/kaggle/input/digit-recognizer/train.csv'\n",
    "trainset=pd.read_csv(path)\n",
    "trainset"
   ]
  },
  {
   "cell_type": "code",
   "execution_count": 3,
   "id": "1c217891",
   "metadata": {
    "execution": {
     "iopub.execute_input": "2024-01-19T22:54:30.764603Z",
     "iopub.status.busy": "2024-01-19T22:54:30.764161Z",
     "iopub.status.idle": "2024-01-19T22:54:30.770189Z",
     "shell.execute_reply": "2024-01-19T22:54:30.769385Z"
    },
    "papermill": {
     "duration": 0.026145,
     "end_time": "2024-01-19T22:54:30.772384",
     "exception": false,
     "start_time": "2024-01-19T22:54:30.746239",
     "status": "completed"
    },
    "tags": []
   },
   "outputs": [],
   "source": [
    "from torch.utils.data import DataLoader"
   ]
  },
  {
   "cell_type": "code",
   "execution_count": 4,
   "id": "0721134a",
   "metadata": {
    "execution": {
     "iopub.execute_input": "2024-01-19T22:54:30.807437Z",
     "iopub.status.busy": "2024-01-19T22:54:30.806821Z",
     "iopub.status.idle": "2024-01-19T22:54:30.952551Z",
     "shell.execute_reply": "2024-01-19T22:54:30.951416Z"
    },
    "papermill": {
     "duration": 0.16637,
     "end_time": "2024-01-19T22:54:30.955226",
     "exception": false,
     "start_time": "2024-01-19T22:54:30.788856",
     "status": "completed"
    },
    "tags": []
   },
   "outputs": [
    {
     "data": {
      "text/html": [
       "<div>\n",
       "<style scoped>\n",
       "    .dataframe tbody tr th:only-of-type {\n",
       "        vertical-align: middle;\n",
       "    }\n",
       "\n",
       "    .dataframe tbody tr th {\n",
       "        vertical-align: top;\n",
       "    }\n",
       "\n",
       "    .dataframe thead th {\n",
       "        text-align: right;\n",
       "    }\n",
       "</style>\n",
       "<table border=\"1\" class=\"dataframe\">\n",
       "  <thead>\n",
       "    <tr style=\"text-align: right;\">\n",
       "      <th></th>\n",
       "      <th>pixel0</th>\n",
       "      <th>pixel1</th>\n",
       "      <th>pixel2</th>\n",
       "      <th>pixel3</th>\n",
       "      <th>pixel4</th>\n",
       "      <th>pixel5</th>\n",
       "      <th>pixel6</th>\n",
       "      <th>pixel7</th>\n",
       "      <th>pixel8</th>\n",
       "      <th>pixel9</th>\n",
       "      <th>...</th>\n",
       "      <th>pixel774</th>\n",
       "      <th>pixel775</th>\n",
       "      <th>pixel776</th>\n",
       "      <th>pixel777</th>\n",
       "      <th>pixel778</th>\n",
       "      <th>pixel779</th>\n",
       "      <th>pixel780</th>\n",
       "      <th>pixel781</th>\n",
       "      <th>pixel782</th>\n",
       "      <th>pixel783</th>\n",
       "    </tr>\n",
       "  </thead>\n",
       "  <tbody>\n",
       "    <tr>\n",
       "      <th>0</th>\n",
       "      <td>0</td>\n",
       "      <td>0</td>\n",
       "      <td>0</td>\n",
       "      <td>0</td>\n",
       "      <td>0</td>\n",
       "      <td>0</td>\n",
       "      <td>0</td>\n",
       "      <td>0</td>\n",
       "      <td>0</td>\n",
       "      <td>0</td>\n",
       "      <td>...</td>\n",
       "      <td>0</td>\n",
       "      <td>0</td>\n",
       "      <td>0</td>\n",
       "      <td>0</td>\n",
       "      <td>0</td>\n",
       "      <td>0</td>\n",
       "      <td>0</td>\n",
       "      <td>0</td>\n",
       "      <td>0</td>\n",
       "      <td>0</td>\n",
       "    </tr>\n",
       "    <tr>\n",
       "      <th>1</th>\n",
       "      <td>0</td>\n",
       "      <td>0</td>\n",
       "      <td>0</td>\n",
       "      <td>0</td>\n",
       "      <td>0</td>\n",
       "      <td>0</td>\n",
       "      <td>0</td>\n",
       "      <td>0</td>\n",
       "      <td>0</td>\n",
       "      <td>0</td>\n",
       "      <td>...</td>\n",
       "      <td>0</td>\n",
       "      <td>0</td>\n",
       "      <td>0</td>\n",
       "      <td>0</td>\n",
       "      <td>0</td>\n",
       "      <td>0</td>\n",
       "      <td>0</td>\n",
       "      <td>0</td>\n",
       "      <td>0</td>\n",
       "      <td>0</td>\n",
       "    </tr>\n",
       "    <tr>\n",
       "      <th>2</th>\n",
       "      <td>0</td>\n",
       "      <td>0</td>\n",
       "      <td>0</td>\n",
       "      <td>0</td>\n",
       "      <td>0</td>\n",
       "      <td>0</td>\n",
       "      <td>0</td>\n",
       "      <td>0</td>\n",
       "      <td>0</td>\n",
       "      <td>0</td>\n",
       "      <td>...</td>\n",
       "      <td>0</td>\n",
       "      <td>0</td>\n",
       "      <td>0</td>\n",
       "      <td>0</td>\n",
       "      <td>0</td>\n",
       "      <td>0</td>\n",
       "      <td>0</td>\n",
       "      <td>0</td>\n",
       "      <td>0</td>\n",
       "      <td>0</td>\n",
       "    </tr>\n",
       "    <tr>\n",
       "      <th>3</th>\n",
       "      <td>0</td>\n",
       "      <td>0</td>\n",
       "      <td>0</td>\n",
       "      <td>0</td>\n",
       "      <td>0</td>\n",
       "      <td>0</td>\n",
       "      <td>0</td>\n",
       "      <td>0</td>\n",
       "      <td>0</td>\n",
       "      <td>0</td>\n",
       "      <td>...</td>\n",
       "      <td>0</td>\n",
       "      <td>0</td>\n",
       "      <td>0</td>\n",
       "      <td>0</td>\n",
       "      <td>0</td>\n",
       "      <td>0</td>\n",
       "      <td>0</td>\n",
       "      <td>0</td>\n",
       "      <td>0</td>\n",
       "      <td>0</td>\n",
       "    </tr>\n",
       "    <tr>\n",
       "      <th>4</th>\n",
       "      <td>0</td>\n",
       "      <td>0</td>\n",
       "      <td>0</td>\n",
       "      <td>0</td>\n",
       "      <td>0</td>\n",
       "      <td>0</td>\n",
       "      <td>0</td>\n",
       "      <td>0</td>\n",
       "      <td>0</td>\n",
       "      <td>0</td>\n",
       "      <td>...</td>\n",
       "      <td>0</td>\n",
       "      <td>0</td>\n",
       "      <td>0</td>\n",
       "      <td>0</td>\n",
       "      <td>0</td>\n",
       "      <td>0</td>\n",
       "      <td>0</td>\n",
       "      <td>0</td>\n",
       "      <td>0</td>\n",
       "      <td>0</td>\n",
       "    </tr>\n",
       "    <tr>\n",
       "      <th>...</th>\n",
       "      <td>...</td>\n",
       "      <td>...</td>\n",
       "      <td>...</td>\n",
       "      <td>...</td>\n",
       "      <td>...</td>\n",
       "      <td>...</td>\n",
       "      <td>...</td>\n",
       "      <td>...</td>\n",
       "      <td>...</td>\n",
       "      <td>...</td>\n",
       "      <td>...</td>\n",
       "      <td>...</td>\n",
       "      <td>...</td>\n",
       "      <td>...</td>\n",
       "      <td>...</td>\n",
       "      <td>...</td>\n",
       "      <td>...</td>\n",
       "      <td>...</td>\n",
       "      <td>...</td>\n",
       "      <td>...</td>\n",
       "      <td>...</td>\n",
       "    </tr>\n",
       "    <tr>\n",
       "      <th>41995</th>\n",
       "      <td>0</td>\n",
       "      <td>0</td>\n",
       "      <td>0</td>\n",
       "      <td>0</td>\n",
       "      <td>0</td>\n",
       "      <td>0</td>\n",
       "      <td>0</td>\n",
       "      <td>0</td>\n",
       "      <td>0</td>\n",
       "      <td>0</td>\n",
       "      <td>...</td>\n",
       "      <td>0</td>\n",
       "      <td>0</td>\n",
       "      <td>0</td>\n",
       "      <td>0</td>\n",
       "      <td>0</td>\n",
       "      <td>0</td>\n",
       "      <td>0</td>\n",
       "      <td>0</td>\n",
       "      <td>0</td>\n",
       "      <td>0</td>\n",
       "    </tr>\n",
       "    <tr>\n",
       "      <th>41996</th>\n",
       "      <td>0</td>\n",
       "      <td>0</td>\n",
       "      <td>0</td>\n",
       "      <td>0</td>\n",
       "      <td>0</td>\n",
       "      <td>0</td>\n",
       "      <td>0</td>\n",
       "      <td>0</td>\n",
       "      <td>0</td>\n",
       "      <td>0</td>\n",
       "      <td>...</td>\n",
       "      <td>0</td>\n",
       "      <td>0</td>\n",
       "      <td>0</td>\n",
       "      <td>0</td>\n",
       "      <td>0</td>\n",
       "      <td>0</td>\n",
       "      <td>0</td>\n",
       "      <td>0</td>\n",
       "      <td>0</td>\n",
       "      <td>0</td>\n",
       "    </tr>\n",
       "    <tr>\n",
       "      <th>41997</th>\n",
       "      <td>0</td>\n",
       "      <td>0</td>\n",
       "      <td>0</td>\n",
       "      <td>0</td>\n",
       "      <td>0</td>\n",
       "      <td>0</td>\n",
       "      <td>0</td>\n",
       "      <td>0</td>\n",
       "      <td>0</td>\n",
       "      <td>0</td>\n",
       "      <td>...</td>\n",
       "      <td>0</td>\n",
       "      <td>0</td>\n",
       "      <td>0</td>\n",
       "      <td>0</td>\n",
       "      <td>0</td>\n",
       "      <td>0</td>\n",
       "      <td>0</td>\n",
       "      <td>0</td>\n",
       "      <td>0</td>\n",
       "      <td>0</td>\n",
       "    </tr>\n",
       "    <tr>\n",
       "      <th>41998</th>\n",
       "      <td>0</td>\n",
       "      <td>0</td>\n",
       "      <td>0</td>\n",
       "      <td>0</td>\n",
       "      <td>0</td>\n",
       "      <td>0</td>\n",
       "      <td>0</td>\n",
       "      <td>0</td>\n",
       "      <td>0</td>\n",
       "      <td>0</td>\n",
       "      <td>...</td>\n",
       "      <td>0</td>\n",
       "      <td>0</td>\n",
       "      <td>0</td>\n",
       "      <td>0</td>\n",
       "      <td>0</td>\n",
       "      <td>0</td>\n",
       "      <td>0</td>\n",
       "      <td>0</td>\n",
       "      <td>0</td>\n",
       "      <td>0</td>\n",
       "    </tr>\n",
       "    <tr>\n",
       "      <th>41999</th>\n",
       "      <td>0</td>\n",
       "      <td>0</td>\n",
       "      <td>0</td>\n",
       "      <td>0</td>\n",
       "      <td>0</td>\n",
       "      <td>0</td>\n",
       "      <td>0</td>\n",
       "      <td>0</td>\n",
       "      <td>0</td>\n",
       "      <td>0</td>\n",
       "      <td>...</td>\n",
       "      <td>0</td>\n",
       "      <td>0</td>\n",
       "      <td>0</td>\n",
       "      <td>0</td>\n",
       "      <td>0</td>\n",
       "      <td>0</td>\n",
       "      <td>0</td>\n",
       "      <td>0</td>\n",
       "      <td>0</td>\n",
       "      <td>0</td>\n",
       "    </tr>\n",
       "  </tbody>\n",
       "</table>\n",
       "<p>42000 rows × 784 columns</p>\n",
       "</div>"
      ],
      "text/plain": [
       "       pixel0  pixel1  pixel2  pixel3  pixel4  pixel5  pixel6  pixel7  pixel8  \\\n",
       "0           0       0       0       0       0       0       0       0       0   \n",
       "1           0       0       0       0       0       0       0       0       0   \n",
       "2           0       0       0       0       0       0       0       0       0   \n",
       "3           0       0       0       0       0       0       0       0       0   \n",
       "4           0       0       0       0       0       0       0       0       0   \n",
       "...       ...     ...     ...     ...     ...     ...     ...     ...     ...   \n",
       "41995       0       0       0       0       0       0       0       0       0   \n",
       "41996       0       0       0       0       0       0       0       0       0   \n",
       "41997       0       0       0       0       0       0       0       0       0   \n",
       "41998       0       0       0       0       0       0       0       0       0   \n",
       "41999       0       0       0       0       0       0       0       0       0   \n",
       "\n",
       "       pixel9  ...  pixel774  pixel775  pixel776  pixel777  pixel778  \\\n",
       "0           0  ...         0         0         0         0         0   \n",
       "1           0  ...         0         0         0         0         0   \n",
       "2           0  ...         0         0         0         0         0   \n",
       "3           0  ...         0         0         0         0         0   \n",
       "4           0  ...         0         0         0         0         0   \n",
       "...       ...  ...       ...       ...       ...       ...       ...   \n",
       "41995       0  ...         0         0         0         0         0   \n",
       "41996       0  ...         0         0         0         0         0   \n",
       "41997       0  ...         0         0         0         0         0   \n",
       "41998       0  ...         0         0         0         0         0   \n",
       "41999       0  ...         0         0         0         0         0   \n",
       "\n",
       "       pixel779  pixel780  pixel781  pixel782  pixel783  \n",
       "0             0         0         0         0         0  \n",
       "1             0         0         0         0         0  \n",
       "2             0         0         0         0         0  \n",
       "3             0         0         0         0         0  \n",
       "4             0         0         0         0         0  \n",
       "...         ...       ...       ...       ...       ...  \n",
       "41995         0         0         0         0         0  \n",
       "41996         0         0         0         0         0  \n",
       "41997         0         0         0         0         0  \n",
       "41998         0         0         0         0         0  \n",
       "41999         0         0         0         0         0  \n",
       "\n",
       "[42000 rows x 784 columns]"
      ]
     },
     "execution_count": 4,
     "metadata": {},
     "output_type": "execute_result"
    }
   ],
   "source": [
    "trainset.drop('label',axis=1)"
   ]
  },
  {
   "cell_type": "markdown",
   "id": "54627131",
   "metadata": {
    "execution": {
     "iopub.execute_input": "2023-11-25T00:42:55.915189Z",
     "iopub.status.busy": "2023-11-25T00:42:55.914797Z",
     "iopub.status.idle": "2023-11-25T00:42:55.919273Z",
     "shell.execute_reply": "2023-11-25T00:42:55.918322Z",
     "shell.execute_reply.started": "2023-11-25T00:42:55.915165Z"
    },
    "papermill": {
     "duration": 0.016873,
     "end_time": "2024-01-19T22:54:30.989609",
     "exception": false,
     "start_time": "2024-01-19T22:54:30.972736",
     "status": "completed"
    },
    "tags": []
   },
   "source": [
    "__*sample data*__"
   ]
  },
  {
   "cell_type": "code",
   "execution_count": 5,
   "id": "48ff61c7",
   "metadata": {
    "execution": {
     "iopub.execute_input": "2024-01-19T22:54:31.026924Z",
     "iopub.status.busy": "2024-01-19T22:54:31.026208Z",
     "iopub.status.idle": "2024-01-19T22:54:31.154239Z",
     "shell.execute_reply": "2024-01-19T22:54:31.153205Z"
    },
    "papermill": {
     "duration": 0.150232,
     "end_time": "2024-01-19T22:54:31.156970",
     "exception": false,
     "start_time": "2024-01-19T22:54:31.006738",
     "status": "completed"
    },
    "tags": []
   },
   "outputs": [],
   "source": [
    "sample=np.array(trainset.drop('label',axis=1).iloc[6])\n",
    "sample=sample.reshape((28,-1))"
   ]
  },
  {
   "cell_type": "code",
   "execution_count": 6,
   "id": "37815f40",
   "metadata": {
    "execution": {
     "iopub.execute_input": "2024-01-19T22:54:31.194758Z",
     "iopub.status.busy": "2024-01-19T22:54:31.194080Z",
     "iopub.status.idle": "2024-01-19T22:54:31.472714Z",
     "shell.execute_reply": "2024-01-19T22:54:31.471561Z"
    },
    "papermill": {
     "duration": 0.300668,
     "end_time": "2024-01-19T22:54:31.475328",
     "exception": false,
     "start_time": "2024-01-19T22:54:31.174660",
     "status": "completed"
    },
    "tags": []
   },
   "outputs": [
    {
     "data": {
      "image/png": "[encoded data removed]",
      "text/plain": [
       "<Figure size 640x480 with 1 Axes>"
      ]
     },
     "metadata": {},
     "output_type": "display_data"
    }
   ],
   "source": [
    "plt.imshow(sample)\n",
    "plt.show()"
   ]
  },
  {
   "cell_type": "markdown",
   "id": "65b1417d",
   "metadata": {
    "papermill": {
     "duration": 0.01748,
     "end_time": "2024-01-19T22:54:31.510793",
     "exception": false,
     "start_time": "2024-01-19T22:54:31.493313",
     "status": "completed"
    },
    "tags": []
   },
   "source": [
    "## 1-Data"
   ]
  },
  {
   "cell_type": "code",
   "execution_count": 7,
   "id": "9d13c4df",
   "metadata": {
    "execution": {
     "iopub.execute_input": "2024-01-19T22:54:31.547772Z",
     "iopub.status.busy": "2024-01-19T22:54:31.547326Z",
     "iopub.status.idle": "2024-01-19T22:54:31.653560Z",
     "shell.execute_reply": "2024-01-19T22:54:31.652379Z"
    },
    "papermill": {
     "duration": 0.12812,
     "end_time": "2024-01-19T22:54:31.656422",
     "exception": false,
     "start_time": "2024-01-19T22:54:31.528302",
     "status": "completed"
    },
    "tags": []
   },
   "outputs": [],
   "source": [
    "dt=trainset.copy()"
   ]
  },
  {
   "cell_type": "markdown",
   "id": "7ba15b3f",
   "metadata": {
    "papermill": {
     "duration": 0.017583,
     "end_time": "2024-01-19T22:54:31.691416",
     "exception": false,
     "start_time": "2024-01-19T22:54:31.673833",
     "status": "completed"
    },
    "tags": []
   },
   "source": [
    "__*removing outliers*__"
   ]
  },
  {
   "cell_type": "code",
   "execution_count": 8,
   "id": "fe8eb1b1",
   "metadata": {
    "execution": {
     "iopub.execute_input": "2024-01-19T22:54:31.728922Z",
     "iopub.status.busy": "2024-01-19T22:54:31.728231Z",
     "iopub.status.idle": "2024-01-19T22:55:48.571883Z",
     "shell.execute_reply": "2024-01-19T22:55:48.570725Z"
    },
    "papermill": {
     "duration": 76.865598,
     "end_time": "2024-01-19T22:55:48.574734",
     "exception": false,
     "start_time": "2024-01-19T22:54:31.709136",
     "status": "completed"
    },
    "tags": []
   },
   "outputs": [],
   "source": [
    "from sklearn.neighbors import LocalOutlierFactor\n",
    "\n",
    "lof = LocalOutlierFactor(contamination=0.1)\n",
    "outliers = (lof.fit_predict(dt) == -1)"
   ]
  },
  {
   "cell_type": "code",
   "execution_count": 9,
   "id": "79b8b98f",
   "metadata": {
    "execution": {
     "iopub.execute_input": "2024-01-19T22:55:48.611447Z",
     "iopub.status.busy": "2024-01-19T22:55:48.611067Z",
     "iopub.status.idle": "2024-01-19T22:55:48.720340Z",
     "shell.execute_reply": "2024-01-19T22:55:48.719232Z"
    },
    "papermill": {
     "duration": 0.131004,
     "end_time": "2024-01-19T22:55:48.723207",
     "exception": false,
     "start_time": "2024-01-19T22:55:48.592203",
     "status": "completed"
    },
    "tags": []
   },
   "outputs": [],
   "source": [
    "indices=[]\n",
    "for i in range(len(outliers)):\n",
    "    if outliers[i]==True:\n",
    "        indices.append(i)"
   ]
  },
  {
   "cell_type": "code",
   "execution_count": 10,
   "id": "b8c0380d",
   "metadata": {
    "execution": {
     "iopub.execute_input": "2024-01-19T22:55:48.823485Z",
     "iopub.status.busy": "2024-01-19T22:55:48.823076Z",
     "iopub.status.idle": "2024-01-19T22:55:48.915218Z",
     "shell.execute_reply": "2024-01-19T22:55:48.914262Z"
    },
    "papermill": {
     "duration": 0.11412,
     "end_time": "2024-01-19T22:55:48.917988",
     "exception": false,
     "start_time": "2024-01-19T22:55:48.803868",
     "status": "completed"
    },
    "tags": []
   },
   "outputs": [],
   "source": [
    "dt=dt.drop(indices)"
   ]
  },
  {
   "cell_type": "code",
   "execution_count": 11,
   "id": "2f1aceee",
   "metadata": {
    "execution": {
     "iopub.execute_input": "2024-01-19T22:55:48.954844Z",
     "iopub.status.busy": "2024-01-19T22:55:48.954436Z",
     "iopub.status.idle": "2024-01-19T22:55:48.979882Z",
     "shell.execute_reply": "2024-01-19T22:55:48.978822Z"
    },
    "papermill": {
     "duration": 0.047179,
     "end_time": "2024-01-19T22:55:48.982619",
     "exception": false,
     "start_time": "2024-01-19T22:55:48.935440",
     "status": "completed"
    },
    "tags": []
   },
   "outputs": [
    {
     "data": {
      "text/html": [
       "<div>\n",
       "<style scoped>\n",
       "    .dataframe tbody tr th:only-of-type {\n",
       "        vertical-align: middle;\n",
       "    }\n",
       "\n",
       "    .dataframe tbody tr th {\n",
       "        vertical-align: top;\n",
       "    }\n",
       "\n",
       "    .dataframe thead th {\n",
       "        text-align: right;\n",
       "    }\n",
       "</style>\n",
       "<table border=\"1\" class=\"dataframe\">\n",
       "  <thead>\n",
       "    <tr style=\"text-align: right;\">\n",
       "      <th></th>\n",
       "      <th>label</th>\n",
       "      <th>pixel0</th>\n",
       "      <th>pixel1</th>\n",
       "      <th>pixel2</th>\n",
       "      <th>pixel3</th>\n",
       "      <th>pixel4</th>\n",
       "      <th>pixel5</th>\n",
       "      <th>pixel6</th>\n",
       "      <th>pixel7</th>\n",
       "      <th>pixel8</th>\n",
       "      <th>...</th>\n",
       "      <th>pixel774</th>\n",
       "      <th>pixel775</th>\n",
       "      <th>pixel776</th>\n",
       "      <th>pixel777</th>\n",
       "      <th>pixel778</th>\n",
       "      <th>pixel779</th>\n",
       "      <th>pixel780</th>\n",
       "      <th>pixel781</th>\n",
       "      <th>pixel782</th>\n",
       "      <th>pixel783</th>\n",
       "    </tr>\n",
       "  </thead>\n",
       "  <tbody>\n",
       "    <tr>\n",
       "      <th>0</th>\n",
       "      <td>1</td>\n",
       "      <td>0</td>\n",
       "      <td>0</td>\n",
       "      <td>0</td>\n",
       "      <td>0</td>\n",
       "      <td>0</td>\n",
       "      <td>0</td>\n",
       "      <td>0</td>\n",
       "      <td>0</td>\n",
       "      <td>0</td>\n",
       "      <td>...</td>\n",
       "      <td>0</td>\n",
       "      <td>0</td>\n",
       "      <td>0</td>\n",
       "      <td>0</td>\n",
       "      <td>0</td>\n",
       "      <td>0</td>\n",
       "      <td>0</td>\n",
       "      <td>0</td>\n",
       "      <td>0</td>\n",
       "      <td>0</td>\n",
       "    </tr>\n",
       "    <tr>\n",
       "      <th>1</th>\n",
       "      <td>0</td>\n",
       "      <td>0</td>\n",
       "      <td>0</td>\n",
       "      <td>0</td>\n",
       "      <td>0</td>\n",
       "      <td>0</td>\n",
       "      <td>0</td>\n",
       "      <td>0</td>\n",
       "      <td>0</td>\n",
       "      <td>0</td>\n",
       "      <td>...</td>\n",
       "      <td>0</td>\n",
       "      <td>0</td>\n",
       "      <td>0</td>\n",
       "      <td>0</td>\n",
       "      <td>0</td>\n",
       "      <td>0</td>\n",
       "      <td>0</td>\n",
       "      <td>0</td>\n",
       "      <td>0</td>\n",
       "      <td>0</td>\n",
       "    </tr>\n",
       "    <tr>\n",
       "      <th>2</th>\n",
       "      <td>1</td>\n",
       "      <td>0</td>\n",
       "      <td>0</td>\n",
       "      <td>0</td>\n",
       "      <td>0</td>\n",
       "      <td>0</td>\n",
       "      <td>0</td>\n",
       "      <td>0</td>\n",
       "      <td>0</td>\n",
       "      <td>0</td>\n",
       "      <td>...</td>\n",
       "      <td>0</td>\n",
       "      <td>0</td>\n",
       "      <td>0</td>\n",
       "      <td>0</td>\n",
       "      <td>0</td>\n",
       "      <td>0</td>\n",
       "      <td>0</td>\n",
       "      <td>0</td>\n",
       "      <td>0</td>\n",
       "      <td>0</td>\n",
       "    </tr>\n",
       "    <tr>\n",
       "      <th>4</th>\n",
       "      <td>0</td>\n",
       "      <td>0</td>\n",
       "      <td>0</td>\n",
       "      <td>0</td>\n",
       "      <td>0</td>\n",
       "      <td>0</td>\n",
       "      <td>0</td>\n",
       "      <td>0</td>\n",
       "      <td>0</td>\n",
       "      <td>0</td>\n",
       "      <td>...</td>\n",
       "      <td>0</td>\n",
       "      <td>0</td>\n",
       "      <td>0</td>\n",
       "      <td>0</td>\n",
       "      <td>0</td>\n",
       "      <td>0</td>\n",
       "      <td>0</td>\n",
       "      <td>0</td>\n",
       "      <td>0</td>\n",
       "      <td>0</td>\n",
       "    </tr>\n",
       "    <tr>\n",
       "      <th>5</th>\n",
       "      <td>0</td>\n",
       "      <td>0</td>\n",
       "      <td>0</td>\n",
       "      <td>0</td>\n",
       "      <td>0</td>\n",
       "      <td>0</td>\n",
       "      <td>0</td>\n",
       "      <td>0</td>\n",
       "      <td>0</td>\n",
       "      <td>0</td>\n",
       "      <td>...</td>\n",
       "      <td>0</td>\n",
       "      <td>0</td>\n",
       "      <td>0</td>\n",
       "      <td>0</td>\n",
       "      <td>0</td>\n",
       "      <td>0</td>\n",
       "      <td>0</td>\n",
       "      <td>0</td>\n",
       "      <td>0</td>\n",
       "      <td>0</td>\n",
       "    </tr>\n",
       "    <tr>\n",
       "      <th>...</th>\n",
       "      <td>...</td>\n",
       "      <td>...</td>\n",
       "      <td>...</td>\n",
       "      <td>...</td>\n",
       "      <td>...</td>\n",
       "      <td>...</td>\n",
       "      <td>...</td>\n",
       "      <td>...</td>\n",
       "      <td>...</td>\n",
       "      <td>...</td>\n",
       "      <td>...</td>\n",
       "      <td>...</td>\n",
       "      <td>...</td>\n",
       "      <td>...</td>\n",
       "      <td>...</td>\n",
       "      <td>...</td>\n",
       "      <td>...</td>\n",
       "      <td>...</td>\n",
       "      <td>...</td>\n",
       "      <td>...</td>\n",
       "      <td>...</td>\n",
       "    </tr>\n",
       "    <tr>\n",
       "      <th>41995</th>\n",
       "      <td>0</td>\n",
       "      <td>0</td>\n",
       "      <td>0</td>\n",
       "      <td>0</td>\n",
       "      <td>0</td>\n",
       "      <td>0</td>\n",
       "      <td>0</td>\n",
       "      <td>0</td>\n",
       "      <td>0</td>\n",
       "      <td>0</td>\n",
       "      <td>...</td>\n",
       "      <td>0</td>\n",
       "      <td>0</td>\n",
       "      <td>0</td>\n",
       "      <td>0</td>\n",
       "      <td>0</td>\n",
       "      <td>0</td>\n",
       "      <td>0</td>\n",
       "      <td>0</td>\n",
       "      <td>0</td>\n",
       "      <td>0</td>\n",
       "    </tr>\n",
       "    <tr>\n",
       "      <th>41996</th>\n",
       "      <td>1</td>\n",
       "      <td>0</td>\n",
       "      <td>0</td>\n",
       "      <td>0</td>\n",
       "      <td>0</td>\n",
       "      <td>0</td>\n",
       "      <td>0</td>\n",
       "      <td>0</td>\n",
       "      <td>0</td>\n",
       "      <td>0</td>\n",
       "      <td>...</td>\n",
       "      <td>0</td>\n",
       "      <td>0</td>\n",
       "      <td>0</td>\n",
       "      <td>0</td>\n",
       "      <td>0</td>\n",
       "      <td>0</td>\n",
       "      <td>0</td>\n",
       "      <td>0</td>\n",
       "      <td>0</td>\n",
       "      <td>0</td>\n",
       "    </tr>\n",
       "    <tr>\n",
       "      <th>41997</th>\n",
       "      <td>7</td>\n",
       "      <td>0</td>\n",
       "      <td>0</td>\n",
       "      <td>0</td>\n",
       "      <td>0</td>\n",
       "      <td>0</td>\n",
       "      <td>0</td>\n",
       "      <td>0</td>\n",
       "      <td>0</td>\n",
       "      <td>0</td>\n",
       "      <td>...</td>\n",
       "      <td>0</td>\n",
       "      <td>0</td>\n",
       "      <td>0</td>\n",
       "      <td>0</td>\n",
       "      <td>0</td>\n",
       "      <td>0</td>\n",
       "      <td>0</td>\n",
       "      <td>0</td>\n",
       "      <td>0</td>\n",
       "      <td>0</td>\n",
       "    </tr>\n",
       "    <tr>\n",
       "      <th>41998</th>\n",
       "      <td>6</td>\n",
       "      <td>0</td>\n",
       "      <td>0</td>\n",
       "      <td>0</td>\n",
       "      <td>0</td>\n",
       "      <td>0</td>\n",
       "      <td>0</td>\n",
       "      <td>0</td>\n",
       "      <td>0</td>\n",
       "      <td>0</td>\n",
       "      <td>...</td>\n",
       "      <td>0</td>\n",
       "      <td>0</td>\n",
       "      <td>0</td>\n",
       "      <td>0</td>\n",
       "      <td>0</td>\n",
       "      <td>0</td>\n",
       "      <td>0</td>\n",
       "      <td>0</td>\n",
       "      <td>0</td>\n",
       "      <td>0</td>\n",
       "    </tr>\n",
       "    <tr>\n",
       "      <th>41999</th>\n",
       "      <td>9</td>\n",
       "      <td>0</td>\n",
       "      <td>0</td>\n",
       "      <td>0</td>\n",
       "      <td>0</td>\n",
       "      <td>0</td>\n",
       "      <td>0</td>\n",
       "      <td>0</td>\n",
       "      <td>0</td>\n",
       "      <td>0</td>\n",
       "      <td>...</td>\n",
       "      <td>0</td>\n",
       "      <td>0</td>\n",
       "      <td>0</td>\n",
       "      <td>0</td>\n",
       "      <td>0</td>\n",
       "      <td>0</td>\n",
       "      <td>0</td>\n",
       "      <td>0</td>\n",
       "      <td>0</td>\n",
       "      <td>0</td>\n",
       "    </tr>\n",
       "  </tbody>\n",
       "</table>\n",
       "<p>37800 rows × 785 columns</p>\n",
       "</div>"
      ],
      "text/plain": [
       "       label  pixel0  pixel1  pixel2  pixel3  pixel4  pixel5  pixel6  pixel7  \\\n",
       "0          1       0       0       0       0       0       0       0       0   \n",
       "1          0       0       0       0       0       0       0       0       0   \n",
       "2          1       0       0       0       0       0       0       0       0   \n",
       "4          0       0       0       0       0       0       0       0       0   \n",
       "5          0       0       0       0       0       0       0       0       0   \n",
       "...      ...     ...     ...     ...     ...     ...     ...     ...     ...   \n",
       "41995      0       0       0       0       0       0       0       0       0   \n",
       "41996      1       0       0       0       0       0       0       0       0   \n",
       "41997      7       0       0       0       0       0       0       0       0   \n",
       "41998      6       0       0       0       0       0       0       0       0   \n",
       "41999      9       0       0       0       0       0       0       0       0   \n",
       "\n",
       "       pixel8  ...  pixel774  pixel775  pixel776  pixel777  pixel778  \\\n",
       "0           0  ...         0         0         0         0         0   \n",
       "1           0  ...         0         0         0         0         0   \n",
       "2           0  ...         0         0         0         0         0   \n",
       "4           0  ...         0         0         0         0         0   \n",
       "5           0  ...         0         0         0         0         0   \n",
       "...       ...  ...       ...       ...       ...       ...       ...   \n",
       "41995       0  ...         0         0         0         0         0   \n",
       "41996       0  ...         0         0         0         0         0   \n",
       "41997       0  ...         0         0         0         0         0   \n",
       "41998       0  ...         0         0         0         0         0   \n",
       "41999       0  ...         0         0         0         0         0   \n",
       "\n",
       "       pixel779  pixel780  pixel781  pixel782  pixel783  \n",
       "0             0         0         0         0         0  \n",
       "1             0         0         0         0         0  \n",
       "2             0         0         0         0         0  \n",
       "4             0         0         0         0         0  \n",
       "5             0         0         0         0         0  \n",
       "...         ...       ...       ...       ...       ...  \n",
       "41995         0         0         0         0         0  \n",
       "41996         0         0         0         0         0  \n",
       "41997         0         0         0         0         0  \n",
       "41998         0         0         0         0         0  \n",
       "41999         0         0         0         0         0  \n",
       "\n",
       "[37800 rows x 785 columns]"
      ]
     },
     "execution_count": 11,
     "metadata": {},
     "output_type": "execute_result"
    }
   ],
   "source": [
    "dt"
   ]
  },
  {
   "cell_type": "code",
   "execution_count": 12,
   "id": "5994dd59",
   "metadata": {
    "execution": {
     "iopub.execute_input": "2024-01-19T22:55:49.020594Z",
     "iopub.status.busy": "2024-01-19T22:55:49.019979Z",
     "iopub.status.idle": "2024-01-19T22:56:26.631566Z",
     "shell.execute_reply": "2024-01-19T22:56:26.630287Z"
    },
    "papermill": {
     "duration": 37.634238,
     "end_time": "2024-01-19T22:56:26.634765",
     "exception": false,
     "start_time": "2024-01-19T22:55:49.000527",
     "status": "completed"
    },
    "tags": []
   },
   "outputs": [],
   "source": [
    "replaced=(dt.drop('label',axis=1).replace(to_replace=[i for i in range(128)],value=0)).replace(to_replace=[i for i in range(128,256)],value=1)"
   ]
  },
  {
   "cell_type": "code",
   "execution_count": 13,
   "id": "66380af2",
   "metadata": {
    "execution": {
     "iopub.execute_input": "2024-01-19T22:56:26.674914Z",
     "iopub.status.busy": "2024-01-19T22:56:26.674469Z",
     "iopub.status.idle": "2024-01-19T22:56:26.769282Z",
     "shell.execute_reply": "2024-01-19T22:56:26.768104Z"
    },
    "papermill": {
     "duration": 0.118659,
     "end_time": "2024-01-19T22:56:26.772092",
     "exception": false,
     "start_time": "2024-01-19T22:56:26.653433",
     "status": "completed"
    },
    "tags": []
   },
   "outputs": [],
   "source": [
    "replaced=replaced.assign(label=dt['label'])"
   ]
  },
  {
   "cell_type": "code",
   "execution_count": 14,
   "id": "d7f4ccc4",
   "metadata": {
    "execution": {
     "iopub.execute_input": "2024-01-19T22:56:26.810714Z",
     "iopub.status.busy": "2024-01-19T22:56:26.810258Z",
     "iopub.status.idle": "2024-01-19T22:56:29.301552Z",
     "shell.execute_reply": "2024-01-19T22:56:29.300654Z"
    },
    "papermill": {
     "duration": 2.513283,
     "end_time": "2024-01-19T22:56:29.303829",
     "exception": false,
     "start_time": "2024-01-19T22:56:26.790546",
     "status": "completed"
    },
    "tags": []
   },
   "outputs": [
    {
     "data": {
      "text/html": [
       "<div>\n",
       "<style scoped>\n",
       "    .dataframe tbody tr th:only-of-type {\n",
       "        vertical-align: middle;\n",
       "    }\n",
       "\n",
       "    .dataframe tbody tr th {\n",
       "        vertical-align: top;\n",
       "    }\n",
       "\n",
       "    .dataframe thead th {\n",
       "        text-align: right;\n",
       "    }\n",
       "</style>\n",
       "<table border=\"1\" class=\"dataframe\">\n",
       "  <thead>\n",
       "    <tr style=\"text-align: right;\">\n",
       "      <th></th>\n",
       "      <th>pixel0</th>\n",
       "      <th>pixel1</th>\n",
       "      <th>pixel2</th>\n",
       "      <th>pixel3</th>\n",
       "      <th>pixel4</th>\n",
       "      <th>pixel5</th>\n",
       "      <th>pixel6</th>\n",
       "      <th>pixel7</th>\n",
       "      <th>pixel8</th>\n",
       "      <th>pixel9</th>\n",
       "      <th>...</th>\n",
       "      <th>pixel775</th>\n",
       "      <th>pixel776</th>\n",
       "      <th>pixel777</th>\n",
       "      <th>pixel778</th>\n",
       "      <th>pixel779</th>\n",
       "      <th>pixel780</th>\n",
       "      <th>pixel781</th>\n",
       "      <th>pixel782</th>\n",
       "      <th>pixel783</th>\n",
       "      <th>label</th>\n",
       "    </tr>\n",
       "  </thead>\n",
       "  <tbody>\n",
       "    <tr>\n",
       "      <th>count</th>\n",
       "      <td>37800.0</td>\n",
       "      <td>37800.0</td>\n",
       "      <td>37800.0</td>\n",
       "      <td>37800.0</td>\n",
       "      <td>37800.0</td>\n",
       "      <td>37800.0</td>\n",
       "      <td>37800.0</td>\n",
       "      <td>37800.0</td>\n",
       "      <td>37800.0</td>\n",
       "      <td>37800.0</td>\n",
       "      <td>...</td>\n",
       "      <td>37800.000000</td>\n",
       "      <td>37800.000000</td>\n",
       "      <td>37800.000000</td>\n",
       "      <td>37800.000000</td>\n",
       "      <td>37800.0</td>\n",
       "      <td>37800.0</td>\n",
       "      <td>37800.0</td>\n",
       "      <td>37800.0</td>\n",
       "      <td>37800.0</td>\n",
       "      <td>37800.000000</td>\n",
       "    </tr>\n",
       "    <tr>\n",
       "      <th>mean</th>\n",
       "      <td>0.0</td>\n",
       "      <td>0.0</td>\n",
       "      <td>0.0</td>\n",
       "      <td>0.0</td>\n",
       "      <td>0.0</td>\n",
       "      <td>0.0</td>\n",
       "      <td>0.0</td>\n",
       "      <td>0.0</td>\n",
       "      <td>0.0</td>\n",
       "      <td>0.0</td>\n",
       "      <td>...</td>\n",
       "      <td>0.000397</td>\n",
       "      <td>0.000291</td>\n",
       "      <td>0.000079</td>\n",
       "      <td>0.000053</td>\n",
       "      <td>0.0</td>\n",
       "      <td>0.0</td>\n",
       "      <td>0.0</td>\n",
       "      <td>0.0</td>\n",
       "      <td>0.0</td>\n",
       "      <td>4.455079</td>\n",
       "    </tr>\n",
       "    <tr>\n",
       "      <th>std</th>\n",
       "      <td>0.0</td>\n",
       "      <td>0.0</td>\n",
       "      <td>0.0</td>\n",
       "      <td>0.0</td>\n",
       "      <td>0.0</td>\n",
       "      <td>0.0</td>\n",
       "      <td>0.0</td>\n",
       "      <td>0.0</td>\n",
       "      <td>0.0</td>\n",
       "      <td>0.0</td>\n",
       "      <td>...</td>\n",
       "      <td>0.019917</td>\n",
       "      <td>0.017057</td>\n",
       "      <td>0.008908</td>\n",
       "      <td>0.007274</td>\n",
       "      <td>0.0</td>\n",
       "      <td>0.0</td>\n",
       "      <td>0.0</td>\n",
       "      <td>0.0</td>\n",
       "      <td>0.0</td>\n",
       "      <td>2.882964</td>\n",
       "    </tr>\n",
       "    <tr>\n",
       "      <th>min</th>\n",
       "      <td>0.0</td>\n",
       "      <td>0.0</td>\n",
       "      <td>0.0</td>\n",
       "      <td>0.0</td>\n",
       "      <td>0.0</td>\n",
       "      <td>0.0</td>\n",
       "      <td>0.0</td>\n",
       "      <td>0.0</td>\n",
       "      <td>0.0</td>\n",
       "      <td>0.0</td>\n",
       "      <td>...</td>\n",
       "      <td>0.000000</td>\n",
       "      <td>0.000000</td>\n",
       "      <td>0.000000</td>\n",
       "      <td>0.000000</td>\n",
       "      <td>0.0</td>\n",
       "      <td>0.0</td>\n",
       "      <td>0.0</td>\n",
       "      <td>0.0</td>\n",
       "      <td>0.0</td>\n",
       "      <td>0.000000</td>\n",
       "    </tr>\n",
       "    <tr>\n",
       "      <th>25%</th>\n",
       "      <td>0.0</td>\n",
       "      <td>0.0</td>\n",
       "      <td>0.0</td>\n",
       "      <td>0.0</td>\n",
       "      <td>0.0</td>\n",
       "      <td>0.0</td>\n",
       "      <td>0.0</td>\n",
       "      <td>0.0</td>\n",
       "      <td>0.0</td>\n",
       "      <td>0.0</td>\n",
       "      <td>...</td>\n",
       "      <td>0.000000</td>\n",
       "      <td>0.000000</td>\n",
       "      <td>0.000000</td>\n",
       "      <td>0.000000</td>\n",
       "      <td>0.0</td>\n",
       "      <td>0.0</td>\n",
       "      <td>0.0</td>\n",
       "      <td>0.0</td>\n",
       "      <td>0.0</td>\n",
       "      <td>2.000000</td>\n",
       "    </tr>\n",
       "    <tr>\n",
       "      <th>50%</th>\n",
       "      <td>0.0</td>\n",
       "      <td>0.0</td>\n",
       "      <td>0.0</td>\n",
       "      <td>0.0</td>\n",
       "      <td>0.0</td>\n",
       "      <td>0.0</td>\n",
       "      <td>0.0</td>\n",
       "      <td>0.0</td>\n",
       "      <td>0.0</td>\n",
       "      <td>0.0</td>\n",
       "      <td>...</td>\n",
       "      <td>0.000000</td>\n",
       "      <td>0.000000</td>\n",
       "      <td>0.000000</td>\n",
       "      <td>0.000000</td>\n",
       "      <td>0.0</td>\n",
       "      <td>0.0</td>\n",
       "      <td>0.0</td>\n",
       "      <td>0.0</td>\n",
       "      <td>0.0</td>\n",
       "      <td>4.000000</td>\n",
       "    </tr>\n",
       "    <tr>\n",
       "      <th>75%</th>\n",
       "      <td>0.0</td>\n",
       "      <td>0.0</td>\n",
       "      <td>0.0</td>\n",
       "      <td>0.0</td>\n",
       "      <td>0.0</td>\n",
       "      <td>0.0</td>\n",
       "      <td>0.0</td>\n",
       "      <td>0.0</td>\n",
       "      <td>0.0</td>\n",
       "      <td>0.0</td>\n",
       "      <td>...</td>\n",
       "      <td>0.000000</td>\n",
       "      <td>0.000000</td>\n",
       "      <td>0.000000</td>\n",
       "      <td>0.000000</td>\n",
       "      <td>0.0</td>\n",
       "      <td>0.0</td>\n",
       "      <td>0.0</td>\n",
       "      <td>0.0</td>\n",
       "      <td>0.0</td>\n",
       "      <td>7.000000</td>\n",
       "    </tr>\n",
       "    <tr>\n",
       "      <th>max</th>\n",
       "      <td>0.0</td>\n",
       "      <td>0.0</td>\n",
       "      <td>0.0</td>\n",
       "      <td>0.0</td>\n",
       "      <td>0.0</td>\n",
       "      <td>0.0</td>\n",
       "      <td>0.0</td>\n",
       "      <td>0.0</td>\n",
       "      <td>0.0</td>\n",
       "      <td>0.0</td>\n",
       "      <td>...</td>\n",
       "      <td>1.000000</td>\n",
       "      <td>1.000000</td>\n",
       "      <td>1.000000</td>\n",
       "      <td>1.000000</td>\n",
       "      <td>0.0</td>\n",
       "      <td>0.0</td>\n",
       "      <td>0.0</td>\n",
       "      <td>0.0</td>\n",
       "      <td>0.0</td>\n",
       "      <td>9.000000</td>\n",
       "    </tr>\n",
       "  </tbody>\n",
       "</table>\n",
       "<p>8 rows × 785 columns</p>\n",
       "</div>"
      ],
      "text/plain": [
       "        pixel0   pixel1   pixel2   pixel3   pixel4   pixel5   pixel6   pixel7  \\\n",
       "count  37800.0  37800.0  37800.0  37800.0  37800.0  37800.0  37800.0  37800.0   \n",
       "mean       0.0      0.0      0.0      0.0      0.0      0.0      0.0      0.0   \n",
       "std        0.0      0.0      0.0      0.0      0.0      0.0      0.0      0.0   \n",
       "min        0.0      0.0      0.0      0.0      0.0      0.0      0.0      0.0   \n",
       "25%        0.0      0.0      0.0      0.0      0.0      0.0      0.0      0.0   \n",
       "50%        0.0      0.0      0.0      0.0      0.0      0.0      0.0      0.0   \n",
       "75%        0.0      0.0      0.0      0.0      0.0      0.0      0.0      0.0   \n",
       "max        0.0      0.0      0.0      0.0      0.0      0.0      0.0      0.0   \n",
       "\n",
       "        pixel8   pixel9  ...      pixel775      pixel776      pixel777  \\\n",
       "count  37800.0  37800.0  ...  37800.000000  37800.000000  37800.000000   \n",
       "mean       0.0      0.0  ...      0.000397      0.000291      0.000079   \n",
       "std        0.0      0.0  ...      0.019917      0.017057      0.008908   \n",
       "min        0.0      0.0  ...      0.000000      0.000000      0.000000   \n",
       "25%        0.0      0.0  ...      0.000000      0.000000      0.000000   \n",
       "50%        0.0      0.0  ...      0.000000      0.000000      0.000000   \n",
       "75%        0.0      0.0  ...      0.000000      0.000000      0.000000   \n",
       "max        0.0      0.0  ...      1.000000      1.000000      1.000000   \n",
       "\n",
       "           pixel778  pixel779  pixel780  pixel781  pixel782  pixel783  \\\n",
       "count  37800.000000   37800.0   37800.0   37800.0   37800.0   37800.0   \n",
       "mean       0.000053       0.0       0.0       0.0       0.0       0.0   \n",
       "std        0.007274       0.0       0.0       0.0       0.0       0.0   \n",
       "min        0.000000       0.0       0.0       0.0       0.0       0.0   \n",
       "25%        0.000000       0.0       0.0       0.0       0.0       0.0   \n",
       "50%        0.000000       0.0       0.0       0.0       0.0       0.0   \n",
       "75%        0.000000       0.0       0.0       0.0       0.0       0.0   \n",
       "max        1.000000       0.0       0.0       0.0       0.0       0.0   \n",
       "\n",
       "              label  \n",
       "count  37800.000000  \n",
       "mean       4.455079  \n",
       "std        2.882964  \n",
       "min        0.000000  \n",
       "25%        2.000000  \n",
       "50%        4.000000  \n",
       "75%        7.000000  \n",
       "max        9.000000  \n",
       "\n",
       "[8 rows x 785 columns]"
      ]
     },
     "execution_count": 14,
     "metadata": {},
     "output_type": "execute_result"
    }
   ],
   "source": [
    "replaced.describe()"
   ]
  },
  {
   "cell_type": "code",
   "execution_count": 15,
   "id": "a2b0360a",
   "metadata": {
    "execution": {
     "iopub.execute_input": "2024-01-19T22:56:29.344715Z",
     "iopub.status.busy": "2024-01-19T22:56:29.343525Z",
     "iopub.status.idle": "2024-01-19T22:56:29.423084Z",
     "shell.execute_reply": "2024-01-19T22:56:29.421971Z"
    },
    "papermill": {
     "duration": 0.103155,
     "end_time": "2024-01-19T22:56:29.426012",
     "exception": false,
     "start_time": "2024-01-19T22:56:29.322857",
     "status": "completed"
    },
    "tags": []
   },
   "outputs": [],
   "source": [
    "sample=np.array(replaced.drop('label',axis=1).iloc[6])\n",
    "sample=sample.reshape((28,-1))"
   ]
  },
  {
   "cell_type": "code",
   "execution_count": 16,
   "id": "703a9fab",
   "metadata": {
    "execution": {
     "iopub.execute_input": "2024-01-19T22:56:29.466320Z",
     "iopub.status.busy": "2024-01-19T22:56:29.465946Z",
     "iopub.status.idle": "2024-01-19T22:56:29.648802Z",
     "shell.execute_reply": "2024-01-19T22:56:29.647453Z"
    },
    "papermill": {
     "duration": 0.205355,
     "end_time": "2024-01-19T22:56:29.651245",
     "exception": false,
     "start_time": "2024-01-19T22:56:29.445890",
     "status": "completed"
    },
    "tags": []
   },
   "outputs": [
    {
     "data": {
      "image/png": "[encoded data removed]",
      "text/plain": [
       "<Figure size 640x480 with 1 Axes>"
      ]
     },
     "metadata": {},
     "output_type": "display_data"
    }
   ],
   "source": [
    "plt.imshow(sample)\n",
    "plt.show()"
   ]
  },
  {
   "cell_type": "code",
   "execution_count": 17,
   "id": "24097a4c",
   "metadata": {
    "execution": {
     "iopub.execute_input": "2024-01-19T22:56:29.691794Z",
     "iopub.status.busy": "2024-01-19T22:56:29.691365Z",
     "iopub.status.idle": "2024-01-19T22:56:29.885240Z",
     "shell.execute_reply": "2024-01-19T22:56:29.884027Z"
    },
    "papermill": {
     "duration": 0.217479,
     "end_time": "2024-01-19T22:56:29.887962",
     "exception": false,
     "start_time": "2024-01-19T22:56:29.670483",
     "status": "completed"
    },
    "tags": []
   },
   "outputs": [],
   "source": [
    "train_tensor=torch.from_numpy(np.array(replaced))"
   ]
  },
  {
   "cell_type": "code",
   "execution_count": 18,
   "id": "c253ec8c",
   "metadata": {
    "execution": {
     "iopub.execute_input": "2024-01-19T22:56:29.928010Z",
     "iopub.status.busy": "2024-01-19T22:56:29.927618Z",
     "iopub.status.idle": "2024-01-19T22:56:29.995515Z",
     "shell.execute_reply": "2024-01-19T22:56:29.994218Z"
    },
    "papermill": {
     "duration": 0.09067,
     "end_time": "2024-01-19T22:56:29.998069",
     "exception": false,
     "start_time": "2024-01-19T22:56:29.907399",
     "status": "completed"
    },
    "tags": []
   },
   "outputs": [
    {
     "data": {
      "text/plain": [
       "tensor([[0, 0, 0,  ..., 0, 0, 1],\n",
       "        [0, 0, 0,  ..., 0, 0, 0],\n",
       "        [0, 0, 0,  ..., 0, 0, 1],\n",
       "        ...,\n",
       "        [0, 0, 0,  ..., 0, 0, 7],\n",
       "        [0, 0, 0,  ..., 0, 0, 6],\n",
       "        [0, 0, 0,  ..., 0, 0, 9]])"
      ]
     },
     "execution_count": 18,
     "metadata": {},
     "output_type": "execute_result"
    }
   ],
   "source": [
    "train_tensor"
   ]
  },
  {
   "cell_type": "code",
   "execution_count": 19,
   "id": "25d29d08",
   "metadata": {
    "execution": {
     "iopub.execute_input": "2024-01-19T22:56:30.038856Z",
     "iopub.status.busy": "2024-01-19T22:56:30.038400Z",
     "iopub.status.idle": "2024-01-19T22:56:30.043157Z",
     "shell.execute_reply": "2024-01-19T22:56:30.041998Z"
    },
    "papermill": {
     "duration": 0.028397,
     "end_time": "2024-01-19T22:56:30.045471",
     "exception": false,
     "start_time": "2024-01-19T22:56:30.017074",
     "status": "completed"
    },
    "tags": []
   },
   "outputs": [],
   "source": [
    "from torch.utils.data import Dataset"
   ]
  },
  {
   "cell_type": "code",
   "execution_count": null,
   "id": "2f482754",
   "metadata": {
    "papermill": {
     "duration": 0.018575,
     "end_time": "2024-01-19T22:56:30.082993",
     "exception": false,
     "start_time": "2024-01-19T22:56:30.064418",
     "status": "completed"
    },
    "tags": []
   },
   "outputs": [],
   "source": []
  },
  {
   "cell_type": "code",
   "execution_count": 20,
   "id": "cf6b5512",
   "metadata": {
    "execution": {
     "iopub.execute_input": "2024-01-19T22:56:30.123279Z",
     "iopub.status.busy": "2024-01-19T22:56:30.122221Z",
     "iopub.status.idle": "2024-01-19T22:56:30.130162Z",
     "shell.execute_reply": "2024-01-19T22:56:30.129120Z"
    },
    "papermill": {
     "duration": 0.030552,
     "end_time": "2024-01-19T22:56:30.132513",
     "exception": false,
     "start_time": "2024-01-19T22:56:30.101961",
     "status": "completed"
    },
    "tags": []
   },
   "outputs": [],
   "source": [
    "class digits_dataset(Dataset):\n",
    "    def __init__(self):\n",
    "        #data = pd.read_csv('/kaggle/input/digit-recognizer/train.csv')\n",
    "        data=replaced\n",
    "        self.y=torch.from_numpy(np.array(data['label']))\n",
    "        self.x=torch.from_numpy(np.array(data.drop('label',axis=1)))#i divide with 255 if i have values of pixels between 0 and 255\n",
    "    def __len__(self):\n",
    "        return len(self.y)\n",
    "\n",
    "    def __getitem__(self, idx):\n",
    "        return self.x[idx], self.y[idx]"
   ]
  },
  {
   "cell_type": "code",
   "execution_count": 21,
   "id": "df5b164d",
   "metadata": {
    "execution": {
     "iopub.execute_input": "2024-01-19T22:56:30.172986Z",
     "iopub.status.busy": "2024-01-19T22:56:30.171932Z",
     "iopub.status.idle": "2024-01-19T22:56:30.340063Z",
     "shell.execute_reply": "2024-01-19T22:56:30.338965Z"
    },
    "papermill": {
     "duration": 0.191526,
     "end_time": "2024-01-19T22:56:30.342975",
     "exception": false,
     "start_time": "2024-01-19T22:56:30.151449",
     "status": "completed"
    },
    "tags": []
   },
   "outputs": [],
   "source": [
    "data=digits_dataset()"
   ]
  },
  {
   "cell_type": "code",
   "execution_count": 22,
   "id": "83e097fb",
   "metadata": {
    "execution": {
     "iopub.execute_input": "2024-01-19T22:56:30.384910Z",
     "iopub.status.busy": "2024-01-19T22:56:30.384463Z",
     "iopub.status.idle": "2024-01-19T22:56:30.401290Z",
     "shell.execute_reply": "2024-01-19T22:56:30.400417Z"
    },
    "papermill": {
     "duration": 0.039965,
     "end_time": "2024-01-19T22:56:30.403828",
     "exception": false,
     "start_time": "2024-01-19T22:56:30.363863",
     "status": "completed"
    },
    "tags": []
   },
   "outputs": [],
   "source": [
    "train ,test = torch.utils.data.random_split(data,[0.8,0.2])"
   ]
  },
  {
   "cell_type": "code",
   "execution_count": 23,
   "id": "fda6ffc1",
   "metadata": {
    "execution": {
     "iopub.execute_input": "2024-01-19T22:56:30.444244Z",
     "iopub.status.busy": "2024-01-19T22:56:30.443554Z",
     "iopub.status.idle": "2024-01-19T22:56:30.448803Z",
     "shell.execute_reply": "2024-01-19T22:56:30.447739Z"
    },
    "papermill": {
     "duration": 0.028394,
     "end_time": "2024-01-19T22:56:30.451346",
     "exception": false,
     "start_time": "2024-01-19T22:56:30.422952",
     "status": "completed"
    },
    "tags": []
   },
   "outputs": [],
   "source": [
    "x,y=train[0]"
   ]
  },
  {
   "cell_type": "code",
   "execution_count": 24,
   "id": "496876c0",
   "metadata": {
    "execution": {
     "iopub.execute_input": "2024-01-19T22:56:30.491595Z",
     "iopub.status.busy": "2024-01-19T22:56:30.490858Z",
     "iopub.status.idle": "2024-01-19T22:56:30.496757Z",
     "shell.execute_reply": "2024-01-19T22:56:30.495870Z"
    },
    "papermill": {
     "duration": 0.028514,
     "end_time": "2024-01-19T22:56:30.498908",
     "exception": false,
     "start_time": "2024-01-19T22:56:30.470394",
     "status": "completed"
    },
    "tags": []
   },
   "outputs": [
    {
     "data": {
      "text/plain": [
       "30240"
      ]
     },
     "execution_count": 24,
     "metadata": {},
     "output_type": "execute_result"
    }
   ],
   "source": [
    "train.__len__()"
   ]
  },
  {
   "cell_type": "code",
   "execution_count": 25,
   "id": "9f50f5e2",
   "metadata": {
    "execution": {
     "iopub.execute_input": "2024-01-19T22:56:30.540030Z",
     "iopub.status.busy": "2024-01-19T22:56:30.539269Z",
     "iopub.status.idle": "2024-01-19T22:56:30.544808Z",
     "shell.execute_reply": "2024-01-19T22:56:30.543652Z"
    },
    "papermill": {
     "duration": 0.028335,
     "end_time": "2024-01-19T22:56:30.546920",
     "exception": false,
     "start_time": "2024-01-19T22:56:30.518585",
     "status": "completed"
    },
    "tags": []
   },
   "outputs": [
    {
     "name": "stdout",
     "output_type": "stream",
     "text": [
      "torch.Size([784])\n"
     ]
    }
   ],
   "source": [
    "print(x.shape)"
   ]
  },
  {
   "cell_type": "markdown",
   "id": "9c831296",
   "metadata": {
    "papermill": {
     "duration": 0.018876,
     "end_time": "2024-01-19T22:56:30.585022",
     "exception": false,
     "start_time": "2024-01-19T22:56:30.566146",
     "status": "completed"
    },
    "tags": []
   },
   "source": [
    "## 2-Neural Network and Model"
   ]
  },
  {
   "cell_type": "code",
   "execution_count": 26,
   "id": "29b93799",
   "metadata": {
    "execution": {
     "iopub.execute_input": "2024-01-19T22:56:30.624948Z",
     "iopub.status.busy": "2024-01-19T22:56:30.624481Z",
     "iopub.status.idle": "2024-01-19T22:56:30.629691Z",
     "shell.execute_reply": "2024-01-19T22:56:30.628707Z"
    },
    "papermill": {
     "duration": 0.027835,
     "end_time": "2024-01-19T22:56:30.631832",
     "exception": false,
     "start_time": "2024-01-19T22:56:30.603997",
     "status": "completed"
    },
    "tags": []
   },
   "outputs": [],
   "source": [
    "train_loader=DataLoader(dataset=train,batch_size=200,shuffle=True)"
   ]
  },
  {
   "cell_type": "code",
   "execution_count": 27,
   "id": "091188db",
   "metadata": {
    "execution": {
     "iopub.execute_input": "2024-01-19T22:56:30.672331Z",
     "iopub.status.busy": "2024-01-19T22:56:30.671613Z",
     "iopub.status.idle": "2024-01-19T22:56:30.689462Z",
     "shell.execute_reply": "2024-01-19T22:56:30.688151Z"
    },
    "papermill": {
     "duration": 0.041358,
     "end_time": "2024-01-19T22:56:30.692395",
     "exception": false,
     "start_time": "2024-01-19T22:56:30.651037",
     "status": "completed"
    },
    "tags": []
   },
   "outputs": [],
   "source": [
    "model=nn.Sequential(nn.Linear(28*28,512),\n",
    "                    nn.ReLU(),\n",
    "                    nn.Linear(512,512),\n",
    "                    nn.ReLU(),\n",
    "                    #nn.Dropout(p=0.2),\n",
    "                    nn.Linear(512,256),\n",
    "                    nn.Linear(256,10)\n",
    "                    )"
   ]
  },
  {
   "cell_type": "markdown",
   "id": "6382756a",
   "metadata": {
    "papermill": {
     "duration": 0.019726,
     "end_time": "2024-01-19T22:56:30.731486",
     "exception": false,
     "start_time": "2024-01-19T22:56:30.711760",
     "status": "completed"
    },
    "tags": []
   },
   "source": [
    "## 3-Training "
   ]
  },
  {
   "cell_type": "code",
   "execution_count": 28,
   "id": "091c7a11",
   "metadata": {
    "execution": {
     "iopub.execute_input": "2024-01-19T22:56:30.771539Z",
     "iopub.status.busy": "2024-01-19T22:56:30.771092Z",
     "iopub.status.idle": "2024-01-19T22:56:30.775864Z",
     "shell.execute_reply": "2024-01-19T22:56:30.775010Z"
    },
    "papermill": {
     "duration": 0.027419,
     "end_time": "2024-01-19T22:56:30.778008",
     "exception": false,
     "start_time": "2024-01-19T22:56:30.750589",
     "status": "completed"
    },
    "tags": []
   },
   "outputs": [],
   "source": [
    "criterion=nn.CrossEntropyLoss()"
   ]
  },
  {
   "cell_type": "code",
   "execution_count": 29,
   "id": "6c3b17d8",
   "metadata": {
    "execution": {
     "iopub.execute_input": "2024-01-19T22:56:30.818621Z",
     "iopub.status.busy": "2024-01-19T22:56:30.817932Z",
     "iopub.status.idle": "2024-01-19T22:56:30.822498Z",
     "shell.execute_reply": "2024-01-19T22:56:30.821650Z"
    },
    "papermill": {
     "duration": 0.027476,
     "end_time": "2024-01-19T22:56:30.824733",
     "exception": false,
     "start_time": "2024-01-19T22:56:30.797257",
     "status": "completed"
    },
    "tags": []
   },
   "outputs": [],
   "source": [
    "import torch.optim as optim"
   ]
  },
  {
   "cell_type": "code",
   "execution_count": 30,
   "id": "9c9f889b",
   "metadata": {
    "execution": {
     "iopub.execute_input": "2024-01-19T22:56:30.864756Z",
     "iopub.status.busy": "2024-01-19T22:56:30.864301Z",
     "iopub.status.idle": "2024-01-19T22:56:30.869150Z",
     "shell.execute_reply": "2024-01-19T22:56:30.868339Z"
    },
    "papermill": {
     "duration": 0.027453,
     "end_time": "2024-01-19T22:56:30.871226",
     "exception": false,
     "start_time": "2024-01-19T22:56:30.843773",
     "status": "completed"
    },
    "tags": []
   },
   "outputs": [],
   "source": [
    "optimizer=optim.Adam(params=model.parameters(),lr=0.001)"
   ]
  },
  {
   "cell_type": "markdown",
   "id": "faefb536",
   "metadata": {
    "papermill": {
     "duration": 0.018899,
     "end_time": "2024-01-19T22:56:30.909316",
     "exception": false,
     "start_time": "2024-01-19T22:56:30.890417",
     "status": "completed"
    },
    "tags": []
   },
   "source": [
    "### a-Train loop "
   ]
  },
  {
   "cell_type": "code",
   "execution_count": 31,
   "id": "5411b96d",
   "metadata": {
    "execution": {
     "iopub.execute_input": "2024-01-19T22:56:30.949461Z",
     "iopub.status.busy": "2024-01-19T22:56:30.949038Z",
     "iopub.status.idle": "2024-01-19T23:00:55.792034Z",
     "shell.execute_reply": "2024-01-19T23:00:55.790318Z"
    },
    "papermill": {
     "duration": 264.867527,
     "end_time": "2024-01-19T23:00:55.796076",
     "exception": false,
     "start_time": "2024-01-19T22:56:30.928549",
     "status": "completed"
    },
    "tags": []
   },
   "outputs": [
    {
     "name": "stdout",
     "output_type": "stream",
     "text": [
      "loss 0.35451402716142566 for 1/100\n",
      "loss 0.09673810190227079 for 2/100\n",
      "loss 0.05479333245219957 for 3/100\n",
      "loss 0.03452766073353 for 4/100\n",
      "loss 0.02545135458441157 for 5/100\n",
      "loss 0.017510793792960038 for 6/100\n",
      "loss 0.01435480200885458 for 7/100\n",
      "loss 0.011333764141071649 for 8/100\n",
      "loss 0.009296620763818379 for 9/100\n",
      "loss 0.007708696147969213 for 10/100\n",
      "loss 0.01253690281737363 for 11/100\n",
      "loss 0.013363045697540082 for 12/100\n",
      "loss 0.009792646639030672 for 13/100\n",
      "loss 0.0043597243459556154 for 14/100\n",
      "loss 0.005415905342536127 for 15/100\n",
      "loss 0.004673935209911849 for 16/100\n",
      "loss 0.010601212018771452 for 17/100\n",
      "loss 0.00912174033515169 for 18/100\n",
      "loss 0.007115354784984543 for 19/100\n",
      "loss 0.008274398195202306 for 20/100\n",
      "loss 0.008569020210942606 for 21/100\n",
      "loss 0.007624623548433886 for 22/100\n",
      "loss 0.00598120272397146 for 23/100\n",
      "loss 0.003035445395007149 for 24/100\n",
      "loss 0.002307665755435401 for 25/100\n",
      "loss 0.0006533415150130208 for 26/100\n",
      "loss 8.832735893804511e-05 for 27/100\n",
      "loss 2.6918192534857983e-05 for 28/100\n",
      "loss 1.579690524185875e-05 for 29/100\n",
      "loss 1.293210483317197e-05 for 30/100\n",
      "loss 1.083243769266729e-05 for 31/100\n",
      "loss 9.324202722114561e-06 for 32/100\n",
      "loss 8.21124011302369e-06 for 33/100\n",
      "loss 7.283036755947442e-06 for 34/100\n",
      "loss 6.3148956611694546e-06 for 35/100\n",
      "loss 5.667787008284701e-06 for 36/100\n",
      "loss 5.104927252755499e-06 for 37/100\n",
      "loss 4.541945213008459e-06 for 38/100\n",
      "loss 4.080313162621439e-06 for 39/100\n",
      "loss 3.8046892710983265e-06 for 40/100\n",
      "loss 3.360296398562624e-06 for 41/100\n",
      "loss 3.032000665881858e-06 for 42/100\n",
      "loss 2.7498172180687904e-06 for 43/100\n",
      "loss 2.5044644580418662e-06 for 44/100\n",
      "loss 2.3388746706394e-06 for 45/100\n",
      "loss 2.089401828348813e-06 for 46/100\n",
      "loss 1.936237081124366e-06 for 47/100\n",
      "loss 1.7440261770891658e-06 for 48/100\n",
      "loss 1.5973083816558493e-06 for 49/100\n",
      "loss 1.4673118289521587e-06 for 50/100\n",
      "loss 1.3413281750804105e-06 for 51/100\n",
      "loss 1.228831393622854e-06 for 52/100\n",
      "loss 1.1371588278270912e-06 for 53/100\n",
      "loss 1.0351720688826417e-06 for 54/100\n",
      "loss 9.507439420303479e-07 for 55/100\n",
      "loss 8.838621261319483e-07 for 56/100\n",
      "loss 8.039064201226827e-07 for 57/100\n",
      "loss 7.385684608925209e-07 for 58/100\n",
      "loss 6.799825225696572e-07 for 59/100\n",
      "loss 6.246979684654264e-07 for 60/100\n",
      "loss 5.76832038999772e-07 for 61/100\n",
      "loss 5.293658638690153e-07 for 62/100\n",
      "loss 4.917693407345181e-07 for 63/100\n",
      "loss 4.5470588813510317e-07 for 64/100\n",
      "loss 4.172110010452157e-07 for 65/100\n",
      "loss 3.7948062827758716e-07 for 66/100\n",
      "loss 3.505653173833872e-07 for 67/100\n",
      "loss 3.220262993895352e-07 for 68/100\n",
      "loss 3.019807592348562e-07 for 69/100\n",
      "loss 2.7465336155093437e-07 for 70/100\n",
      "loss 2.5325489547583774e-07 for 71/100\n",
      "loss 2.3328766088494633e-07 for 72/100\n",
      "loss 2.14583066041198e-07 for 73/100\n",
      "loss 1.974430393333162e-07 for 74/100\n",
      "loss 1.823499178263264e-07 for 75/100\n",
      "loss 1.6841358126202565e-07 for 76/100\n",
      "loss 1.5506149492487028e-07 for 77/100\n",
      "loss 1.421485850080915e-07 for 78/100\n",
      "loss 1.316668907879123e-07 for 79/100\n",
      "loss 1.215577120511054e-07 for 80/100\n",
      "loss 1.1127206349600814e-07 for 81/100\n",
      "loss 1.0383330544495057e-07 for 82/100\n",
      "loss 9.452797582699153e-08 for 83/100\n",
      "loss 8.79440583631395e-08 for 84/100\n",
      "loss 8.129739041319365e-08 for 85/100\n",
      "loss 7.47330702584972e-08 for 86/100\n",
      "loss 6.809423930568446e-08 for 87/100\n",
      "loss 6.285924695379358e-08 for 88/100\n",
      "loss 5.867909898552746e-08 for 89/100\n",
      "loss 5.4130337190664463e-08 for 90/100\n",
      "loss 4.938943122315278e-08 for 91/100\n",
      "loss 4.544063532615903e-08 for 92/100\n",
      "loss 4.175848956461684e-08 for 93/100\n",
      "loss 3.8703759334884024e-08 for 94/100\n",
      "loss 3.563726439679165e-08 for 95/100\n",
      "loss 3.287271299320207e-08 for 96/100\n",
      "loss 3.0417946994543144e-08 for 97/100\n",
      "loss 2.797102416205922e-08 for 98/100\n",
      "loss 2.565742665404015e-08 for 99/100\n",
      "loss 2.3704593193311847e-08 for 100/100\n"
     ]
    }
   ],
   "source": [
    "for epoch in range(100):\n",
    "    training_loss = 0\n",
    "    for data in train_loader:\n",
    "        #setting gradient at zero\n",
    "        optimizer.zero_grad()\n",
    "        #getting data\n",
    "        features,label=data\n",
    "        features=features.float()\n",
    "        #predicting class\n",
    "        pred=model(features)\n",
    "        #loss\n",
    "        loss=criterion(pred,label)\n",
    "        loss.backward()\n",
    "        #updating params\n",
    "        optimizer.step()\n",
    "        training_loss += loss.item()\n",
    "    epoch_loss = training_loss / len(train_loader)\n",
    "    print(f'loss {epoch_loss} for {epoch+1}/100')\n"
   ]
  },
  {
   "cell_type": "markdown",
   "id": "2bd552bb",
   "metadata": {
    "papermill": {
     "duration": 0.029169,
     "end_time": "2024-01-19T23:00:55.854144",
     "exception": false,
     "start_time": "2024-01-19T23:00:55.824975",
     "status": "completed"
    },
    "tags": []
   },
   "source": [
    "### b-Validation loop"
   ]
  },
  {
   "cell_type": "code",
   "execution_count": 32,
   "id": "25895ad6",
   "metadata": {
    "execution": {
     "iopub.execute_input": "2024-01-19T23:00:55.929371Z",
     "iopub.status.busy": "2024-01-19T23:00:55.928297Z",
     "iopub.status.idle": "2024-01-19T23:00:55.933883Z",
     "shell.execute_reply": "2024-01-19T23:00:55.933120Z"
    },
    "papermill": {
     "duration": 0.046939,
     "end_time": "2024-01-19T23:00:55.936743",
     "exception": false,
     "start_time": "2024-01-19T23:00:55.889804",
     "status": "completed"
    },
    "tags": []
   },
   "outputs": [],
   "source": [
    "test_loader=DataLoader(dataset=test,batch_size=200,shuffle=False)"
   ]
  },
  {
   "cell_type": "code",
   "execution_count": 33,
   "id": "6b95b278",
   "metadata": {
    "execution": {
     "iopub.execute_input": "2024-01-19T23:00:55.997207Z",
     "iopub.status.busy": "2024-01-19T23:00:55.996380Z",
     "iopub.status.idle": "2024-01-19T23:00:56.280180Z",
     "shell.execute_reply": "2024-01-19T23:00:56.278838Z"
    },
    "papermill": {
     "duration": 0.317143,
     "end_time": "2024-01-19T23:00:56.282715",
     "exception": false,
     "start_time": "2024-01-19T23:00:55.965572",
     "status": "completed"
    },
    "tags": []
   },
   "outputs": [
    {
     "name": "stdout",
     "output_type": "stream",
     "text": [
      "validation loss is 0.14141363079972125\n"
     ]
    },
    {
     "data": {
      "text/plain": [
       "Sequential(\n",
       "  (0): Linear(in_features=784, out_features=512, bias=True)\n",
       "  (1): ReLU()\n",
       "  (2): Linear(in_features=512, out_features=512, bias=True)\n",
       "  (3): ReLU()\n",
       "  (4): Linear(in_features=512, out_features=256, bias=True)\n",
       "  (5): Linear(in_features=256, out_features=10, bias=True)\n",
       ")"
      ]
     },
     "execution_count": 33,
     "metadata": {},
     "output_type": "execute_result"
    }
   ],
   "source": [
    "validation_loss = 0.0\n",
    "model.eval() # Put model in evaluation mode\n",
    "with torch.no_grad(): # Speed up the forward pass\n",
    "    training_loss = 0\n",
    "    for data in test_loader:\n",
    "        #getting data\n",
    "        features,label=data\n",
    "        features=features.float()\n",
    "        #predicting class\n",
    "        pred=model(features)\n",
    "        #loss\n",
    "        loss=criterion(pred,label)\n",
    "        validation_loss += loss.item()\n",
    "    validation_loss = validation_loss / len(test_loader)\n",
    "    print(f'validation loss is {validation_loss}')\n",
    "model.train()\n"
   ]
  },
  {
   "cell_type": "code",
   "execution_count": 34,
   "id": "92bcba46",
   "metadata": {
    "execution": {
     "iopub.execute_input": "2024-01-19T23:00:56.343108Z",
     "iopub.status.busy": "2024-01-19T23:00:56.342400Z",
     "iopub.status.idle": "2024-01-19T23:01:00.844871Z",
     "shell.execute_reply": "2024-01-19T23:01:00.843221Z"
    },
    "papermill": {
     "duration": 4.536351,
     "end_time": "2024-01-19T23:01:00.847609",
     "exception": false,
     "start_time": "2024-01-19T23:00:56.311258",
     "status": "completed"
    },
    "tags": []
   },
   "outputs": [
    {
     "name": "stdout",
     "output_type": "stream",
     "text": [
      "Accuracy on all data: 0.9865079522132874\n"
     ]
    }
   ],
   "source": [
    "import torchmetrics\n",
    "# Create accuracy metric using torch metrics\n",
    "metric = torchmetrics.Accuracy(task=\"multiclass\", num_classes=10)\n",
    "for i, data in enumerate(test_loader, 0):\n",
    "    features, labels = data\n",
    "    features=features.float()\n",
    "    outputs = model(features)\n",
    "    # Calculate accuracy over the batch\n",
    "    acc = metric(outputs, labels)\n",
    "# Calculate accuracy over the whole epoch\n",
    "acc = metric.compute()\n",
    "print(f\"Accuracy on all data: {acc}\")\n",
    "# Reset the metric for the next epoch (training or validation)\n",
    "metric.reset()"
   ]
  },
  {
   "cell_type": "markdown",
   "id": "ef23fe56",
   "metadata": {
    "papermill": {
     "duration": 0.028624,
     "end_time": "2024-01-19T23:01:00.906148",
     "exception": false,
     "start_time": "2024-01-19T23:01:00.877524",
     "status": "completed"
    },
    "tags": []
   },
   "source": [
    "## 4-Test and Submission"
   ]
  },
  {
   "cell_type": "markdown",
   "id": "a8e34ca0",
   "metadata": {
    "papermill": {
     "duration": 0.027901,
     "end_time": "2024-01-19T23:01:00.962304",
     "exception": false,
     "start_time": "2024-01-19T23:01:00.934403",
     "status": "completed"
    },
    "tags": []
   },
   "source": [
    "### a-Predicting submission data"
   ]
  },
  {
   "cell_type": "code",
   "execution_count": 35,
   "id": "d8f886e8",
   "metadata": {
    "execution": {
     "iopub.execute_input": "2024-01-19T23:01:01.021371Z",
     "iopub.status.busy": "2024-01-19T23:01:01.020587Z",
     "iopub.status.idle": "2024-01-19T23:01:03.482999Z",
     "shell.execute_reply": "2024-01-19T23:01:03.481670Z"
    },
    "papermill": {
     "duration": 2.495528,
     "end_time": "2024-01-19T23:01:03.486077",
     "exception": false,
     "start_time": "2024-01-19T23:01:00.990549",
     "status": "completed"
    },
    "tags": []
   },
   "outputs": [],
   "source": [
    "submi=pd.read_csv('/kaggle/input/digit-recognizer/test.csv')"
   ]
  },
  {
   "cell_type": "code",
   "execution_count": 36,
   "id": "4a528b30",
   "metadata": {
    "execution": {
     "iopub.execute_input": "2024-01-19T23:01:03.548235Z",
     "iopub.status.busy": "2024-01-19T23:01:03.547175Z",
     "iopub.status.idle": "2024-01-19T23:01:03.731658Z",
     "shell.execute_reply": "2024-01-19T23:01:03.730609Z"
    },
    "papermill": {
     "duration": 0.219047,
     "end_time": "2024-01-19T23:01:03.734325",
     "exception": false,
     "start_time": "2024-01-19T23:01:03.515278",
     "status": "completed"
    },
    "tags": []
   },
   "outputs": [],
   "source": [
    "X_submi=torch.from_numpy(np.array(submi)/255)\n",
    "X_submi=X_submi.float()"
   ]
  },
  {
   "cell_type": "code",
   "execution_count": 37,
   "id": "d94be961",
   "metadata": {
    "execution": {
     "iopub.execute_input": "2024-01-19T23:01:03.810289Z",
     "iopub.status.busy": "2024-01-19T23:01:03.809319Z",
     "iopub.status.idle": "2024-01-19T23:01:04.532265Z",
     "shell.execute_reply": "2024-01-19T23:01:04.531113Z"
    },
    "papermill": {
     "duration": 0.766109,
     "end_time": "2024-01-19T23:01:04.535453",
     "exception": false,
     "start_time": "2024-01-19T23:01:03.769344",
     "status": "completed"
    },
    "tags": []
   },
   "outputs": [],
   "source": [
    "with torch.no_grad():    \n",
    "    output=model(X_submi)\n",
    "    softmax=nn.Softmax(-1)(output)"
   ]
  },
  {
   "cell_type": "code",
   "execution_count": 38,
   "id": "cffd76fd",
   "metadata": {
    "execution": {
     "iopub.execute_input": "2024-01-19T23:01:04.596417Z",
     "iopub.status.busy": "2024-01-19T23:01:04.595973Z",
     "iopub.status.idle": "2024-01-19T23:01:04.608210Z",
     "shell.execute_reply": "2024-01-19T23:01:04.607127Z"
    },
    "papermill": {
     "duration": 0.045342,
     "end_time": "2024-01-19T23:01:04.610890",
     "exception": false,
     "start_time": "2024-01-19T23:01:04.565548",
     "status": "completed"
    },
    "tags": []
   },
   "outputs": [
    {
     "data": {
      "text/plain": [
       "tensor([2, 0, 9,  ..., 3, 9, 2])"
      ]
     },
     "execution_count": 38,
     "metadata": {},
     "output_type": "execute_result"
    }
   ],
   "source": [
    "predicted=torch.argmax(output,1)\n",
    "predicted"
   ]
  },
  {
   "cell_type": "code",
   "execution_count": 39,
   "id": "bf8325a2",
   "metadata": {
    "execution": {
     "iopub.execute_input": "2024-01-19T23:01:04.670737Z",
     "iopub.status.busy": "2024-01-19T23:01:04.670261Z",
     "iopub.status.idle": "2024-01-19T23:01:04.675670Z",
     "shell.execute_reply": "2024-01-19T23:01:04.674629Z"
    },
    "papermill": {
     "duration": 0.038351,
     "end_time": "2024-01-19T23:01:04.678300",
     "exception": false,
     "start_time": "2024-01-19T23:01:04.639949",
     "status": "completed"
    },
    "tags": []
   },
   "outputs": [],
   "source": [
    "label=np.array(predicted)"
   ]
  },
  {
   "cell_type": "markdown",
   "id": "57a5251c",
   "metadata": {
    "papermill": {
     "duration": 0.029216,
     "end_time": "2024-01-19T23:01:04.737273",
     "exception": false,
     "start_time": "2024-01-19T23:01:04.708057",
     "status": "completed"
    },
    "tags": []
   },
   "source": [
    "### b-Submiting data"
   ]
  },
  {
   "cell_type": "code",
   "execution_count": 40,
   "id": "5bd5bec6",
   "metadata": {
    "execution": {
     "iopub.execute_input": "2024-01-19T23:01:04.798024Z",
     "iopub.status.busy": "2024-01-19T23:01:04.797254Z",
     "iopub.status.idle": "2024-01-19T23:01:04.807097Z",
     "shell.execute_reply": "2024-01-19T23:01:04.806129Z"
    },
    "papermill": {
     "duration": 0.043347,
     "end_time": "2024-01-19T23:01:04.809793",
     "exception": false,
     "start_time": "2024-01-19T23:01:04.766446",
     "status": "completed"
    },
    "tags": []
   },
   "outputs": [],
   "source": [
    "ImageId=np.array([i for i in range(1,len(label)+1)])"
   ]
  },
  {
   "cell_type": "code",
   "execution_count": 41,
   "id": "befb9029",
   "metadata": {
    "execution": {
     "iopub.execute_input": "2024-01-19T23:01:04.870866Z",
     "iopub.status.busy": "2024-01-19T23:01:04.870211Z",
     "iopub.status.idle": "2024-01-19T23:01:04.875757Z",
     "shell.execute_reply": "2024-01-19T23:01:04.874940Z"
    },
    "papermill": {
     "duration": 0.03897,
     "end_time": "2024-01-19T23:01:04.877975",
     "exception": false,
     "start_time": "2024-01-19T23:01:04.839005",
     "status": "completed"
    },
    "tags": []
   },
   "outputs": [],
   "source": [
    "submission=pd.DataFrame({'ImageId':ImageId,'Label':label})"
   ]
  },
  {
   "cell_type": "code",
   "execution_count": 42,
   "id": "d3199645",
   "metadata": {
    "execution": {
     "iopub.execute_input": "2024-01-19T23:01:04.938594Z",
     "iopub.status.busy": "2024-01-19T23:01:04.937944Z",
     "iopub.status.idle": "2024-01-19T23:01:05.013874Z",
     "shell.execute_reply": "2024-01-19T23:01:05.012742Z"
    },
    "papermill": {
     "duration": 0.109877,
     "end_time": "2024-01-19T23:01:05.017099",
     "exception": false,
     "start_time": "2024-01-19T23:01:04.907222",
     "status": "completed"
    },
    "tags": []
   },
   "outputs": [],
   "source": [
    "submission.to_csv('/kaggle/working/submission.csv',index=False)"
   ]
  },
  {
   "cell_type": "code",
   "execution_count": 43,
   "id": "90342b40",
   "metadata": {
    "execution": {
     "iopub.execute_input": "2024-01-19T23:01:05.079858Z",
     "iopub.status.busy": "2024-01-19T23:01:05.079084Z",
     "iopub.status.idle": "2024-01-19T23:01:05.102224Z",
     "shell.execute_reply": "2024-01-19T23:01:05.101065Z"
    },
    "papermill": {
     "duration": 0.056057,
     "end_time": "2024-01-19T23:01:05.104886",
     "exception": false,
     "start_time": "2024-01-19T23:01:05.048829",
     "status": "completed"
    },
    "tags": []
   },
   "outputs": [
    {
     "data": {
      "text/html": [
       "<div>\n",
       "<style scoped>\n",
       "    .dataframe tbody tr th:only-of-type {\n",
       "        vertical-align: middle;\n",
       "    }\n",
       "\n",
       "    .dataframe tbody tr th {\n",
       "        vertical-align: top;\n",
       "    }\n",
       "\n",
       "    .dataframe thead th {\n",
       "        text-align: right;\n",
       "    }\n",
       "</style>\n",
       "<table border=\"1\" class=\"dataframe\">\n",
       "  <thead>\n",
       "    <tr style=\"text-align: right;\">\n",
       "      <th></th>\n",
       "      <th>ImageId</th>\n",
       "      <th>Label</th>\n",
       "    </tr>\n",
       "  </thead>\n",
       "  <tbody>\n",
       "    <tr>\n",
       "      <th>0</th>\n",
       "      <td>1</td>\n",
       "      <td>2</td>\n",
       "    </tr>\n",
       "    <tr>\n",
       "      <th>1</th>\n",
       "      <td>2</td>\n",
       "      <td>0</td>\n",
       "    </tr>\n",
       "    <tr>\n",
       "      <th>2</th>\n",
       "      <td>3</td>\n",
       "      <td>9</td>\n",
       "    </tr>\n",
       "    <tr>\n",
       "      <th>3</th>\n",
       "      <td>4</td>\n",
       "      <td>9</td>\n",
       "    </tr>\n",
       "    <tr>\n",
       "      <th>4</th>\n",
       "      <td>5</td>\n",
       "      <td>3</td>\n",
       "    </tr>\n",
       "    <tr>\n",
       "      <th>...</th>\n",
       "      <td>...</td>\n",
       "      <td>...</td>\n",
       "    </tr>\n",
       "    <tr>\n",
       "      <th>27995</th>\n",
       "      <td>27996</td>\n",
       "      <td>9</td>\n",
       "    </tr>\n",
       "    <tr>\n",
       "      <th>27996</th>\n",
       "      <td>27997</td>\n",
       "      <td>7</td>\n",
       "    </tr>\n",
       "    <tr>\n",
       "      <th>27997</th>\n",
       "      <td>27998</td>\n",
       "      <td>3</td>\n",
       "    </tr>\n",
       "    <tr>\n",
       "      <th>27998</th>\n",
       "      <td>27999</td>\n",
       "      <td>9</td>\n",
       "    </tr>\n",
       "    <tr>\n",
       "      <th>27999</th>\n",
       "      <td>28000</td>\n",
       "      <td>2</td>\n",
       "    </tr>\n",
       "  </tbody>\n",
       "</table>\n",
       "<p>28000 rows × 2 columns</p>\n",
       "</div>"
      ],
      "text/plain": [
       "       ImageId  Label\n",
       "0            1      2\n",
       "1            2      0\n",
       "2            3      9\n",
       "3            4      9\n",
       "4            5      3\n",
       "...        ...    ...\n",
       "27995    27996      9\n",
       "27996    27997      7\n",
       "27997    27998      3\n",
       "27998    27999      9\n",
       "27999    28000      2\n",
       "\n",
       "[28000 rows x 2 columns]"
      ]
     },
     "execution_count": 43,
     "metadata": {},
     "output_type": "execute_result"
    }
   ],
   "source": [
    "submission_path='/kaggle/working/submission.csv'\n",
    "pd.read_csv(submission_path)"
   ]
  },
  {
   "cell_type": "code",
   "execution_count": null,
   "id": "67830b85",
   "metadata": {
    "papermill": {
     "duration": 0.028679,
     "end_time": "2024-01-19T23:01:05.162392",
     "exception": false,
     "start_time": "2024-01-19T23:01:05.133713",
     "status": "completed"
    },
    "tags": []
   },
   "outputs": [],
   "source": []
  }
 ],
 "metadata": {
  "kaggle": {
   "accelerator": "none",
   "dataSources": [
    {
     "databundleVersionId": 861823,
     "sourceId": 3004,
     "sourceType": "competition"
    }
   ],
   "dockerImageVersionId": 30587,
   "isGpuEnabled": false,
   "isInternetEnabled": true,
   "language": "python",
   "sourceType": "notebook"
  },
  "kernelspec": {
   "display_name": "Python 3",
   "language": "python",
   "name": "python3"
  },
  "language_info": {
   "codemirror_mode": {
    "name": "ipython",
    "version": 3
   },
   "file_extension": ".py",
   "mimetype": "text/x-python",
   "name": "python",
   "nbconvert_exporter": "python",
   "pygments_lexer": "ipython3",
   "version": "3.10.12"
  },
  "papermill": {
   "default_parameters": {},
   "duration": 409.836993,
   "end_time": "2024-01-19T23:01:07.562108",
   "environment_variables": {},
   "exception": null,
   "input_path": "__notebook__.ipynb",
   "output_path": "__notebook__.ipynb",
   "parameters": {},
   "start_time": "2024-01-19T22:54:17.725115",
   "version": "2.4.0"
  }
 },
 "nbformat": 4,
 "nbformat_minor": 5
}
