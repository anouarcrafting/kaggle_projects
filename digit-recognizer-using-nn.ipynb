{
 "cells": [
  {
   "cell_type": "code",
   "execution_count": 1,
   "id": "e8e7c510",
   "metadata": {
    "_cell_guid": "b1076dfc-b9ad-4769-8c92-a6c4dae69d19",
    "_uuid": "8f2839f25d086af736a60e9eeb907d3b93b6e0e5",
    "execution": {
     "iopub.execute_input": "2023-11-24T14:11:51.323130Z",
     "iopub.status.busy": "2023-11-24T14:11:51.322791Z",
     "iopub.status.idle": "2023-11-24T14:11:54.798544Z",
     "shell.execute_reply": "2023-11-24T14:11:54.797476Z"
    },
    "papermill": {
     "duration": 3.486358,
     "end_time": "2023-11-24T14:11:54.800960",
     "exception": false,
     "start_time": "2023-11-24T14:11:51.314602",
     "status": "completed"
    },
    "tags": []
   },
   "outputs": [],
   "source": [
    "import numpy as np # linear algebra\n",
    "import pandas as pd # data processing, CSV file I/O (e.g. pd.read_csv)\n",
    "import torch.nn as nn\n",
    "import torch"
   ]
  },
  {
   "cell_type": "code",
   "execution_count": 2,
   "id": "4c052031",
   "metadata": {
    "execution": {
     "iopub.execute_input": "2023-11-24T14:11:54.814630Z",
     "iopub.status.busy": "2023-11-24T14:11:54.814154Z",
     "iopub.status.idle": "2023-11-24T14:11:57.304247Z",
     "shell.execute_reply": "2023-11-24T14:11:57.302241Z"
    },
    "papermill": {
     "duration": 2.498963,
     "end_time": "2023-11-24T14:11:57.306146",
     "exception": false,
     "start_time": "2023-11-24T14:11:54.807183",
     "status": "completed"
    },
    "tags": []
   },
   "outputs": [
    {
     "data": {
      "text/html": [
       "<div>\n",
       "<style scoped>\n",
       "    .dataframe tbody tr th:only-of-type {\n",
       "        vertical-align: middle;\n",
       "    }\n",
       "\n",
       "    .dataframe tbody tr th {\n",
       "        vertical-align: top;\n",
       "    }\n",
       "\n",
       "    .dataframe thead th {\n",
       "        text-align: right;\n",
       "    }\n",
       "</style>\n",
       "<table border=\"1\" class=\"dataframe\">\n",
       "  <thead>\n",
       "    <tr style=\"text-align: right;\">\n",
       "      <th></th>\n",
       "      <th>label</th>\n",
       "      <th>pixel0</th>\n",
       "      <th>pixel1</th>\n",
       "      <th>pixel2</th>\n",
       "      <th>pixel3</th>\n",
       "      <th>pixel4</th>\n",
       "      <th>pixel5</th>\n",
       "      <th>pixel6</th>\n",
       "      <th>pixel7</th>\n",
       "      <th>pixel8</th>\n",
       "      <th>...</th>\n",
       "      <th>pixel774</th>\n",
       "      <th>pixel775</th>\n",
       "      <th>pixel776</th>\n",
       "      <th>pixel777</th>\n",
       "      <th>pixel778</th>\n",
       "      <th>pixel779</th>\n",
       "      <th>pixel780</th>\n",
       "      <th>pixel781</th>\n",
       "      <th>pixel782</th>\n",
       "      <th>pixel783</th>\n",
       "    </tr>\n",
       "  </thead>\n",
       "  <tbody>\n",
       "    <tr>\n",
       "      <th>0</th>\n",
       "      <td>1</td>\n",
       "      <td>0</td>\n",
       "      <td>0</td>\n",
       "      <td>0</td>\n",
       "      <td>0</td>\n",
       "      <td>0</td>\n",
       "      <td>0</td>\n",
       "      <td>0</td>\n",
       "      <td>0</td>\n",
       "      <td>0</td>\n",
       "      <td>...</td>\n",
       "      <td>0</td>\n",
       "      <td>0</td>\n",
       "      <td>0</td>\n",
       "      <td>0</td>\n",
       "      <td>0</td>\n",
       "      <td>0</td>\n",
       "      <td>0</td>\n",
       "      <td>0</td>\n",
       "      <td>0</td>\n",
       "      <td>0</td>\n",
       "    </tr>\n",
       "    <tr>\n",
       "      <th>1</th>\n",
       "      <td>0</td>\n",
       "      <td>0</td>\n",
       "      <td>0</td>\n",
       "      <td>0</td>\n",
       "      <td>0</td>\n",
       "      <td>0</td>\n",
       "      <td>0</td>\n",
       "      <td>0</td>\n",
       "      <td>0</td>\n",
       "      <td>0</td>\n",
       "      <td>...</td>\n",
       "      <td>0</td>\n",
       "      <td>0</td>\n",
       "      <td>0</td>\n",
       "      <td>0</td>\n",
       "      <td>0</td>\n",
       "      <td>0</td>\n",
       "      <td>0</td>\n",
       "      <td>0</td>\n",
       "      <td>0</td>\n",
       "      <td>0</td>\n",
       "    </tr>\n",
       "    <tr>\n",
       "      <th>2</th>\n",
       "      <td>1</td>\n",
       "      <td>0</td>\n",
       "      <td>0</td>\n",
       "      <td>0</td>\n",
       "      <td>0</td>\n",
       "      <td>0</td>\n",
       "      <td>0</td>\n",
       "      <td>0</td>\n",
       "      <td>0</td>\n",
       "      <td>0</td>\n",
       "      <td>...</td>\n",
       "      <td>0</td>\n",
       "      <td>0</td>\n",
       "      <td>0</td>\n",
       "      <td>0</td>\n",
       "      <td>0</td>\n",
       "      <td>0</td>\n",
       "      <td>0</td>\n",
       "      <td>0</td>\n",
       "      <td>0</td>\n",
       "      <td>0</td>\n",
       "    </tr>\n",
       "    <tr>\n",
       "      <th>3</th>\n",
       "      <td>4</td>\n",
       "      <td>0</td>\n",
       "      <td>0</td>\n",
       "      <td>0</td>\n",
       "      <td>0</td>\n",
       "      <td>0</td>\n",
       "      <td>0</td>\n",
       "      <td>0</td>\n",
       "      <td>0</td>\n",
       "      <td>0</td>\n",
       "      <td>...</td>\n",
       "      <td>0</td>\n",
       "      <td>0</td>\n",
       "      <td>0</td>\n",
       "      <td>0</td>\n",
       "      <td>0</td>\n",
       "      <td>0</td>\n",
       "      <td>0</td>\n",
       "      <td>0</td>\n",
       "      <td>0</td>\n",
       "      <td>0</td>\n",
       "    </tr>\n",
       "    <tr>\n",
       "      <th>4</th>\n",
       "      <td>0</td>\n",
       "      <td>0</td>\n",
       "      <td>0</td>\n",
       "      <td>0</td>\n",
       "      <td>0</td>\n",
       "      <td>0</td>\n",
       "      <td>0</td>\n",
       "      <td>0</td>\n",
       "      <td>0</td>\n",
       "      <td>0</td>\n",
       "      <td>...</td>\n",
       "      <td>0</td>\n",
       "      <td>0</td>\n",
       "      <td>0</td>\n",
       "      <td>0</td>\n",
       "      <td>0</td>\n",
       "      <td>0</td>\n",
       "      <td>0</td>\n",
       "      <td>0</td>\n",
       "      <td>0</td>\n",
       "      <td>0</td>\n",
       "    </tr>\n",
       "    <tr>\n",
       "      <th>...</th>\n",
       "      <td>...</td>\n",
       "      <td>...</td>\n",
       "      <td>...</td>\n",
       "      <td>...</td>\n",
       "      <td>...</td>\n",
       "      <td>...</td>\n",
       "      <td>...</td>\n",
       "      <td>...</td>\n",
       "      <td>...</td>\n",
       "      <td>...</td>\n",
       "      <td>...</td>\n",
       "      <td>...</td>\n",
       "      <td>...</td>\n",
       "      <td>...</td>\n",
       "      <td>...</td>\n",
       "      <td>...</td>\n",
       "      <td>...</td>\n",
       "      <td>...</td>\n",
       "      <td>...</td>\n",
       "      <td>...</td>\n",
       "      <td>...</td>\n",
       "    </tr>\n",
       "    <tr>\n",
       "      <th>41995</th>\n",
       "      <td>0</td>\n",
       "      <td>0</td>\n",
       "      <td>0</td>\n",
       "      <td>0</td>\n",
       "      <td>0</td>\n",
       "      <td>0</td>\n",
       "      <td>0</td>\n",
       "      <td>0</td>\n",
       "      <td>0</td>\n",
       "      <td>0</td>\n",
       "      <td>...</td>\n",
       "      <td>0</td>\n",
       "      <td>0</td>\n",
       "      <td>0</td>\n",
       "      <td>0</td>\n",
       "      <td>0</td>\n",
       "      <td>0</td>\n",
       "      <td>0</td>\n",
       "      <td>0</td>\n",
       "      <td>0</td>\n",
       "      <td>0</td>\n",
       "    </tr>\n",
       "    <tr>\n",
       "      <th>41996</th>\n",
       "      <td>1</td>\n",
       "      <td>0</td>\n",
       "      <td>0</td>\n",
       "      <td>0</td>\n",
       "      <td>0</td>\n",
       "      <td>0</td>\n",
       "      <td>0</td>\n",
       "      <td>0</td>\n",
       "      <td>0</td>\n",
       "      <td>0</td>\n",
       "      <td>...</td>\n",
       "      <td>0</td>\n",
       "      <td>0</td>\n",
       "      <td>0</td>\n",
       "      <td>0</td>\n",
       "      <td>0</td>\n",
       "      <td>0</td>\n",
       "      <td>0</td>\n",
       "      <td>0</td>\n",
       "      <td>0</td>\n",
       "      <td>0</td>\n",
       "    </tr>\n",
       "    <tr>\n",
       "      <th>41997</th>\n",
       "      <td>7</td>\n",
       "      <td>0</td>\n",
       "      <td>0</td>\n",
       "      <td>0</td>\n",
       "      <td>0</td>\n",
       "      <td>0</td>\n",
       "      <td>0</td>\n",
       "      <td>0</td>\n",
       "      <td>0</td>\n",
       "      <td>0</td>\n",
       "      <td>...</td>\n",
       "      <td>0</td>\n",
       "      <td>0</td>\n",
       "      <td>0</td>\n",
       "      <td>0</td>\n",
       "      <td>0</td>\n",
       "      <td>0</td>\n",
       "      <td>0</td>\n",
       "      <td>0</td>\n",
       "      <td>0</td>\n",
       "      <td>0</td>\n",
       "    </tr>\n",
       "    <tr>\n",
       "      <th>41998</th>\n",
       "      <td>6</td>\n",
       "      <td>0</td>\n",
       "      <td>0</td>\n",
       "      <td>0</td>\n",
       "      <td>0</td>\n",
       "      <td>0</td>\n",
       "      <td>0</td>\n",
       "      <td>0</td>\n",
       "      <td>0</td>\n",
       "      <td>0</td>\n",
       "      <td>...</td>\n",
       "      <td>0</td>\n",
       "      <td>0</td>\n",
       "      <td>0</td>\n",
       "      <td>0</td>\n",
       "      <td>0</td>\n",
       "      <td>0</td>\n",
       "      <td>0</td>\n",
       "      <td>0</td>\n",
       "      <td>0</td>\n",
       "      <td>0</td>\n",
       "    </tr>\n",
       "    <tr>\n",
       "      <th>41999</th>\n",
       "      <td>9</td>\n",
       "      <td>0</td>\n",
       "      <td>0</td>\n",
       "      <td>0</td>\n",
       "      <td>0</td>\n",
       "      <td>0</td>\n",
       "      <td>0</td>\n",
       "      <td>0</td>\n",
       "      <td>0</td>\n",
       "      <td>0</td>\n",
       "      <td>...</td>\n",
       "      <td>0</td>\n",
       "      <td>0</td>\n",
       "      <td>0</td>\n",
       "      <td>0</td>\n",
       "      <td>0</td>\n",
       "      <td>0</td>\n",
       "      <td>0</td>\n",
       "      <td>0</td>\n",
       "      <td>0</td>\n",
       "      <td>0</td>\n",
       "    </tr>\n",
       "  </tbody>\n",
       "</table>\n",
       "<p>42000 rows × 785 columns</p>\n",
       "</div>"
      ],
      "text/plain": [
       "       label  pixel0  pixel1  pixel2  pixel3  pixel4  pixel5  pixel6  pixel7  \\\n",
       "0          1       0       0       0       0       0       0       0       0   \n",
       "1          0       0       0       0       0       0       0       0       0   \n",
       "2          1       0       0       0       0       0       0       0       0   \n",
       "3          4       0       0       0       0       0       0       0       0   \n",
       "4          0       0       0       0       0       0       0       0       0   \n",
       "...      ...     ...     ...     ...     ...     ...     ...     ...     ...   \n",
       "41995      0       0       0       0       0       0       0       0       0   \n",
       "41996      1       0       0       0       0       0       0       0       0   \n",
       "41997      7       0       0       0       0       0       0       0       0   \n",
       "41998      6       0       0       0       0       0       0       0       0   \n",
       "41999      9       0       0       0       0       0       0       0       0   \n",
       "\n",
       "       pixel8  ...  pixel774  pixel775  pixel776  pixel777  pixel778  \\\n",
       "0           0  ...         0         0         0         0         0   \n",
       "1           0  ...         0         0         0         0         0   \n",
       "2           0  ...         0         0         0         0         0   \n",
       "3           0  ...         0         0         0         0         0   \n",
       "4           0  ...         0         0         0         0         0   \n",
       "...       ...  ...       ...       ...       ...       ...       ...   \n",
       "41995       0  ...         0         0         0         0         0   \n",
       "41996       0  ...         0         0         0         0         0   \n",
       "41997       0  ...         0         0         0         0         0   \n",
       "41998       0  ...         0         0         0         0         0   \n",
       "41999       0  ...         0         0         0         0         0   \n",
       "\n",
       "       pixel779  pixel780  pixel781  pixel782  pixel783  \n",
       "0             0         0         0         0         0  \n",
       "1             0         0         0         0         0  \n",
       "2             0         0         0         0         0  \n",
       "3             0         0         0         0         0  \n",
       "4             0         0         0         0         0  \n",
       "...         ...       ...       ...       ...       ...  \n",
       "41995         0         0         0         0         0  \n",
       "41996         0         0         0         0         0  \n",
       "41997         0         0         0         0         0  \n",
       "41998         0         0         0         0         0  \n",
       "41999         0         0         0         0         0  \n",
       "\n",
       "[42000 rows x 785 columns]"
      ]
     },
     "execution_count": 2,
     "metadata": {},
     "output_type": "execute_result"
    }
   ],
   "source": [
    "path='/kaggle/input/digit-recognizer/train.csv'\n",
    "trainset=pd.read_csv(path)\n",
    "trainset"
   ]
  },
  {
   "cell_type": "code",
   "execution_count": 3,
   "id": "f350f463",
   "metadata": {
    "execution": {
     "iopub.execute_input": "2023-11-24T14:11:57.320155Z",
     "iopub.status.busy": "2023-11-24T14:11:57.319754Z",
     "iopub.status.idle": "2023-11-24T14:11:57.325199Z",
     "shell.execute_reply": "2023-11-24T14:11:57.323799Z"
    },
    "papermill": {
     "duration": 0.01475,
     "end_time": "2023-11-24T14:11:57.327173",
     "exception": false,
     "start_time": "2023-11-24T14:11:57.312423",
     "status": "completed"
    },
    "tags": []
   },
   "outputs": [],
   "source": [
    "from torch.utils.data import DataLoader"
   ]
  },
  {
   "cell_type": "code",
   "execution_count": 4,
   "id": "ad4448fa",
   "metadata": {
    "execution": {
     "iopub.execute_input": "2023-11-24T14:11:57.341217Z",
     "iopub.status.busy": "2023-11-24T14:11:57.340899Z",
     "iopub.status.idle": "2023-11-24T14:11:57.412295Z",
     "shell.execute_reply": "2023-11-24T14:11:57.411011Z"
    },
    "papermill": {
     "duration": 0.080908,
     "end_time": "2023-11-24T14:11:57.414483",
     "exception": false,
     "start_time": "2023-11-24T14:11:57.333575",
     "status": "completed"
    },
    "tags": []
   },
   "outputs": [
    {
     "data": {
      "text/html": [
       "<div>\n",
       "<style scoped>\n",
       "    .dataframe tbody tr th:only-of-type {\n",
       "        vertical-align: middle;\n",
       "    }\n",
       "\n",
       "    .dataframe tbody tr th {\n",
       "        vertical-align: top;\n",
       "    }\n",
       "\n",
       "    .dataframe thead th {\n",
       "        text-align: right;\n",
       "    }\n",
       "</style>\n",
       "<table border=\"1\" class=\"dataframe\">\n",
       "  <thead>\n",
       "    <tr style=\"text-align: right;\">\n",
       "      <th></th>\n",
       "      <th>pixel0</th>\n",
       "      <th>pixel1</th>\n",
       "      <th>pixel2</th>\n",
       "      <th>pixel3</th>\n",
       "      <th>pixel4</th>\n",
       "      <th>pixel5</th>\n",
       "      <th>pixel6</th>\n",
       "      <th>pixel7</th>\n",
       "      <th>pixel8</th>\n",
       "      <th>pixel9</th>\n",
       "      <th>...</th>\n",
       "      <th>pixel774</th>\n",
       "      <th>pixel775</th>\n",
       "      <th>pixel776</th>\n",
       "      <th>pixel777</th>\n",
       "      <th>pixel778</th>\n",
       "      <th>pixel779</th>\n",
       "      <th>pixel780</th>\n",
       "      <th>pixel781</th>\n",
       "      <th>pixel782</th>\n",
       "      <th>pixel783</th>\n",
       "    </tr>\n",
       "  </thead>\n",
       "  <tbody>\n",
       "    <tr>\n",
       "      <th>0</th>\n",
       "      <td>0</td>\n",
       "      <td>0</td>\n",
       "      <td>0</td>\n",
       "      <td>0</td>\n",
       "      <td>0</td>\n",
       "      <td>0</td>\n",
       "      <td>0</td>\n",
       "      <td>0</td>\n",
       "      <td>0</td>\n",
       "      <td>0</td>\n",
       "      <td>...</td>\n",
       "      <td>0</td>\n",
       "      <td>0</td>\n",
       "      <td>0</td>\n",
       "      <td>0</td>\n",
       "      <td>0</td>\n",
       "      <td>0</td>\n",
       "      <td>0</td>\n",
       "      <td>0</td>\n",
       "      <td>0</td>\n",
       "      <td>0</td>\n",
       "    </tr>\n",
       "    <tr>\n",
       "      <th>1</th>\n",
       "      <td>0</td>\n",
       "      <td>0</td>\n",
       "      <td>0</td>\n",
       "      <td>0</td>\n",
       "      <td>0</td>\n",
       "      <td>0</td>\n",
       "      <td>0</td>\n",
       "      <td>0</td>\n",
       "      <td>0</td>\n",
       "      <td>0</td>\n",
       "      <td>...</td>\n",
       "      <td>0</td>\n",
       "      <td>0</td>\n",
       "      <td>0</td>\n",
       "      <td>0</td>\n",
       "      <td>0</td>\n",
       "      <td>0</td>\n",
       "      <td>0</td>\n",
       "      <td>0</td>\n",
       "      <td>0</td>\n",
       "      <td>0</td>\n",
       "    </tr>\n",
       "    <tr>\n",
       "      <th>2</th>\n",
       "      <td>0</td>\n",
       "      <td>0</td>\n",
       "      <td>0</td>\n",
       "      <td>0</td>\n",
       "      <td>0</td>\n",
       "      <td>0</td>\n",
       "      <td>0</td>\n",
       "      <td>0</td>\n",
       "      <td>0</td>\n",
       "      <td>0</td>\n",
       "      <td>...</td>\n",
       "      <td>0</td>\n",
       "      <td>0</td>\n",
       "      <td>0</td>\n",
       "      <td>0</td>\n",
       "      <td>0</td>\n",
       "      <td>0</td>\n",
       "      <td>0</td>\n",
       "      <td>0</td>\n",
       "      <td>0</td>\n",
       "      <td>0</td>\n",
       "    </tr>\n",
       "    <tr>\n",
       "      <th>3</th>\n",
       "      <td>0</td>\n",
       "      <td>0</td>\n",
       "      <td>0</td>\n",
       "      <td>0</td>\n",
       "      <td>0</td>\n",
       "      <td>0</td>\n",
       "      <td>0</td>\n",
       "      <td>0</td>\n",
       "      <td>0</td>\n",
       "      <td>0</td>\n",
       "      <td>...</td>\n",
       "      <td>0</td>\n",
       "      <td>0</td>\n",
       "      <td>0</td>\n",
       "      <td>0</td>\n",
       "      <td>0</td>\n",
       "      <td>0</td>\n",
       "      <td>0</td>\n",
       "      <td>0</td>\n",
       "      <td>0</td>\n",
       "      <td>0</td>\n",
       "    </tr>\n",
       "    <tr>\n",
       "      <th>4</th>\n",
       "      <td>0</td>\n",
       "      <td>0</td>\n",
       "      <td>0</td>\n",
       "      <td>0</td>\n",
       "      <td>0</td>\n",
       "      <td>0</td>\n",
       "      <td>0</td>\n",
       "      <td>0</td>\n",
       "      <td>0</td>\n",
       "      <td>0</td>\n",
       "      <td>...</td>\n",
       "      <td>0</td>\n",
       "      <td>0</td>\n",
       "      <td>0</td>\n",
       "      <td>0</td>\n",
       "      <td>0</td>\n",
       "      <td>0</td>\n",
       "      <td>0</td>\n",
       "      <td>0</td>\n",
       "      <td>0</td>\n",
       "      <td>0</td>\n",
       "    </tr>\n",
       "    <tr>\n",
       "      <th>...</th>\n",
       "      <td>...</td>\n",
       "      <td>...</td>\n",
       "      <td>...</td>\n",
       "      <td>...</td>\n",
       "      <td>...</td>\n",
       "      <td>...</td>\n",
       "      <td>...</td>\n",
       "      <td>...</td>\n",
       "      <td>...</td>\n",
       "      <td>...</td>\n",
       "      <td>...</td>\n",
       "      <td>...</td>\n",
       "      <td>...</td>\n",
       "      <td>...</td>\n",
       "      <td>...</td>\n",
       "      <td>...</td>\n",
       "      <td>...</td>\n",
       "      <td>...</td>\n",
       "      <td>...</td>\n",
       "      <td>...</td>\n",
       "      <td>...</td>\n",
       "    </tr>\n",
       "    <tr>\n",
       "      <th>41995</th>\n",
       "      <td>0</td>\n",
       "      <td>0</td>\n",
       "      <td>0</td>\n",
       "      <td>0</td>\n",
       "      <td>0</td>\n",
       "      <td>0</td>\n",
       "      <td>0</td>\n",
       "      <td>0</td>\n",
       "      <td>0</td>\n",
       "      <td>0</td>\n",
       "      <td>...</td>\n",
       "      <td>0</td>\n",
       "      <td>0</td>\n",
       "      <td>0</td>\n",
       "      <td>0</td>\n",
       "      <td>0</td>\n",
       "      <td>0</td>\n",
       "      <td>0</td>\n",
       "      <td>0</td>\n",
       "      <td>0</td>\n",
       "      <td>0</td>\n",
       "    </tr>\n",
       "    <tr>\n",
       "      <th>41996</th>\n",
       "      <td>0</td>\n",
       "      <td>0</td>\n",
       "      <td>0</td>\n",
       "      <td>0</td>\n",
       "      <td>0</td>\n",
       "      <td>0</td>\n",
       "      <td>0</td>\n",
       "      <td>0</td>\n",
       "      <td>0</td>\n",
       "      <td>0</td>\n",
       "      <td>...</td>\n",
       "      <td>0</td>\n",
       "      <td>0</td>\n",
       "      <td>0</td>\n",
       "      <td>0</td>\n",
       "      <td>0</td>\n",
       "      <td>0</td>\n",
       "      <td>0</td>\n",
       "      <td>0</td>\n",
       "      <td>0</td>\n",
       "      <td>0</td>\n",
       "    </tr>\n",
       "    <tr>\n",
       "      <th>41997</th>\n",
       "      <td>0</td>\n",
       "      <td>0</td>\n",
       "      <td>0</td>\n",
       "      <td>0</td>\n",
       "      <td>0</td>\n",
       "      <td>0</td>\n",
       "      <td>0</td>\n",
       "      <td>0</td>\n",
       "      <td>0</td>\n",
       "      <td>0</td>\n",
       "      <td>...</td>\n",
       "      <td>0</td>\n",
       "      <td>0</td>\n",
       "      <td>0</td>\n",
       "      <td>0</td>\n",
       "      <td>0</td>\n",
       "      <td>0</td>\n",
       "      <td>0</td>\n",
       "      <td>0</td>\n",
       "      <td>0</td>\n",
       "      <td>0</td>\n",
       "    </tr>\n",
       "    <tr>\n",
       "      <th>41998</th>\n",
       "      <td>0</td>\n",
       "      <td>0</td>\n",
       "      <td>0</td>\n",
       "      <td>0</td>\n",
       "      <td>0</td>\n",
       "      <td>0</td>\n",
       "      <td>0</td>\n",
       "      <td>0</td>\n",
       "      <td>0</td>\n",
       "      <td>0</td>\n",
       "      <td>...</td>\n",
       "      <td>0</td>\n",
       "      <td>0</td>\n",
       "      <td>0</td>\n",
       "      <td>0</td>\n",
       "      <td>0</td>\n",
       "      <td>0</td>\n",
       "      <td>0</td>\n",
       "      <td>0</td>\n",
       "      <td>0</td>\n",
       "      <td>0</td>\n",
       "    </tr>\n",
       "    <tr>\n",
       "      <th>41999</th>\n",
       "      <td>0</td>\n",
       "      <td>0</td>\n",
       "      <td>0</td>\n",
       "      <td>0</td>\n",
       "      <td>0</td>\n",
       "      <td>0</td>\n",
       "      <td>0</td>\n",
       "      <td>0</td>\n",
       "      <td>0</td>\n",
       "      <td>0</td>\n",
       "      <td>...</td>\n",
       "      <td>0</td>\n",
       "      <td>0</td>\n",
       "      <td>0</td>\n",
       "      <td>0</td>\n",
       "      <td>0</td>\n",
       "      <td>0</td>\n",
       "      <td>0</td>\n",
       "      <td>0</td>\n",
       "      <td>0</td>\n",
       "      <td>0</td>\n",
       "    </tr>\n",
       "  </tbody>\n",
       "</table>\n",
       "<p>42000 rows × 784 columns</p>\n",
       "</div>"
      ],
      "text/plain": [
       "       pixel0  pixel1  pixel2  pixel3  pixel4  pixel5  pixel6  pixel7  pixel8  \\\n",
       "0           0       0       0       0       0       0       0       0       0   \n",
       "1           0       0       0       0       0       0       0       0       0   \n",
       "2           0       0       0       0       0       0       0       0       0   \n",
       "3           0       0       0       0       0       0       0       0       0   \n",
       "4           0       0       0       0       0       0       0       0       0   \n",
       "...       ...     ...     ...     ...     ...     ...     ...     ...     ...   \n",
       "41995       0       0       0       0       0       0       0       0       0   \n",
       "41996       0       0       0       0       0       0       0       0       0   \n",
       "41997       0       0       0       0       0       0       0       0       0   \n",
       "41998       0       0       0       0       0       0       0       0       0   \n",
       "41999       0       0       0       0       0       0       0       0       0   \n",
       "\n",
       "       pixel9  ...  pixel774  pixel775  pixel776  pixel777  pixel778  \\\n",
       "0           0  ...         0         0         0         0         0   \n",
       "1           0  ...         0         0         0         0         0   \n",
       "2           0  ...         0         0         0         0         0   \n",
       "3           0  ...         0         0         0         0         0   \n",
       "4           0  ...         0         0         0         0         0   \n",
       "...       ...  ...       ...       ...       ...       ...       ...   \n",
       "41995       0  ...         0         0         0         0         0   \n",
       "41996       0  ...         0         0         0         0         0   \n",
       "41997       0  ...         0         0         0         0         0   \n",
       "41998       0  ...         0         0         0         0         0   \n",
       "41999       0  ...         0         0         0         0         0   \n",
       "\n",
       "       pixel779  pixel780  pixel781  pixel782  pixel783  \n",
       "0             0         0         0         0         0  \n",
       "1             0         0         0         0         0  \n",
       "2             0         0         0         0         0  \n",
       "3             0         0         0         0         0  \n",
       "4             0         0         0         0         0  \n",
       "...         ...       ...       ...       ...       ...  \n",
       "41995         0         0         0         0         0  \n",
       "41996         0         0         0         0         0  \n",
       "41997         0         0         0         0         0  \n",
       "41998         0         0         0         0         0  \n",
       "41999         0         0         0         0         0  \n",
       "\n",
       "[42000 rows x 784 columns]"
      ]
     },
     "execution_count": 4,
     "metadata": {},
     "output_type": "execute_result"
    }
   ],
   "source": [
    "trainset.drop('label',axis=1)"
   ]
  },
  {
   "cell_type": "code",
   "execution_count": 5,
   "id": "4ae94105",
   "metadata": {
    "execution": {
     "iopub.execute_input": "2023-11-24T14:11:57.430036Z",
     "iopub.status.busy": "2023-11-24T14:11:57.429699Z",
     "iopub.status.idle": "2023-11-24T14:11:57.435258Z",
     "shell.execute_reply": "2023-11-24T14:11:57.434198Z"
    },
    "papermill": {
     "duration": 0.015979,
     "end_time": "2023-11-24T14:11:57.437630",
     "exception": false,
     "start_time": "2023-11-24T14:11:57.421651",
     "status": "completed"
    },
    "tags": []
   },
   "outputs": [],
   "source": [
    "#DataLoader.dataset()"
   ]
  },
  {
   "cell_type": "markdown",
   "id": "18c80409",
   "metadata": {
    "papermill": {
     "duration": 0.00676,
     "end_time": "2023-11-24T14:11:57.451553",
     "exception": false,
     "start_time": "2023-11-24T14:11:57.444793",
     "status": "completed"
    },
    "tags": []
   },
   "source": [
    "## 1-Data"
   ]
  },
  {
   "cell_type": "code",
   "execution_count": 6,
   "id": "923e36b7",
   "metadata": {
    "execution": {
     "iopub.execute_input": "2023-11-24T14:11:57.466445Z",
     "iopub.status.busy": "2023-11-24T14:11:57.466108Z",
     "iopub.status.idle": "2023-11-24T14:11:57.526654Z",
     "shell.execute_reply": "2023-11-24T14:11:57.525212Z"
    },
    "papermill": {
     "duration": 0.071006,
     "end_time": "2023-11-24T14:11:57.529134",
     "exception": false,
     "start_time": "2023-11-24T14:11:57.458128",
     "status": "completed"
    },
    "tags": []
   },
   "outputs": [],
   "source": [
    "train_tensor=torch.from_numpy(np.array(trainset))"
   ]
  },
  {
   "cell_type": "code",
   "execution_count": 7,
   "id": "a1d9d8b3",
   "metadata": {
    "execution": {
     "iopub.execute_input": "2023-11-24T14:11:57.544114Z",
     "iopub.status.busy": "2023-11-24T14:11:57.543739Z",
     "iopub.status.idle": "2023-11-24T14:11:57.612541Z",
     "shell.execute_reply": "2023-11-24T14:11:57.611369Z"
    },
    "papermill": {
     "duration": 0.078725,
     "end_time": "2023-11-24T14:11:57.614515",
     "exception": false,
     "start_time": "2023-11-24T14:11:57.535790",
     "status": "completed"
    },
    "tags": []
   },
   "outputs": [
    {
     "data": {
      "text/plain": [
       "tensor([[1, 0, 0,  ..., 0, 0, 0],\n",
       "        [0, 0, 0,  ..., 0, 0, 0],\n",
       "        [1, 0, 0,  ..., 0, 0, 0],\n",
       "        ...,\n",
       "        [7, 0, 0,  ..., 0, 0, 0],\n",
       "        [6, 0, 0,  ..., 0, 0, 0],\n",
       "        [9, 0, 0,  ..., 0, 0, 0]])"
      ]
     },
     "execution_count": 7,
     "metadata": {},
     "output_type": "execute_result"
    }
   ],
   "source": [
    "train_tensor"
   ]
  },
  {
   "cell_type": "code",
   "execution_count": 8,
   "id": "8f99e56a",
   "metadata": {
    "execution": {
     "iopub.execute_input": "2023-11-24T14:11:57.629303Z",
     "iopub.status.busy": "2023-11-24T14:11:57.628936Z",
     "iopub.status.idle": "2023-11-24T14:11:57.634218Z",
     "shell.execute_reply": "2023-11-24T14:11:57.633211Z"
    },
    "papermill": {
     "duration": 0.015406,
     "end_time": "2023-11-24T14:11:57.636616",
     "exception": false,
     "start_time": "2023-11-24T14:11:57.621210",
     "status": "completed"
    },
    "tags": []
   },
   "outputs": [],
   "source": [
    "from torch.utils.data import Dataset"
   ]
  },
  {
   "cell_type": "code",
   "execution_count": null,
   "id": "89b44172",
   "metadata": {
    "papermill": {
     "duration": 0.006295,
     "end_time": "2023-11-24T14:11:57.649878",
     "exception": false,
     "start_time": "2023-11-24T14:11:57.643583",
     "status": "completed"
    },
    "tags": []
   },
   "outputs": [],
   "source": []
  },
  {
   "cell_type": "code",
   "execution_count": 9,
   "id": "ce50f231",
   "metadata": {
    "execution": {
     "iopub.execute_input": "2023-11-24T14:11:57.664717Z",
     "iopub.status.busy": "2023-11-24T14:11:57.664359Z",
     "iopub.status.idle": "2023-11-24T14:11:57.670350Z",
     "shell.execute_reply": "2023-11-24T14:11:57.669471Z"
    },
    "papermill": {
     "duration": 0.015646,
     "end_time": "2023-11-24T14:11:57.672053",
     "exception": false,
     "start_time": "2023-11-24T14:11:57.656407",
     "status": "completed"
    },
    "tags": []
   },
   "outputs": [],
   "source": [
    "class digits_dataset(Dataset):\n",
    "    def __init__(self):\n",
    "        data = pd.read_csv('/kaggle/input/digit-recognizer/train.csv')\n",
    "        self.y=torch.from_numpy(np.array(data['label']))\n",
    "        self.x=torch.from_numpy(np.array(data.drop('label',axis=1))/255)\n",
    "    def __len__(self):\n",
    "        return len(self.y)\n",
    "\n",
    "    def __getitem__(self, idx):\n",
    "        return self.x[idx], self.y[idx]"
   ]
  },
  {
   "cell_type": "code",
   "execution_count": 10,
   "id": "59b8f6a2",
   "metadata": {
    "execution": {
     "iopub.execute_input": "2023-11-24T14:11:57.687473Z",
     "iopub.status.busy": "2023-11-24T14:11:57.687070Z",
     "iopub.status.idle": "2023-11-24T14:11:59.527989Z",
     "shell.execute_reply": "2023-11-24T14:11:59.526850Z"
    },
    "papermill": {
     "duration": 1.851583,
     "end_time": "2023-11-24T14:11:59.530567",
     "exception": false,
     "start_time": "2023-11-24T14:11:57.678984",
     "status": "completed"
    },
    "tags": []
   },
   "outputs": [],
   "source": [
    "data=digits_dataset()"
   ]
  },
  {
   "cell_type": "code",
   "execution_count": 11,
   "id": "858f07fe",
   "metadata": {
    "execution": {
     "iopub.execute_input": "2023-11-24T14:11:59.546099Z",
     "iopub.status.busy": "2023-11-24T14:11:59.545749Z",
     "iopub.status.idle": "2023-11-24T14:11:59.561064Z",
     "shell.execute_reply": "2023-11-24T14:11:59.560374Z"
    },
    "papermill": {
     "duration": 0.025827,
     "end_time": "2023-11-24T14:11:59.563367",
     "exception": false,
     "start_time": "2023-11-24T14:11:59.537540",
     "status": "completed"
    },
    "tags": []
   },
   "outputs": [],
   "source": [
    "train ,test = torch.utils.data.random_split(data,[0.8,0.2])"
   ]
  },
  {
   "cell_type": "code",
   "execution_count": 12,
   "id": "ec70162c",
   "metadata": {
    "execution": {
     "iopub.execute_input": "2023-11-24T14:11:59.579094Z",
     "iopub.status.busy": "2023-11-24T14:11:59.577957Z",
     "iopub.status.idle": "2023-11-24T14:11:59.583855Z",
     "shell.execute_reply": "2023-11-24T14:11:59.583051Z"
    },
    "papermill": {
     "duration": 0.01545,
     "end_time": "2023-11-24T14:11:59.585656",
     "exception": false,
     "start_time": "2023-11-24T14:11:59.570206",
     "status": "completed"
    },
    "tags": []
   },
   "outputs": [],
   "source": [
    "x,y=train[0]"
   ]
  },
  {
   "cell_type": "code",
   "execution_count": 13,
   "id": "d7f6036c",
   "metadata": {
    "execution": {
     "iopub.execute_input": "2023-11-24T14:11:59.601441Z",
     "iopub.status.busy": "2023-11-24T14:11:59.600368Z",
     "iopub.status.idle": "2023-11-24T14:11:59.606648Z",
     "shell.execute_reply": "2023-11-24T14:11:59.605718Z"
    },
    "papermill": {
     "duration": 0.015807,
     "end_time": "2023-11-24T14:11:59.608477",
     "exception": false,
     "start_time": "2023-11-24T14:11:59.592670",
     "status": "completed"
    },
    "tags": []
   },
   "outputs": [
    {
     "data": {
      "text/plain": [
       "33600"
      ]
     },
     "execution_count": 13,
     "metadata": {},
     "output_type": "execute_result"
    }
   ],
   "source": [
    "train.__len__()"
   ]
  },
  {
   "cell_type": "code",
   "execution_count": 14,
   "id": "b08760ef",
   "metadata": {
    "execution": {
     "iopub.execute_input": "2023-11-24T14:11:59.623689Z",
     "iopub.status.busy": "2023-11-24T14:11:59.623162Z",
     "iopub.status.idle": "2023-11-24T14:11:59.629370Z",
     "shell.execute_reply": "2023-11-24T14:11:59.628012Z"
    },
    "papermill": {
     "duration": 0.015815,
     "end_time": "2023-11-24T14:11:59.631227",
     "exception": false,
     "start_time": "2023-11-24T14:11:59.615412",
     "status": "completed"
    },
    "tags": []
   },
   "outputs": [
    {
     "name": "stdout",
     "output_type": "stream",
     "text": [
      "torch.Size([784])\n"
     ]
    }
   ],
   "source": [
    "print(x.shape)"
   ]
  },
  {
   "cell_type": "markdown",
   "id": "d27c8c3a",
   "metadata": {
    "papermill": {
     "duration": 0.00646,
     "end_time": "2023-11-24T14:11:59.644852",
     "exception": false,
     "start_time": "2023-11-24T14:11:59.638392",
     "status": "completed"
    },
    "tags": []
   },
   "source": [
    "## 2-Neural Network and Model"
   ]
  },
  {
   "cell_type": "code",
   "execution_count": 15,
   "id": "f1320efb",
   "metadata": {
    "execution": {
     "iopub.execute_input": "2023-11-24T14:11:59.660169Z",
     "iopub.status.busy": "2023-11-24T14:11:59.659800Z",
     "iopub.status.idle": "2023-11-24T14:11:59.665175Z",
     "shell.execute_reply": "2023-11-24T14:11:59.664124Z"
    },
    "papermill": {
     "duration": 0.016079,
     "end_time": "2023-11-24T14:11:59.668005",
     "exception": false,
     "start_time": "2023-11-24T14:11:59.651926",
     "status": "completed"
    },
    "tags": []
   },
   "outputs": [],
   "source": [
    "train_loader=DataLoader(dataset=train,batch_size=200,shuffle=True)"
   ]
  },
  {
   "cell_type": "code",
   "execution_count": 16,
   "id": "c8e6f5a7",
   "metadata": {
    "execution": {
     "iopub.execute_input": "2023-11-24T14:11:59.684349Z",
     "iopub.status.busy": "2023-11-24T14:11:59.683251Z",
     "iopub.status.idle": "2023-11-24T14:11:59.699477Z",
     "shell.execute_reply": "2023-11-24T14:11:59.698390Z"
    },
    "papermill": {
     "duration": 0.026816,
     "end_time": "2023-11-24T14:11:59.701969",
     "exception": false,
     "start_time": "2023-11-24T14:11:59.675153",
     "status": "completed"
    },
    "tags": []
   },
   "outputs": [],
   "source": [
    "model=nn.Sequential(nn.Linear(28*28,512),\n",
    "                    nn.ReLU(),\n",
    "                    nn.Linear(512,512),\n",
    "                    nn.ReLU(),\n",
    "                    nn.Linear(512,10)\n",
    "                    )"
   ]
  },
  {
   "cell_type": "markdown",
   "id": "84ae856a",
   "metadata": {
    "papermill": {
     "duration": 0.00654,
     "end_time": "2023-11-24T14:11:59.715706",
     "exception": false,
     "start_time": "2023-11-24T14:11:59.709166",
     "status": "completed"
    },
    "tags": []
   },
   "source": [
    "## 3-Training "
   ]
  },
  {
   "cell_type": "code",
   "execution_count": 17,
   "id": "fe765317",
   "metadata": {
    "execution": {
     "iopub.execute_input": "2023-11-24T14:11:59.731062Z",
     "iopub.status.busy": "2023-11-24T14:11:59.730721Z",
     "iopub.status.idle": "2023-11-24T14:11:59.735381Z",
     "shell.execute_reply": "2023-11-24T14:11:59.734166Z"
    },
    "papermill": {
     "duration": 0.015152,
     "end_time": "2023-11-24T14:11:59.737721",
     "exception": false,
     "start_time": "2023-11-24T14:11:59.722569",
     "status": "completed"
    },
    "tags": []
   },
   "outputs": [],
   "source": [
    "criterion=nn.CrossEntropyLoss()"
   ]
  },
  {
   "cell_type": "code",
   "execution_count": 18,
   "id": "08a3c26e",
   "metadata": {
    "execution": {
     "iopub.execute_input": "2023-11-24T14:11:59.754376Z",
     "iopub.status.busy": "2023-11-24T14:11:59.753004Z",
     "iopub.status.idle": "2023-11-24T14:11:59.757978Z",
     "shell.execute_reply": "2023-11-24T14:11:59.757258Z"
    },
    "papermill": {
     "duration": 0.014674,
     "end_time": "2023-11-24T14:11:59.759577",
     "exception": false,
     "start_time": "2023-11-24T14:11:59.744903",
     "status": "completed"
    },
    "tags": []
   },
   "outputs": [],
   "source": [
    "import torch.optim as optim"
   ]
  },
  {
   "cell_type": "code",
   "execution_count": 19,
   "id": "230e449d",
   "metadata": {
    "execution": {
     "iopub.execute_input": "2023-11-24T14:11:59.775118Z",
     "iopub.status.busy": "2023-11-24T14:11:59.774160Z",
     "iopub.status.idle": "2023-11-24T14:11:59.779399Z",
     "shell.execute_reply": "2023-11-24T14:11:59.778253Z"
    },
    "papermill": {
     "duration": 0.014747,
     "end_time": "2023-11-24T14:11:59.781224",
     "exception": false,
     "start_time": "2023-11-24T14:11:59.766477",
     "status": "completed"
    },
    "tags": []
   },
   "outputs": [],
   "source": [
    "optimizer=optim.Adam(params=model.parameters(),lr=0.001)"
   ]
  },
  {
   "cell_type": "markdown",
   "id": "30e51bbc",
   "metadata": {
    "papermill": {
     "duration": 0.006309,
     "end_time": "2023-11-24T14:11:59.795303",
     "exception": false,
     "start_time": "2023-11-24T14:11:59.788994",
     "status": "completed"
    },
    "tags": []
   },
   "source": [
    "### a-Train loop "
   ]
  },
  {
   "cell_type": "code",
   "execution_count": 20,
   "id": "5d2d67a8",
   "metadata": {
    "execution": {
     "iopub.execute_input": "2023-11-24T14:11:59.811159Z",
     "iopub.status.busy": "2023-11-24T14:11:59.810630Z",
     "iopub.status.idle": "2023-11-24T14:14:40.948845Z",
     "shell.execute_reply": "2023-11-24T14:14:40.947126Z"
    },
    "papermill": {
     "duration": 161.149467,
     "end_time": "2023-11-24T14:14:40.951297",
     "exception": false,
     "start_time": "2023-11-24T14:11:59.801830",
     "status": "completed"
    },
    "tags": []
   },
   "outputs": [
    {
     "name": "stdout",
     "output_type": "stream",
     "text": [
      "loss 0.41066993719765116 for 1/100\n",
      "loss 0.14214756683490815 for 2/100\n",
      "loss 0.09271184068971447 for 3/100\n",
      "loss 0.06416491731735212 for 4/100\n",
      "loss 0.04354830401661318 for 5/100\n",
      "loss 0.03244903037834558 for 6/100\n",
      "loss 0.022821348274148823 for 7/100\n",
      "loss 0.016788114667482052 for 8/100\n",
      "loss 0.015527392043233184 for 9/100\n",
      "loss 0.009327923360702005 for 10/100\n",
      "loss 0.007888351080986294 for 11/100\n",
      "loss 0.008253918316248538 for 12/100\n",
      "loss 0.009028102534232727 for 13/100\n",
      "loss 0.00708725483768614 for 14/100\n",
      "loss 0.006744686864944275 for 15/100\n",
      "loss 0.01676475671740177 for 16/100\n",
      "loss 0.010828574446436721 for 17/100\n",
      "loss 0.004061181221827394 for 18/100\n",
      "loss 0.004500912170399152 for 19/100\n",
      "loss 0.004106719099668442 for 20/100\n",
      "loss 0.007931303845950987 for 21/100\n",
      "loss 0.010842107219364802 for 22/100\n",
      "loss 0.003609928613773913 for 23/100\n",
      "loss 0.005890862635450979 for 24/100\n",
      "loss 0.00590284854416452 for 25/100\n",
      "loss 0.003716381795497693 for 26/100\n",
      "loss 0.00529635339658593 for 27/100\n",
      "loss 0.00389506044925405 for 28/100\n",
      "loss 0.004966269747694155 for 29/100\n",
      "loss 0.012221745392837744 for 30/100\n",
      "loss 0.0086437132029113 for 31/100\n",
      "loss 0.002426331293777583 for 32/100\n",
      "loss 0.0017608533170503158 for 33/100\n",
      "loss 0.0001558147895609961 for 34/100\n",
      "loss 4.194728702378554e-05 for 35/100\n",
      "loss 3.2435851656893124e-05 for 36/100\n",
      "loss 2.694714542545149e-05 for 37/100\n",
      "loss 2.295035895372166e-05 for 38/100\n",
      "loss 1.9930116910213007e-05 for 39/100\n",
      "loss 1.7427069827763696e-05 for 40/100\n",
      "loss 1.5307464094251243e-05 for 41/100\n",
      "loss 1.3495988820214474e-05 for 42/100\n",
      "loss 1.1850044134778922e-05 for 43/100\n",
      "loss 1.0481276551862114e-05 for 44/100\n",
      "loss 9.287074992211533e-06 for 45/100\n",
      "loss 8.271440229973017e-06 for 46/100\n",
      "loss 7.3577515564693385e-06 for 47/100\n",
      "loss 6.608088645927117e-06 for 48/100\n",
      "loss 5.936461957863533e-06 for 49/100\n",
      "loss 5.334945225989768e-06 for 50/100\n",
      "loss 4.792537299839036e-06 for 51/100\n",
      "loss 4.324695489002363e-06 for 52/100\n",
      "loss 3.935772852007144e-06 for 53/100\n",
      "loss 3.5638688766241668e-06 for 54/100\n",
      "loss 3.219994335845215e-06 for 55/100\n",
      "loss 2.928989212185635e-06 for 56/100\n",
      "loss 2.669773973536172e-06 for 57/100\n",
      "loss 2.414619944244935e-06 for 58/100\n",
      "loss 2.2097749240604766e-06 for 59/100\n",
      "loss 2.009926275700228e-06 for 60/100\n",
      "loss 1.81872683888801e-06 for 61/100\n",
      "loss 1.661935308821818e-06 for 62/100\n",
      "loss 1.5188101978631202e-06 for 63/100\n",
      "loss 1.3786964991033928e-06 for 64/100\n",
      "loss 1.268932427662895e-06 for 65/100\n",
      "loss 1.1507313780375246e-06 for 66/100\n",
      "loss 1.0468656179390173e-06 for 67/100\n",
      "loss 9.580738269187621e-07 for 68/100\n",
      "loss 8.709959969773909e-07 for 69/100\n",
      "loss 7.939433388398378e-07 for 70/100\n",
      "loss 7.276119677984958e-07 for 71/100\n",
      "loss 6.607159629782681e-07 for 72/100\n",
      "loss 6.010969189486018e-07 for 73/100\n",
      "loss 5.493278448628505e-07 for 74/100\n",
      "loss 4.996591006342246e-07 for 75/100\n",
      "loss 4.55145199201603e-07 for 76/100\n",
      "loss 4.161229057204301e-07 for 77/100\n",
      "loss 3.784596949903592e-07 for 78/100\n",
      "loss 3.44865501383531e-07 for 79/100\n",
      "loss 3.126834503488919e-07 for 80/100\n",
      "loss 2.8452789318273677e-07 for 81/100\n",
      "loss 2.6020751957355785e-07 for 82/100\n",
      "loss 2.3693724937601246e-07 for 83/100\n",
      "loss 2.184387053989701e-07 for 84/100\n",
      "loss 1.993159019101195e-07 for 85/100\n",
      "loss 1.811225074049056e-07 for 86/100\n",
      "loss 1.6449018410849954e-07 for 87/100\n",
      "loss 1.501781369314802e-07 for 88/100\n",
      "loss 1.3672110609790132e-07 for 89/100\n",
      "loss 1.253643927609648e-07 for 90/100\n",
      "loss 1.1453275078079255e-07 for 91/100\n",
      "loss 1.049286621505951e-07 for 92/100\n",
      "loss 9.633571216939783e-08 for 93/100\n",
      "loss 8.750859845218003e-08 for 94/100\n",
      "loss 8.035608303097199e-08 for 95/100\n",
      "loss 7.31326057701849e-08 for 96/100\n",
      "loss 6.723957042476499e-08 for 97/100\n",
      "loss 6.145652752306962e-08 for 98/100\n",
      "loss 5.619856966560242e-08 for 99/100\n",
      "loss 5.162534286834706e-08 for 100/100\n"
     ]
    }
   ],
   "source": [
    "for epoch in range(100):\n",
    "    training_loss = 0\n",
    "    for data in train_loader:\n",
    "        #setting gradient at zero\n",
    "        optimizer.zero_grad()\n",
    "        #getting data\n",
    "        features,label=data\n",
    "        features=features.float()\n",
    "        #predicting class\n",
    "        pred=model(features)\n",
    "        #loss\n",
    "        loss=criterion(pred,label)\n",
    "        loss.backward()\n",
    "        #updating params\n",
    "        optimizer.step()\n",
    "        training_loss += loss.item()\n",
    "    epoch_loss = training_loss / len(train_loader)\n",
    "    print(f'loss {epoch_loss} for {epoch+1}/100')\n"
   ]
  },
  {
   "cell_type": "markdown",
   "id": "921cd19d",
   "metadata": {
    "papermill": {
     "duration": 0.012804,
     "end_time": "2023-11-24T14:14:41.035452",
     "exception": false,
     "start_time": "2023-11-24T14:14:41.022648",
     "status": "completed"
    },
    "tags": []
   },
   "source": [
    "### b-Validation loop"
   ]
  },
  {
   "cell_type": "code",
   "execution_count": 21,
   "id": "ec7750e3",
   "metadata": {
    "execution": {
     "iopub.execute_input": "2023-11-24T14:14:41.063008Z",
     "iopub.status.busy": "2023-11-24T14:14:41.062627Z",
     "iopub.status.idle": "2023-11-24T14:14:41.066986Z",
     "shell.execute_reply": "2023-11-24T14:14:41.066361Z"
    },
    "papermill": {
     "duration": 0.020259,
     "end_time": "2023-11-24T14:14:41.068708",
     "exception": false,
     "start_time": "2023-11-24T14:14:41.048449",
     "status": "completed"
    },
    "tags": []
   },
   "outputs": [],
   "source": [
    "test_loader=DataLoader(dataset=test,batch_size=200,shuffle=False)"
   ]
  },
  {
   "cell_type": "code",
   "execution_count": 22,
   "id": "551946a4",
   "metadata": {
    "execution": {
     "iopub.execute_input": "2023-11-24T14:14:41.097110Z",
     "iopub.status.busy": "2023-11-24T14:14:41.096766Z",
     "iopub.status.idle": "2023-11-24T14:14:41.299953Z",
     "shell.execute_reply": "2023-11-24T14:14:41.299065Z"
    },
    "papermill": {
     "duration": 0.218881,
     "end_time": "2023-11-24T14:14:41.301692",
     "exception": false,
     "start_time": "2023-11-24T14:14:41.082811",
     "status": "completed"
    },
    "tags": []
   },
   "outputs": [
    {
     "name": "stdout",
     "output_type": "stream",
     "text": [
      "validation loss is 0.2010086518334685\n"
     ]
    },
    {
     "data": {
      "text/plain": [
       "Sequential(\n",
       "  (0): Linear(in_features=784, out_features=512, bias=True)\n",
       "  (1): ReLU()\n",
       "  (2): Linear(in_features=512, out_features=512, bias=True)\n",
       "  (3): ReLU()\n",
       "  (4): Linear(in_features=512, out_features=10, bias=True)\n",
       ")"
      ]
     },
     "execution_count": 22,
     "metadata": {},
     "output_type": "execute_result"
    }
   ],
   "source": [
    "validation_loss = 0.0\n",
    "model.eval() # Put model in evaluation mode\n",
    "with torch.no_grad(): # Speed up the forward pass\n",
    "    training_loss = 0\n",
    "    for data in test_loader:\n",
    "        #getting data\n",
    "        features,label=data\n",
    "        features=features.float()\n",
    "        #predicting class\n",
    "        pred=model(features)\n",
    "        #loss\n",
    "        loss=criterion(pred,label)\n",
    "        validation_loss += loss.item()\n",
    "    validation_loss = validation_loss / len(test_loader)\n",
    "    print(f'validation loss is {validation_loss}')\n",
    "model.train()\n"
   ]
  },
  {
   "cell_type": "code",
   "execution_count": 23,
   "id": "432d6775",
   "metadata": {
    "execution": {
     "iopub.execute_input": "2023-11-24T14:14:41.329163Z",
     "iopub.status.busy": "2023-11-24T14:14:41.328789Z",
     "iopub.status.idle": "2023-11-24T14:14:45.371077Z",
     "shell.execute_reply": "2023-11-24T14:14:45.370152Z"
    },
    "papermill": {
     "duration": 4.058301,
     "end_time": "2023-11-24T14:14:45.372911",
     "exception": false,
     "start_time": "2023-11-24T14:14:41.314610",
     "status": "completed"
    },
    "tags": []
   },
   "outputs": [
    {
     "name": "stdout",
     "output_type": "stream",
     "text": [
      "Accuracy on all data: 0.9782142639160156\n"
     ]
    }
   ],
   "source": [
    "import torchmetrics\n",
    "# Create accuracy metric using torch metrics\n",
    "metric = torchmetrics.Accuracy(task=\"multiclass\", num_classes=10)\n",
    "for i, data in enumerate(test_loader, 0):\n",
    "    features, labels = data\n",
    "    features=features.float()\n",
    "    outputs = model(features)\n",
    "    # Calculate accuracy over the batch\n",
    "    acc = metric(outputs, labels)\n",
    "# Calculate accuracy over the whole epoch\n",
    "acc = metric.compute()\n",
    "print(f\"Accuracy on all data: {acc}\")\n",
    "# Reset the metric for the next epoch (training or validation)\n",
    "metric.reset()"
   ]
  },
  {
   "cell_type": "code",
   "execution_count": null,
   "id": "7e340857",
   "metadata": {
    "papermill": {
     "duration": 0.013105,
     "end_time": "2023-11-24T14:14:45.399354",
     "exception": false,
     "start_time": "2023-11-24T14:14:45.386249",
     "status": "completed"
    },
    "tags": []
   },
   "outputs": [],
   "source": []
  }
 ],
 "metadata": {
  "kaggle": {
   "accelerator": "none",
   "dataSources": [
    {
     "databundleVersionId": 861823,
     "sourceId": 3004,
     "sourceType": "competition"
    }
   ],
   "dockerImageVersionId": 30587,
   "isGpuEnabled": false,
   "isInternetEnabled": true,
   "language": "python",
   "sourceType": "notebook"
  },
  "kernelspec": {
   "display_name": "Python 3",
   "language": "python",
   "name": "python3"
  },
  "language_info": {
   "codemirror_mode": {
    "name": "ipython",
    "version": 3
   },
   "file_extension": ".py",
   "mimetype": "text/x-python",
   "name": "python",
   "nbconvert_exporter": "python",
   "pygments_lexer": "ipython3",
   "version": "3.10.12"
  },
  "papermill": {
   "default_parameters": {},
   "duration": 178.090956,
   "end_time": "2023-11-24T14:14:46.736783",
   "environment_variables": {},
   "exception": null,
   "input_path": "__notebook__.ipynb",
   "output_path": "__notebook__.ipynb",
   "parameters": {},
   "start_time": "2023-11-24T14:11:48.645827",
   "version": "2.4.0"
  }
 },
 "nbformat": 4,
 "nbformat_minor": 5
}
