{
 "cells": [
  {
   "cell_type": "code",
   "execution_count": 1,
   "id": "6c23c85a",
   "metadata": {
    "_cell_guid": "b1076dfc-b9ad-4769-8c92-a6c4dae69d19",
    "_uuid": "8f2839f25d086af736a60e9eeb907d3b93b6e0e5",
    "execution": {
     "iopub.execute_input": "2023-11-28T09:45:03.000373Z",
     "iopub.status.busy": "2023-11-28T09:45:02.999838Z",
     "iopub.status.idle": "2023-11-28T09:45:07.426695Z",
     "shell.execute_reply": "2023-11-28T09:45:07.425246Z"
    },
    "papermill": {
     "duration": 4.445786,
     "end_time": "2023-11-28T09:45:07.429821",
     "exception": false,
     "start_time": "2023-11-28T09:45:02.984035",
     "status": "completed"
    },
    "tags": []
   },
   "outputs": [],
   "source": [
    "import numpy as np # linear algebra\n",
    "import pandas as pd # data processing, CSV file I/O (e.g. pd.read_csv)\n",
    "import torch.nn as nn\n",
    "import torch\n",
    "import matplotlib.pyplot as plt"
   ]
  },
  {
   "cell_type": "code",
   "execution_count": 2,
   "id": "d5aff633",
   "metadata": {
    "execution": {
     "iopub.execute_input": "2023-11-28T09:45:07.459305Z",
     "iopub.status.busy": "2023-11-28T09:45:07.458208Z",
     "iopub.status.idle": "2023-11-28T09:45:12.409336Z",
     "shell.execute_reply": "2023-11-28T09:45:12.407859Z"
    },
    "papermill": {
     "duration": 4.968856,
     "end_time": "2023-11-28T09:45:12.412524",
     "exception": false,
     "start_time": "2023-11-28T09:45:07.443668",
     "status": "completed"
    },
    "tags": []
   },
   "outputs": [
    {
     "data": {
      "text/html": [
       "<div>\n",
       "<style scoped>\n",
       "    .dataframe tbody tr th:only-of-type {\n",
       "        vertical-align: middle;\n",
       "    }\n",
       "\n",
       "    .dataframe tbody tr th {\n",
       "        vertical-align: top;\n",
       "    }\n",
       "\n",
       "    .dataframe thead th {\n",
       "        text-align: right;\n",
       "    }\n",
       "</style>\n",
       "<table border=\"1\" class=\"dataframe\">\n",
       "  <thead>\n",
       "    <tr style=\"text-align: right;\">\n",
       "      <th></th>\n",
       "      <th>label</th>\n",
       "      <th>pixel0</th>\n",
       "      <th>pixel1</th>\n",
       "      <th>pixel2</th>\n",
       "      <th>pixel3</th>\n",
       "      <th>pixel4</th>\n",
       "      <th>pixel5</th>\n",
       "      <th>pixel6</th>\n",
       "      <th>pixel7</th>\n",
       "      <th>pixel8</th>\n",
       "      <th>...</th>\n",
       "      <th>pixel774</th>\n",
       "      <th>pixel775</th>\n",
       "      <th>pixel776</th>\n",
       "      <th>pixel777</th>\n",
       "      <th>pixel778</th>\n",
       "      <th>pixel779</th>\n",
       "      <th>pixel780</th>\n",
       "      <th>pixel781</th>\n",
       "      <th>pixel782</th>\n",
       "      <th>pixel783</th>\n",
       "    </tr>\n",
       "  </thead>\n",
       "  <tbody>\n",
       "    <tr>\n",
       "      <th>0</th>\n",
       "      <td>1</td>\n",
       "      <td>0</td>\n",
       "      <td>0</td>\n",
       "      <td>0</td>\n",
       "      <td>0</td>\n",
       "      <td>0</td>\n",
       "      <td>0</td>\n",
       "      <td>0</td>\n",
       "      <td>0</td>\n",
       "      <td>0</td>\n",
       "      <td>...</td>\n",
       "      <td>0</td>\n",
       "      <td>0</td>\n",
       "      <td>0</td>\n",
       "      <td>0</td>\n",
       "      <td>0</td>\n",
       "      <td>0</td>\n",
       "      <td>0</td>\n",
       "      <td>0</td>\n",
       "      <td>0</td>\n",
       "      <td>0</td>\n",
       "    </tr>\n",
       "    <tr>\n",
       "      <th>1</th>\n",
       "      <td>0</td>\n",
       "      <td>0</td>\n",
       "      <td>0</td>\n",
       "      <td>0</td>\n",
       "      <td>0</td>\n",
       "      <td>0</td>\n",
       "      <td>0</td>\n",
       "      <td>0</td>\n",
       "      <td>0</td>\n",
       "      <td>0</td>\n",
       "      <td>...</td>\n",
       "      <td>0</td>\n",
       "      <td>0</td>\n",
       "      <td>0</td>\n",
       "      <td>0</td>\n",
       "      <td>0</td>\n",
       "      <td>0</td>\n",
       "      <td>0</td>\n",
       "      <td>0</td>\n",
       "      <td>0</td>\n",
       "      <td>0</td>\n",
       "    </tr>\n",
       "    <tr>\n",
       "      <th>2</th>\n",
       "      <td>1</td>\n",
       "      <td>0</td>\n",
       "      <td>0</td>\n",
       "      <td>0</td>\n",
       "      <td>0</td>\n",
       "      <td>0</td>\n",
       "      <td>0</td>\n",
       "      <td>0</td>\n",
       "      <td>0</td>\n",
       "      <td>0</td>\n",
       "      <td>...</td>\n",
       "      <td>0</td>\n",
       "      <td>0</td>\n",
       "      <td>0</td>\n",
       "      <td>0</td>\n",
       "      <td>0</td>\n",
       "      <td>0</td>\n",
       "      <td>0</td>\n",
       "      <td>0</td>\n",
       "      <td>0</td>\n",
       "      <td>0</td>\n",
       "    </tr>\n",
       "    <tr>\n",
       "      <th>3</th>\n",
       "      <td>4</td>\n",
       "      <td>0</td>\n",
       "      <td>0</td>\n",
       "      <td>0</td>\n",
       "      <td>0</td>\n",
       "      <td>0</td>\n",
       "      <td>0</td>\n",
       "      <td>0</td>\n",
       "      <td>0</td>\n",
       "      <td>0</td>\n",
       "      <td>...</td>\n",
       "      <td>0</td>\n",
       "      <td>0</td>\n",
       "      <td>0</td>\n",
       "      <td>0</td>\n",
       "      <td>0</td>\n",
       "      <td>0</td>\n",
       "      <td>0</td>\n",
       "      <td>0</td>\n",
       "      <td>0</td>\n",
       "      <td>0</td>\n",
       "    </tr>\n",
       "    <tr>\n",
       "      <th>4</th>\n",
       "      <td>0</td>\n",
       "      <td>0</td>\n",
       "      <td>0</td>\n",
       "      <td>0</td>\n",
       "      <td>0</td>\n",
       "      <td>0</td>\n",
       "      <td>0</td>\n",
       "      <td>0</td>\n",
       "      <td>0</td>\n",
       "      <td>0</td>\n",
       "      <td>...</td>\n",
       "      <td>0</td>\n",
       "      <td>0</td>\n",
       "      <td>0</td>\n",
       "      <td>0</td>\n",
       "      <td>0</td>\n",
       "      <td>0</td>\n",
       "      <td>0</td>\n",
       "      <td>0</td>\n",
       "      <td>0</td>\n",
       "      <td>0</td>\n",
       "    </tr>\n",
       "    <tr>\n",
       "      <th>...</th>\n",
       "      <td>...</td>\n",
       "      <td>...</td>\n",
       "      <td>...</td>\n",
       "      <td>...</td>\n",
       "      <td>...</td>\n",
       "      <td>...</td>\n",
       "      <td>...</td>\n",
       "      <td>...</td>\n",
       "      <td>...</td>\n",
       "      <td>...</td>\n",
       "      <td>...</td>\n",
       "      <td>...</td>\n",
       "      <td>...</td>\n",
       "      <td>...</td>\n",
       "      <td>...</td>\n",
       "      <td>...</td>\n",
       "      <td>...</td>\n",
       "      <td>...</td>\n",
       "      <td>...</td>\n",
       "      <td>...</td>\n",
       "      <td>...</td>\n",
       "    </tr>\n",
       "    <tr>\n",
       "      <th>41995</th>\n",
       "      <td>0</td>\n",
       "      <td>0</td>\n",
       "      <td>0</td>\n",
       "      <td>0</td>\n",
       "      <td>0</td>\n",
       "      <td>0</td>\n",
       "      <td>0</td>\n",
       "      <td>0</td>\n",
       "      <td>0</td>\n",
       "      <td>0</td>\n",
       "      <td>...</td>\n",
       "      <td>0</td>\n",
       "      <td>0</td>\n",
       "      <td>0</td>\n",
       "      <td>0</td>\n",
       "      <td>0</td>\n",
       "      <td>0</td>\n",
       "      <td>0</td>\n",
       "      <td>0</td>\n",
       "      <td>0</td>\n",
       "      <td>0</td>\n",
       "    </tr>\n",
       "    <tr>\n",
       "      <th>41996</th>\n",
       "      <td>1</td>\n",
       "      <td>0</td>\n",
       "      <td>0</td>\n",
       "      <td>0</td>\n",
       "      <td>0</td>\n",
       "      <td>0</td>\n",
       "      <td>0</td>\n",
       "      <td>0</td>\n",
       "      <td>0</td>\n",
       "      <td>0</td>\n",
       "      <td>...</td>\n",
       "      <td>0</td>\n",
       "      <td>0</td>\n",
       "      <td>0</td>\n",
       "      <td>0</td>\n",
       "      <td>0</td>\n",
       "      <td>0</td>\n",
       "      <td>0</td>\n",
       "      <td>0</td>\n",
       "      <td>0</td>\n",
       "      <td>0</td>\n",
       "    </tr>\n",
       "    <tr>\n",
       "      <th>41997</th>\n",
       "      <td>7</td>\n",
       "      <td>0</td>\n",
       "      <td>0</td>\n",
       "      <td>0</td>\n",
       "      <td>0</td>\n",
       "      <td>0</td>\n",
       "      <td>0</td>\n",
       "      <td>0</td>\n",
       "      <td>0</td>\n",
       "      <td>0</td>\n",
       "      <td>...</td>\n",
       "      <td>0</td>\n",
       "      <td>0</td>\n",
       "      <td>0</td>\n",
       "      <td>0</td>\n",
       "      <td>0</td>\n",
       "      <td>0</td>\n",
       "      <td>0</td>\n",
       "      <td>0</td>\n",
       "      <td>0</td>\n",
       "      <td>0</td>\n",
       "    </tr>\n",
       "    <tr>\n",
       "      <th>41998</th>\n",
       "      <td>6</td>\n",
       "      <td>0</td>\n",
       "      <td>0</td>\n",
       "      <td>0</td>\n",
       "      <td>0</td>\n",
       "      <td>0</td>\n",
       "      <td>0</td>\n",
       "      <td>0</td>\n",
       "      <td>0</td>\n",
       "      <td>0</td>\n",
       "      <td>...</td>\n",
       "      <td>0</td>\n",
       "      <td>0</td>\n",
       "      <td>0</td>\n",
       "      <td>0</td>\n",
       "      <td>0</td>\n",
       "      <td>0</td>\n",
       "      <td>0</td>\n",
       "      <td>0</td>\n",
       "      <td>0</td>\n",
       "      <td>0</td>\n",
       "    </tr>\n",
       "    <tr>\n",
       "      <th>41999</th>\n",
       "      <td>9</td>\n",
       "      <td>0</td>\n",
       "      <td>0</td>\n",
       "      <td>0</td>\n",
       "      <td>0</td>\n",
       "      <td>0</td>\n",
       "      <td>0</td>\n",
       "      <td>0</td>\n",
       "      <td>0</td>\n",
       "      <td>0</td>\n",
       "      <td>...</td>\n",
       "      <td>0</td>\n",
       "      <td>0</td>\n",
       "      <td>0</td>\n",
       "      <td>0</td>\n",
       "      <td>0</td>\n",
       "      <td>0</td>\n",
       "      <td>0</td>\n",
       "      <td>0</td>\n",
       "      <td>0</td>\n",
       "      <td>0</td>\n",
       "    </tr>\n",
       "  </tbody>\n",
       "</table>\n",
       "<p>42000 rows × 785 columns</p>\n",
       "</div>"
      ],
      "text/plain": [
       "       label  pixel0  pixel1  pixel2  pixel3  pixel4  pixel5  pixel6  pixel7  \\\n",
       "0          1       0       0       0       0       0       0       0       0   \n",
       "1          0       0       0       0       0       0       0       0       0   \n",
       "2          1       0       0       0       0       0       0       0       0   \n",
       "3          4       0       0       0       0       0       0       0       0   \n",
       "4          0       0       0       0       0       0       0       0       0   \n",
       "...      ...     ...     ...     ...     ...     ...     ...     ...     ...   \n",
       "41995      0       0       0       0       0       0       0       0       0   \n",
       "41996      1       0       0       0       0       0       0       0       0   \n",
       "41997      7       0       0       0       0       0       0       0       0   \n",
       "41998      6       0       0       0       0       0       0       0       0   \n",
       "41999      9       0       0       0       0       0       0       0       0   \n",
       "\n",
       "       pixel8  ...  pixel774  pixel775  pixel776  pixel777  pixel778  \\\n",
       "0           0  ...         0         0         0         0         0   \n",
       "1           0  ...         0         0         0         0         0   \n",
       "2           0  ...         0         0         0         0         0   \n",
       "3           0  ...         0         0         0         0         0   \n",
       "4           0  ...         0         0         0         0         0   \n",
       "...       ...  ...       ...       ...       ...       ...       ...   \n",
       "41995       0  ...         0         0         0         0         0   \n",
       "41996       0  ...         0         0         0         0         0   \n",
       "41997       0  ...         0         0         0         0         0   \n",
       "41998       0  ...         0         0         0         0         0   \n",
       "41999       0  ...         0         0         0         0         0   \n",
       "\n",
       "       pixel779  pixel780  pixel781  pixel782  pixel783  \n",
       "0             0         0         0         0         0  \n",
       "1             0         0         0         0         0  \n",
       "2             0         0         0         0         0  \n",
       "3             0         0         0         0         0  \n",
       "4             0         0         0         0         0  \n",
       "...         ...       ...       ...       ...       ...  \n",
       "41995         0         0         0         0         0  \n",
       "41996         0         0         0         0         0  \n",
       "41997         0         0         0         0         0  \n",
       "41998         0         0         0         0         0  \n",
       "41999         0         0         0         0         0  \n",
       "\n",
       "[42000 rows x 785 columns]"
      ]
     },
     "execution_count": 2,
     "metadata": {},
     "output_type": "execute_result"
    }
   ],
   "source": [
    "path='/kaggle/input/digit-recognizer/train.csv'\n",
    "trainset=pd.read_csv(path)\n",
    "trainset"
   ]
  },
  {
   "cell_type": "code",
   "execution_count": 3,
   "id": "20b30208",
   "metadata": {
    "execution": {
     "iopub.execute_input": "2023-11-28T09:45:12.442735Z",
     "iopub.status.busy": "2023-11-28T09:45:12.442321Z",
     "iopub.status.idle": "2023-11-28T09:45:12.448208Z",
     "shell.execute_reply": "2023-11-28T09:45:12.446673Z"
    },
    "papermill": {
     "duration": 0.024116,
     "end_time": "2023-11-28T09:45:12.450718",
     "exception": false,
     "start_time": "2023-11-28T09:45:12.426602",
     "status": "completed"
    },
    "tags": []
   },
   "outputs": [],
   "source": [
    "from torch.utils.data import DataLoader"
   ]
  },
  {
   "cell_type": "code",
   "execution_count": 4,
   "id": "033682e6",
   "metadata": {
    "execution": {
     "iopub.execute_input": "2023-11-28T09:45:12.481761Z",
     "iopub.status.busy": "2023-11-28T09:45:12.481298Z",
     "iopub.status.idle": "2023-11-28T09:45:12.630792Z",
     "shell.execute_reply": "2023-11-28T09:45:12.629555Z"
    },
    "papermill": {
     "duration": 0.168474,
     "end_time": "2023-11-28T09:45:12.633861",
     "exception": false,
     "start_time": "2023-11-28T09:45:12.465387",
     "status": "completed"
    },
    "tags": []
   },
   "outputs": [
    {
     "data": {
      "text/html": [
       "<div>\n",
       "<style scoped>\n",
       "    .dataframe tbody tr th:only-of-type {\n",
       "        vertical-align: middle;\n",
       "    }\n",
       "\n",
       "    .dataframe tbody tr th {\n",
       "        vertical-align: top;\n",
       "    }\n",
       "\n",
       "    .dataframe thead th {\n",
       "        text-align: right;\n",
       "    }\n",
       "</style>\n",
       "<table border=\"1\" class=\"dataframe\">\n",
       "  <thead>\n",
       "    <tr style=\"text-align: right;\">\n",
       "      <th></th>\n",
       "      <th>pixel0</th>\n",
       "      <th>pixel1</th>\n",
       "      <th>pixel2</th>\n",
       "      <th>pixel3</th>\n",
       "      <th>pixel4</th>\n",
       "      <th>pixel5</th>\n",
       "      <th>pixel6</th>\n",
       "      <th>pixel7</th>\n",
       "      <th>pixel8</th>\n",
       "      <th>pixel9</th>\n",
       "      <th>...</th>\n",
       "      <th>pixel774</th>\n",
       "      <th>pixel775</th>\n",
       "      <th>pixel776</th>\n",
       "      <th>pixel777</th>\n",
       "      <th>pixel778</th>\n",
       "      <th>pixel779</th>\n",
       "      <th>pixel780</th>\n",
       "      <th>pixel781</th>\n",
       "      <th>pixel782</th>\n",
       "      <th>pixel783</th>\n",
       "    </tr>\n",
       "  </thead>\n",
       "  <tbody>\n",
       "    <tr>\n",
       "      <th>0</th>\n",
       "      <td>0</td>\n",
       "      <td>0</td>\n",
       "      <td>0</td>\n",
       "      <td>0</td>\n",
       "      <td>0</td>\n",
       "      <td>0</td>\n",
       "      <td>0</td>\n",
       "      <td>0</td>\n",
       "      <td>0</td>\n",
       "      <td>0</td>\n",
       "      <td>...</td>\n",
       "      <td>0</td>\n",
       "      <td>0</td>\n",
       "      <td>0</td>\n",
       "      <td>0</td>\n",
       "      <td>0</td>\n",
       "      <td>0</td>\n",
       "      <td>0</td>\n",
       "      <td>0</td>\n",
       "      <td>0</td>\n",
       "      <td>0</td>\n",
       "    </tr>\n",
       "    <tr>\n",
       "      <th>1</th>\n",
       "      <td>0</td>\n",
       "      <td>0</td>\n",
       "      <td>0</td>\n",
       "      <td>0</td>\n",
       "      <td>0</td>\n",
       "      <td>0</td>\n",
       "      <td>0</td>\n",
       "      <td>0</td>\n",
       "      <td>0</td>\n",
       "      <td>0</td>\n",
       "      <td>...</td>\n",
       "      <td>0</td>\n",
       "      <td>0</td>\n",
       "      <td>0</td>\n",
       "      <td>0</td>\n",
       "      <td>0</td>\n",
       "      <td>0</td>\n",
       "      <td>0</td>\n",
       "      <td>0</td>\n",
       "      <td>0</td>\n",
       "      <td>0</td>\n",
       "    </tr>\n",
       "    <tr>\n",
       "      <th>2</th>\n",
       "      <td>0</td>\n",
       "      <td>0</td>\n",
       "      <td>0</td>\n",
       "      <td>0</td>\n",
       "      <td>0</td>\n",
       "      <td>0</td>\n",
       "      <td>0</td>\n",
       "      <td>0</td>\n",
       "      <td>0</td>\n",
       "      <td>0</td>\n",
       "      <td>...</td>\n",
       "      <td>0</td>\n",
       "      <td>0</td>\n",
       "      <td>0</td>\n",
       "      <td>0</td>\n",
       "      <td>0</td>\n",
       "      <td>0</td>\n",
       "      <td>0</td>\n",
       "      <td>0</td>\n",
       "      <td>0</td>\n",
       "      <td>0</td>\n",
       "    </tr>\n",
       "    <tr>\n",
       "      <th>3</th>\n",
       "      <td>0</td>\n",
       "      <td>0</td>\n",
       "      <td>0</td>\n",
       "      <td>0</td>\n",
       "      <td>0</td>\n",
       "      <td>0</td>\n",
       "      <td>0</td>\n",
       "      <td>0</td>\n",
       "      <td>0</td>\n",
       "      <td>0</td>\n",
       "      <td>...</td>\n",
       "      <td>0</td>\n",
       "      <td>0</td>\n",
       "      <td>0</td>\n",
       "      <td>0</td>\n",
       "      <td>0</td>\n",
       "      <td>0</td>\n",
       "      <td>0</td>\n",
       "      <td>0</td>\n",
       "      <td>0</td>\n",
       "      <td>0</td>\n",
       "    </tr>\n",
       "    <tr>\n",
       "      <th>4</th>\n",
       "      <td>0</td>\n",
       "      <td>0</td>\n",
       "      <td>0</td>\n",
       "      <td>0</td>\n",
       "      <td>0</td>\n",
       "      <td>0</td>\n",
       "      <td>0</td>\n",
       "      <td>0</td>\n",
       "      <td>0</td>\n",
       "      <td>0</td>\n",
       "      <td>...</td>\n",
       "      <td>0</td>\n",
       "      <td>0</td>\n",
       "      <td>0</td>\n",
       "      <td>0</td>\n",
       "      <td>0</td>\n",
       "      <td>0</td>\n",
       "      <td>0</td>\n",
       "      <td>0</td>\n",
       "      <td>0</td>\n",
       "      <td>0</td>\n",
       "    </tr>\n",
       "    <tr>\n",
       "      <th>...</th>\n",
       "      <td>...</td>\n",
       "      <td>...</td>\n",
       "      <td>...</td>\n",
       "      <td>...</td>\n",
       "      <td>...</td>\n",
       "      <td>...</td>\n",
       "      <td>...</td>\n",
       "      <td>...</td>\n",
       "      <td>...</td>\n",
       "      <td>...</td>\n",
       "      <td>...</td>\n",
       "      <td>...</td>\n",
       "      <td>...</td>\n",
       "      <td>...</td>\n",
       "      <td>...</td>\n",
       "      <td>...</td>\n",
       "      <td>...</td>\n",
       "      <td>...</td>\n",
       "      <td>...</td>\n",
       "      <td>...</td>\n",
       "      <td>...</td>\n",
       "    </tr>\n",
       "    <tr>\n",
       "      <th>41995</th>\n",
       "      <td>0</td>\n",
       "      <td>0</td>\n",
       "      <td>0</td>\n",
       "      <td>0</td>\n",
       "      <td>0</td>\n",
       "      <td>0</td>\n",
       "      <td>0</td>\n",
       "      <td>0</td>\n",
       "      <td>0</td>\n",
       "      <td>0</td>\n",
       "      <td>...</td>\n",
       "      <td>0</td>\n",
       "      <td>0</td>\n",
       "      <td>0</td>\n",
       "      <td>0</td>\n",
       "      <td>0</td>\n",
       "      <td>0</td>\n",
       "      <td>0</td>\n",
       "      <td>0</td>\n",
       "      <td>0</td>\n",
       "      <td>0</td>\n",
       "    </tr>\n",
       "    <tr>\n",
       "      <th>41996</th>\n",
       "      <td>0</td>\n",
       "      <td>0</td>\n",
       "      <td>0</td>\n",
       "      <td>0</td>\n",
       "      <td>0</td>\n",
       "      <td>0</td>\n",
       "      <td>0</td>\n",
       "      <td>0</td>\n",
       "      <td>0</td>\n",
       "      <td>0</td>\n",
       "      <td>...</td>\n",
       "      <td>0</td>\n",
       "      <td>0</td>\n",
       "      <td>0</td>\n",
       "      <td>0</td>\n",
       "      <td>0</td>\n",
       "      <td>0</td>\n",
       "      <td>0</td>\n",
       "      <td>0</td>\n",
       "      <td>0</td>\n",
       "      <td>0</td>\n",
       "    </tr>\n",
       "    <tr>\n",
       "      <th>41997</th>\n",
       "      <td>0</td>\n",
       "      <td>0</td>\n",
       "      <td>0</td>\n",
       "      <td>0</td>\n",
       "      <td>0</td>\n",
       "      <td>0</td>\n",
       "      <td>0</td>\n",
       "      <td>0</td>\n",
       "      <td>0</td>\n",
       "      <td>0</td>\n",
       "      <td>...</td>\n",
       "      <td>0</td>\n",
       "      <td>0</td>\n",
       "      <td>0</td>\n",
       "      <td>0</td>\n",
       "      <td>0</td>\n",
       "      <td>0</td>\n",
       "      <td>0</td>\n",
       "      <td>0</td>\n",
       "      <td>0</td>\n",
       "      <td>0</td>\n",
       "    </tr>\n",
       "    <tr>\n",
       "      <th>41998</th>\n",
       "      <td>0</td>\n",
       "      <td>0</td>\n",
       "      <td>0</td>\n",
       "      <td>0</td>\n",
       "      <td>0</td>\n",
       "      <td>0</td>\n",
       "      <td>0</td>\n",
       "      <td>0</td>\n",
       "      <td>0</td>\n",
       "      <td>0</td>\n",
       "      <td>...</td>\n",
       "      <td>0</td>\n",
       "      <td>0</td>\n",
       "      <td>0</td>\n",
       "      <td>0</td>\n",
       "      <td>0</td>\n",
       "      <td>0</td>\n",
       "      <td>0</td>\n",
       "      <td>0</td>\n",
       "      <td>0</td>\n",
       "      <td>0</td>\n",
       "    </tr>\n",
       "    <tr>\n",
       "      <th>41999</th>\n",
       "      <td>0</td>\n",
       "      <td>0</td>\n",
       "      <td>0</td>\n",
       "      <td>0</td>\n",
       "      <td>0</td>\n",
       "      <td>0</td>\n",
       "      <td>0</td>\n",
       "      <td>0</td>\n",
       "      <td>0</td>\n",
       "      <td>0</td>\n",
       "      <td>...</td>\n",
       "      <td>0</td>\n",
       "      <td>0</td>\n",
       "      <td>0</td>\n",
       "      <td>0</td>\n",
       "      <td>0</td>\n",
       "      <td>0</td>\n",
       "      <td>0</td>\n",
       "      <td>0</td>\n",
       "      <td>0</td>\n",
       "      <td>0</td>\n",
       "    </tr>\n",
       "  </tbody>\n",
       "</table>\n",
       "<p>42000 rows × 784 columns</p>\n",
       "</div>"
      ],
      "text/plain": [
       "       pixel0  pixel1  pixel2  pixel3  pixel4  pixel5  pixel6  pixel7  pixel8  \\\n",
       "0           0       0       0       0       0       0       0       0       0   \n",
       "1           0       0       0       0       0       0       0       0       0   \n",
       "2           0       0       0       0       0       0       0       0       0   \n",
       "3           0       0       0       0       0       0       0       0       0   \n",
       "4           0       0       0       0       0       0       0       0       0   \n",
       "...       ...     ...     ...     ...     ...     ...     ...     ...     ...   \n",
       "41995       0       0       0       0       0       0       0       0       0   \n",
       "41996       0       0       0       0       0       0       0       0       0   \n",
       "41997       0       0       0       0       0       0       0       0       0   \n",
       "41998       0       0       0       0       0       0       0       0       0   \n",
       "41999       0       0       0       0       0       0       0       0       0   \n",
       "\n",
       "       pixel9  ...  pixel774  pixel775  pixel776  pixel777  pixel778  \\\n",
       "0           0  ...         0         0         0         0         0   \n",
       "1           0  ...         0         0         0         0         0   \n",
       "2           0  ...         0         0         0         0         0   \n",
       "3           0  ...         0         0         0         0         0   \n",
       "4           0  ...         0         0         0         0         0   \n",
       "...       ...  ...       ...       ...       ...       ...       ...   \n",
       "41995       0  ...         0         0         0         0         0   \n",
       "41996       0  ...         0         0         0         0         0   \n",
       "41997       0  ...         0         0         0         0         0   \n",
       "41998       0  ...         0         0         0         0         0   \n",
       "41999       0  ...         0         0         0         0         0   \n",
       "\n",
       "       pixel779  pixel780  pixel781  pixel782  pixel783  \n",
       "0             0         0         0         0         0  \n",
       "1             0         0         0         0         0  \n",
       "2             0         0         0         0         0  \n",
       "3             0         0         0         0         0  \n",
       "4             0         0         0         0         0  \n",
       "...         ...       ...       ...       ...       ...  \n",
       "41995         0         0         0         0         0  \n",
       "41996         0         0         0         0         0  \n",
       "41997         0         0         0         0         0  \n",
       "41998         0         0         0         0         0  \n",
       "41999         0         0         0         0         0  \n",
       "\n",
       "[42000 rows x 784 columns]"
      ]
     },
     "execution_count": 4,
     "metadata": {},
     "output_type": "execute_result"
    }
   ],
   "source": [
    "trainset.drop('label',axis=1)"
   ]
  },
  {
   "cell_type": "markdown",
   "id": "66a186a3",
   "metadata": {
    "execution": {
     "iopub.execute_input": "2023-11-25T00:42:55.915189Z",
     "iopub.status.busy": "2023-11-25T00:42:55.914797Z",
     "iopub.status.idle": "2023-11-25T00:42:55.919273Z",
     "shell.execute_reply": "2023-11-25T00:42:55.918322Z",
     "shell.execute_reply.started": "2023-11-25T00:42:55.915165Z"
    },
    "papermill": {
     "duration": 0.014852,
     "end_time": "2023-11-28T09:45:12.663880",
     "exception": false,
     "start_time": "2023-11-28T09:45:12.649028",
     "status": "completed"
    },
    "tags": []
   },
   "source": [
    "__*sample data*__"
   ]
  },
  {
   "cell_type": "code",
   "execution_count": 5,
   "id": "f1eead0e",
   "metadata": {
    "execution": {
     "iopub.execute_input": "2023-11-28T09:45:12.697387Z",
     "iopub.status.busy": "2023-11-28T09:45:12.696930Z",
     "iopub.status.idle": "2023-11-28T09:45:12.826641Z",
     "shell.execute_reply": "2023-11-28T09:45:12.825342Z"
    },
    "papermill": {
     "duration": 0.150401,
     "end_time": "2023-11-28T09:45:12.829413",
     "exception": false,
     "start_time": "2023-11-28T09:45:12.679012",
     "status": "completed"
    },
    "tags": []
   },
   "outputs": [],
   "source": [
    "sample=np.array(trainset.drop('label',axis=1).iloc[6])\n",
    "sample=sample.reshape((28,-1))"
   ]
  },
  {
   "cell_type": "code",
   "execution_count": 6,
   "id": "9d0e02f2",
   "metadata": {
    "execution": {
     "iopub.execute_input": "2023-11-28T09:45:12.862339Z",
     "iopub.status.busy": "2023-11-28T09:45:12.861928Z",
     "iopub.status.idle": "2023-11-28T09:45:13.145044Z",
     "shell.execute_reply": "2023-11-28T09:45:13.143707Z"
    },
    "papermill": {
     "duration": 0.302889,
     "end_time": "2023-11-28T09:45:13.147636",
     "exception": false,
     "start_time": "2023-11-28T09:45:12.844747",
     "status": "completed"
    },
    "tags": []
   },
   "outputs": [
    {
     "data": {
      "image/png": "[encoded data removed]",
      "text/plain": [
       "<Figure size 640x480 with 1 Axes>"
      ]
     },
     "metadata": {},
     "output_type": "display_data"
    }
   ],
   "source": [
    "plt.imshow(sample)\n",
    "plt.show()"
   ]
  },
  {
   "cell_type": "markdown",
   "id": "af0dbf64",
   "metadata": {
    "papermill": {
     "duration": 0.014386,
     "end_time": "2023-11-28T09:45:13.176721",
     "exception": false,
     "start_time": "2023-11-28T09:45:13.162335",
     "status": "completed"
    },
    "tags": []
   },
   "source": [
    "## 1-Data"
   ]
  },
  {
   "cell_type": "code",
   "execution_count": 7,
   "id": "66a002ab",
   "metadata": {
    "execution": {
     "iopub.execute_input": "2023-11-28T09:45:13.208187Z",
     "iopub.status.busy": "2023-11-28T09:45:13.207640Z",
     "iopub.status.idle": "2023-11-28T09:45:13.403596Z",
     "shell.execute_reply": "2023-11-28T09:45:13.402145Z"
    },
    "papermill": {
     "duration": 0.215392,
     "end_time": "2023-11-28T09:45:13.406634",
     "exception": false,
     "start_time": "2023-11-28T09:45:13.191242",
     "status": "completed"
    },
    "tags": []
   },
   "outputs": [],
   "source": [
    "train_tensor=torch.from_numpy(np.array(trainset))"
   ]
  },
  {
   "cell_type": "code",
   "execution_count": 8,
   "id": "3b304ea1",
   "metadata": {
    "execution": {
     "iopub.execute_input": "2023-11-28T09:45:13.438170Z",
     "iopub.status.busy": "2023-11-28T09:45:13.437676Z",
     "iopub.status.idle": "2023-11-28T09:45:13.512326Z",
     "shell.execute_reply": "2023-11-28T09:45:13.510771Z"
    },
    "papermill": {
     "duration": 0.093909,
     "end_time": "2023-11-28T09:45:13.515116",
     "exception": false,
     "start_time": "2023-11-28T09:45:13.421207",
     "status": "completed"
    },
    "tags": []
   },
   "outputs": [
    {
     "data": {
      "text/plain": [
       "tensor([[1, 0, 0,  ..., 0, 0, 0],\n",
       "        [0, 0, 0,  ..., 0, 0, 0],\n",
       "        [1, 0, 0,  ..., 0, 0, 0],\n",
       "        ...,\n",
       "        [7, 0, 0,  ..., 0, 0, 0],\n",
       "        [6, 0, 0,  ..., 0, 0, 0],\n",
       "        [9, 0, 0,  ..., 0, 0, 0]])"
      ]
     },
     "execution_count": 8,
     "metadata": {},
     "output_type": "execute_result"
    }
   ],
   "source": [
    "train_tensor"
   ]
  },
  {
   "cell_type": "code",
   "execution_count": 9,
   "id": "7f5c50fc",
   "metadata": {
    "execution": {
     "iopub.execute_input": "2023-11-28T09:45:13.547837Z",
     "iopub.status.busy": "2023-11-28T09:45:13.547439Z",
     "iopub.status.idle": "2023-11-28T09:45:13.553588Z",
     "shell.execute_reply": "2023-11-28T09:45:13.552243Z"
    },
    "papermill": {
     "duration": 0.02573,
     "end_time": "2023-11-28T09:45:13.556272",
     "exception": false,
     "start_time": "2023-11-28T09:45:13.530542",
     "status": "completed"
    },
    "tags": []
   },
   "outputs": [],
   "source": [
    "from torch.utils.data import Dataset"
   ]
  },
  {
   "cell_type": "code",
   "execution_count": null,
   "id": "603ecfe0",
   "metadata": {
    "papermill": {
     "duration": 0.015093,
     "end_time": "2023-11-28T09:45:13.586819",
     "exception": false,
     "start_time": "2023-11-28T09:45:13.571726",
     "status": "completed"
    },
    "tags": []
   },
   "outputs": [],
   "source": []
  },
  {
   "cell_type": "code",
   "execution_count": 10,
   "id": "22b27769",
   "metadata": {
    "execution": {
     "iopub.execute_input": "2023-11-28T09:45:13.619351Z",
     "iopub.status.busy": "2023-11-28T09:45:13.618941Z",
     "iopub.status.idle": "2023-11-28T09:45:13.627446Z",
     "shell.execute_reply": "2023-11-28T09:45:13.626105Z"
    },
    "papermill": {
     "duration": 0.027941,
     "end_time": "2023-11-28T09:45:13.630115",
     "exception": false,
     "start_time": "2023-11-28T09:45:13.602174",
     "status": "completed"
    },
    "tags": []
   },
   "outputs": [],
   "source": [
    "class digits_dataset(Dataset):\n",
    "    def __init__(self):\n",
    "        data = pd.read_csv('/kaggle/input/digit-recognizer/train.csv')\n",
    "        self.y=torch.from_numpy(np.array(data['label']))\n",
    "        self.x=torch.from_numpy(np.array(data.drop('label',axis=1))/255)\n",
    "    def __len__(self):\n",
    "        return len(self.y)\n",
    "\n",
    "    def __getitem__(self, idx):\n",
    "        return self.x[idx], self.y[idx]"
   ]
  },
  {
   "cell_type": "code",
   "execution_count": 11,
   "id": "e97b9cad",
   "metadata": {
    "execution": {
     "iopub.execute_input": "2023-11-28T09:45:13.663049Z",
     "iopub.status.busy": "2023-11-28T09:45:13.662619Z",
     "iopub.status.idle": "2023-11-28T09:45:17.856038Z",
     "shell.execute_reply": "2023-11-28T09:45:17.854580Z"
    },
    "papermill": {
     "duration": 4.214173,
     "end_time": "2023-11-28T09:45:17.859409",
     "exception": false,
     "start_time": "2023-11-28T09:45:13.645236",
     "status": "completed"
    },
    "tags": []
   },
   "outputs": [],
   "source": [
    "data=digits_dataset()"
   ]
  },
  {
   "cell_type": "code",
   "execution_count": 12,
   "id": "57213e2c",
   "metadata": {
    "execution": {
     "iopub.execute_input": "2023-11-28T09:45:17.892048Z",
     "iopub.status.busy": "2023-11-28T09:45:17.891591Z",
     "iopub.status.idle": "2023-11-28T09:45:17.911058Z",
     "shell.execute_reply": "2023-11-28T09:45:17.909726Z"
    },
    "papermill": {
     "duration": 0.039188,
     "end_time": "2023-11-28T09:45:17.914324",
     "exception": false,
     "start_time": "2023-11-28T09:45:17.875136",
     "status": "completed"
    },
    "tags": []
   },
   "outputs": [],
   "source": [
    "train ,test = torch.utils.data.random_split(data,[0.8,0.2])"
   ]
  },
  {
   "cell_type": "code",
   "execution_count": 13,
   "id": "8a71e81b",
   "metadata": {
    "execution": {
     "iopub.execute_input": "2023-11-28T09:45:17.947493Z",
     "iopub.status.busy": "2023-11-28T09:45:17.946995Z",
     "iopub.status.idle": "2023-11-28T09:45:17.952067Z",
     "shell.execute_reply": "2023-11-28T09:45:17.951087Z"
    },
    "papermill": {
     "duration": 0.024402,
     "end_time": "2023-11-28T09:45:17.954212",
     "exception": false,
     "start_time": "2023-11-28T09:45:17.929810",
     "status": "completed"
    },
    "tags": []
   },
   "outputs": [],
   "source": [
    "x,y=train[0]"
   ]
  },
  {
   "cell_type": "code",
   "execution_count": 14,
   "id": "ebca877f",
   "metadata": {
    "execution": {
     "iopub.execute_input": "2023-11-28T09:45:17.986234Z",
     "iopub.status.busy": "2023-11-28T09:45:17.985441Z",
     "iopub.status.idle": "2023-11-28T09:45:17.992019Z",
     "shell.execute_reply": "2023-11-28T09:45:17.991028Z"
    },
    "papermill": {
     "duration": 0.025761,
     "end_time": "2023-11-28T09:45:17.994569",
     "exception": false,
     "start_time": "2023-11-28T09:45:17.968808",
     "status": "completed"
    },
    "tags": []
   },
   "outputs": [
    {
     "data": {
      "text/plain": [
       "33600"
      ]
     },
     "execution_count": 14,
     "metadata": {},
     "output_type": "execute_result"
    }
   ],
   "source": [
    "train.__len__()"
   ]
  },
  {
   "cell_type": "code",
   "execution_count": 15,
   "id": "98010f6c",
   "metadata": {
    "execution": {
     "iopub.execute_input": "2023-11-28T09:45:18.028301Z",
     "iopub.status.busy": "2023-11-28T09:45:18.027845Z",
     "iopub.status.idle": "2023-11-28T09:45:18.034000Z",
     "shell.execute_reply": "2023-11-28T09:45:18.032696Z"
    },
    "papermill": {
     "duration": 0.026377,
     "end_time": "2023-11-28T09:45:18.037009",
     "exception": false,
     "start_time": "2023-11-28T09:45:18.010632",
     "status": "completed"
    },
    "tags": []
   },
   "outputs": [
    {
     "name": "stdout",
     "output_type": "stream",
     "text": [
      "torch.Size([784])\n"
     ]
    }
   ],
   "source": [
    "print(x.shape)"
   ]
  },
  {
   "cell_type": "markdown",
   "id": "9be2dffe",
   "metadata": {
    "papermill": {
     "duration": 0.015154,
     "end_time": "2023-11-28T09:45:18.067901",
     "exception": false,
     "start_time": "2023-11-28T09:45:18.052747",
     "status": "completed"
    },
    "tags": []
   },
   "source": [
    "## 2-Neural Network and Model"
   ]
  },
  {
   "cell_type": "code",
   "execution_count": 16,
   "id": "98069898",
   "metadata": {
    "execution": {
     "iopub.execute_input": "2023-11-28T09:45:18.197243Z",
     "iopub.status.busy": "2023-11-28T09:45:18.196820Z",
     "iopub.status.idle": "2023-11-28T09:45:18.203204Z",
     "shell.execute_reply": "2023-11-28T09:45:18.201832Z"
    },
    "papermill": {
     "duration": 0.122081,
     "end_time": "2023-11-28T09:45:18.205569",
     "exception": false,
     "start_time": "2023-11-28T09:45:18.083488",
     "status": "completed"
    },
    "tags": []
   },
   "outputs": [],
   "source": [
    "train_loader=DataLoader(dataset=train,batch_size=200,shuffle=True)"
   ]
  },
  {
   "cell_type": "code",
   "execution_count": 17,
   "id": "a23a5bbc",
   "metadata": {
    "execution": {
     "iopub.execute_input": "2023-11-28T09:45:18.239377Z",
     "iopub.status.busy": "2023-11-28T09:45:18.238643Z",
     "iopub.status.idle": "2023-11-28T09:45:18.258827Z",
     "shell.execute_reply": "2023-11-28T09:45:18.257926Z"
    },
    "papermill": {
     "duration": 0.040343,
     "end_time": "2023-11-28T09:45:18.261847",
     "exception": false,
     "start_time": "2023-11-28T09:45:18.221504",
     "status": "completed"
    },
    "tags": []
   },
   "outputs": [],
   "source": [
    "model=nn.Sequential(nn.Linear(28*28,512),\n",
    "                    nn.ReLU(),\n",
    "                    nn.Linear(512,512),\n",
    "                    nn.ReLU(),\n",
    "                    nn.Dropout(p=0.2),\n",
    "                    nn.Linear(512,256),\n",
    "                    nn.Linear(256,10)\n",
    "                    )"
   ]
  },
  {
   "cell_type": "markdown",
   "id": "60510de5",
   "metadata": {
    "papermill": {
     "duration": 0.015386,
     "end_time": "2023-11-28T09:45:18.292965",
     "exception": false,
     "start_time": "2023-11-28T09:45:18.277579",
     "status": "completed"
    },
    "tags": []
   },
   "source": [
    "## 3-Training "
   ]
  },
  {
   "cell_type": "code",
   "execution_count": 18,
   "id": "71c9ff9f",
   "metadata": {
    "execution": {
     "iopub.execute_input": "2023-11-28T09:45:18.327092Z",
     "iopub.status.busy": "2023-11-28T09:45:18.326286Z",
     "iopub.status.idle": "2023-11-28T09:45:18.331611Z",
     "shell.execute_reply": "2023-11-28T09:45:18.330766Z"
    },
    "papermill": {
     "duration": 0.025031,
     "end_time": "2023-11-28T09:45:18.334020",
     "exception": false,
     "start_time": "2023-11-28T09:45:18.308989",
     "status": "completed"
    },
    "tags": []
   },
   "outputs": [],
   "source": [
    "criterion=nn.CrossEntropyLoss()"
   ]
  },
  {
   "cell_type": "code",
   "execution_count": 19,
   "id": "e698ea36",
   "metadata": {
    "execution": {
     "iopub.execute_input": "2023-11-28T09:45:18.368448Z",
     "iopub.status.busy": "2023-11-28T09:45:18.367811Z",
     "iopub.status.idle": "2023-11-28T09:45:18.371760Z",
     "shell.execute_reply": "2023-11-28T09:45:18.371042Z"
    },
    "papermill": {
     "duration": 0.023922,
     "end_time": "2023-11-28T09:45:18.374116",
     "exception": false,
     "start_time": "2023-11-28T09:45:18.350194",
     "status": "completed"
    },
    "tags": []
   },
   "outputs": [],
   "source": [
    "import torch.optim as optim"
   ]
  },
  {
   "cell_type": "code",
   "execution_count": 20,
   "id": "846e815f",
   "metadata": {
    "execution": {
     "iopub.execute_input": "2023-11-28T09:45:18.407785Z",
     "iopub.status.busy": "2023-11-28T09:45:18.407174Z",
     "iopub.status.idle": "2023-11-28T09:45:18.412311Z",
     "shell.execute_reply": "2023-11-28T09:45:18.410802Z"
    },
    "papermill": {
     "duration": 0.025343,
     "end_time": "2023-11-28T09:45:18.415279",
     "exception": false,
     "start_time": "2023-11-28T09:45:18.389936",
     "status": "completed"
    },
    "tags": []
   },
   "outputs": [],
   "source": [
    "optimizer=optim.Adam(params=model.parameters(),lr=0.001)"
   ]
  },
  {
   "cell_type": "markdown",
   "id": "56ee95d5",
   "metadata": {
    "papermill": {
     "duration": 0.016205,
     "end_time": "2023-11-28T09:45:18.447643",
     "exception": false,
     "start_time": "2023-11-28T09:45:18.431438",
     "status": "completed"
    },
    "tags": []
   },
   "source": [
    "### a-Train loop "
   ]
  },
  {
   "cell_type": "code",
   "execution_count": 21,
   "id": "2d7c8a07",
   "metadata": {
    "execution": {
     "iopub.execute_input": "2023-11-28T09:45:18.482133Z",
     "iopub.status.busy": "2023-11-28T09:45:18.481018Z",
     "iopub.status.idle": "2023-11-28T09:51:48.104906Z",
     "shell.execute_reply": "2023-11-28T09:51:48.103657Z"
    },
    "papermill": {
     "duration": 389.670847,
     "end_time": "2023-11-28T09:51:48.134135",
     "exception": false,
     "start_time": "2023-11-28T09:45:18.463288",
     "status": "completed"
    },
    "tags": []
   },
   "outputs": [
    {
     "name": "stdout",
     "output_type": "stream",
     "text": [
      "loss 0.4172049775010064 for 1/100\n",
      "loss 0.13753433869264664 for 2/100\n",
      "loss 0.08620068730254259 for 3/100\n",
      "loss 0.0609782294625239 for 4/100\n",
      "loss 0.043062544910104146 for 5/100\n",
      "loss 0.03479314819698976 for 6/100\n",
      "loss 0.02585148671641946 for 7/100\n",
      "loss 0.02104388041646286 for 8/100\n",
      "loss 0.018875063305521116 for 9/100\n",
      "loss 0.01589076741324139 for 10/100\n",
      "loss 0.01657818462228447 for 11/100\n",
      "loss 0.019490203351042942 for 12/100\n",
      "loss 0.01351155470530059 for 13/100\n",
      "loss 0.008100736420688225 for 14/100\n",
      "loss 0.004744070635275594 for 15/100\n",
      "loss 0.010698950310511247 for 16/100\n",
      "loss 0.01683865151547555 for 17/100\n",
      "loss 0.020053400184440847 for 18/100\n",
      "loss 0.009964431641145936 for 19/100\n",
      "loss 0.010138986907978029 for 20/100\n",
      "loss 0.009608999633201165 for 21/100\n",
      "loss 0.01130218159782782 for 22/100\n",
      "loss 0.012371035050169408 for 23/100\n",
      "loss 0.004763296112233071 for 24/100\n",
      "loss 0.00738607320817036 for 25/100\n",
      "loss 0.004849217975350127 for 26/100\n",
      "loss 0.00543294795659763 for 27/100\n",
      "loss 0.006053719476421108 for 28/100\n",
      "loss 0.0239341020137328 for 29/100\n",
      "loss 0.008487899299152127 for 30/100\n",
      "loss 0.004671998961763772 for 31/100\n",
      "loss 0.009971233375175697 for 32/100\n",
      "loss 0.004955197622242243 for 33/100\n",
      "loss 0.004527245143056764 for 34/100\n",
      "loss 0.0028974895479553283 for 35/100\n",
      "loss 0.0020408764231038255 for 36/100\n",
      "loss 0.005522023277386606 for 37/100\n",
      "loss 0.007734398297386525 for 38/100\n",
      "loss 0.010209197702871669 for 39/100\n",
      "loss 0.013681968877541468 for 40/100\n",
      "loss 0.0064602306036227845 for 41/100\n",
      "loss 0.007499296337278966 for 42/100\n",
      "loss 0.012177529833360538 for 43/100\n",
      "loss 0.0071455679340466476 for 44/100\n",
      "loss 0.005846300617443083 for 45/100\n",
      "loss 0.000526367546688973 for 46/100\n",
      "loss 0.00014874351887106925 for 47/100\n",
      "loss 0.0011531228501350402 for 48/100\n",
      "loss 0.012929789053780874 for 49/100\n",
      "loss 0.00640872142795821 for 50/100\n",
      "loss 0.002446361683750876 for 51/100\n",
      "loss 0.003446327063104924 for 52/100\n",
      "loss 0.003166784210865866 for 53/100\n",
      "loss 0.01099410957530316 for 54/100\n",
      "loss 0.010662531708313898 for 55/100\n",
      "loss 0.012387588963899058 for 56/100\n",
      "loss 0.008680434442813597 for 57/100\n",
      "loss 0.002906899216629286 for 58/100\n",
      "loss 0.001199374985983495 for 59/100\n",
      "loss 0.0025685483525137442 for 60/100\n",
      "loss 0.0034759329998973413 for 61/100\n",
      "loss 0.002964426807277762 for 62/100\n",
      "loss 0.008519610919577082 for 63/100\n",
      "loss 0.007695732744209528 for 64/100\n",
      "loss 0.007217176552845082 for 65/100\n",
      "loss 0.005614497127866224 for 66/100\n",
      "loss 0.0048079370020397095 for 67/100\n",
      "loss 0.0021440606818802486 for 68/100\n",
      "loss 0.0026521731679416405 for 69/100\n",
      "loss 0.007729641741020389 for 70/100\n",
      "loss 0.004233071042621293 for 71/100\n",
      "loss 0.0034209580107270334 for 72/100\n",
      "loss 0.0021189074691284034 for 73/100\n",
      "loss 0.002895077204198195 for 74/100\n",
      "loss 0.0030405815763430155 for 75/100\n",
      "loss 0.0034435280854053204 for 76/100\n",
      "loss 0.014351578515342703 for 77/100\n",
      "loss 0.010317428514150876 for 78/100\n",
      "loss 0.0066663757669118695 for 79/100\n",
      "loss 0.0034455296642260606 for 80/100\n",
      "loss 0.0025523694209696707 for 81/100\n",
      "loss 0.0004431756457516182 for 82/100\n",
      "loss 0.001068106071689744 for 83/100\n",
      "loss 5.432886992813513e-05 for 84/100\n",
      "loss 0.00013539666131036552 for 85/100\n",
      "loss 3.1327035294821604e-05 for 86/100\n",
      "loss 1.7115186905640522e-05 for 87/100\n",
      "loss 9.600262193421555e-06 for 88/100\n",
      "loss 8.395525403987178e-06 for 89/100\n",
      "loss 8.25202925483889e-06 for 90/100\n",
      "loss 7.49638115169059e-06 for 91/100\n",
      "loss 0.013972882541492416 for 92/100\n",
      "loss 0.01639937678822077 for 93/100\n",
      "loss 0.008478423950155698 for 94/100\n",
      "loss 0.003931232927847023 for 95/100\n",
      "loss 0.0032810124202381444 for 96/100\n",
      "loss 0.0029978790042061326 for 97/100\n",
      "loss 0.002109396293590664 for 98/100\n",
      "loss 0.0025563617874664957 for 99/100\n",
      "loss 0.002259958394829181 for 100/100\n"
     ]
    }
   ],
   "source": [
    "for epoch in range(100):\n",
    "    training_loss = 0\n",
    "    for data in train_loader:\n",
    "        #setting gradient at zero\n",
    "        optimizer.zero_grad()\n",
    "        #getting data\n",
    "        features,label=data\n",
    "        features=features.float()\n",
    "        #predicting class\n",
    "        pred=model(features)\n",
    "        #loss\n",
    "        loss=criterion(pred,label)\n",
    "        loss.backward()\n",
    "        #updating params\n",
    "        optimizer.step()\n",
    "        training_loss += loss.item()\n",
    "    epoch_loss = training_loss / len(train_loader)\n",
    "    print(f'loss {epoch_loss} for {epoch+1}/100')\n"
   ]
  },
  {
   "cell_type": "markdown",
   "id": "5d6191d3",
   "metadata": {
    "papermill": {
     "duration": 0.024575,
     "end_time": "2023-11-28T09:51:48.183401",
     "exception": false,
     "start_time": "2023-11-28T09:51:48.158826",
     "status": "completed"
    },
    "tags": []
   },
   "source": [
    "### b-Validation loop"
   ]
  },
  {
   "cell_type": "code",
   "execution_count": 22,
   "id": "44e532c0",
   "metadata": {
    "execution": {
     "iopub.execute_input": "2023-11-28T09:51:48.235311Z",
     "iopub.status.busy": "2023-11-28T09:51:48.234793Z",
     "iopub.status.idle": "2023-11-28T09:51:48.240331Z",
     "shell.execute_reply": "2023-11-28T09:51:48.239347Z"
    },
    "papermill": {
     "duration": 0.034226,
     "end_time": "2023-11-28T09:51:48.242646",
     "exception": false,
     "start_time": "2023-11-28T09:51:48.208420",
     "status": "completed"
    },
    "tags": []
   },
   "outputs": [],
   "source": [
    "test_loader=DataLoader(dataset=test,batch_size=200,shuffle=False)"
   ]
  },
  {
   "cell_type": "code",
   "execution_count": 23,
   "id": "35e2db48",
   "metadata": {
    "execution": {
     "iopub.execute_input": "2023-11-28T09:51:48.296009Z",
     "iopub.status.busy": "2023-11-28T09:51:48.295325Z",
     "iopub.status.idle": "2023-11-28T09:51:48.654970Z",
     "shell.execute_reply": "2023-11-28T09:51:48.653762Z"
    },
    "papermill": {
     "duration": 0.38983,
     "end_time": "2023-11-28T09:51:48.658138",
     "exception": false,
     "start_time": "2023-11-28T09:51:48.268308",
     "status": "completed"
    },
    "tags": []
   },
   "outputs": [
    {
     "name": "stdout",
     "output_type": "stream",
     "text": [
      "validation loss is 0.174296551206637\n"
     ]
    },
    {
     "data": {
      "text/plain": [
       "Sequential(\n",
       "  (0): Linear(in_features=784, out_features=512, bias=True)\n",
       "  (1): ReLU()\n",
       "  (2): Linear(in_features=512, out_features=512, bias=True)\n",
       "  (3): ReLU()\n",
       "  (4): Dropout(p=0.2, inplace=False)\n",
       "  (5): Linear(in_features=512, out_features=256, bias=True)\n",
       "  (6): Linear(in_features=256, out_features=10, bias=True)\n",
       ")"
      ]
     },
     "execution_count": 23,
     "metadata": {},
     "output_type": "execute_result"
    }
   ],
   "source": [
    "validation_loss = 0.0\n",
    "model.eval() # Put model in evaluation mode\n",
    "with torch.no_grad(): # Speed up the forward pass\n",
    "    training_loss = 0\n",
    "    for data in test_loader:\n",
    "        #getting data\n",
    "        features,label=data\n",
    "        features=features.float()\n",
    "        #predicting class\n",
    "        pred=model(features)\n",
    "        #loss\n",
    "        loss=criterion(pred,label)\n",
    "        validation_loss += loss.item()\n",
    "    validation_loss = validation_loss / len(test_loader)\n",
    "    print(f'validation loss is {validation_loss}')\n",
    "model.train()\n"
   ]
  },
  {
   "cell_type": "code",
   "execution_count": 24,
   "id": "5372b7eb",
   "metadata": {
    "execution": {
     "iopub.execute_input": "2023-11-28T09:51:48.711318Z",
     "iopub.status.busy": "2023-11-28T09:51:48.710879Z",
     "iopub.status.idle": "2023-11-28T09:51:54.046496Z",
     "shell.execute_reply": "2023-11-28T09:51:54.045310Z"
    },
    "papermill": {
     "duration": 5.36518,
     "end_time": "2023-11-28T09:51:54.049342",
     "exception": false,
     "start_time": "2023-11-28T09:51:48.684162",
     "status": "completed"
    },
    "tags": []
   },
   "outputs": [
    {
     "name": "stdout",
     "output_type": "stream",
     "text": [
      "Accuracy on all data: 0.9802380800247192\n"
     ]
    }
   ],
   "source": [
    "import torchmetrics\n",
    "# Create accuracy metric using torch metrics\n",
    "metric = torchmetrics.Accuracy(task=\"multiclass\", num_classes=10)\n",
    "for i, data in enumerate(test_loader, 0):\n",
    "    features, labels = data\n",
    "    features=features.float()\n",
    "    outputs = model(features)\n",
    "    # Calculate accuracy over the batch\n",
    "    acc = metric(outputs, labels)\n",
    "# Calculate accuracy over the whole epoch\n",
    "acc = metric.compute()\n",
    "print(f\"Accuracy on all data: {acc}\")\n",
    "# Reset the metric for the next epoch (training or validation)\n",
    "metric.reset()"
   ]
  },
  {
   "cell_type": "markdown",
   "id": "1a37a600",
   "metadata": {
    "papermill": {
     "duration": 0.028134,
     "end_time": "2023-11-28T09:51:54.104449",
     "exception": false,
     "start_time": "2023-11-28T09:51:54.076315",
     "status": "completed"
    },
    "tags": []
   },
   "source": [
    "## 4-Test and Submission"
   ]
  },
  {
   "cell_type": "markdown",
   "id": "c4f6ce5f",
   "metadata": {
    "papermill": {
     "duration": 0.026234,
     "end_time": "2023-11-28T09:51:54.155469",
     "exception": false,
     "start_time": "2023-11-28T09:51:54.129235",
     "status": "completed"
    },
    "tags": []
   },
   "source": [
    "### a-Predicting submission data"
   ]
  },
  {
   "cell_type": "code",
   "execution_count": 25,
   "id": "d4f6580c",
   "metadata": {
    "execution": {
     "iopub.execute_input": "2023-11-28T09:51:54.209709Z",
     "iopub.status.busy": "2023-11-28T09:51:54.208902Z",
     "iopub.status.idle": "2023-11-28T09:51:56.884819Z",
     "shell.execute_reply": "2023-11-28T09:51:56.883331Z"
    },
    "papermill": {
     "duration": 2.706969,
     "end_time": "2023-11-28T09:51:56.887901",
     "exception": false,
     "start_time": "2023-11-28T09:51:54.180932",
     "status": "completed"
    },
    "tags": []
   },
   "outputs": [],
   "source": [
    "submi=pd.read_csv('/kaggle/input/digit-recognizer/test.csv')"
   ]
  },
  {
   "cell_type": "code",
   "execution_count": 26,
   "id": "375811a8",
   "metadata": {
    "execution": {
     "iopub.execute_input": "2023-11-28T09:51:56.940190Z",
     "iopub.status.busy": "2023-11-28T09:51:56.939747Z",
     "iopub.status.idle": "2023-11-28T09:51:57.282993Z",
     "shell.execute_reply": "2023-11-28T09:51:57.281665Z"
    },
    "papermill": {
     "duration": 0.373896,
     "end_time": "2023-11-28T09:51:57.286324",
     "exception": false,
     "start_time": "2023-11-28T09:51:56.912428",
     "status": "completed"
    },
    "tags": []
   },
   "outputs": [],
   "source": [
    "X_submi=torch.from_numpy(np.array(submi)/255)\n",
    "X_submi=X_submi.float()"
   ]
  },
  {
   "cell_type": "code",
   "execution_count": 27,
   "id": "c0239f61",
   "metadata": {
    "execution": {
     "iopub.execute_input": "2023-11-28T09:51:57.339758Z",
     "iopub.status.busy": "2023-11-28T09:51:57.339285Z",
     "iopub.status.idle": "2023-11-28T09:51:57.995997Z",
     "shell.execute_reply": "2023-11-28T09:51:57.994600Z"
    },
    "papermill": {
     "duration": 0.687513,
     "end_time": "2023-11-28T09:51:57.999182",
     "exception": false,
     "start_time": "2023-11-28T09:51:57.311669",
     "status": "completed"
    },
    "tags": []
   },
   "outputs": [],
   "source": [
    "with torch.no_grad():    \n",
    "    output=model(X_submi)\n",
    "    softmax=nn.Softmax(-1)(output)"
   ]
  },
  {
   "cell_type": "code",
   "execution_count": 28,
   "id": "3f61422e",
   "metadata": {
    "execution": {
     "iopub.execute_input": "2023-11-28T09:51:58.054953Z",
     "iopub.status.busy": "2023-11-28T09:51:58.054500Z",
     "iopub.status.idle": "2023-11-28T09:51:58.064310Z",
     "shell.execute_reply": "2023-11-28T09:51:58.062873Z"
    },
    "papermill": {
     "duration": 0.040686,
     "end_time": "2023-11-28T09:51:58.067077",
     "exception": false,
     "start_time": "2023-11-28T09:51:58.026391",
     "status": "completed"
    },
    "tags": []
   },
   "outputs": [
    {
     "data": {
      "text/plain": [
       "tensor([2, 0, 9,  ..., 3, 9, 2])"
      ]
     },
     "execution_count": 28,
     "metadata": {},
     "output_type": "execute_result"
    }
   ],
   "source": [
    "predicted=torch.argmax(output,1)\n",
    "predicted"
   ]
  },
  {
   "cell_type": "code",
   "execution_count": 29,
   "id": "5809bac5",
   "metadata": {
    "execution": {
     "iopub.execute_input": "2023-11-28T09:51:58.121419Z",
     "iopub.status.busy": "2023-11-28T09:51:58.120946Z",
     "iopub.status.idle": "2023-11-28T09:51:58.127280Z",
     "shell.execute_reply": "2023-11-28T09:51:58.125884Z"
    },
    "papermill": {
     "duration": 0.037081,
     "end_time": "2023-11-28T09:51:58.129980",
     "exception": false,
     "start_time": "2023-11-28T09:51:58.092899",
     "status": "completed"
    },
    "tags": []
   },
   "outputs": [],
   "source": [
    "label=np.array(predicted)"
   ]
  },
  {
   "cell_type": "markdown",
   "id": "d22449d8",
   "metadata": {
    "papermill": {
     "duration": 0.02517,
     "end_time": "2023-11-28T09:51:58.180730",
     "exception": false,
     "start_time": "2023-11-28T09:51:58.155560",
     "status": "completed"
    },
    "tags": []
   },
   "source": [
    "### b-Submiting data"
   ]
  },
  {
   "cell_type": "code",
   "execution_count": 30,
   "id": "4c8785dc",
   "metadata": {
    "execution": {
     "iopub.execute_input": "2023-11-28T09:51:58.234297Z",
     "iopub.status.busy": "2023-11-28T09:51:58.233840Z",
     "iopub.status.idle": "2023-11-28T09:51:58.245298Z",
     "shell.execute_reply": "2023-11-28T09:51:58.243994Z"
    },
    "papermill": {
     "duration": 0.041062,
     "end_time": "2023-11-28T09:51:58.247967",
     "exception": false,
     "start_time": "2023-11-28T09:51:58.206905",
     "status": "completed"
    },
    "tags": []
   },
   "outputs": [],
   "source": [
    "ImageId=np.array([i for i in range(1,len(label)+1)])"
   ]
  },
  {
   "cell_type": "code",
   "execution_count": 31,
   "id": "c5d0b5b5",
   "metadata": {
    "execution": {
     "iopub.execute_input": "2023-11-28T09:51:58.303000Z",
     "iopub.status.busy": "2023-11-28T09:51:58.302531Z",
     "iopub.status.idle": "2023-11-28T09:51:58.309502Z",
     "shell.execute_reply": "2023-11-28T09:51:58.308313Z"
    },
    "papermill": {
     "duration": 0.037765,
     "end_time": "2023-11-28T09:51:58.312095",
     "exception": false,
     "start_time": "2023-11-28T09:51:58.274330",
     "status": "completed"
    },
    "tags": []
   },
   "outputs": [],
   "source": [
    "submission=pd.DataFrame({'ImageId':ImageId,'Label':label})"
   ]
  },
  {
   "cell_type": "code",
   "execution_count": 32,
   "id": "3f2f2e0c",
   "metadata": {
    "execution": {
     "iopub.execute_input": "2023-11-28T09:51:58.365012Z",
     "iopub.status.busy": "2023-11-28T09:51:58.364036Z",
     "iopub.status.idle": "2023-11-28T09:51:58.435318Z",
     "shell.execute_reply": "2023-11-28T09:51:58.433939Z"
    },
    "papermill": {
     "duration": 0.101041,
     "end_time": "2023-11-28T09:51:58.438634",
     "exception": false,
     "start_time": "2023-11-28T09:51:58.337593",
     "status": "completed"
    },
    "tags": []
   },
   "outputs": [],
   "source": [
    "submission.to_csv('/kaggle/working/submission.csv',index=False)"
   ]
  },
  {
   "cell_type": "code",
   "execution_count": 33,
   "id": "2238dbe8",
   "metadata": {
    "execution": {
     "iopub.execute_input": "2023-11-28T09:51:58.494017Z",
     "iopub.status.busy": "2023-11-28T09:51:58.493574Z",
     "iopub.status.idle": "2023-11-28T09:51:58.513768Z",
     "shell.execute_reply": "2023-11-28T09:51:58.512601Z"
    },
    "papermill": {
     "duration": 0.050652,
     "end_time": "2023-11-28T09:51:58.516393",
     "exception": false,
     "start_time": "2023-11-28T09:51:58.465741",
     "status": "completed"
    },
    "tags": []
   },
   "outputs": [
    {
     "data": {
      "text/html": [
       "<div>\n",
       "<style scoped>\n",
       "    .dataframe tbody tr th:only-of-type {\n",
       "        vertical-align: middle;\n",
       "    }\n",
       "\n",
       "    .dataframe tbody tr th {\n",
       "        vertical-align: top;\n",
       "    }\n",
       "\n",
       "    .dataframe thead th {\n",
       "        text-align: right;\n",
       "    }\n",
       "</style>\n",
       "<table border=\"1\" class=\"dataframe\">\n",
       "  <thead>\n",
       "    <tr style=\"text-align: right;\">\n",
       "      <th></th>\n",
       "      <th>ImageId</th>\n",
       "      <th>Label</th>\n",
       "    </tr>\n",
       "  </thead>\n",
       "  <tbody>\n",
       "    <tr>\n",
       "      <th>0</th>\n",
       "      <td>1</td>\n",
       "      <td>2</td>\n",
       "    </tr>\n",
       "    <tr>\n",
       "      <th>1</th>\n",
       "      <td>2</td>\n",
       "      <td>0</td>\n",
       "    </tr>\n",
       "    <tr>\n",
       "      <th>2</th>\n",
       "      <td>3</td>\n",
       "      <td>9</td>\n",
       "    </tr>\n",
       "    <tr>\n",
       "      <th>3</th>\n",
       "      <td>4</td>\n",
       "      <td>0</td>\n",
       "    </tr>\n",
       "    <tr>\n",
       "      <th>4</th>\n",
       "      <td>5</td>\n",
       "      <td>3</td>\n",
       "    </tr>\n",
       "    <tr>\n",
       "      <th>...</th>\n",
       "      <td>...</td>\n",
       "      <td>...</td>\n",
       "    </tr>\n",
       "    <tr>\n",
       "      <th>27995</th>\n",
       "      <td>27996</td>\n",
       "      <td>9</td>\n",
       "    </tr>\n",
       "    <tr>\n",
       "      <th>27996</th>\n",
       "      <td>27997</td>\n",
       "      <td>7</td>\n",
       "    </tr>\n",
       "    <tr>\n",
       "      <th>27997</th>\n",
       "      <td>27998</td>\n",
       "      <td>3</td>\n",
       "    </tr>\n",
       "    <tr>\n",
       "      <th>27998</th>\n",
       "      <td>27999</td>\n",
       "      <td>9</td>\n",
       "    </tr>\n",
       "    <tr>\n",
       "      <th>27999</th>\n",
       "      <td>28000</td>\n",
       "      <td>2</td>\n",
       "    </tr>\n",
       "  </tbody>\n",
       "</table>\n",
       "<p>28000 rows × 2 columns</p>\n",
       "</div>"
      ],
      "text/plain": [
       "       ImageId  Label\n",
       "0            1      2\n",
       "1            2      0\n",
       "2            3      9\n",
       "3            4      0\n",
       "4            5      3\n",
       "...        ...    ...\n",
       "27995    27996      9\n",
       "27996    27997      7\n",
       "27997    27998      3\n",
       "27998    27999      9\n",
       "27999    28000      2\n",
       "\n",
       "[28000 rows x 2 columns]"
      ]
     },
     "execution_count": 33,
     "metadata": {},
     "output_type": "execute_result"
    }
   ],
   "source": [
    "submission_path='/kaggle/working/submission.csv'\n",
    "pd.read_csv(submission_path)"
   ]
  },
  {
   "cell_type": "code",
   "execution_count": null,
   "id": "f6e406f8",
   "metadata": {
    "papermill": {
     "duration": 0.02626,
     "end_time": "2023-11-28T09:51:58.568728",
     "exception": false,
     "start_time": "2023-11-28T09:51:58.542468",
     "status": "completed"
    },
    "tags": []
   },
   "outputs": [],
   "source": []
  }
 ],
 "metadata": {
  "kaggle": {
   "accelerator": "none",
   "dataSources": [
    {
     "databundleVersionId": 861823,
     "sourceId": 3004,
     "sourceType": "competition"
    }
   ],
   "dockerImageVersionId": 30587,
   "isGpuEnabled": false,
   "isInternetEnabled": true,
   "language": "python",
   "sourceType": "notebook"
  },
  "kernelspec": {
   "display_name": "Python 3",
   "language": "python",
   "name": "python3"
  },
  "language_info": {
   "codemirror_mode": {
    "name": "ipython",
    "version": 3
   },
   "file_extension": ".py",
   "mimetype": "text/x-python",
   "name": "python",
   "nbconvert_exporter": "python",
   "pygments_lexer": "ipython3",
   "version": "3.10.12"
  },
  "papermill": {
   "default_parameters": {},
   "duration": 421.859673,
   "end_time": "2023-11-28T09:52:01.113244",
   "environment_variables": {},
   "exception": null,
   "input_path": "__notebook__.ipynb",
   "output_path": "__notebook__.ipynb",
   "parameters": {},
   "start_time": "2023-11-28T09:44:59.253571",
   "version": "2.4.0"
  }
 },
 "nbformat": 4,
 "nbformat_minor": 5
}
