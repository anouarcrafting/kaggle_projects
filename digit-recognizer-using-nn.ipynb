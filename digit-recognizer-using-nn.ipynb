{
 "cells": [
  {
   "cell_type": "code",
   "execution_count": 1,
   "id": "172044a8",
   "metadata": {
    "_cell_guid": "b1076dfc-b9ad-4769-8c92-a6c4dae69d19",
    "_uuid": "8f2839f25d086af736a60e9eeb907d3b93b6e0e5",
    "execution": {
     "iopub.execute_input": "2023-11-25T01:30:12.978864Z",
     "iopub.status.busy": "2023-11-25T01:30:12.978387Z",
     "iopub.status.idle": "2023-11-25T01:30:16.670899Z",
     "shell.execute_reply": "2023-11-25T01:30:16.669900Z"
    },
    "papermill": {
     "duration": 3.710823,
     "end_time": "2023-11-25T01:30:16.673719",
     "exception": false,
     "start_time": "2023-11-25T01:30:12.962896",
     "status": "completed"
    },
    "tags": []
   },
   "outputs": [],
   "source": [
    "import numpy as np # linear algebra\n",
    "import pandas as pd # data processing, CSV file I/O (e.g. pd.read_csv)\n",
    "import torch.nn as nn\n",
    "import torch\n",
    "import matplotlib.pyplot as plt"
   ]
  },
  {
   "cell_type": "code",
   "execution_count": 2,
   "id": "95e4c85c",
   "metadata": {
    "execution": {
     "iopub.execute_input": "2023-11-25T01:30:16.701262Z",
     "iopub.status.busy": "2023-11-25T01:30:16.700732Z",
     "iopub.status.idle": "2023-11-25T01:30:22.157876Z",
     "shell.execute_reply": "2023-11-25T01:30:22.156726Z"
    },
    "papermill": {
     "duration": 5.473724,
     "end_time": "2023-11-25T01:30:22.160353",
     "exception": false,
     "start_time": "2023-11-25T01:30:16.686629",
     "status": "completed"
    },
    "tags": []
   },
   "outputs": [
    {
     "data": {
      "text/html": [
       "<div>\n",
       "<style scoped>\n",
       "    .dataframe tbody tr th:only-of-type {\n",
       "        vertical-align: middle;\n",
       "    }\n",
       "\n",
       "    .dataframe tbody tr th {\n",
       "        vertical-align: top;\n",
       "    }\n",
       "\n",
       "    .dataframe thead th {\n",
       "        text-align: right;\n",
       "    }\n",
       "</style>\n",
       "<table border=\"1\" class=\"dataframe\">\n",
       "  <thead>\n",
       "    <tr style=\"text-align: right;\">\n",
       "      <th></th>\n",
       "      <th>label</th>\n",
       "      <th>pixel0</th>\n",
       "      <th>pixel1</th>\n",
       "      <th>pixel2</th>\n",
       "      <th>pixel3</th>\n",
       "      <th>pixel4</th>\n",
       "      <th>pixel5</th>\n",
       "      <th>pixel6</th>\n",
       "      <th>pixel7</th>\n",
       "      <th>pixel8</th>\n",
       "      <th>...</th>\n",
       "      <th>pixel774</th>\n",
       "      <th>pixel775</th>\n",
       "      <th>pixel776</th>\n",
       "      <th>pixel777</th>\n",
       "      <th>pixel778</th>\n",
       "      <th>pixel779</th>\n",
       "      <th>pixel780</th>\n",
       "      <th>pixel781</th>\n",
       "      <th>pixel782</th>\n",
       "      <th>pixel783</th>\n",
       "    </tr>\n",
       "  </thead>\n",
       "  <tbody>\n",
       "    <tr>\n",
       "      <th>0</th>\n",
       "      <td>1</td>\n",
       "      <td>0</td>\n",
       "      <td>0</td>\n",
       "      <td>0</td>\n",
       "      <td>0</td>\n",
       "      <td>0</td>\n",
       "      <td>0</td>\n",
       "      <td>0</td>\n",
       "      <td>0</td>\n",
       "      <td>0</td>\n",
       "      <td>...</td>\n",
       "      <td>0</td>\n",
       "      <td>0</td>\n",
       "      <td>0</td>\n",
       "      <td>0</td>\n",
       "      <td>0</td>\n",
       "      <td>0</td>\n",
       "      <td>0</td>\n",
       "      <td>0</td>\n",
       "      <td>0</td>\n",
       "      <td>0</td>\n",
       "    </tr>\n",
       "    <tr>\n",
       "      <th>1</th>\n",
       "      <td>0</td>\n",
       "      <td>0</td>\n",
       "      <td>0</td>\n",
       "      <td>0</td>\n",
       "      <td>0</td>\n",
       "      <td>0</td>\n",
       "      <td>0</td>\n",
       "      <td>0</td>\n",
       "      <td>0</td>\n",
       "      <td>0</td>\n",
       "      <td>...</td>\n",
       "      <td>0</td>\n",
       "      <td>0</td>\n",
       "      <td>0</td>\n",
       "      <td>0</td>\n",
       "      <td>0</td>\n",
       "      <td>0</td>\n",
       "      <td>0</td>\n",
       "      <td>0</td>\n",
       "      <td>0</td>\n",
       "      <td>0</td>\n",
       "    </tr>\n",
       "    <tr>\n",
       "      <th>2</th>\n",
       "      <td>1</td>\n",
       "      <td>0</td>\n",
       "      <td>0</td>\n",
       "      <td>0</td>\n",
       "      <td>0</td>\n",
       "      <td>0</td>\n",
       "      <td>0</td>\n",
       "      <td>0</td>\n",
       "      <td>0</td>\n",
       "      <td>0</td>\n",
       "      <td>...</td>\n",
       "      <td>0</td>\n",
       "      <td>0</td>\n",
       "      <td>0</td>\n",
       "      <td>0</td>\n",
       "      <td>0</td>\n",
       "      <td>0</td>\n",
       "      <td>0</td>\n",
       "      <td>0</td>\n",
       "      <td>0</td>\n",
       "      <td>0</td>\n",
       "    </tr>\n",
       "    <tr>\n",
       "      <th>3</th>\n",
       "      <td>4</td>\n",
       "      <td>0</td>\n",
       "      <td>0</td>\n",
       "      <td>0</td>\n",
       "      <td>0</td>\n",
       "      <td>0</td>\n",
       "      <td>0</td>\n",
       "      <td>0</td>\n",
       "      <td>0</td>\n",
       "      <td>0</td>\n",
       "      <td>...</td>\n",
       "      <td>0</td>\n",
       "      <td>0</td>\n",
       "      <td>0</td>\n",
       "      <td>0</td>\n",
       "      <td>0</td>\n",
       "      <td>0</td>\n",
       "      <td>0</td>\n",
       "      <td>0</td>\n",
       "      <td>0</td>\n",
       "      <td>0</td>\n",
       "    </tr>\n",
       "    <tr>\n",
       "      <th>4</th>\n",
       "      <td>0</td>\n",
       "      <td>0</td>\n",
       "      <td>0</td>\n",
       "      <td>0</td>\n",
       "      <td>0</td>\n",
       "      <td>0</td>\n",
       "      <td>0</td>\n",
       "      <td>0</td>\n",
       "      <td>0</td>\n",
       "      <td>0</td>\n",
       "      <td>...</td>\n",
       "      <td>0</td>\n",
       "      <td>0</td>\n",
       "      <td>0</td>\n",
       "      <td>0</td>\n",
       "      <td>0</td>\n",
       "      <td>0</td>\n",
       "      <td>0</td>\n",
       "      <td>0</td>\n",
       "      <td>0</td>\n",
       "      <td>0</td>\n",
       "    </tr>\n",
       "    <tr>\n",
       "      <th>...</th>\n",
       "      <td>...</td>\n",
       "      <td>...</td>\n",
       "      <td>...</td>\n",
       "      <td>...</td>\n",
       "      <td>...</td>\n",
       "      <td>...</td>\n",
       "      <td>...</td>\n",
       "      <td>...</td>\n",
       "      <td>...</td>\n",
       "      <td>...</td>\n",
       "      <td>...</td>\n",
       "      <td>...</td>\n",
       "      <td>...</td>\n",
       "      <td>...</td>\n",
       "      <td>...</td>\n",
       "      <td>...</td>\n",
       "      <td>...</td>\n",
       "      <td>...</td>\n",
       "      <td>...</td>\n",
       "      <td>...</td>\n",
       "      <td>...</td>\n",
       "    </tr>\n",
       "    <tr>\n",
       "      <th>41995</th>\n",
       "      <td>0</td>\n",
       "      <td>0</td>\n",
       "      <td>0</td>\n",
       "      <td>0</td>\n",
       "      <td>0</td>\n",
       "      <td>0</td>\n",
       "      <td>0</td>\n",
       "      <td>0</td>\n",
       "      <td>0</td>\n",
       "      <td>0</td>\n",
       "      <td>...</td>\n",
       "      <td>0</td>\n",
       "      <td>0</td>\n",
       "      <td>0</td>\n",
       "      <td>0</td>\n",
       "      <td>0</td>\n",
       "      <td>0</td>\n",
       "      <td>0</td>\n",
       "      <td>0</td>\n",
       "      <td>0</td>\n",
       "      <td>0</td>\n",
       "    </tr>\n",
       "    <tr>\n",
       "      <th>41996</th>\n",
       "      <td>1</td>\n",
       "      <td>0</td>\n",
       "      <td>0</td>\n",
       "      <td>0</td>\n",
       "      <td>0</td>\n",
       "      <td>0</td>\n",
       "      <td>0</td>\n",
       "      <td>0</td>\n",
       "      <td>0</td>\n",
       "      <td>0</td>\n",
       "      <td>...</td>\n",
       "      <td>0</td>\n",
       "      <td>0</td>\n",
       "      <td>0</td>\n",
       "      <td>0</td>\n",
       "      <td>0</td>\n",
       "      <td>0</td>\n",
       "      <td>0</td>\n",
       "      <td>0</td>\n",
       "      <td>0</td>\n",
       "      <td>0</td>\n",
       "    </tr>\n",
       "    <tr>\n",
       "      <th>41997</th>\n",
       "      <td>7</td>\n",
       "      <td>0</td>\n",
       "      <td>0</td>\n",
       "      <td>0</td>\n",
       "      <td>0</td>\n",
       "      <td>0</td>\n",
       "      <td>0</td>\n",
       "      <td>0</td>\n",
       "      <td>0</td>\n",
       "      <td>0</td>\n",
       "      <td>...</td>\n",
       "      <td>0</td>\n",
       "      <td>0</td>\n",
       "      <td>0</td>\n",
       "      <td>0</td>\n",
       "      <td>0</td>\n",
       "      <td>0</td>\n",
       "      <td>0</td>\n",
       "      <td>0</td>\n",
       "      <td>0</td>\n",
       "      <td>0</td>\n",
       "    </tr>\n",
       "    <tr>\n",
       "      <th>41998</th>\n",
       "      <td>6</td>\n",
       "      <td>0</td>\n",
       "      <td>0</td>\n",
       "      <td>0</td>\n",
       "      <td>0</td>\n",
       "      <td>0</td>\n",
       "      <td>0</td>\n",
       "      <td>0</td>\n",
       "      <td>0</td>\n",
       "      <td>0</td>\n",
       "      <td>...</td>\n",
       "      <td>0</td>\n",
       "      <td>0</td>\n",
       "      <td>0</td>\n",
       "      <td>0</td>\n",
       "      <td>0</td>\n",
       "      <td>0</td>\n",
       "      <td>0</td>\n",
       "      <td>0</td>\n",
       "      <td>0</td>\n",
       "      <td>0</td>\n",
       "    </tr>\n",
       "    <tr>\n",
       "      <th>41999</th>\n",
       "      <td>9</td>\n",
       "      <td>0</td>\n",
       "      <td>0</td>\n",
       "      <td>0</td>\n",
       "      <td>0</td>\n",
       "      <td>0</td>\n",
       "      <td>0</td>\n",
       "      <td>0</td>\n",
       "      <td>0</td>\n",
       "      <td>0</td>\n",
       "      <td>...</td>\n",
       "      <td>0</td>\n",
       "      <td>0</td>\n",
       "      <td>0</td>\n",
       "      <td>0</td>\n",
       "      <td>0</td>\n",
       "      <td>0</td>\n",
       "      <td>0</td>\n",
       "      <td>0</td>\n",
       "      <td>0</td>\n",
       "      <td>0</td>\n",
       "    </tr>\n",
       "  </tbody>\n",
       "</table>\n",
       "<p>42000 rows × 785 columns</p>\n",
       "</div>"
      ],
      "text/plain": [
       "       label  pixel0  pixel1  pixel2  pixel3  pixel4  pixel5  pixel6  pixel7  \\\n",
       "0          1       0       0       0       0       0       0       0       0   \n",
       "1          0       0       0       0       0       0       0       0       0   \n",
       "2          1       0       0       0       0       0       0       0       0   \n",
       "3          4       0       0       0       0       0       0       0       0   \n",
       "4          0       0       0       0       0       0       0       0       0   \n",
       "...      ...     ...     ...     ...     ...     ...     ...     ...     ...   \n",
       "41995      0       0       0       0       0       0       0       0       0   \n",
       "41996      1       0       0       0       0       0       0       0       0   \n",
       "41997      7       0       0       0       0       0       0       0       0   \n",
       "41998      6       0       0       0       0       0       0       0       0   \n",
       "41999      9       0       0       0       0       0       0       0       0   \n",
       "\n",
       "       pixel8  ...  pixel774  pixel775  pixel776  pixel777  pixel778  \\\n",
       "0           0  ...         0         0         0         0         0   \n",
       "1           0  ...         0         0         0         0         0   \n",
       "2           0  ...         0         0         0         0         0   \n",
       "3           0  ...         0         0         0         0         0   \n",
       "4           0  ...         0         0         0         0         0   \n",
       "...       ...  ...       ...       ...       ...       ...       ...   \n",
       "41995       0  ...         0         0         0         0         0   \n",
       "41996       0  ...         0         0         0         0         0   \n",
       "41997       0  ...         0         0         0         0         0   \n",
       "41998       0  ...         0         0         0         0         0   \n",
       "41999       0  ...         0         0         0         0         0   \n",
       "\n",
       "       pixel779  pixel780  pixel781  pixel782  pixel783  \n",
       "0             0         0         0         0         0  \n",
       "1             0         0         0         0         0  \n",
       "2             0         0         0         0         0  \n",
       "3             0         0         0         0         0  \n",
       "4             0         0         0         0         0  \n",
       "...         ...       ...       ...       ...       ...  \n",
       "41995         0         0         0         0         0  \n",
       "41996         0         0         0         0         0  \n",
       "41997         0         0         0         0         0  \n",
       "41998         0         0         0         0         0  \n",
       "41999         0         0         0         0         0  \n",
       "\n",
       "[42000 rows x 785 columns]"
      ]
     },
     "execution_count": 2,
     "metadata": {},
     "output_type": "execute_result"
    }
   ],
   "source": [
    "path='/kaggle/input/digit-recognizer/train.csv'\n",
    "trainset=pd.read_csv(path)\n",
    "trainset"
   ]
  },
  {
   "cell_type": "code",
   "execution_count": 3,
   "id": "7616c3d2",
   "metadata": {
    "execution": {
     "iopub.execute_input": "2023-11-25T01:30:22.188548Z",
     "iopub.status.busy": "2023-11-25T01:30:22.188150Z",
     "iopub.status.idle": "2023-11-25T01:30:22.192988Z",
     "shell.execute_reply": "2023-11-25T01:30:22.191971Z"
    },
    "papermill": {
     "duration": 0.021463,
     "end_time": "2023-11-25T01:30:22.195143",
     "exception": false,
     "start_time": "2023-11-25T01:30:22.173680",
     "status": "completed"
    },
    "tags": []
   },
   "outputs": [],
   "source": [
    "from torch.utils.data import DataLoader"
   ]
  },
  {
   "cell_type": "code",
   "execution_count": 4,
   "id": "e07ad73d",
   "metadata": {
    "execution": {
     "iopub.execute_input": "2023-11-25T01:30:22.223291Z",
     "iopub.status.busy": "2023-11-25T01:30:22.222894Z",
     "iopub.status.idle": "2023-11-25T01:30:22.355051Z",
     "shell.execute_reply": "2023-11-25T01:30:22.353985Z"
    },
    "papermill": {
     "duration": 0.148863,
     "end_time": "2023-11-25T01:30:22.357245",
     "exception": false,
     "start_time": "2023-11-25T01:30:22.208382",
     "status": "completed"
    },
    "tags": []
   },
   "outputs": [
    {
     "data": {
      "text/html": [
       "<div>\n",
       "<style scoped>\n",
       "    .dataframe tbody tr th:only-of-type {\n",
       "        vertical-align: middle;\n",
       "    }\n",
       "\n",
       "    .dataframe tbody tr th {\n",
       "        vertical-align: top;\n",
       "    }\n",
       "\n",
       "    .dataframe thead th {\n",
       "        text-align: right;\n",
       "    }\n",
       "</style>\n",
       "<table border=\"1\" class=\"dataframe\">\n",
       "  <thead>\n",
       "    <tr style=\"text-align: right;\">\n",
       "      <th></th>\n",
       "      <th>pixel0</th>\n",
       "      <th>pixel1</th>\n",
       "      <th>pixel2</th>\n",
       "      <th>pixel3</th>\n",
       "      <th>pixel4</th>\n",
       "      <th>pixel5</th>\n",
       "      <th>pixel6</th>\n",
       "      <th>pixel7</th>\n",
       "      <th>pixel8</th>\n",
       "      <th>pixel9</th>\n",
       "      <th>...</th>\n",
       "      <th>pixel774</th>\n",
       "      <th>pixel775</th>\n",
       "      <th>pixel776</th>\n",
       "      <th>pixel777</th>\n",
       "      <th>pixel778</th>\n",
       "      <th>pixel779</th>\n",
       "      <th>pixel780</th>\n",
       "      <th>pixel781</th>\n",
       "      <th>pixel782</th>\n",
       "      <th>pixel783</th>\n",
       "    </tr>\n",
       "  </thead>\n",
       "  <tbody>\n",
       "    <tr>\n",
       "      <th>0</th>\n",
       "      <td>0</td>\n",
       "      <td>0</td>\n",
       "      <td>0</td>\n",
       "      <td>0</td>\n",
       "      <td>0</td>\n",
       "      <td>0</td>\n",
       "      <td>0</td>\n",
       "      <td>0</td>\n",
       "      <td>0</td>\n",
       "      <td>0</td>\n",
       "      <td>...</td>\n",
       "      <td>0</td>\n",
       "      <td>0</td>\n",
       "      <td>0</td>\n",
       "      <td>0</td>\n",
       "      <td>0</td>\n",
       "      <td>0</td>\n",
       "      <td>0</td>\n",
       "      <td>0</td>\n",
       "      <td>0</td>\n",
       "      <td>0</td>\n",
       "    </tr>\n",
       "    <tr>\n",
       "      <th>1</th>\n",
       "      <td>0</td>\n",
       "      <td>0</td>\n",
       "      <td>0</td>\n",
       "      <td>0</td>\n",
       "      <td>0</td>\n",
       "      <td>0</td>\n",
       "      <td>0</td>\n",
       "      <td>0</td>\n",
       "      <td>0</td>\n",
       "      <td>0</td>\n",
       "      <td>...</td>\n",
       "      <td>0</td>\n",
       "      <td>0</td>\n",
       "      <td>0</td>\n",
       "      <td>0</td>\n",
       "      <td>0</td>\n",
       "      <td>0</td>\n",
       "      <td>0</td>\n",
       "      <td>0</td>\n",
       "      <td>0</td>\n",
       "      <td>0</td>\n",
       "    </tr>\n",
       "    <tr>\n",
       "      <th>2</th>\n",
       "      <td>0</td>\n",
       "      <td>0</td>\n",
       "      <td>0</td>\n",
       "      <td>0</td>\n",
       "      <td>0</td>\n",
       "      <td>0</td>\n",
       "      <td>0</td>\n",
       "      <td>0</td>\n",
       "      <td>0</td>\n",
       "      <td>0</td>\n",
       "      <td>...</td>\n",
       "      <td>0</td>\n",
       "      <td>0</td>\n",
       "      <td>0</td>\n",
       "      <td>0</td>\n",
       "      <td>0</td>\n",
       "      <td>0</td>\n",
       "      <td>0</td>\n",
       "      <td>0</td>\n",
       "      <td>0</td>\n",
       "      <td>0</td>\n",
       "    </tr>\n",
       "    <tr>\n",
       "      <th>3</th>\n",
       "      <td>0</td>\n",
       "      <td>0</td>\n",
       "      <td>0</td>\n",
       "      <td>0</td>\n",
       "      <td>0</td>\n",
       "      <td>0</td>\n",
       "      <td>0</td>\n",
       "      <td>0</td>\n",
       "      <td>0</td>\n",
       "      <td>0</td>\n",
       "      <td>...</td>\n",
       "      <td>0</td>\n",
       "      <td>0</td>\n",
       "      <td>0</td>\n",
       "      <td>0</td>\n",
       "      <td>0</td>\n",
       "      <td>0</td>\n",
       "      <td>0</td>\n",
       "      <td>0</td>\n",
       "      <td>0</td>\n",
       "      <td>0</td>\n",
       "    </tr>\n",
       "    <tr>\n",
       "      <th>4</th>\n",
       "      <td>0</td>\n",
       "      <td>0</td>\n",
       "      <td>0</td>\n",
       "      <td>0</td>\n",
       "      <td>0</td>\n",
       "      <td>0</td>\n",
       "      <td>0</td>\n",
       "      <td>0</td>\n",
       "      <td>0</td>\n",
       "      <td>0</td>\n",
       "      <td>...</td>\n",
       "      <td>0</td>\n",
       "      <td>0</td>\n",
       "      <td>0</td>\n",
       "      <td>0</td>\n",
       "      <td>0</td>\n",
       "      <td>0</td>\n",
       "      <td>0</td>\n",
       "      <td>0</td>\n",
       "      <td>0</td>\n",
       "      <td>0</td>\n",
       "    </tr>\n",
       "    <tr>\n",
       "      <th>...</th>\n",
       "      <td>...</td>\n",
       "      <td>...</td>\n",
       "      <td>...</td>\n",
       "      <td>...</td>\n",
       "      <td>...</td>\n",
       "      <td>...</td>\n",
       "      <td>...</td>\n",
       "      <td>...</td>\n",
       "      <td>...</td>\n",
       "      <td>...</td>\n",
       "      <td>...</td>\n",
       "      <td>...</td>\n",
       "      <td>...</td>\n",
       "      <td>...</td>\n",
       "      <td>...</td>\n",
       "      <td>...</td>\n",
       "      <td>...</td>\n",
       "      <td>...</td>\n",
       "      <td>...</td>\n",
       "      <td>...</td>\n",
       "      <td>...</td>\n",
       "    </tr>\n",
       "    <tr>\n",
       "      <th>41995</th>\n",
       "      <td>0</td>\n",
       "      <td>0</td>\n",
       "      <td>0</td>\n",
       "      <td>0</td>\n",
       "      <td>0</td>\n",
       "      <td>0</td>\n",
       "      <td>0</td>\n",
       "      <td>0</td>\n",
       "      <td>0</td>\n",
       "      <td>0</td>\n",
       "      <td>...</td>\n",
       "      <td>0</td>\n",
       "      <td>0</td>\n",
       "      <td>0</td>\n",
       "      <td>0</td>\n",
       "      <td>0</td>\n",
       "      <td>0</td>\n",
       "      <td>0</td>\n",
       "      <td>0</td>\n",
       "      <td>0</td>\n",
       "      <td>0</td>\n",
       "    </tr>\n",
       "    <tr>\n",
       "      <th>41996</th>\n",
       "      <td>0</td>\n",
       "      <td>0</td>\n",
       "      <td>0</td>\n",
       "      <td>0</td>\n",
       "      <td>0</td>\n",
       "      <td>0</td>\n",
       "      <td>0</td>\n",
       "      <td>0</td>\n",
       "      <td>0</td>\n",
       "      <td>0</td>\n",
       "      <td>...</td>\n",
       "      <td>0</td>\n",
       "      <td>0</td>\n",
       "      <td>0</td>\n",
       "      <td>0</td>\n",
       "      <td>0</td>\n",
       "      <td>0</td>\n",
       "      <td>0</td>\n",
       "      <td>0</td>\n",
       "      <td>0</td>\n",
       "      <td>0</td>\n",
       "    </tr>\n",
       "    <tr>\n",
       "      <th>41997</th>\n",
       "      <td>0</td>\n",
       "      <td>0</td>\n",
       "      <td>0</td>\n",
       "      <td>0</td>\n",
       "      <td>0</td>\n",
       "      <td>0</td>\n",
       "      <td>0</td>\n",
       "      <td>0</td>\n",
       "      <td>0</td>\n",
       "      <td>0</td>\n",
       "      <td>...</td>\n",
       "      <td>0</td>\n",
       "      <td>0</td>\n",
       "      <td>0</td>\n",
       "      <td>0</td>\n",
       "      <td>0</td>\n",
       "      <td>0</td>\n",
       "      <td>0</td>\n",
       "      <td>0</td>\n",
       "      <td>0</td>\n",
       "      <td>0</td>\n",
       "    </tr>\n",
       "    <tr>\n",
       "      <th>41998</th>\n",
       "      <td>0</td>\n",
       "      <td>0</td>\n",
       "      <td>0</td>\n",
       "      <td>0</td>\n",
       "      <td>0</td>\n",
       "      <td>0</td>\n",
       "      <td>0</td>\n",
       "      <td>0</td>\n",
       "      <td>0</td>\n",
       "      <td>0</td>\n",
       "      <td>...</td>\n",
       "      <td>0</td>\n",
       "      <td>0</td>\n",
       "      <td>0</td>\n",
       "      <td>0</td>\n",
       "      <td>0</td>\n",
       "      <td>0</td>\n",
       "      <td>0</td>\n",
       "      <td>0</td>\n",
       "      <td>0</td>\n",
       "      <td>0</td>\n",
       "    </tr>\n",
       "    <tr>\n",
       "      <th>41999</th>\n",
       "      <td>0</td>\n",
       "      <td>0</td>\n",
       "      <td>0</td>\n",
       "      <td>0</td>\n",
       "      <td>0</td>\n",
       "      <td>0</td>\n",
       "      <td>0</td>\n",
       "      <td>0</td>\n",
       "      <td>0</td>\n",
       "      <td>0</td>\n",
       "      <td>...</td>\n",
       "      <td>0</td>\n",
       "      <td>0</td>\n",
       "      <td>0</td>\n",
       "      <td>0</td>\n",
       "      <td>0</td>\n",
       "      <td>0</td>\n",
       "      <td>0</td>\n",
       "      <td>0</td>\n",
       "      <td>0</td>\n",
       "      <td>0</td>\n",
       "    </tr>\n",
       "  </tbody>\n",
       "</table>\n",
       "<p>42000 rows × 784 columns</p>\n",
       "</div>"
      ],
      "text/plain": [
       "       pixel0  pixel1  pixel2  pixel3  pixel4  pixel5  pixel6  pixel7  pixel8  \\\n",
       "0           0       0       0       0       0       0       0       0       0   \n",
       "1           0       0       0       0       0       0       0       0       0   \n",
       "2           0       0       0       0       0       0       0       0       0   \n",
       "3           0       0       0       0       0       0       0       0       0   \n",
       "4           0       0       0       0       0       0       0       0       0   \n",
       "...       ...     ...     ...     ...     ...     ...     ...     ...     ...   \n",
       "41995       0       0       0       0       0       0       0       0       0   \n",
       "41996       0       0       0       0       0       0       0       0       0   \n",
       "41997       0       0       0       0       0       0       0       0       0   \n",
       "41998       0       0       0       0       0       0       0       0       0   \n",
       "41999       0       0       0       0       0       0       0       0       0   \n",
       "\n",
       "       pixel9  ...  pixel774  pixel775  pixel776  pixel777  pixel778  \\\n",
       "0           0  ...         0         0         0         0         0   \n",
       "1           0  ...         0         0         0         0         0   \n",
       "2           0  ...         0         0         0         0         0   \n",
       "3           0  ...         0         0         0         0         0   \n",
       "4           0  ...         0         0         0         0         0   \n",
       "...       ...  ...       ...       ...       ...       ...       ...   \n",
       "41995       0  ...         0         0         0         0         0   \n",
       "41996       0  ...         0         0         0         0         0   \n",
       "41997       0  ...         0         0         0         0         0   \n",
       "41998       0  ...         0         0         0         0         0   \n",
       "41999       0  ...         0         0         0         0         0   \n",
       "\n",
       "       pixel779  pixel780  pixel781  pixel782  pixel783  \n",
       "0             0         0         0         0         0  \n",
       "1             0         0         0         0         0  \n",
       "2             0         0         0         0         0  \n",
       "3             0         0         0         0         0  \n",
       "4             0         0         0         0         0  \n",
       "...         ...       ...       ...       ...       ...  \n",
       "41995         0         0         0         0         0  \n",
       "41996         0         0         0         0         0  \n",
       "41997         0         0         0         0         0  \n",
       "41998         0         0         0         0         0  \n",
       "41999         0         0         0         0         0  \n",
       "\n",
       "[42000 rows x 784 columns]"
      ]
     },
     "execution_count": 4,
     "metadata": {},
     "output_type": "execute_result"
    }
   ],
   "source": [
    "trainset.drop('label',axis=1)"
   ]
  },
  {
   "cell_type": "markdown",
   "id": "9857f13c",
   "metadata": {
    "execution": {
     "iopub.execute_input": "2023-11-25T00:42:55.915189Z",
     "iopub.status.busy": "2023-11-25T00:42:55.914797Z",
     "iopub.status.idle": "2023-11-25T00:42:55.919273Z",
     "shell.execute_reply": "2023-11-25T00:42:55.918322Z",
     "shell.execute_reply.started": "2023-11-25T00:42:55.915165Z"
    },
    "papermill": {
     "duration": 0.013499,
     "end_time": "2023-11-25T01:30:22.384528",
     "exception": false,
     "start_time": "2023-11-25T01:30:22.371029",
     "status": "completed"
    },
    "tags": []
   },
   "source": [
    "__*sample data*__"
   ]
  },
  {
   "cell_type": "code",
   "execution_count": 5,
   "id": "c560072a",
   "metadata": {
    "execution": {
     "iopub.execute_input": "2023-11-25T01:30:22.413499Z",
     "iopub.status.busy": "2023-11-25T01:30:22.413111Z",
     "iopub.status.idle": "2023-11-25T01:30:22.526674Z",
     "shell.execute_reply": "2023-11-25T01:30:22.525452Z"
    },
    "papermill": {
     "duration": 0.13073,
     "end_time": "2023-11-25T01:30:22.528928",
     "exception": false,
     "start_time": "2023-11-25T01:30:22.398198",
     "status": "completed"
    },
    "tags": []
   },
   "outputs": [],
   "source": [
    "sample=np.array(trainset.drop('label',axis=1).iloc[6])\n",
    "sample=sample.reshape((28,-1))"
   ]
  },
  {
   "cell_type": "code",
   "execution_count": 6,
   "id": "745b6fba",
   "metadata": {
    "execution": {
     "iopub.execute_input": "2023-11-25T01:30:22.559189Z",
     "iopub.status.busy": "2023-11-25T01:30:22.558817Z",
     "iopub.status.idle": "2023-11-25T01:30:22.826905Z",
     "shell.execute_reply": "2023-11-25T01:30:22.825794Z"
    },
    "papermill": {
     "duration": 0.28598,
     "end_time": "2023-11-25T01:30:22.829405",
     "exception": false,
     "start_time": "2023-11-25T01:30:22.543425",
     "status": "completed"
    },
    "tags": []
   },
   "outputs": [
    {
     "data": {
      "image/png": "[encoded data removed]",
      "text/plain": [
       "<Figure size 640x480 with 1 Axes>"
      ]
     },
     "metadata": {},
     "output_type": "display_data"
    }
   ],
   "source": [
    "plt.imshow(sample)\n",
    "plt.show()"
   ]
  },
  {
   "cell_type": "markdown",
   "id": "031e3eea",
   "metadata": {
    "papermill": {
     "duration": 0.014276,
     "end_time": "2023-11-25T01:30:22.857792",
     "exception": false,
     "start_time": "2023-11-25T01:30:22.843516",
     "status": "completed"
    },
    "tags": []
   },
   "source": [
    "## 1-Data"
   ]
  },
  {
   "cell_type": "code",
   "execution_count": 7,
   "id": "cdec46a1",
   "metadata": {
    "execution": {
     "iopub.execute_input": "2023-11-25T01:30:22.888857Z",
     "iopub.status.busy": "2023-11-25T01:30:22.887765Z",
     "iopub.status.idle": "2023-11-25T01:30:23.000774Z",
     "shell.execute_reply": "2023-11-25T01:30:22.999613Z"
    },
    "papermill": {
     "duration": 0.131585,
     "end_time": "2023-11-25T01:30:23.003726",
     "exception": false,
     "start_time": "2023-11-25T01:30:22.872141",
     "status": "completed"
    },
    "tags": []
   },
   "outputs": [],
   "source": [
    "train_tensor=torch.from_numpy(np.array(trainset))"
   ]
  },
  {
   "cell_type": "code",
   "execution_count": 8,
   "id": "4b9d6e79",
   "metadata": {
    "execution": {
     "iopub.execute_input": "2023-11-25T01:30:23.034715Z",
     "iopub.status.busy": "2023-11-25T01:30:23.034046Z",
     "iopub.status.idle": "2023-11-25T01:30:23.095092Z",
     "shell.execute_reply": "2023-11-25T01:30:23.094306Z"
    },
    "papermill": {
     "duration": 0.07942,
     "end_time": "2023-11-25T01:30:23.097266",
     "exception": false,
     "start_time": "2023-11-25T01:30:23.017846",
     "status": "completed"
    },
    "tags": []
   },
   "outputs": [
    {
     "data": {
      "text/plain": [
       "tensor([[1, 0, 0,  ..., 0, 0, 0],\n",
       "        [0, 0, 0,  ..., 0, 0, 0],\n",
       "        [1, 0, 0,  ..., 0, 0, 0],\n",
       "        ...,\n",
       "        [7, 0, 0,  ..., 0, 0, 0],\n",
       "        [6, 0, 0,  ..., 0, 0, 0],\n",
       "        [9, 0, 0,  ..., 0, 0, 0]])"
      ]
     },
     "execution_count": 8,
     "metadata": {},
     "output_type": "execute_result"
    }
   ],
   "source": [
    "train_tensor"
   ]
  },
  {
   "cell_type": "code",
   "execution_count": 9,
   "id": "c25b5c4b",
   "metadata": {
    "execution": {
     "iopub.execute_input": "2023-11-25T01:30:23.128327Z",
     "iopub.status.busy": "2023-11-25T01:30:23.127654Z",
     "iopub.status.idle": "2023-11-25T01:30:23.131904Z",
     "shell.execute_reply": "2023-11-25T01:30:23.130970Z"
    },
    "papermill": {
     "duration": 0.022159,
     "end_time": "2023-11-25T01:30:23.133963",
     "exception": false,
     "start_time": "2023-11-25T01:30:23.111804",
     "status": "completed"
    },
    "tags": []
   },
   "outputs": [],
   "source": [
    "from torch.utils.data import Dataset"
   ]
  },
  {
   "cell_type": "code",
   "execution_count": null,
   "id": "0d103ff5",
   "metadata": {
    "papermill": {
     "duration": 0.013865,
     "end_time": "2023-11-25T01:30:23.162296",
     "exception": false,
     "start_time": "2023-11-25T01:30:23.148431",
     "status": "completed"
    },
    "tags": []
   },
   "outputs": [],
   "source": []
  },
  {
   "cell_type": "code",
   "execution_count": 10,
   "id": "c4fe0a8a",
   "metadata": {
    "execution": {
     "iopub.execute_input": "2023-11-25T01:30:23.192189Z",
     "iopub.status.busy": "2023-11-25T01:30:23.191776Z",
     "iopub.status.idle": "2023-11-25T01:30:23.198730Z",
     "shell.execute_reply": "2023-11-25T01:30:23.197650Z"
    },
    "papermill": {
     "duration": 0.024888,
     "end_time": "2023-11-25T01:30:23.201158",
     "exception": false,
     "start_time": "2023-11-25T01:30:23.176270",
     "status": "completed"
    },
    "tags": []
   },
   "outputs": [],
   "source": [
    "class digits_dataset(Dataset):\n",
    "    def __init__(self):\n",
    "        data = pd.read_csv('/kaggle/input/digit-recognizer/train.csv')\n",
    "        self.y=torch.from_numpy(np.array(data['label']))\n",
    "        self.x=torch.from_numpy(np.array(data.drop('label',axis=1))/255)\n",
    "    def __len__(self):\n",
    "        return len(self.y)\n",
    "\n",
    "    def __getitem__(self, idx):\n",
    "        return self.x[idx], self.y[idx]"
   ]
  },
  {
   "cell_type": "code",
   "execution_count": 11,
   "id": "cc6b78d8",
   "metadata": {
    "execution": {
     "iopub.execute_input": "2023-11-25T01:30:23.231834Z",
     "iopub.status.busy": "2023-11-25T01:30:23.231065Z",
     "iopub.status.idle": "2023-11-25T01:30:26.843908Z",
     "shell.execute_reply": "2023-11-25T01:30:26.842380Z"
    },
    "papermill": {
     "duration": 3.631456,
     "end_time": "2023-11-25T01:30:26.846835",
     "exception": false,
     "start_time": "2023-11-25T01:30:23.215379",
     "status": "completed"
    },
    "tags": []
   },
   "outputs": [],
   "source": [
    "data=digits_dataset()"
   ]
  },
  {
   "cell_type": "code",
   "execution_count": 12,
   "id": "53004d9f",
   "metadata": {
    "execution": {
     "iopub.execute_input": "2023-11-25T01:30:26.877351Z",
     "iopub.status.busy": "2023-11-25T01:30:26.876918Z",
     "iopub.status.idle": "2023-11-25T01:30:26.893441Z",
     "shell.execute_reply": "2023-11-25T01:30:26.892619Z"
    },
    "papermill": {
     "duration": 0.03459,
     "end_time": "2023-11-25T01:30:26.895920",
     "exception": false,
     "start_time": "2023-11-25T01:30:26.861330",
     "status": "completed"
    },
    "tags": []
   },
   "outputs": [],
   "source": [
    "train ,test = torch.utils.data.random_split(data,[0.8,0.2])"
   ]
  },
  {
   "cell_type": "code",
   "execution_count": 13,
   "id": "60df410c",
   "metadata": {
    "execution": {
     "iopub.execute_input": "2023-11-25T01:30:26.927850Z",
     "iopub.status.busy": "2023-11-25T01:30:26.927431Z",
     "iopub.status.idle": "2023-11-25T01:30:26.932192Z",
     "shell.execute_reply": "2023-11-25T01:30:26.931054Z"
    },
    "papermill": {
     "duration": 0.02303,
     "end_time": "2023-11-25T01:30:26.934311",
     "exception": false,
     "start_time": "2023-11-25T01:30:26.911281",
     "status": "completed"
    },
    "tags": []
   },
   "outputs": [],
   "source": [
    "x,y=train[0]"
   ]
  },
  {
   "cell_type": "code",
   "execution_count": 14,
   "id": "00a4b13d",
   "metadata": {
    "execution": {
     "iopub.execute_input": "2023-11-25T01:30:26.964198Z",
     "iopub.status.busy": "2023-11-25T01:30:26.963796Z",
     "iopub.status.idle": "2023-11-25T01:30:26.970888Z",
     "shell.execute_reply": "2023-11-25T01:30:26.969853Z"
    },
    "papermill": {
     "duration": 0.0247,
     "end_time": "2023-11-25T01:30:26.973159",
     "exception": false,
     "start_time": "2023-11-25T01:30:26.948459",
     "status": "completed"
    },
    "tags": []
   },
   "outputs": [
    {
     "data": {
      "text/plain": [
       "33600"
      ]
     },
     "execution_count": 14,
     "metadata": {},
     "output_type": "execute_result"
    }
   ],
   "source": [
    "train.__len__()"
   ]
  },
  {
   "cell_type": "code",
   "execution_count": 15,
   "id": "bc487b91",
   "metadata": {
    "execution": {
     "iopub.execute_input": "2023-11-25T01:30:27.003682Z",
     "iopub.status.busy": "2023-11-25T01:30:27.003284Z",
     "iopub.status.idle": "2023-11-25T01:30:27.008699Z",
     "shell.execute_reply": "2023-11-25T01:30:27.007759Z"
    },
    "papermill": {
     "duration": 0.023836,
     "end_time": "2023-11-25T01:30:27.011385",
     "exception": false,
     "start_time": "2023-11-25T01:30:26.987549",
     "status": "completed"
    },
    "tags": []
   },
   "outputs": [
    {
     "name": "stdout",
     "output_type": "stream",
     "text": [
      "torch.Size([784])\n"
     ]
    }
   ],
   "source": [
    "print(x.shape)"
   ]
  },
  {
   "cell_type": "markdown",
   "id": "88089429",
   "metadata": {
    "papermill": {
     "duration": 0.014782,
     "end_time": "2023-11-25T01:30:27.040743",
     "exception": false,
     "start_time": "2023-11-25T01:30:27.025961",
     "status": "completed"
    },
    "tags": []
   },
   "source": [
    "## 2-Neural Network and Model"
   ]
  },
  {
   "cell_type": "code",
   "execution_count": 16,
   "id": "a4d033db",
   "metadata": {
    "execution": {
     "iopub.execute_input": "2023-11-25T01:30:27.127890Z",
     "iopub.status.busy": "2023-11-25T01:30:27.127210Z",
     "iopub.status.idle": "2023-11-25T01:30:27.132695Z",
     "shell.execute_reply": "2023-11-25T01:30:27.131678Z"
    },
    "papermill": {
     "duration": 0.07968,
     "end_time": "2023-11-25T01:30:27.134899",
     "exception": false,
     "start_time": "2023-11-25T01:30:27.055219",
     "status": "completed"
    },
    "tags": []
   },
   "outputs": [],
   "source": [
    "train_loader=DataLoader(dataset=train,batch_size=200,shuffle=True)"
   ]
  },
  {
   "cell_type": "code",
   "execution_count": 17,
   "id": "e23b4762",
   "metadata": {
    "execution": {
     "iopub.execute_input": "2023-11-25T01:30:27.166031Z",
     "iopub.status.busy": "2023-11-25T01:30:27.165667Z",
     "iopub.status.idle": "2023-11-25T01:30:27.179784Z",
     "shell.execute_reply": "2023-11-25T01:30:27.178985Z"
    },
    "papermill": {
     "duration": 0.03245,
     "end_time": "2023-11-25T01:30:27.181902",
     "exception": false,
     "start_time": "2023-11-25T01:30:27.149452",
     "status": "completed"
    },
    "tags": []
   },
   "outputs": [],
   "source": [
    "model=nn.Sequential(nn.Linear(28*28,512),\n",
    "                    nn.ReLU(),\n",
    "                    nn.Linear(512,512),\n",
    "                    nn.ReLU(),\n",
    "                    nn.Linear(512,10)\n",
    "                    )"
   ]
  },
  {
   "cell_type": "markdown",
   "id": "fe93fb72",
   "metadata": {
    "papermill": {
     "duration": 0.014173,
     "end_time": "2023-11-25T01:30:27.210885",
     "exception": false,
     "start_time": "2023-11-25T01:30:27.196712",
     "status": "completed"
    },
    "tags": []
   },
   "source": [
    "## 3-Training "
   ]
  },
  {
   "cell_type": "code",
   "execution_count": 18,
   "id": "77007065",
   "metadata": {
    "execution": {
     "iopub.execute_input": "2023-11-25T01:30:27.241222Z",
     "iopub.status.busy": "2023-11-25T01:30:27.240837Z",
     "iopub.status.idle": "2023-11-25T01:30:27.245646Z",
     "shell.execute_reply": "2023-11-25T01:30:27.244547Z"
    },
    "papermill": {
     "duration": 0.022711,
     "end_time": "2023-11-25T01:30:27.248002",
     "exception": false,
     "start_time": "2023-11-25T01:30:27.225291",
     "status": "completed"
    },
    "tags": []
   },
   "outputs": [],
   "source": [
    "criterion=nn.CrossEntropyLoss()"
   ]
  },
  {
   "cell_type": "code",
   "execution_count": 19,
   "id": "05a2d9f2",
   "metadata": {
    "execution": {
     "iopub.execute_input": "2023-11-25T01:30:27.278640Z",
     "iopub.status.busy": "2023-11-25T01:30:27.278205Z",
     "iopub.status.idle": "2023-11-25T01:30:27.282736Z",
     "shell.execute_reply": "2023-11-25T01:30:27.281684Z"
    },
    "papermill": {
     "duration": 0.022727,
     "end_time": "2023-11-25T01:30:27.285141",
     "exception": false,
     "start_time": "2023-11-25T01:30:27.262414",
     "status": "completed"
    },
    "tags": []
   },
   "outputs": [],
   "source": [
    "import torch.optim as optim"
   ]
  },
  {
   "cell_type": "code",
   "execution_count": 20,
   "id": "8534d1dd",
   "metadata": {
    "execution": {
     "iopub.execute_input": "2023-11-25T01:30:27.316225Z",
     "iopub.status.busy": "2023-11-25T01:30:27.315427Z",
     "iopub.status.idle": "2023-11-25T01:30:27.321518Z",
     "shell.execute_reply": "2023-11-25T01:30:27.320159Z"
    },
    "papermill": {
     "duration": 0.024487,
     "end_time": "2023-11-25T01:30:27.324044",
     "exception": false,
     "start_time": "2023-11-25T01:30:27.299557",
     "status": "completed"
    },
    "tags": []
   },
   "outputs": [],
   "source": [
    "optimizer=optim.Adam(params=model.parameters(),lr=0.001)"
   ]
  },
  {
   "cell_type": "markdown",
   "id": "c3b2abe2",
   "metadata": {
    "papermill": {
     "duration": 0.014133,
     "end_time": "2023-11-25T01:30:27.352801",
     "exception": false,
     "start_time": "2023-11-25T01:30:27.338668",
     "status": "completed"
    },
    "tags": []
   },
   "source": [
    "### a-Train loop "
   ]
  },
  {
   "cell_type": "code",
   "execution_count": 21,
   "id": "9cbb7ef7",
   "metadata": {
    "execution": {
     "iopub.execute_input": "2023-11-25T01:30:27.383417Z",
     "iopub.status.busy": "2023-11-25T01:30:27.383023Z",
     "iopub.status.idle": "2023-11-25T01:34:22.739661Z",
     "shell.execute_reply": "2023-11-25T01:34:22.738475Z"
    },
    "papermill": {
     "duration": 235.375358,
     "end_time": "2023-11-25T01:34:22.742514",
     "exception": false,
     "start_time": "2023-11-25T01:30:27.367156",
     "status": "completed"
    },
    "tags": []
   },
   "outputs": [
    {
     "name": "stdout",
     "output_type": "stream",
     "text": [
      "loss 0.41811845398374964 for 1/100\n",
      "loss 0.15273106120349395 for 2/100\n",
      "loss 0.09469085809819046 for 3/100\n",
      "loss 0.06594240540705089 for 4/100\n",
      "loss 0.0487024955163222 for 5/100\n",
      "loss 0.03335367702224869 for 6/100\n",
      "loss 0.023848544377999912 for 7/100\n",
      "loss 0.017914075642779824 for 8/100\n",
      "loss 0.01670406686302851 for 9/100\n",
      "loss 0.014219301261099255 for 10/100\n",
      "loss 0.00939828538373279 for 11/100\n",
      "loss 0.011993847737141464 for 12/100\n",
      "loss 0.007854386202823315 for 13/100\n",
      "loss 0.004626128961847696 for 14/100\n",
      "loss 0.0025986541797811654 for 15/100\n",
      "loss 0.004967605405562651 for 16/100\n",
      "loss 0.013277486908399234 for 17/100\n",
      "loss 0.013418066519252966 for 18/100\n",
      "loss 0.008517334835535925 for 19/100\n",
      "loss 0.005232351518792538 for 20/100\n",
      "loss 0.004839740457360416 for 21/100\n",
      "loss 0.014649098660031865 for 22/100\n",
      "loss 0.004917317325505012 for 23/100\n",
      "loss 0.0035606017724083877 for 24/100\n",
      "loss 0.008963272612120255 for 25/100\n",
      "loss 0.0012749493544322917 for 26/100\n",
      "loss 0.00013455663404166835 for 27/100\n",
      "loss 6.616188672329113e-05 for 28/100\n",
      "loss 5.1172420504436946e-05 for 29/100\n",
      "loss 4.178787795743639e-05 for 30/100\n",
      "loss 3.501000468899985e-05 for 31/100\n",
      "loss 3.0085580000277767e-05 for 32/100\n",
      "loss 2.5983309368051605e-05 for 33/100\n",
      "loss 2.2778883958164354e-05 for 34/100\n",
      "loss 2.0034970212972914e-05 for 35/100\n",
      "loss 1.7882271912466897e-05 for 36/100\n",
      "loss 1.593500661015025e-05 for 37/100\n",
      "loss 1.4260893770429426e-05 for 38/100\n",
      "loss 1.2835518578499649e-05 for 39/100\n",
      "loss 1.1588325561108701e-05 for 40/100\n",
      "loss 1.041519361895856e-05 for 41/100\n",
      "loss 9.41543432561719e-06 for 42/100\n",
      "loss 8.569113457500607e-06 for 43/100\n",
      "loss 7.751436437989209e-06 for 44/100\n",
      "loss 7.0759560439152365e-06 for 45/100\n",
      "loss 6.4111320195961305e-06 for 46/100\n",
      "loss 5.842711471716809e-06 for 47/100\n",
      "loss 5.341260669226921e-06 for 48/100\n",
      "loss 4.87982214991689e-06 for 49/100\n",
      "loss 4.460617260533473e-06 for 50/100\n",
      "loss 4.079559192386266e-06 for 51/100\n",
      "loss 3.7135403479467076e-06 for 52/100\n",
      "loss 3.4018591930719466e-06 for 53/100\n",
      "loss 3.1202516737155725e-06 for 54/100\n",
      "loss 2.847667592356001e-06 for 55/100\n",
      "loss 2.61528441975705e-06 for 56/100\n",
      "loss 2.402143367520791e-06 for 57/100\n",
      "loss 2.200016850346336e-06 for 58/100\n",
      "loss 2.0056664314979787e-06 for 59/100\n",
      "loss 1.850905878342246e-06 for 60/100\n",
      "loss 1.690497321809354e-06 for 61/100\n",
      "loss 1.553335424900194e-06 for 62/100\n",
      "loss 1.4163234631664204e-06 for 63/100\n",
      "loss 1.298912292433502e-06 for 64/100\n",
      "loss 1.1940358033107096e-06 for 65/100\n",
      "loss 1.0886088382056597e-06 for 66/100\n",
      "loss 1.0066094034501459e-06 for 67/100\n",
      "loss 9.235044322491739e-07 for 68/100\n",
      "loss 8.436660099208652e-07 for 69/100\n",
      "loss 7.742114712290989e-07 for 70/100\n",
      "loss 7.131187009790096e-07 for 71/100\n",
      "loss 6.503728094911378e-07 for 72/100\n",
      "loss 5.962015084800701e-07 for 73/100\n",
      "loss 5.485828794824616e-07 for 74/100\n",
      "loss 5.041960919459684e-07 for 75/100\n",
      "loss 4.6153366990642737e-07 for 76/100\n",
      "loss 4.230575867614746e-07 for 77/100\n",
      "loss 3.869264662744361e-07 for 78/100\n",
      "loss 3.5514506015386716e-07 for 79/100\n",
      "loss 3.2565535944075107e-07 for 80/100\n",
      "loss 2.992026536371587e-07 for 81/100\n",
      "loss 2.7139109239269844e-07 for 82/100\n",
      "loss 2.501536231491741e-07 for 83/100\n",
      "loss 2.2880973932479891e-07 for 84/100\n",
      "loss 2.108398095266412e-07 for 85/100\n",
      "loss 1.9233769167824123e-07 for 86/100\n",
      "loss 1.7599622497990081e-07 for 87/100\n",
      "loss 1.6297908435523668e-07 for 88/100\n",
      "loss 1.4971715123741837e-07 for 89/100\n",
      "loss 1.3649776815716748e-07 for 90/100\n",
      "loss 1.2538937266270977e-07 for 91/100\n",
      "loss 1.147776846053378e-07 for 92/100\n",
      "loss 1.0601796461364086e-07 for 93/100\n",
      "loss 9.744274601494343e-08 for 94/100\n",
      "loss 8.911941919352375e-08 for 95/100\n",
      "loss 8.226135942794126e-08 for 96/100\n",
      "loss 7.51159228151721e-08 for 97/100\n",
      "loss 6.903130291201012e-08 for 98/100\n",
      "loss 6.364206274676678e-08 for 99/100\n",
      "loss 5.8337973414997655e-08 for 100/100\n"
     ]
    }
   ],
   "source": [
    "for epoch in range(100):\n",
    "    training_loss = 0\n",
    "    for data in train_loader:\n",
    "        #setting gradient at zero\n",
    "        optimizer.zero_grad()\n",
    "        #getting data\n",
    "        features,label=data\n",
    "        features=features.float()\n",
    "        #predicting class\n",
    "        pred=model(features)\n",
    "        #loss\n",
    "        loss=criterion(pred,label)\n",
    "        loss.backward()\n",
    "        #updating params\n",
    "        optimizer.step()\n",
    "        training_loss += loss.item()\n",
    "    epoch_loss = training_loss / len(train_loader)\n",
    "    print(f'loss {epoch_loss} for {epoch+1}/100')\n"
   ]
  },
  {
   "cell_type": "markdown",
   "id": "7ac1eb49",
   "metadata": {
    "papermill": {
     "duration": 0.023176,
     "end_time": "2023-11-25T01:34:22.790319",
     "exception": false,
     "start_time": "2023-11-25T01:34:22.767143",
     "status": "completed"
    },
    "tags": []
   },
   "source": [
    "### b-Validation loop"
   ]
  },
  {
   "cell_type": "code",
   "execution_count": 22,
   "id": "9f47da06",
   "metadata": {
    "execution": {
     "iopub.execute_input": "2023-11-25T01:34:22.839374Z",
     "iopub.status.busy": "2023-11-25T01:34:22.838691Z",
     "iopub.status.idle": "2023-11-25T01:34:22.843150Z",
     "shell.execute_reply": "2023-11-25T01:34:22.842404Z"
    },
    "papermill": {
     "duration": 0.031487,
     "end_time": "2023-11-25T01:34:22.845236",
     "exception": false,
     "start_time": "2023-11-25T01:34:22.813749",
     "status": "completed"
    },
    "tags": []
   },
   "outputs": [],
   "source": [
    "test_loader=DataLoader(dataset=test,batch_size=200,shuffle=False)"
   ]
  },
  {
   "cell_type": "code",
   "execution_count": 23,
   "id": "4275b565",
   "metadata": {
    "execution": {
     "iopub.execute_input": "2023-11-25T01:34:22.895696Z",
     "iopub.status.busy": "2023-11-25T01:34:22.894992Z",
     "iopub.status.idle": "2023-11-25T01:34:23.160719Z",
     "shell.execute_reply": "2023-11-25T01:34:23.159882Z"
    },
    "papermill": {
     "duration": 0.293503,
     "end_time": "2023-11-25T01:34:23.162835",
     "exception": false,
     "start_time": "2023-11-25T01:34:22.869332",
     "status": "completed"
    },
    "tags": []
   },
   "outputs": [
    {
     "name": "stdout",
     "output_type": "stream",
     "text": [
      "validation loss is 0.18791053869894572\n"
     ]
    },
    {
     "data": {
      "text/plain": [
       "Sequential(\n",
       "  (0): Linear(in_features=784, out_features=512, bias=True)\n",
       "  (1): ReLU()\n",
       "  (2): Linear(in_features=512, out_features=512, bias=True)\n",
       "  (3): ReLU()\n",
       "  (4): Linear(in_features=512, out_features=10, bias=True)\n",
       ")"
      ]
     },
     "execution_count": 23,
     "metadata": {},
     "output_type": "execute_result"
    }
   ],
   "source": [
    "validation_loss = 0.0\n",
    "model.eval() # Put model in evaluation mode\n",
    "with torch.no_grad(): # Speed up the forward pass\n",
    "    training_loss = 0\n",
    "    for data in test_loader:\n",
    "        #getting data\n",
    "        features,label=data\n",
    "        features=features.float()\n",
    "        #predicting class\n",
    "        pred=model(features)\n",
    "        #loss\n",
    "        loss=criterion(pred,label)\n",
    "        validation_loss += loss.item()\n",
    "    validation_loss = validation_loss / len(test_loader)\n",
    "    print(f'validation loss is {validation_loss}')\n",
    "model.train()\n"
   ]
  },
  {
   "cell_type": "code",
   "execution_count": 24,
   "id": "03fdd932",
   "metadata": {
    "execution": {
     "iopub.execute_input": "2023-11-25T01:34:23.213905Z",
     "iopub.status.busy": "2023-11-25T01:34:23.213223Z",
     "iopub.status.idle": "2023-11-25T01:34:27.390300Z",
     "shell.execute_reply": "2023-11-25T01:34:27.389080Z"
    },
    "papermill": {
     "duration": 4.205456,
     "end_time": "2023-11-25T01:34:27.393252",
     "exception": false,
     "start_time": "2023-11-25T01:34:23.187796",
     "status": "completed"
    },
    "tags": []
   },
   "outputs": [
    {
     "name": "stdout",
     "output_type": "stream",
     "text": [
      "Accuracy on all data: 0.979285717010498\n"
     ]
    }
   ],
   "source": [
    "import torchmetrics\n",
    "# Create accuracy metric using torch metrics\n",
    "metric = torchmetrics.Accuracy(task=\"multiclass\", num_classes=10)\n",
    "for i, data in enumerate(test_loader, 0):\n",
    "    features, labels = data\n",
    "    features=features.float()\n",
    "    outputs = model(features)\n",
    "    # Calculate accuracy over the batch\n",
    "    acc = metric(outputs, labels)\n",
    "# Calculate accuracy over the whole epoch\n",
    "acc = metric.compute()\n",
    "print(f\"Accuracy on all data: {acc}\")\n",
    "# Reset the metric for the next epoch (training or validation)\n",
    "metric.reset()"
   ]
  },
  {
   "cell_type": "markdown",
   "id": "d5c0bcae",
   "metadata": {
    "papermill": {
     "duration": 0.02358,
     "end_time": "2023-11-25T01:34:27.441428",
     "exception": false,
     "start_time": "2023-11-25T01:34:27.417848",
     "status": "completed"
    },
    "tags": []
   },
   "source": [
    "## 4-Test and Submission"
   ]
  },
  {
   "cell_type": "markdown",
   "id": "0dc316f1",
   "metadata": {
    "papermill": {
     "duration": 0.023883,
     "end_time": "2023-11-25T01:34:27.489173",
     "exception": false,
     "start_time": "2023-11-25T01:34:27.465290",
     "status": "completed"
    },
    "tags": []
   },
   "source": [
    "### a-Predicting submission data"
   ]
  },
  {
   "cell_type": "code",
   "execution_count": 25,
   "id": "379840b3",
   "metadata": {
    "execution": {
     "iopub.execute_input": "2023-11-25T01:34:27.539269Z",
     "iopub.status.busy": "2023-11-25T01:34:27.538711Z",
     "iopub.status.idle": "2023-11-25T01:34:29.958575Z",
     "shell.execute_reply": "2023-11-25T01:34:29.957500Z"
    },
    "papermill": {
     "duration": 2.447976,
     "end_time": "2023-11-25T01:34:29.961245",
     "exception": false,
     "start_time": "2023-11-25T01:34:27.513269",
     "status": "completed"
    },
    "tags": []
   },
   "outputs": [],
   "source": [
    "submi=pd.read_csv('/kaggle/input/digit-recognizer/test.csv')"
   ]
  },
  {
   "cell_type": "code",
   "execution_count": 26,
   "id": "58c53a17",
   "metadata": {
    "execution": {
     "iopub.execute_input": "2023-11-25T01:34:30.010998Z",
     "iopub.status.busy": "2023-11-25T01:34:30.010254Z",
     "iopub.status.idle": "2023-11-25T01:34:30.219406Z",
     "shell.execute_reply": "2023-11-25T01:34:30.218200Z"
    },
    "papermill": {
     "duration": 0.237058,
     "end_time": "2023-11-25T01:34:30.222270",
     "exception": false,
     "start_time": "2023-11-25T01:34:29.985212",
     "status": "completed"
    },
    "tags": []
   },
   "outputs": [],
   "source": [
    "X_submi=torch.from_numpy(np.array(submi)/255)\n",
    "X_submi=X_submi.float()"
   ]
  },
  {
   "cell_type": "code",
   "execution_count": 27,
   "id": "1dbbaa07",
   "metadata": {
    "execution": {
     "iopub.execute_input": "2023-11-25T01:34:30.273979Z",
     "iopub.status.busy": "2023-11-25T01:34:30.273554Z",
     "iopub.status.idle": "2023-11-25T01:34:30.670047Z",
     "shell.execute_reply": "2023-11-25T01:34:30.669192Z"
    },
    "papermill": {
     "duration": 0.424757,
     "end_time": "2023-11-25T01:34:30.672574",
     "exception": false,
     "start_time": "2023-11-25T01:34:30.247817",
     "status": "completed"
    },
    "tags": []
   },
   "outputs": [],
   "source": [
    "with torch.no_grad():    \n",
    "    output=model(X_submi)\n",
    "    softmax=nn.Softmax(-1)(output)"
   ]
  },
  {
   "cell_type": "code",
   "execution_count": 28,
   "id": "0f4df422",
   "metadata": {
    "execution": {
     "iopub.execute_input": "2023-11-25T01:34:30.724173Z",
     "iopub.status.busy": "2023-11-25T01:34:30.723502Z",
     "iopub.status.idle": "2023-11-25T01:34:30.730740Z",
     "shell.execute_reply": "2023-11-25T01:34:30.729979Z"
    },
    "papermill": {
     "duration": 0.034775,
     "end_time": "2023-11-25T01:34:30.732845",
     "exception": false,
     "start_time": "2023-11-25T01:34:30.698070",
     "status": "completed"
    },
    "tags": []
   },
   "outputs": [
    {
     "data": {
      "text/plain": [
       "tensor([2, 0, 9,  ..., 3, 9, 2])"
      ]
     },
     "execution_count": 28,
     "metadata": {},
     "output_type": "execute_result"
    }
   ],
   "source": [
    "predicted=torch.argmax(output,1)\n",
    "predicted"
   ]
  },
  {
   "cell_type": "code",
   "execution_count": 29,
   "id": "70b93354",
   "metadata": {
    "execution": {
     "iopub.execute_input": "2023-11-25T01:34:30.784899Z",
     "iopub.status.busy": "2023-11-25T01:34:30.784204Z",
     "iopub.status.idle": "2023-11-25T01:34:30.788698Z",
     "shell.execute_reply": "2023-11-25T01:34:30.787845Z"
    },
    "papermill": {
     "duration": 0.032259,
     "end_time": "2023-11-25T01:34:30.790936",
     "exception": false,
     "start_time": "2023-11-25T01:34:30.758677",
     "status": "completed"
    },
    "tags": []
   },
   "outputs": [],
   "source": [
    "label=np.array(predicted)"
   ]
  },
  {
   "cell_type": "markdown",
   "id": "9435fbd9",
   "metadata": {
    "papermill": {
     "duration": 0.023725,
     "end_time": "2023-11-25T01:34:30.839173",
     "exception": false,
     "start_time": "2023-11-25T01:34:30.815448",
     "status": "completed"
    },
    "tags": []
   },
   "source": [
    "### b-Submiting data"
   ]
  },
  {
   "cell_type": "code",
   "execution_count": 30,
   "id": "9e891ab7",
   "metadata": {
    "execution": {
     "iopub.execute_input": "2023-11-25T01:34:30.889464Z",
     "iopub.status.busy": "2023-11-25T01:34:30.889084Z",
     "iopub.status.idle": "2023-11-25T01:34:30.899145Z",
     "shell.execute_reply": "2023-11-25T01:34:30.897959Z"
    },
    "papermill": {
     "duration": 0.038058,
     "end_time": "2023-11-25T01:34:30.901455",
     "exception": false,
     "start_time": "2023-11-25T01:34:30.863397",
     "status": "completed"
    },
    "tags": []
   },
   "outputs": [],
   "source": [
    "ImageId=np.array([i for i in range(1,len(label)+1)])"
   ]
  },
  {
   "cell_type": "code",
   "execution_count": 31,
   "id": "87568ad9",
   "metadata": {
    "execution": {
     "iopub.execute_input": "2023-11-25T01:34:30.951968Z",
     "iopub.status.busy": "2023-11-25T01:34:30.951548Z",
     "iopub.status.idle": "2023-11-25T01:34:30.957647Z",
     "shell.execute_reply": "2023-11-25T01:34:30.956535Z"
    },
    "papermill": {
     "duration": 0.034055,
     "end_time": "2023-11-25T01:34:30.959789",
     "exception": false,
     "start_time": "2023-11-25T01:34:30.925734",
     "status": "completed"
    },
    "tags": []
   },
   "outputs": [],
   "source": [
    "submission=pd.DataFrame({'ImageId':ImageId,'Label':label})"
   ]
  },
  {
   "cell_type": "code",
   "execution_count": 32,
   "id": "f2bf7aff",
   "metadata": {
    "execution": {
     "iopub.execute_input": "2023-11-25T01:34:31.009990Z",
     "iopub.status.busy": "2023-11-25T01:34:31.009570Z",
     "iopub.status.idle": "2023-11-25T01:34:31.079538Z",
     "shell.execute_reply": "2023-11-25T01:34:31.078096Z"
    },
    "papermill": {
     "duration": 0.098074,
     "end_time": "2023-11-25T01:34:31.082322",
     "exception": false,
     "start_time": "2023-11-25T01:34:30.984248",
     "status": "completed"
    },
    "tags": []
   },
   "outputs": [],
   "source": [
    "submission.to_csv('/kaggle/working/submission.csv',index=False)"
   ]
  },
  {
   "cell_type": "code",
   "execution_count": 33,
   "id": "4e93727f",
   "metadata": {
    "execution": {
     "iopub.execute_input": "2023-11-25T01:34:31.132238Z",
     "iopub.status.busy": "2023-11-25T01:34:31.131793Z",
     "iopub.status.idle": "2023-11-25T01:34:31.151787Z",
     "shell.execute_reply": "2023-11-25T01:34:31.150652Z"
    },
    "papermill": {
     "duration": 0.047488,
     "end_time": "2023-11-25T01:34:31.154017",
     "exception": false,
     "start_time": "2023-11-25T01:34:31.106529",
     "status": "completed"
    },
    "tags": []
   },
   "outputs": [
    {
     "data": {
      "text/html": [
       "<div>\n",
       "<style scoped>\n",
       "    .dataframe tbody tr th:only-of-type {\n",
       "        vertical-align: middle;\n",
       "    }\n",
       "\n",
       "    .dataframe tbody tr th {\n",
       "        vertical-align: top;\n",
       "    }\n",
       "\n",
       "    .dataframe thead th {\n",
       "        text-align: right;\n",
       "    }\n",
       "</style>\n",
       "<table border=\"1\" class=\"dataframe\">\n",
       "  <thead>\n",
       "    <tr style=\"text-align: right;\">\n",
       "      <th></th>\n",
       "      <th>ImageId</th>\n",
       "      <th>Label</th>\n",
       "    </tr>\n",
       "  </thead>\n",
       "  <tbody>\n",
       "    <tr>\n",
       "      <th>0</th>\n",
       "      <td>1</td>\n",
       "      <td>2</td>\n",
       "    </tr>\n",
       "    <tr>\n",
       "      <th>1</th>\n",
       "      <td>2</td>\n",
       "      <td>0</td>\n",
       "    </tr>\n",
       "    <tr>\n",
       "      <th>2</th>\n",
       "      <td>3</td>\n",
       "      <td>9</td>\n",
       "    </tr>\n",
       "    <tr>\n",
       "      <th>3</th>\n",
       "      <td>4</td>\n",
       "      <td>9</td>\n",
       "    </tr>\n",
       "    <tr>\n",
       "      <th>4</th>\n",
       "      <td>5</td>\n",
       "      <td>3</td>\n",
       "    </tr>\n",
       "    <tr>\n",
       "      <th>...</th>\n",
       "      <td>...</td>\n",
       "      <td>...</td>\n",
       "    </tr>\n",
       "    <tr>\n",
       "      <th>27995</th>\n",
       "      <td>27996</td>\n",
       "      <td>9</td>\n",
       "    </tr>\n",
       "    <tr>\n",
       "      <th>27996</th>\n",
       "      <td>27997</td>\n",
       "      <td>7</td>\n",
       "    </tr>\n",
       "    <tr>\n",
       "      <th>27997</th>\n",
       "      <td>27998</td>\n",
       "      <td>3</td>\n",
       "    </tr>\n",
       "    <tr>\n",
       "      <th>27998</th>\n",
       "      <td>27999</td>\n",
       "      <td>9</td>\n",
       "    </tr>\n",
       "    <tr>\n",
       "      <th>27999</th>\n",
       "      <td>28000</td>\n",
       "      <td>2</td>\n",
       "    </tr>\n",
       "  </tbody>\n",
       "</table>\n",
       "<p>28000 rows × 2 columns</p>\n",
       "</div>"
      ],
      "text/plain": [
       "       ImageId  Label\n",
       "0            1      2\n",
       "1            2      0\n",
       "2            3      9\n",
       "3            4      9\n",
       "4            5      3\n",
       "...        ...    ...\n",
       "27995    27996      9\n",
       "27996    27997      7\n",
       "27997    27998      3\n",
       "27998    27999      9\n",
       "27999    28000      2\n",
       "\n",
       "[28000 rows x 2 columns]"
      ]
     },
     "execution_count": 33,
     "metadata": {},
     "output_type": "execute_result"
    }
   ],
   "source": [
    "submission_path='/kaggle/working/submission.csv'\n",
    "pd.read_csv(submission_path)"
   ]
  },
  {
   "cell_type": "code",
   "execution_count": null,
   "id": "811b0fbf",
   "metadata": {
    "papermill": {
     "duration": 0.024039,
     "end_time": "2023-11-25T01:34:31.203196",
     "exception": false,
     "start_time": "2023-11-25T01:34:31.179157",
     "status": "completed"
    },
    "tags": []
   },
   "outputs": [],
   "source": []
  }
 ],
 "metadata": {
  "kaggle": {
   "accelerator": "none",
   "dataSources": [
    {
     "databundleVersionId": 861823,
     "sourceId": 3004,
     "sourceType": "competition"
    }
   ],
   "dockerImageVersionId": 30587,
   "isGpuEnabled": false,
   "isInternetEnabled": true,
   "language": "python",
   "sourceType": "notebook"
  },
  "kernelspec": {
   "display_name": "Python 3",
   "language": "python",
   "name": "python3"
  },
  "language_info": {
   "codemirror_mode": {
    "name": "ipython",
    "version": 3
   },
   "file_extension": ".py",
   "mimetype": "text/x-python",
   "name": "python",
   "nbconvert_exporter": "python",
   "pygments_lexer": "ipython3",
   "version": "3.10.12"
  },
  "papermill": {
   "default_parameters": {},
   "duration": 262.974928,
   "end_time": "2023-11-25T01:34:32.553640",
   "environment_variables": {},
   "exception": null,
   "input_path": "__notebook__.ipynb",
   "output_path": "__notebook__.ipynb",
   "parameters": {},
   "start_time": "2023-11-25T01:30:09.578712",
   "version": "2.4.0"
  }
 },
 "nbformat": 4,
 "nbformat_minor": 5
}
